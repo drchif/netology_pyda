{
 "cells": [
  {
   "cell_type": "markdown",
   "metadata": {},
   "source": [
    "# Домашнее задание\n",
    "1. Переведите содержимое файла purchase_log.txt в словарь purchases вида:\n",
    "```python\n",
    "{'1840e0b9d4': 'Продукты', ...}\n",
    "```\n",
    "\n",
    "2. Для каждого user_id в файле visit_log.csv добавьте третий столбец с категорией покупки (если покупка была).\n",
    "\n",
    "3. Запишите в файл funnel.csv визиты из файла visit_log.csv, в которых были покупки с указанием категории.\n",
    "\n",
    "Учтите условия на данные:\n",
    "- содержимое purchase_log.txt помещается в оперативную память компьютера\n",
    "- содержимое visit_log.csv - нет; используйте только построчную обработку этого файла"
   ]
  },
  {
   "cell_type": "code",
   "execution_count": 3,
   "metadata": {
    "collapsed": true
   },
   "outputs": [],
   "source": [
    "import json\n",
    "logs = {}#сделали словарь\n",
    "\n",
    "with open('purchase_log.txt',encoding='utf-8') as f:#открываем файл для чтения\n",
    "    for line in f:\n",
    "        line = line.strip() #стрипим\n",
    "        \n",
    "        dict_ = json.loads(line) # распаковываем\n",
    "        \n",
    "        if dict_['user_id'] in logs.keys(): # При наличии ключая добавляем в значение категорию - решаем вопрос когда 1 usr > 1 кат\n",
    "            logs[dict_['user_id']].append(dict_['category'])\n",
    "        else:\n",
    "            logs[dict_['user_id']] = [] #иначе делаем обычный проход с добавление ключа и категории (первой)\n",
    "            logs[dict_['user_id']].append(dict_['category'])"
   ]
  },
  {
   "cell_type": "code",
   "execution_count": 4,
   "metadata": {
    "collapsed": true
   },
   "outputs": [],
   "source": [
    "f = open('visit_log.csv', 'r') # открываем файл для чтения\n",
    "with open('funnel_2.csv', 'w') as w: #открываем (создаем) файл для записи\n",
    "    for row in f: \n",
    "        \n",
    "        t = f.readline().strip().split(',') # проход по строчно\n",
    "        \n",
    "        if t[0] in logs.keys(): # проверяем что визиты == словарю логов - для визита есть покупка\n",
    "            w.write(t[0]+','+t[1]+','+str(logs[t[0]]).replace('[','').replace(']','')+'\\n') #Пишим в файл"
   ]
  }
 ],
 "metadata": {
  "kernelspec": {
   "display_name": "Python 3",
   "language": "python",
   "name": "python3"
  },
  "language_info": {
   "codemirror_mode": {
    "name": "ipython",
    "version": 3
   },
   "file_extension": ".py",
   "mimetype": "text/x-python",
   "name": "python",
   "nbconvert_exporter": "python",
   "pygments_lexer": "ipython3",
   "version": "3.6.2"
  }
 },
 "nbformat": 4,
 "nbformat_minor": 2
}
