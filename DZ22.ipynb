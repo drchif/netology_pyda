{
 "cells": [
  {
   "cell_type": "markdown",
   "metadata": {},
   "source": [
    "Вы получили основные навыки обработки данных, теперь пора испытать их на практике. Сейчас вам предстоит заняться задачей классификации.\n",
    "\n",
    "Представлен датасет центра приюта животных, и вашей задачей будет обучить модель таким образом, чтобы  по определенным признакам была возможность максимально уверенно предсказать метки 'Adoption' и 'Transfer' (столбец “outcome_type”).\n",
    "\n",
    "Здесь вы вольны делать что угодно. Я хочу видеть от вас:\n",
    "1. Проверка наличия/обработка пропусков\n",
    "2. Проверьте взаимосвязи между признаками\n",
    "3. Попробуйте создать свои признаки\n",
    "4. Удалите лишние\n",
    "5. Обратите внимание на текстовые столбцы. Подумайте, что можно извлечь полезного оттуда\n",
    "6. Использование профайлера вам поможет.\n",
    "7. Не забывайте, что у вас есть PCA (Метод главных компонент). Он может пригодиться.\n",
    "\n",
    "Вспомните о всем, что я говорил на предыдущих занятиях. Не все будет пригодится, но в жизни вам никто не будет говорить, что использовать :)\n",
    "\n",
    "Хорошим классификатором для этой задачи будет \"Случайный лес\" (https://scikit-learn.org/stable/modules/generated/sklearn.ensemble.RandomForestClassifier.html)\n",
    "\n",
    "Понимать суть работы \"леса\" не обязательно на данном этапе, но качество предсказаний будет выше, чем с линейным классификатором. (если желаете, вот гайд https://adataanalyst.com/scikit-learn/linear-classification-method/)\n",
    "\n",
    "Желаю успеха :)"
   ]
  },
  {
   "cell_type": "code",
   "execution_count": 290,
   "metadata": {
    "collapsed": true
   },
   "outputs": [],
   "source": [
    "import pandas as pd\n",
    "import numpy as np\n",
    "import seaborn as sns\n",
    "from sklearn.linear_model import LinearRegression\n",
    "\n",
    "from matplotlib import pyplot as plt\n",
    "%matplotlib inline"
   ]
  },
  {
   "cell_type": "code",
   "execution_count": 291,
   "metadata": {
    "scrolled": false
   },
   "outputs": [
    {
     "data": {
      "text/html": [
       "<div>\n",
       "<style>\n",
       "    .dataframe thead tr:only-child th {\n",
       "        text-align: right;\n",
       "    }\n",
       "\n",
       "    .dataframe thead th {\n",
       "        text-align: left;\n",
       "    }\n",
       "\n",
       "    .dataframe tbody tr th {\n",
       "        vertical-align: top;\n",
       "    }\n",
       "</style>\n",
       "<table border=\"1\" class=\"dataframe\">\n",
       "  <thead>\n",
       "    <tr style=\"text-align: right;\">\n",
       "      <th></th>\n",
       "      <th>age_upon_outcome</th>\n",
       "      <th>animal_id</th>\n",
       "      <th>animal_type</th>\n",
       "      <th>breed</th>\n",
       "      <th>color</th>\n",
       "      <th>date_of_birth</th>\n",
       "      <th>datetime</th>\n",
       "      <th>monthyear</th>\n",
       "      <th>name</th>\n",
       "      <th>outcome_subtype</th>\n",
       "      <th>outcome_type</th>\n",
       "      <th>sex_upon_outcome</th>\n",
       "    </tr>\n",
       "  </thead>\n",
       "  <tbody>\n",
       "    <tr>\n",
       "      <th>0</th>\n",
       "      <td>2 weeks</td>\n",
       "      <td>A684346</td>\n",
       "      <td>Cat</td>\n",
       "      <td>Domestic Shorthair Mix</td>\n",
       "      <td>Orange Tabby</td>\n",
       "      <td>2014-07-07T00:00:00</td>\n",
       "      <td>2014-07-22T16:04:00</td>\n",
       "      <td>2014-07-22T16:04:00</td>\n",
       "      <td>NaN</td>\n",
       "      <td>Partner</td>\n",
       "      <td>Transfer</td>\n",
       "      <td>Intact Male</td>\n",
       "    </tr>\n",
       "    <tr>\n",
       "      <th>1</th>\n",
       "      <td>1 year</td>\n",
       "      <td>A666430</td>\n",
       "      <td>Dog</td>\n",
       "      <td>Beagle Mix</td>\n",
       "      <td>White/Brown</td>\n",
       "      <td>2012-11-06T00:00:00</td>\n",
       "      <td>2013-11-07T11:47:00</td>\n",
       "      <td>2013-11-07T11:47:00</td>\n",
       "      <td>Lucy</td>\n",
       "      <td>Partner</td>\n",
       "      <td>Transfer</td>\n",
       "      <td>Spayed Female</td>\n",
       "    </tr>\n",
       "    <tr>\n",
       "      <th>2</th>\n",
       "      <td>1 year</td>\n",
       "      <td>A675708</td>\n",
       "      <td>Dog</td>\n",
       "      <td>Pit Bull</td>\n",
       "      <td>Blue/White</td>\n",
       "      <td>2013-03-31T00:00:00</td>\n",
       "      <td>2014-06-03T14:20:00</td>\n",
       "      <td>2014-06-03T14:20:00</td>\n",
       "      <td>*Johnny</td>\n",
       "      <td>NaN</td>\n",
       "      <td>Adoption</td>\n",
       "      <td>Neutered Male</td>\n",
       "    </tr>\n",
       "    <tr>\n",
       "      <th>3</th>\n",
       "      <td>9 years</td>\n",
       "      <td>A680386</td>\n",
       "      <td>Dog</td>\n",
       "      <td>Miniature Schnauzer Mix</td>\n",
       "      <td>White</td>\n",
       "      <td>2005-06-02T00:00:00</td>\n",
       "      <td>2014-06-15T15:50:00</td>\n",
       "      <td>2014-06-15T15:50:00</td>\n",
       "      <td>Monday</td>\n",
       "      <td>Partner</td>\n",
       "      <td>Transfer</td>\n",
       "      <td>Neutered Male</td>\n",
       "    </tr>\n",
       "    <tr>\n",
       "      <th>4</th>\n",
       "      <td>5 months</td>\n",
       "      <td>A683115</td>\n",
       "      <td>Other</td>\n",
       "      <td>Bat Mix</td>\n",
       "      <td>Brown</td>\n",
       "      <td>2014-01-07T00:00:00</td>\n",
       "      <td>2014-07-07T14:04:00</td>\n",
       "      <td>2014-07-07T14:04:00</td>\n",
       "      <td>NaN</td>\n",
       "      <td>Rabies Risk</td>\n",
       "      <td>Euthanasia</td>\n",
       "      <td>Unknown</td>\n",
       "    </tr>\n",
       "  </tbody>\n",
       "</table>\n",
       "</div>"
      ],
      "text/plain": [
       "  age_upon_outcome animal_id animal_type                    breed  \\\n",
       "0          2 weeks   A684346         Cat   Domestic Shorthair Mix   \n",
       "1           1 year   A666430         Dog               Beagle Mix   \n",
       "2           1 year   A675708         Dog                 Pit Bull   \n",
       "3          9 years   A680386         Dog  Miniature Schnauzer Mix   \n",
       "4         5 months   A683115       Other                  Bat Mix   \n",
       "\n",
       "          color        date_of_birth             datetime  \\\n",
       "0  Orange Tabby  2014-07-07T00:00:00  2014-07-22T16:04:00   \n",
       "1   White/Brown  2012-11-06T00:00:00  2013-11-07T11:47:00   \n",
       "2    Blue/White  2013-03-31T00:00:00  2014-06-03T14:20:00   \n",
       "3         White  2005-06-02T00:00:00  2014-06-15T15:50:00   \n",
       "4         Brown  2014-01-07T00:00:00  2014-07-07T14:04:00   \n",
       "\n",
       "             monthyear     name outcome_subtype outcome_type sex_upon_outcome  \n",
       "0  2014-07-22T16:04:00      NaN         Partner     Transfer      Intact Male  \n",
       "1  2013-11-07T11:47:00     Lucy         Partner     Transfer    Spayed Female  \n",
       "2  2014-06-03T14:20:00  *Johnny             NaN     Adoption    Neutered Male  \n",
       "3  2014-06-15T15:50:00   Monday         Partner     Transfer    Neutered Male  \n",
       "4  2014-07-07T14:04:00      NaN     Rabies Risk   Euthanasia          Unknown  "
      ]
     },
     "execution_count": 291,
     "metadata": {},
     "output_type": "execute_result"
    }
   ],
   "source": [
    "data = pd.read_csv('data\\shelter_outcomes.csv')\n",
    "data.head()"
   ]
  },
  {
   "cell_type": "code",
   "execution_count": 292,
   "metadata": {
    "collapsed": true
   },
   "outputs": [],
   "source": [
    "#pip install --user pandas_profiling"
   ]
  },
  {
   "cell_type": "code",
   "execution_count": 293,
   "metadata": {
    "scrolled": false
   },
   "outputs": [
    {
     "name": "stdout",
     "output_type": "stream",
     "text": [
      "<class 'pandas.core.frame.DataFrame'>\n",
      "RangeIndex: 78256 entries, 0 to 78255\n",
      "Data columns (total 12 columns):\n",
      "age_upon_outcome    78248 non-null object\n",
      "animal_id           78256 non-null object\n",
      "animal_type         78256 non-null object\n",
      "breed               78256 non-null object\n",
      "color               78256 non-null object\n",
      "date_of_birth       78256 non-null object\n",
      "datetime            78256 non-null object\n",
      "monthyear           78256 non-null object\n",
      "name                54370 non-null object\n",
      "outcome_subtype     35963 non-null object\n",
      "outcome_type        78244 non-null object\n",
      "sex_upon_outcome    78254 non-null object\n",
      "dtypes: object(12)\n",
      "memory usage: 7.2+ MB\n"
     ]
    }
   ],
   "source": [
    "data.info()"
   ]
  },
  {
   "cell_type": "code",
   "execution_count": 294,
   "metadata": {
    "scrolled": true
   },
   "outputs": [
    {
     "data": {
      "text/html": [
       "<div>\n",
       "<style>\n",
       "    .dataframe thead tr:only-child th {\n",
       "        text-align: right;\n",
       "    }\n",
       "\n",
       "    .dataframe thead th {\n",
       "        text-align: left;\n",
       "    }\n",
       "\n",
       "    .dataframe tbody tr th {\n",
       "        vertical-align: top;\n",
       "    }\n",
       "</style>\n",
       "<table border=\"1\" class=\"dataframe\">\n",
       "  <thead>\n",
       "    <tr style=\"text-align: right;\">\n",
       "      <th></th>\n",
       "      <th>count</th>\n",
       "      <th>unique</th>\n",
       "      <th>top</th>\n",
       "      <th>freq</th>\n",
       "    </tr>\n",
       "  </thead>\n",
       "  <tbody>\n",
       "    <tr>\n",
       "      <th>age_upon_outcome</th>\n",
       "      <td>78248</td>\n",
       "      <td>46</td>\n",
       "      <td>1 year</td>\n",
       "      <td>14355</td>\n",
       "    </tr>\n",
       "    <tr>\n",
       "      <th>animal_id</th>\n",
       "      <td>78256</td>\n",
       "      <td>70855</td>\n",
       "      <td>A718223</td>\n",
       "      <td>11</td>\n",
       "    </tr>\n",
       "    <tr>\n",
       "      <th>animal_type</th>\n",
       "      <td>78256</td>\n",
       "      <td>5</td>\n",
       "      <td>Dog</td>\n",
       "      <td>44242</td>\n",
       "    </tr>\n",
       "    <tr>\n",
       "      <th>breed</th>\n",
       "      <td>78256</td>\n",
       "      <td>2128</td>\n",
       "      <td>Domestic Shorthair Mix</td>\n",
       "      <td>23335</td>\n",
       "    </tr>\n",
       "    <tr>\n",
       "      <th>color</th>\n",
       "      <td>78256</td>\n",
       "      <td>525</td>\n",
       "      <td>Black/White</td>\n",
       "      <td>8153</td>\n",
       "    </tr>\n",
       "    <tr>\n",
       "      <th>date_of_birth</th>\n",
       "      <td>78256</td>\n",
       "      <td>5869</td>\n",
       "      <td>2014-05-05T00:00:00</td>\n",
       "      <td>112</td>\n",
       "    </tr>\n",
       "    <tr>\n",
       "      <th>datetime</th>\n",
       "      <td>78256</td>\n",
       "      <td>64361</td>\n",
       "      <td>2016-04-18T00:00:00</td>\n",
       "      <td>39</td>\n",
       "    </tr>\n",
       "    <tr>\n",
       "      <th>monthyear</th>\n",
       "      <td>78256</td>\n",
       "      <td>64361</td>\n",
       "      <td>2016-04-18T00:00:00</td>\n",
       "      <td>39</td>\n",
       "    </tr>\n",
       "    <tr>\n",
       "      <th>name</th>\n",
       "      <td>54370</td>\n",
       "      <td>14574</td>\n",
       "      <td>Bella</td>\n",
       "      <td>344</td>\n",
       "    </tr>\n",
       "    <tr>\n",
       "      <th>outcome_subtype</th>\n",
       "      <td>35963</td>\n",
       "      <td>19</td>\n",
       "      <td>Partner</td>\n",
       "      <td>19660</td>\n",
       "    </tr>\n",
       "    <tr>\n",
       "      <th>outcome_type</th>\n",
       "      <td>78244</td>\n",
       "      <td>9</td>\n",
       "      <td>Adoption</td>\n",
       "      <td>33112</td>\n",
       "    </tr>\n",
       "    <tr>\n",
       "      <th>sex_upon_outcome</th>\n",
       "      <td>78254</td>\n",
       "      <td>5</td>\n",
       "      <td>Neutered Male</td>\n",
       "      <td>27784</td>\n",
       "    </tr>\n",
       "  </tbody>\n",
       "</table>\n",
       "</div>"
      ],
      "text/plain": [
       "                  count unique                     top   freq\n",
       "age_upon_outcome  78248     46                  1 year  14355\n",
       "animal_id         78256  70855                 A718223     11\n",
       "animal_type       78256      5                     Dog  44242\n",
       "breed             78256   2128  Domestic Shorthair Mix  23335\n",
       "color             78256    525             Black/White   8153\n",
       "date_of_birth     78256   5869     2014-05-05T00:00:00    112\n",
       "datetime          78256  64361     2016-04-18T00:00:00     39\n",
       "monthyear         78256  64361     2016-04-18T00:00:00     39\n",
       "name              54370  14574                   Bella    344\n",
       "outcome_subtype   35963     19                 Partner  19660\n",
       "outcome_type      78244      9                Adoption  33112\n",
       "sex_upon_outcome  78254      5           Neutered Male  27784"
      ]
     },
     "execution_count": 294,
     "metadata": {},
     "output_type": "execute_result"
    }
   ],
   "source": [
    "data.describe().transpose()"
   ]
  },
  {
   "cell_type": "code",
   "execution_count": 295,
   "metadata": {},
   "outputs": [],
   "source": [
    "#data.outcome_type.unique()"
   ]
  },
  {
   "cell_type": "code",
   "execution_count": 296,
   "metadata": {
    "collapsed": true
   },
   "outputs": [],
   "source": [
    "#оставим только метки которые нужно предсказывать  'Adoption' и 'Transfer' "
   ]
  },
  {
   "cell_type": "code",
   "execution_count": 297,
   "metadata": {
    "scrolled": true
   },
   "outputs": [],
   "source": [
    "#плохая идея\n",
    "#list_filter = ['Adoption','Transfer']\n",
    "#data = data[data.outcome_type.isin(list_filter)]\n",
    "#data.info()"
   ]
  },
  {
   "cell_type": "code",
   "execution_count": 298,
   "metadata": {
    "scrolled": true
   },
   "outputs": [
    {
     "data": {
      "text/html": [
       "<div>\n",
       "<style>\n",
       "    .dataframe thead tr:only-child th {\n",
       "        text-align: right;\n",
       "    }\n",
       "\n",
       "    .dataframe thead th {\n",
       "        text-align: left;\n",
       "    }\n",
       "\n",
       "    .dataframe tbody tr th {\n",
       "        vertical-align: top;\n",
       "    }\n",
       "</style>\n",
       "<table border=\"1\" class=\"dataframe\">\n",
       "  <thead>\n",
       "    <tr style=\"text-align: right;\">\n",
       "      <th></th>\n",
       "      <th>count</th>\n",
       "      <th>unique</th>\n",
       "      <th>top</th>\n",
       "      <th>freq</th>\n",
       "    </tr>\n",
       "  </thead>\n",
       "  <tbody>\n",
       "    <tr>\n",
       "      <th>age_upon_outcome</th>\n",
       "      <td>78248</td>\n",
       "      <td>46</td>\n",
       "      <td>1 year</td>\n",
       "      <td>14355</td>\n",
       "    </tr>\n",
       "    <tr>\n",
       "      <th>animal_id</th>\n",
       "      <td>78256</td>\n",
       "      <td>70855</td>\n",
       "      <td>A718223</td>\n",
       "      <td>11</td>\n",
       "    </tr>\n",
       "    <tr>\n",
       "      <th>animal_type</th>\n",
       "      <td>78256</td>\n",
       "      <td>5</td>\n",
       "      <td>Dog</td>\n",
       "      <td>44242</td>\n",
       "    </tr>\n",
       "    <tr>\n",
       "      <th>breed</th>\n",
       "      <td>78256</td>\n",
       "      <td>2128</td>\n",
       "      <td>Domestic Shorthair Mix</td>\n",
       "      <td>23335</td>\n",
       "    </tr>\n",
       "    <tr>\n",
       "      <th>color</th>\n",
       "      <td>78256</td>\n",
       "      <td>525</td>\n",
       "      <td>Black/White</td>\n",
       "      <td>8153</td>\n",
       "    </tr>\n",
       "    <tr>\n",
       "      <th>date_of_birth</th>\n",
       "      <td>78256</td>\n",
       "      <td>5869</td>\n",
       "      <td>2014-05-05T00:00:00</td>\n",
       "      <td>112</td>\n",
       "    </tr>\n",
       "    <tr>\n",
       "      <th>datetime</th>\n",
       "      <td>78256</td>\n",
       "      <td>64361</td>\n",
       "      <td>2016-04-18T00:00:00</td>\n",
       "      <td>39</td>\n",
       "    </tr>\n",
       "    <tr>\n",
       "      <th>monthyear</th>\n",
       "      <td>78256</td>\n",
       "      <td>64361</td>\n",
       "      <td>2016-04-18T00:00:00</td>\n",
       "      <td>39</td>\n",
       "    </tr>\n",
       "    <tr>\n",
       "      <th>name</th>\n",
       "      <td>54370</td>\n",
       "      <td>14574</td>\n",
       "      <td>Bella</td>\n",
       "      <td>344</td>\n",
       "    </tr>\n",
       "    <tr>\n",
       "      <th>outcome_subtype</th>\n",
       "      <td>35963</td>\n",
       "      <td>19</td>\n",
       "      <td>Partner</td>\n",
       "      <td>19660</td>\n",
       "    </tr>\n",
       "    <tr>\n",
       "      <th>outcome_type</th>\n",
       "      <td>78244</td>\n",
       "      <td>9</td>\n",
       "      <td>Adoption</td>\n",
       "      <td>33112</td>\n",
       "    </tr>\n",
       "    <tr>\n",
       "      <th>sex_upon_outcome</th>\n",
       "      <td>78254</td>\n",
       "      <td>5</td>\n",
       "      <td>Neutered Male</td>\n",
       "      <td>27784</td>\n",
       "    </tr>\n",
       "  </tbody>\n",
       "</table>\n",
       "</div>"
      ],
      "text/plain": [
       "                  count unique                     top   freq\n",
       "age_upon_outcome  78248     46                  1 year  14355\n",
       "animal_id         78256  70855                 A718223     11\n",
       "animal_type       78256      5                     Dog  44242\n",
       "breed             78256   2128  Domestic Shorthair Mix  23335\n",
       "color             78256    525             Black/White   8153\n",
       "date_of_birth     78256   5869     2014-05-05T00:00:00    112\n",
       "datetime          78256  64361     2016-04-18T00:00:00     39\n",
       "monthyear         78256  64361     2016-04-18T00:00:00     39\n",
       "name              54370  14574                   Bella    344\n",
       "outcome_subtype   35963     19                 Partner  19660\n",
       "outcome_type      78244      9                Adoption  33112\n",
       "sex_upon_outcome  78254      5           Neutered Male  27784"
      ]
     },
     "execution_count": 298,
     "metadata": {},
     "output_type": "execute_result"
    }
   ],
   "source": [
    "data.describe().transpose()"
   ]
  },
  {
   "cell_type": "code",
   "execution_count": 299,
   "metadata": {
    "scrolled": true
   },
   "outputs": [
    {
     "data": {
      "text/html": [
       "<div>\n",
       "<style>\n",
       "    .dataframe thead tr:only-child th {\n",
       "        text-align: right;\n",
       "    }\n",
       "\n",
       "    .dataframe thead th {\n",
       "        text-align: left;\n",
       "    }\n",
       "\n",
       "    .dataframe tbody tr th {\n",
       "        vertical-align: top;\n",
       "    }\n",
       "</style>\n",
       "<table border=\"1\" class=\"dataframe\">\n",
       "  <thead>\n",
       "    <tr style=\"text-align: right;\">\n",
       "      <th></th>\n",
       "      <th>age_upon_outcome</th>\n",
       "      <th>animal_id</th>\n",
       "      <th>animal_type</th>\n",
       "      <th>breed</th>\n",
       "      <th>color</th>\n",
       "      <th>date_of_birth</th>\n",
       "      <th>datetime</th>\n",
       "      <th>monthyear</th>\n",
       "      <th>name</th>\n",
       "      <th>outcome_subtype</th>\n",
       "      <th>outcome_type</th>\n",
       "      <th>sex_upon_outcome</th>\n",
       "    </tr>\n",
       "  </thead>\n",
       "  <tbody>\n",
       "    <tr>\n",
       "      <th>0</th>\n",
       "      <td>2 weeks</td>\n",
       "      <td>A684346</td>\n",
       "      <td>Cat</td>\n",
       "      <td>Domestic Shorthair Mix</td>\n",
       "      <td>Orange Tabby</td>\n",
       "      <td>2014-07-07T00:00:00</td>\n",
       "      <td>2014-07-22T16:04:00</td>\n",
       "      <td>2014-07-22T16:04:00</td>\n",
       "      <td>NaN</td>\n",
       "      <td>Partner</td>\n",
       "      <td>Transfer</td>\n",
       "      <td>Intact Male</td>\n",
       "    </tr>\n",
       "    <tr>\n",
       "      <th>1</th>\n",
       "      <td>1 year</td>\n",
       "      <td>A666430</td>\n",
       "      <td>Dog</td>\n",
       "      <td>Beagle Mix</td>\n",
       "      <td>White/Brown</td>\n",
       "      <td>2012-11-06T00:00:00</td>\n",
       "      <td>2013-11-07T11:47:00</td>\n",
       "      <td>2013-11-07T11:47:00</td>\n",
       "      <td>Lucy</td>\n",
       "      <td>Partner</td>\n",
       "      <td>Transfer</td>\n",
       "      <td>Spayed Female</td>\n",
       "    </tr>\n",
       "    <tr>\n",
       "      <th>2</th>\n",
       "      <td>1 year</td>\n",
       "      <td>A675708</td>\n",
       "      <td>Dog</td>\n",
       "      <td>Pit Bull</td>\n",
       "      <td>Blue/White</td>\n",
       "      <td>2013-03-31T00:00:00</td>\n",
       "      <td>2014-06-03T14:20:00</td>\n",
       "      <td>2014-06-03T14:20:00</td>\n",
       "      <td>*Johnny</td>\n",
       "      <td>NaN</td>\n",
       "      <td>Adoption</td>\n",
       "      <td>Neutered Male</td>\n",
       "    </tr>\n",
       "    <tr>\n",
       "      <th>3</th>\n",
       "      <td>9 years</td>\n",
       "      <td>A680386</td>\n",
       "      <td>Dog</td>\n",
       "      <td>Miniature Schnauzer Mix</td>\n",
       "      <td>White</td>\n",
       "      <td>2005-06-02T00:00:00</td>\n",
       "      <td>2014-06-15T15:50:00</td>\n",
       "      <td>2014-06-15T15:50:00</td>\n",
       "      <td>Monday</td>\n",
       "      <td>Partner</td>\n",
       "      <td>Transfer</td>\n",
       "      <td>Neutered Male</td>\n",
       "    </tr>\n",
       "    <tr>\n",
       "      <th>4</th>\n",
       "      <td>5 months</td>\n",
       "      <td>A683115</td>\n",
       "      <td>Other</td>\n",
       "      <td>Bat Mix</td>\n",
       "      <td>Brown</td>\n",
       "      <td>2014-01-07T00:00:00</td>\n",
       "      <td>2014-07-07T14:04:00</td>\n",
       "      <td>2014-07-07T14:04:00</td>\n",
       "      <td>NaN</td>\n",
       "      <td>Rabies Risk</td>\n",
       "      <td>Euthanasia</td>\n",
       "      <td>Unknown</td>\n",
       "    </tr>\n",
       "  </tbody>\n",
       "</table>\n",
       "</div>"
      ],
      "text/plain": [
       "  age_upon_outcome animal_id animal_type                    breed  \\\n",
       "0          2 weeks   A684346         Cat   Domestic Shorthair Mix   \n",
       "1           1 year   A666430         Dog               Beagle Mix   \n",
       "2           1 year   A675708         Dog                 Pit Bull   \n",
       "3          9 years   A680386         Dog  Miniature Schnauzer Mix   \n",
       "4         5 months   A683115       Other                  Bat Mix   \n",
       "\n",
       "          color        date_of_birth             datetime  \\\n",
       "0  Orange Tabby  2014-07-07T00:00:00  2014-07-22T16:04:00   \n",
       "1   White/Brown  2012-11-06T00:00:00  2013-11-07T11:47:00   \n",
       "2    Blue/White  2013-03-31T00:00:00  2014-06-03T14:20:00   \n",
       "3         White  2005-06-02T00:00:00  2014-06-15T15:50:00   \n",
       "4         Brown  2014-01-07T00:00:00  2014-07-07T14:04:00   \n",
       "\n",
       "             monthyear     name outcome_subtype outcome_type sex_upon_outcome  \n",
       "0  2014-07-22T16:04:00      NaN         Partner     Transfer      Intact Male  \n",
       "1  2013-11-07T11:47:00     Lucy         Partner     Transfer    Spayed Female  \n",
       "2  2014-06-03T14:20:00  *Johnny             NaN     Adoption    Neutered Male  \n",
       "3  2014-06-15T15:50:00   Monday         Partner     Transfer    Neutered Male  \n",
       "4  2014-07-07T14:04:00      NaN     Rabies Risk   Euthanasia          Unknown  "
      ]
     },
     "execution_count": 299,
     "metadata": {},
     "output_type": "execute_result"
    }
   ],
   "source": [
    "data.head()"
   ]
  },
  {
   "cell_type": "markdown",
   "metadata": {},
   "source": [
    "age_upon_outcome - возраст животного на момент целевой функции. не нужно посчитаем\n",
    "animal_id - id животного точно не нужно\n",
    "animal_type - тип животного. точно оставляем\n",
    "breed - порода, оставляем\n",
    "color - цвет, оставляем\n",
    "date_of_birth - дата рождения, оставляем\n",
    "datetime - дата резульата целевой функции, оставляем\n",
    "monthyear = datetime - убираем\n",
    "name - имя, убираем\n",
    "outcome_subtype - субтип резульатат. ?? заполнение 50%. уберу\n",
    "sex_upon_outcome - пол, 5 вариаций...\n",
    "\n",
    "\n",
    "outcome_type - результат, он же целевая функция"
   ]
  },
  {
   "cell_type": "code",
   "execution_count": 300,
   "metadata": {
    "scrolled": false
   },
   "outputs": [
    {
     "data": {
      "text/html": [
       "<div>\n",
       "<style>\n",
       "    .dataframe thead tr:only-child th {\n",
       "        text-align: right;\n",
       "    }\n",
       "\n",
       "    .dataframe thead th {\n",
       "        text-align: left;\n",
       "    }\n",
       "\n",
       "    .dataframe tbody tr th {\n",
       "        vertical-align: top;\n",
       "    }\n",
       "</style>\n",
       "<table border=\"1\" class=\"dataframe\">\n",
       "  <thead>\n",
       "    <tr style=\"text-align: right;\">\n",
       "      <th></th>\n",
       "      <th>animal_type</th>\n",
       "      <th>breed</th>\n",
       "      <th>color</th>\n",
       "      <th>date_of_birth</th>\n",
       "      <th>datetime</th>\n",
       "      <th>sex_upon_outcome</th>\n",
       "      <th>outcome_type</th>\n",
       "    </tr>\n",
       "  </thead>\n",
       "  <tbody>\n",
       "    <tr>\n",
       "      <th>0</th>\n",
       "      <td>Cat</td>\n",
       "      <td>Domestic Shorthair Mix</td>\n",
       "      <td>Orange Tabby</td>\n",
       "      <td>2014-07-07T00:00:00</td>\n",
       "      <td>2014-07-22T16:04:00</td>\n",
       "      <td>Intact Male</td>\n",
       "      <td>Transfer</td>\n",
       "    </tr>\n",
       "    <tr>\n",
       "      <th>1</th>\n",
       "      <td>Dog</td>\n",
       "      <td>Beagle Mix</td>\n",
       "      <td>White/Brown</td>\n",
       "      <td>2012-11-06T00:00:00</td>\n",
       "      <td>2013-11-07T11:47:00</td>\n",
       "      <td>Spayed Female</td>\n",
       "      <td>Transfer</td>\n",
       "    </tr>\n",
       "    <tr>\n",
       "      <th>2</th>\n",
       "      <td>Dog</td>\n",
       "      <td>Pit Bull</td>\n",
       "      <td>Blue/White</td>\n",
       "      <td>2013-03-31T00:00:00</td>\n",
       "      <td>2014-06-03T14:20:00</td>\n",
       "      <td>Neutered Male</td>\n",
       "      <td>Adoption</td>\n",
       "    </tr>\n",
       "    <tr>\n",
       "      <th>3</th>\n",
       "      <td>Dog</td>\n",
       "      <td>Miniature Schnauzer Mix</td>\n",
       "      <td>White</td>\n",
       "      <td>2005-06-02T00:00:00</td>\n",
       "      <td>2014-06-15T15:50:00</td>\n",
       "      <td>Neutered Male</td>\n",
       "      <td>Transfer</td>\n",
       "    </tr>\n",
       "    <tr>\n",
       "      <th>4</th>\n",
       "      <td>Other</td>\n",
       "      <td>Bat Mix</td>\n",
       "      <td>Brown</td>\n",
       "      <td>2014-01-07T00:00:00</td>\n",
       "      <td>2014-07-07T14:04:00</td>\n",
       "      <td>Unknown</td>\n",
       "      <td>Euthanasia</td>\n",
       "    </tr>\n",
       "  </tbody>\n",
       "</table>\n",
       "</div>"
      ],
      "text/plain": [
       "  animal_type                    breed         color        date_of_birth  \\\n",
       "0         Cat   Domestic Shorthair Mix  Orange Tabby  2014-07-07T00:00:00   \n",
       "1         Dog               Beagle Mix   White/Brown  2012-11-06T00:00:00   \n",
       "2         Dog                 Pit Bull    Blue/White  2013-03-31T00:00:00   \n",
       "3         Dog  Miniature Schnauzer Mix         White  2005-06-02T00:00:00   \n",
       "4       Other                  Bat Mix         Brown  2014-01-07T00:00:00   \n",
       "\n",
       "              datetime sex_upon_outcome outcome_type  \n",
       "0  2014-07-22T16:04:00      Intact Male     Transfer  \n",
       "1  2013-11-07T11:47:00    Spayed Female     Transfer  \n",
       "2  2014-06-03T14:20:00    Neutered Male     Adoption  \n",
       "3  2014-06-15T15:50:00    Neutered Male     Transfer  \n",
       "4  2014-07-07T14:04:00          Unknown   Euthanasia  "
      ]
     },
     "execution_count": 300,
     "metadata": {},
     "output_type": "execute_result"
    }
   ],
   "source": [
    "data = data[['animal_type','breed','color','date_of_birth','datetime','sex_upon_outcome','outcome_type']]\n",
    "data.head()"
   ]
  },
  {
   "cell_type": "code",
   "execution_count": 301,
   "metadata": {
    "scrolled": true
   },
   "outputs": [
    {
     "name": "stderr",
     "output_type": "stream",
     "text": [
      "e:\\Users\\chefranov_as\\AppData\\Local\\Continuum\\anaconda3\\lib\\site-packages\\ipykernel_launcher.py:4: FutureWarning: to_datetime is deprecated. Use self.to_pydatetime()\n",
      "  after removing the cwd from sys.path.\n",
      "e:\\Users\\chefranov_as\\AppData\\Local\\Continuum\\anaconda3\\lib\\site-packages\\ipykernel_launcher.py:6: FutureWarning: to_datetime is deprecated. Use self.to_pydatetime()\n",
      "  \n"
     ]
    }
   ],
   "source": [
    "#предразуем даты в даты. уберем время\n",
    "data['date_birth'] = pd.to_datetime(data.date_of_birth, format = \"%Y/%m/%d\")\n",
    "data['date'] = pd.to_datetime(data.datetime, format = \"%Y/%m/%d\")\n",
    "data['date'] = [data.to_datetime().date() for data in data.date]\n",
    "data['date'] = pd.to_datetime(data.date, format = \"%Y/%m/%d\")\n",
    "data['date_birth'] = [data.to_datetime().date() for data in data.date_birth]\n",
    "data['date_birth'] = pd.to_datetime(data.date_birth, format = \"%Y/%m/%d\")"
   ]
  },
  {
   "cell_type": "code",
   "execution_count": 302,
   "metadata": {},
   "outputs": [],
   "source": [
    "#посчитаем возраст животного на момент события в годах\n",
    "data['age'] = data.date - data.date_birth\n",
    "data['age'] = data['age']/np.timedelta64(1,'D')/365"
   ]
  },
  {
   "cell_type": "code",
   "execution_count": 303,
   "metadata": {},
   "outputs": [
    {
     "data": {
      "text/html": [
       "<div>\n",
       "<style>\n",
       "    .dataframe thead tr:only-child th {\n",
       "        text-align: right;\n",
       "    }\n",
       "\n",
       "    .dataframe thead th {\n",
       "        text-align: left;\n",
       "    }\n",
       "\n",
       "    .dataframe tbody tr th {\n",
       "        vertical-align: top;\n",
       "    }\n",
       "</style>\n",
       "<table border=\"1\" class=\"dataframe\">\n",
       "  <thead>\n",
       "    <tr style=\"text-align: right;\">\n",
       "      <th></th>\n",
       "      <th>animal_type</th>\n",
       "      <th>breed</th>\n",
       "      <th>color</th>\n",
       "      <th>date_of_birth</th>\n",
       "      <th>datetime</th>\n",
       "      <th>sex_upon_outcome</th>\n",
       "      <th>outcome_type</th>\n",
       "      <th>date_birth</th>\n",
       "      <th>date</th>\n",
       "      <th>age</th>\n",
       "    </tr>\n",
       "  </thead>\n",
       "  <tbody>\n",
       "    <tr>\n",
       "      <th>0</th>\n",
       "      <td>Cat</td>\n",
       "      <td>Domestic Shorthair Mix</td>\n",
       "      <td>Orange Tabby</td>\n",
       "      <td>2014-07-07T00:00:00</td>\n",
       "      <td>2014-07-22T16:04:00</td>\n",
       "      <td>Intact Male</td>\n",
       "      <td>Transfer</td>\n",
       "      <td>2014-07-07</td>\n",
       "      <td>2014-07-22</td>\n",
       "      <td>0.041096</td>\n",
       "    </tr>\n",
       "    <tr>\n",
       "      <th>1</th>\n",
       "      <td>Dog</td>\n",
       "      <td>Beagle Mix</td>\n",
       "      <td>White/Brown</td>\n",
       "      <td>2012-11-06T00:00:00</td>\n",
       "      <td>2013-11-07T11:47:00</td>\n",
       "      <td>Spayed Female</td>\n",
       "      <td>Transfer</td>\n",
       "      <td>2012-11-06</td>\n",
       "      <td>2013-11-07</td>\n",
       "      <td>1.002740</td>\n",
       "    </tr>\n",
       "    <tr>\n",
       "      <th>2</th>\n",
       "      <td>Dog</td>\n",
       "      <td>Pit Bull</td>\n",
       "      <td>Blue/White</td>\n",
       "      <td>2013-03-31T00:00:00</td>\n",
       "      <td>2014-06-03T14:20:00</td>\n",
       "      <td>Neutered Male</td>\n",
       "      <td>Adoption</td>\n",
       "      <td>2013-03-31</td>\n",
       "      <td>2014-06-03</td>\n",
       "      <td>1.175342</td>\n",
       "    </tr>\n",
       "    <tr>\n",
       "      <th>3</th>\n",
       "      <td>Dog</td>\n",
       "      <td>Miniature Schnauzer Mix</td>\n",
       "      <td>White</td>\n",
       "      <td>2005-06-02T00:00:00</td>\n",
       "      <td>2014-06-15T15:50:00</td>\n",
       "      <td>Neutered Male</td>\n",
       "      <td>Transfer</td>\n",
       "      <td>2005-06-02</td>\n",
       "      <td>2014-06-15</td>\n",
       "      <td>9.041096</td>\n",
       "    </tr>\n",
       "    <tr>\n",
       "      <th>4</th>\n",
       "      <td>Other</td>\n",
       "      <td>Bat Mix</td>\n",
       "      <td>Brown</td>\n",
       "      <td>2014-01-07T00:00:00</td>\n",
       "      <td>2014-07-07T14:04:00</td>\n",
       "      <td>Unknown</td>\n",
       "      <td>Euthanasia</td>\n",
       "      <td>2014-01-07</td>\n",
       "      <td>2014-07-07</td>\n",
       "      <td>0.495890</td>\n",
       "    </tr>\n",
       "  </tbody>\n",
       "</table>\n",
       "</div>"
      ],
      "text/plain": [
       "  animal_type                    breed         color        date_of_birth  \\\n",
       "0         Cat   Domestic Shorthair Mix  Orange Tabby  2014-07-07T00:00:00   \n",
       "1         Dog               Beagle Mix   White/Brown  2012-11-06T00:00:00   \n",
       "2         Dog                 Pit Bull    Blue/White  2013-03-31T00:00:00   \n",
       "3         Dog  Miniature Schnauzer Mix         White  2005-06-02T00:00:00   \n",
       "4       Other                  Bat Mix         Brown  2014-01-07T00:00:00   \n",
       "\n",
       "              datetime sex_upon_outcome outcome_type date_birth       date  \\\n",
       "0  2014-07-22T16:04:00      Intact Male     Transfer 2014-07-07 2014-07-22   \n",
       "1  2013-11-07T11:47:00    Spayed Female     Transfer 2012-11-06 2013-11-07   \n",
       "2  2014-06-03T14:20:00    Neutered Male     Adoption 2013-03-31 2014-06-03   \n",
       "3  2014-06-15T15:50:00    Neutered Male     Transfer 2005-06-02 2014-06-15   \n",
       "4  2014-07-07T14:04:00          Unknown   Euthanasia 2014-01-07 2014-07-07   \n",
       "\n",
       "        age  \n",
       "0  0.041096  \n",
       "1  1.002740  \n",
       "2  1.175342  \n",
       "3  9.041096  \n",
       "4  0.495890  "
      ]
     },
     "execution_count": 303,
     "metadata": {},
     "output_type": "execute_result"
    }
   ],
   "source": [
    "data.head()"
   ]
  },
  {
   "cell_type": "code",
   "execution_count": 304,
   "metadata": {
    "scrolled": false
   },
   "outputs": [
    {
     "data": {
      "text/html": [
       "<div>\n",
       "<style>\n",
       "    .dataframe thead tr:only-child th {\n",
       "        text-align: right;\n",
       "    }\n",
       "\n",
       "    .dataframe thead th {\n",
       "        text-align: left;\n",
       "    }\n",
       "\n",
       "    .dataframe tbody tr th {\n",
       "        vertical-align: top;\n",
       "    }\n",
       "</style>\n",
       "<table border=\"1\" class=\"dataframe\">\n",
       "  <thead>\n",
       "    <tr style=\"text-align: right;\">\n",
       "      <th></th>\n",
       "      <th>animal_type</th>\n",
       "      <th>breed</th>\n",
       "      <th>color</th>\n",
       "      <th>age</th>\n",
       "      <th>sex_upon_outcome</th>\n",
       "      <th>outcome_type</th>\n",
       "    </tr>\n",
       "  </thead>\n",
       "  <tbody>\n",
       "    <tr>\n",
       "      <th>0</th>\n",
       "      <td>Cat</td>\n",
       "      <td>Domestic Shorthair Mix</td>\n",
       "      <td>Orange Tabby</td>\n",
       "      <td>0.041096</td>\n",
       "      <td>Intact Male</td>\n",
       "      <td>Transfer</td>\n",
       "    </tr>\n",
       "    <tr>\n",
       "      <th>1</th>\n",
       "      <td>Dog</td>\n",
       "      <td>Beagle Mix</td>\n",
       "      <td>White/Brown</td>\n",
       "      <td>1.002740</td>\n",
       "      <td>Spayed Female</td>\n",
       "      <td>Transfer</td>\n",
       "    </tr>\n",
       "    <tr>\n",
       "      <th>2</th>\n",
       "      <td>Dog</td>\n",
       "      <td>Pit Bull</td>\n",
       "      <td>Blue/White</td>\n",
       "      <td>1.175342</td>\n",
       "      <td>Neutered Male</td>\n",
       "      <td>Adoption</td>\n",
       "    </tr>\n",
       "    <tr>\n",
       "      <th>3</th>\n",
       "      <td>Dog</td>\n",
       "      <td>Miniature Schnauzer Mix</td>\n",
       "      <td>White</td>\n",
       "      <td>9.041096</td>\n",
       "      <td>Neutered Male</td>\n",
       "      <td>Transfer</td>\n",
       "    </tr>\n",
       "    <tr>\n",
       "      <th>4</th>\n",
       "      <td>Other</td>\n",
       "      <td>Bat Mix</td>\n",
       "      <td>Brown</td>\n",
       "      <td>0.495890</td>\n",
       "      <td>Unknown</td>\n",
       "      <td>Euthanasia</td>\n",
       "    </tr>\n",
       "  </tbody>\n",
       "</table>\n",
       "</div>"
      ],
      "text/plain": [
       "  animal_type                    breed         color       age  \\\n",
       "0         Cat   Domestic Shorthair Mix  Orange Tabby  0.041096   \n",
       "1         Dog               Beagle Mix   White/Brown  1.002740   \n",
       "2         Dog                 Pit Bull    Blue/White  1.175342   \n",
       "3         Dog  Miniature Schnauzer Mix         White  9.041096   \n",
       "4       Other                  Bat Mix         Brown  0.495890   \n",
       "\n",
       "  sex_upon_outcome outcome_type  \n",
       "0      Intact Male     Transfer  \n",
       "1    Spayed Female     Transfer  \n",
       "2    Neutered Male     Adoption  \n",
       "3    Neutered Male     Transfer  \n",
       "4          Unknown   Euthanasia  "
      ]
     },
     "execution_count": 304,
     "metadata": {},
     "output_type": "execute_result"
    }
   ],
   "source": [
    "#уберем даты\n",
    "data = data[['animal_type','breed','color','age','sex_upon_outcome','outcome_type']]\n",
    "data.head()"
   ]
  },
  {
   "cell_type": "code",
   "execution_count": 305,
   "metadata": {
    "scrolled": false
   },
   "outputs": [
    {
     "data": {
      "text/plain": [
       "array(['Cat', 'Dog', 'Other', 'Bird', 'Livestock'], dtype=object)"
      ]
     },
     "execution_count": 305,
     "metadata": {},
     "output_type": "execute_result"
    }
   ],
   "source": [
    "data.animal_type.unique()"
   ]
  },
  {
   "cell_type": "code",
   "execution_count": 306,
   "metadata": {},
   "outputs": [],
   "source": [
    "dict_animal = {'Cat':1,\n",
    "       'Dog': 2,\n",
    "       'Bird':3,\n",
    "       'Livestock':4,\n",
    "       'Other':5\n",
    "      }"
   ]
  },
  {
   "cell_type": "code",
   "execution_count": 307,
   "metadata": {},
   "outputs": [],
   "source": [
    "data['a_type'] = data.animal_type.replace(dict_animal)\n",
    "data = data[['a_type','breed','color','age','sex_upon_outcome','outcome_type']]"
   ]
  },
  {
   "cell_type": "code",
   "execution_count": 308,
   "metadata": {
    "scrolled": true
   },
   "outputs": [
    {
     "data": {
      "text/html": [
       "<div>\n",
       "<style>\n",
       "    .dataframe thead tr:only-child th {\n",
       "        text-align: right;\n",
       "    }\n",
       "\n",
       "    .dataframe thead th {\n",
       "        text-align: left;\n",
       "    }\n",
       "\n",
       "    .dataframe tbody tr th {\n",
       "        vertical-align: top;\n",
       "    }\n",
       "</style>\n",
       "<table border=\"1\" class=\"dataframe\">\n",
       "  <thead>\n",
       "    <tr style=\"text-align: right;\">\n",
       "      <th></th>\n",
       "      <th>a_type</th>\n",
       "      <th>breed</th>\n",
       "      <th>color</th>\n",
       "      <th>age</th>\n",
       "      <th>sex_upon_outcome</th>\n",
       "      <th>outcome_type</th>\n",
       "    </tr>\n",
       "  </thead>\n",
       "  <tbody>\n",
       "    <tr>\n",
       "      <th>0</th>\n",
       "      <td>1</td>\n",
       "      <td>Domestic Shorthair Mix</td>\n",
       "      <td>Orange Tabby</td>\n",
       "      <td>0.041096</td>\n",
       "      <td>Intact Male</td>\n",
       "      <td>Transfer</td>\n",
       "    </tr>\n",
       "    <tr>\n",
       "      <th>1</th>\n",
       "      <td>2</td>\n",
       "      <td>Beagle Mix</td>\n",
       "      <td>White/Brown</td>\n",
       "      <td>1.002740</td>\n",
       "      <td>Spayed Female</td>\n",
       "      <td>Transfer</td>\n",
       "    </tr>\n",
       "    <tr>\n",
       "      <th>2</th>\n",
       "      <td>2</td>\n",
       "      <td>Pit Bull</td>\n",
       "      <td>Blue/White</td>\n",
       "      <td>1.175342</td>\n",
       "      <td>Neutered Male</td>\n",
       "      <td>Adoption</td>\n",
       "    </tr>\n",
       "    <tr>\n",
       "      <th>3</th>\n",
       "      <td>2</td>\n",
       "      <td>Miniature Schnauzer Mix</td>\n",
       "      <td>White</td>\n",
       "      <td>9.041096</td>\n",
       "      <td>Neutered Male</td>\n",
       "      <td>Transfer</td>\n",
       "    </tr>\n",
       "    <tr>\n",
       "      <th>4</th>\n",
       "      <td>5</td>\n",
       "      <td>Bat Mix</td>\n",
       "      <td>Brown</td>\n",
       "      <td>0.495890</td>\n",
       "      <td>Unknown</td>\n",
       "      <td>Euthanasia</td>\n",
       "    </tr>\n",
       "  </tbody>\n",
       "</table>\n",
       "</div>"
      ],
      "text/plain": [
       "   a_type                    breed         color       age sex_upon_outcome  \\\n",
       "0       1   Domestic Shorthair Mix  Orange Tabby  0.041096      Intact Male   \n",
       "1       2               Beagle Mix   White/Brown  1.002740    Spayed Female   \n",
       "2       2                 Pit Bull    Blue/White  1.175342    Neutered Male   \n",
       "3       2  Miniature Schnauzer Mix         White  9.041096    Neutered Male   \n",
       "4       5                  Bat Mix         Brown  0.495890          Unknown   \n",
       "\n",
       "  outcome_type  \n",
       "0     Transfer  \n",
       "1     Transfer  \n",
       "2     Adoption  \n",
       "3     Transfer  \n",
       "4   Euthanasia  "
      ]
     },
     "execution_count": 308,
     "metadata": {},
     "output_type": "execute_result"
    }
   ],
   "source": [
    "data.head()"
   ]
  },
  {
   "cell_type": "code",
   "execution_count": 309,
   "metadata": {
    "scrolled": false
   },
   "outputs": [],
   "source": [
    "#генерим словарь для пароды\n",
    "list_breed = list(data.breed.unique())\n",
    "list_breed_len = list(range(0,len(list_breed)))\n",
    "\n",
    "dict_breed = dict(zip(list_breed,list_breed_len))\n",
    "\n",
    "#Тут по хорошему как то нужно уменьшать кол-во признаков - к примеру через парсинг только имени пароды, без каких то деталей доп"
   ]
  },
  {
   "cell_type": "code",
   "execution_count": 310,
   "metadata": {
    "collapsed": true
   },
   "outputs": [],
   "source": [
    "#переводим данные пароды в число\n",
    "data['breed_type'] = data.breed.replace(dict_breed)\n",
    "data = data[['a_type','breed_type','color','age','sex_upon_outcome','outcome_type']]"
   ]
  },
  {
   "cell_type": "code",
   "execution_count": 311,
   "metadata": {
    "scrolled": false
   },
   "outputs": [
    {
     "data": {
      "text/html": [
       "<div>\n",
       "<style>\n",
       "    .dataframe thead tr:only-child th {\n",
       "        text-align: right;\n",
       "    }\n",
       "\n",
       "    .dataframe thead th {\n",
       "        text-align: left;\n",
       "    }\n",
       "\n",
       "    .dataframe tbody tr th {\n",
       "        vertical-align: top;\n",
       "    }\n",
       "</style>\n",
       "<table border=\"1\" class=\"dataframe\">\n",
       "  <thead>\n",
       "    <tr style=\"text-align: right;\">\n",
       "      <th></th>\n",
       "      <th>a_type</th>\n",
       "      <th>breed_type</th>\n",
       "      <th>color</th>\n",
       "      <th>age</th>\n",
       "      <th>sex_upon_outcome</th>\n",
       "      <th>outcome_type</th>\n",
       "    </tr>\n",
       "  </thead>\n",
       "  <tbody>\n",
       "    <tr>\n",
       "      <th>0</th>\n",
       "      <td>1</td>\n",
       "      <td>0</td>\n",
       "      <td>Orange Tabby</td>\n",
       "      <td>0.041096</td>\n",
       "      <td>Intact Male</td>\n",
       "      <td>Transfer</td>\n",
       "    </tr>\n",
       "    <tr>\n",
       "      <th>1</th>\n",
       "      <td>2</td>\n",
       "      <td>1</td>\n",
       "      <td>White/Brown</td>\n",
       "      <td>1.002740</td>\n",
       "      <td>Spayed Female</td>\n",
       "      <td>Transfer</td>\n",
       "    </tr>\n",
       "    <tr>\n",
       "      <th>2</th>\n",
       "      <td>2</td>\n",
       "      <td>2</td>\n",
       "      <td>Blue/White</td>\n",
       "      <td>1.175342</td>\n",
       "      <td>Neutered Male</td>\n",
       "      <td>Adoption</td>\n",
       "    </tr>\n",
       "    <tr>\n",
       "      <th>3</th>\n",
       "      <td>2</td>\n",
       "      <td>3</td>\n",
       "      <td>White</td>\n",
       "      <td>9.041096</td>\n",
       "      <td>Neutered Male</td>\n",
       "      <td>Transfer</td>\n",
       "    </tr>\n",
       "    <tr>\n",
       "      <th>4</th>\n",
       "      <td>5</td>\n",
       "      <td>4</td>\n",
       "      <td>Brown</td>\n",
       "      <td>0.495890</td>\n",
       "      <td>Unknown</td>\n",
       "      <td>Euthanasia</td>\n",
       "    </tr>\n",
       "  </tbody>\n",
       "</table>\n",
       "</div>"
      ],
      "text/plain": [
       "   a_type  breed_type         color       age sex_upon_outcome outcome_type\n",
       "0       1           0  Orange Tabby  0.041096      Intact Male     Transfer\n",
       "1       2           1   White/Brown  1.002740    Spayed Female     Transfer\n",
       "2       2           2    Blue/White  1.175342    Neutered Male     Adoption\n",
       "3       2           3         White  9.041096    Neutered Male     Transfer\n",
       "4       5           4         Brown  0.495890          Unknown   Euthanasia"
      ]
     },
     "execution_count": 311,
     "metadata": {},
     "output_type": "execute_result"
    }
   ],
   "source": [
    "data.head()"
   ]
  },
  {
   "cell_type": "code",
   "execution_count": 312,
   "metadata": {},
   "outputs": [],
   "source": [
    "#генерим словарь для цвета\n",
    "list_color = list(data.color.unique())\n",
    "list_color_len = list(range(0,len(list_color)))\n",
    "\n",
    "dict_color = dict(zip(list_color,list_color_len))"
   ]
  },
  {
   "cell_type": "code",
   "execution_count": 314,
   "metadata": {
    "scrolled": false
   },
   "outputs": [
    {
     "data": {
      "text/html": [
       "<div>\n",
       "<style>\n",
       "    .dataframe thead tr:only-child th {\n",
       "        text-align: right;\n",
       "    }\n",
       "\n",
       "    .dataframe thead th {\n",
       "        text-align: left;\n",
       "    }\n",
       "\n",
       "    .dataframe tbody tr th {\n",
       "        vertical-align: top;\n",
       "    }\n",
       "</style>\n",
       "<table border=\"1\" class=\"dataframe\">\n",
       "  <thead>\n",
       "    <tr style=\"text-align: right;\">\n",
       "      <th></th>\n",
       "      <th>a_type</th>\n",
       "      <th>breed_type</th>\n",
       "      <th>color_type</th>\n",
       "      <th>age</th>\n",
       "      <th>sex_upon_outcome</th>\n",
       "      <th>outcome_type</th>\n",
       "    </tr>\n",
       "  </thead>\n",
       "  <tbody>\n",
       "    <tr>\n",
       "      <th>0</th>\n",
       "      <td>1</td>\n",
       "      <td>0</td>\n",
       "      <td>0</td>\n",
       "      <td>0.041096</td>\n",
       "      <td>Intact Male</td>\n",
       "      <td>Transfer</td>\n",
       "    </tr>\n",
       "    <tr>\n",
       "      <th>1</th>\n",
       "      <td>2</td>\n",
       "      <td>1</td>\n",
       "      <td>1</td>\n",
       "      <td>1.002740</td>\n",
       "      <td>Spayed Female</td>\n",
       "      <td>Transfer</td>\n",
       "    </tr>\n",
       "    <tr>\n",
       "      <th>2</th>\n",
       "      <td>2</td>\n",
       "      <td>2</td>\n",
       "      <td>2</td>\n",
       "      <td>1.175342</td>\n",
       "      <td>Neutered Male</td>\n",
       "      <td>Adoption</td>\n",
       "    </tr>\n",
       "    <tr>\n",
       "      <th>3</th>\n",
       "      <td>2</td>\n",
       "      <td>3</td>\n",
       "      <td>3</td>\n",
       "      <td>9.041096</td>\n",
       "      <td>Neutered Male</td>\n",
       "      <td>Transfer</td>\n",
       "    </tr>\n",
       "    <tr>\n",
       "      <th>4</th>\n",
       "      <td>5</td>\n",
       "      <td>4</td>\n",
       "      <td>4</td>\n",
       "      <td>0.495890</td>\n",
       "      <td>Unknown</td>\n",
       "      <td>Euthanasia</td>\n",
       "    </tr>\n",
       "  </tbody>\n",
       "</table>\n",
       "</div>"
      ],
      "text/plain": [
       "   a_type  breed_type  color_type       age sex_upon_outcome outcome_type\n",
       "0       1           0           0  0.041096      Intact Male     Transfer\n",
       "1       2           1           1  1.002740    Spayed Female     Transfer\n",
       "2       2           2           2  1.175342    Neutered Male     Adoption\n",
       "3       2           3           3  9.041096    Neutered Male     Transfer\n",
       "4       5           4           4  0.495890          Unknown   Euthanasia"
      ]
     },
     "execution_count": 314,
     "metadata": {},
     "output_type": "execute_result"
    }
   ],
   "source": [
    "\n",
    "#переводим данные цвета в число\n",
    "data['color_type'] = data.color.replace(dict_color)\n",
    "data = data[['a_type','breed_type','color_type','age','sex_upon_outcome','outcome_type']]\n",
    "data.head()"
   ]
  },
  {
   "cell_type": "code",
   "execution_count": 317,
   "metadata": {},
   "outputs": [
    {
     "name": "stdout",
     "output_type": "stream",
     "text": [
      "<class 'pandas.core.frame.DataFrame'>\n",
      "RangeIndex: 78256 entries, 0 to 78255\n",
      "Data columns (total 6 columns):\n",
      "a_type              78256 non-null int64\n",
      "breed_type          78256 non-null int64\n",
      "color_type          78256 non-null int64\n",
      "age                 78256 non-null float64\n",
      "sex_upon_outcome    78254 non-null object\n",
      "outcome_type        78244 non-null object\n",
      "dtypes: float64(1), int64(3), object(2)\n",
      "memory usage: 3.6+ MB\n"
     ]
    }
   ],
   "source": [
    "data.info()"
   ]
  },
  {
   "cell_type": "code",
   "execution_count": 319,
   "metadata": {},
   "outputs": [
    {
     "name": "stdout",
     "output_type": "stream",
     "text": [
      "<class 'pandas.core.frame.DataFrame'>\n",
      "Int64Index: 78243 entries, 0 to 78255\n",
      "Data columns (total 6 columns):\n",
      "a_type              78243 non-null int64\n",
      "breed_type          78243 non-null int64\n",
      "color_type          78243 non-null int64\n",
      "age                 78243 non-null float64\n",
      "sex_upon_outcome    78243 non-null object\n",
      "outcome_type        78243 non-null object\n",
      "dtypes: float64(1), int64(3), object(2)\n",
      "memory usage: 4.2+ MB\n"
     ]
    }
   ],
   "source": [
    "#дропнем NA значения их всего 13 штук\n",
    "data = data.dropna()\n",
    "data.info()"
   ]
  },
  {
   "cell_type": "code",
   "execution_count": 323,
   "metadata": {
    "scrolled": true
   },
   "outputs": [
    {
     "data": {
      "text/plain": [
       "{'Intact Female': 4,\n",
       " 'Intact Male': 0,\n",
       " 'Neutered Male': 2,\n",
       " 'Spayed Female': 1,\n",
       " 'Unknown': 3}"
      ]
     },
     "execution_count": 323,
     "metadata": {},
     "output_type": "execute_result"
    }
   ],
   "source": [
    "#генерим словарь для пола\n",
    "list_sex = list(data.sex_upon_outcome.unique())\n",
    "list_sex_len = list(range(0,len(list_sex)))\n",
    "\n",
    "dict_sex = dict(zip(list_sex,list_sex_len))\n",
    "#Странный пол =)) 'Unknown'\n",
    "dict_sex"
   ]
  },
  {
   "cell_type": "code",
   "execution_count": 325,
   "metadata": {},
   "outputs": [
    {
     "data": {
      "text/html": [
       "<div>\n",
       "<style>\n",
       "    .dataframe thead tr:only-child th {\n",
       "        text-align: right;\n",
       "    }\n",
       "\n",
       "    .dataframe thead th {\n",
       "        text-align: left;\n",
       "    }\n",
       "\n",
       "    .dataframe tbody tr th {\n",
       "        vertical-align: top;\n",
       "    }\n",
       "</style>\n",
       "<table border=\"1\" class=\"dataframe\">\n",
       "  <thead>\n",
       "    <tr style=\"text-align: right;\">\n",
       "      <th></th>\n",
       "      <th>a_type</th>\n",
       "      <th>breed_type</th>\n",
       "      <th>color_type</th>\n",
       "      <th>age</th>\n",
       "      <th>sex_type</th>\n",
       "      <th>outcome_type</th>\n",
       "    </tr>\n",
       "  </thead>\n",
       "  <tbody>\n",
       "    <tr>\n",
       "      <th>0</th>\n",
       "      <td>1</td>\n",
       "      <td>0</td>\n",
       "      <td>0</td>\n",
       "      <td>0.041096</td>\n",
       "      <td>0</td>\n",
       "      <td>Transfer</td>\n",
       "    </tr>\n",
       "    <tr>\n",
       "      <th>1</th>\n",
       "      <td>2</td>\n",
       "      <td>1</td>\n",
       "      <td>1</td>\n",
       "      <td>1.002740</td>\n",
       "      <td>1</td>\n",
       "      <td>Transfer</td>\n",
       "    </tr>\n",
       "    <tr>\n",
       "      <th>2</th>\n",
       "      <td>2</td>\n",
       "      <td>2</td>\n",
       "      <td>2</td>\n",
       "      <td>1.175342</td>\n",
       "      <td>2</td>\n",
       "      <td>Adoption</td>\n",
       "    </tr>\n",
       "    <tr>\n",
       "      <th>3</th>\n",
       "      <td>2</td>\n",
       "      <td>3</td>\n",
       "      <td>3</td>\n",
       "      <td>9.041096</td>\n",
       "      <td>2</td>\n",
       "      <td>Transfer</td>\n",
       "    </tr>\n",
       "    <tr>\n",
       "      <th>4</th>\n",
       "      <td>5</td>\n",
       "      <td>4</td>\n",
       "      <td>4</td>\n",
       "      <td>0.495890</td>\n",
       "      <td>3</td>\n",
       "      <td>Euthanasia</td>\n",
       "    </tr>\n",
       "  </tbody>\n",
       "</table>\n",
       "</div>"
      ],
      "text/plain": [
       "   a_type  breed_type  color_type       age  sex_type outcome_type\n",
       "0       1           0           0  0.041096         0     Transfer\n",
       "1       2           1           1  1.002740         1     Transfer\n",
       "2       2           2           2  1.175342         2     Adoption\n",
       "3       2           3           3  9.041096         2     Transfer\n",
       "4       5           4           4  0.495890         3   Euthanasia"
      ]
     },
     "execution_count": 325,
     "metadata": {},
     "output_type": "execute_result"
    }
   ],
   "source": [
    "#переводим данные пола в число\n",
    "data['sex_type'] = data.sex_upon_outcome.replace(dict_sex)\n",
    "data = data[['a_type','breed_type','color_type','age','sex_type','outcome_type']]\n",
    "data.head()"
   ]
  },
  {
   "cell_type": "code",
   "execution_count": 326,
   "metadata": {},
   "outputs": [
    {
     "data": {
      "text/plain": [
       "{'Adoption': 1,\n",
       " 'Died': 4,\n",
       " 'Disposal': 5,\n",
       " 'Euthanasia': 2,\n",
       " 'Missing': 7,\n",
       " 'Relocate': 6,\n",
       " 'Return to Owner': 3,\n",
       " 'Rto-Adopt': 8,\n",
       " 'Transfer': 0}"
      ]
     },
     "execution_count": 326,
     "metadata": {},
     "output_type": "execute_result"
    }
   ],
   "source": [
    "#генерим словарь для результата\n",
    "list_outcome = list(data.outcome_type.unique())\n",
    "list_outcome_len = list(range(0,len(list_outcome)))\n",
    "\n",
    "dict_outcome = dict(zip(list_outcome,list_outcome_len))\n",
    "\n",
    "dict_outcome"
   ]
  },
  {
   "cell_type": "code",
   "execution_count": 328,
   "metadata": {
    "scrolled": true
   },
   "outputs": [
    {
     "data": {
      "text/html": [
       "<div>\n",
       "<style>\n",
       "    .dataframe thead tr:only-child th {\n",
       "        text-align: right;\n",
       "    }\n",
       "\n",
       "    .dataframe thead th {\n",
       "        text-align: left;\n",
       "    }\n",
       "\n",
       "    .dataframe tbody tr th {\n",
       "        vertical-align: top;\n",
       "    }\n",
       "</style>\n",
       "<table border=\"1\" class=\"dataframe\">\n",
       "  <thead>\n",
       "    <tr style=\"text-align: right;\">\n",
       "      <th></th>\n",
       "      <th>a_type</th>\n",
       "      <th>breed_type</th>\n",
       "      <th>color_type</th>\n",
       "      <th>age</th>\n",
       "      <th>sex_type</th>\n",
       "      <th>outcome</th>\n",
       "    </tr>\n",
       "  </thead>\n",
       "  <tbody>\n",
       "    <tr>\n",
       "      <th>0</th>\n",
       "      <td>1</td>\n",
       "      <td>0</td>\n",
       "      <td>0</td>\n",
       "      <td>0.041096</td>\n",
       "      <td>0</td>\n",
       "      <td>0</td>\n",
       "    </tr>\n",
       "    <tr>\n",
       "      <th>1</th>\n",
       "      <td>2</td>\n",
       "      <td>1</td>\n",
       "      <td>1</td>\n",
       "      <td>1.002740</td>\n",
       "      <td>1</td>\n",
       "      <td>0</td>\n",
       "    </tr>\n",
       "    <tr>\n",
       "      <th>2</th>\n",
       "      <td>2</td>\n",
       "      <td>2</td>\n",
       "      <td>2</td>\n",
       "      <td>1.175342</td>\n",
       "      <td>2</td>\n",
       "      <td>1</td>\n",
       "    </tr>\n",
       "    <tr>\n",
       "      <th>3</th>\n",
       "      <td>2</td>\n",
       "      <td>3</td>\n",
       "      <td>3</td>\n",
       "      <td>9.041096</td>\n",
       "      <td>2</td>\n",
       "      <td>0</td>\n",
       "    </tr>\n",
       "    <tr>\n",
       "      <th>4</th>\n",
       "      <td>5</td>\n",
       "      <td>4</td>\n",
       "      <td>4</td>\n",
       "      <td>0.495890</td>\n",
       "      <td>3</td>\n",
       "      <td>2</td>\n",
       "    </tr>\n",
       "  </tbody>\n",
       "</table>\n",
       "</div>"
      ],
      "text/plain": [
       "   a_type  breed_type  color_type       age  sex_type  outcome\n",
       "0       1           0           0  0.041096         0        0\n",
       "1       2           1           1  1.002740         1        0\n",
       "2       2           2           2  1.175342         2        1\n",
       "3       2           3           3  9.041096         2        0\n",
       "4       5           4           4  0.495890         3        2"
      ]
     },
     "execution_count": 328,
     "metadata": {},
     "output_type": "execute_result"
    }
   ],
   "source": [
    "#переводим данные результата в число\n",
    "data['outcome'] = data.outcome_type.replace(dict_outcome)\n",
    "data = data[['a_type','breed_type','color_type','age','sex_type','outcome']]\n",
    "data.head()\n",
    "# 0 и 1 - наша цель"
   ]
  },
  {
   "cell_type": "code",
   "execution_count": 329,
   "metadata": {},
   "outputs": [
    {
     "name": "stdout",
     "output_type": "stream",
     "text": [
      "<class 'pandas.core.frame.DataFrame'>\n",
      "Int64Index: 78243 entries, 0 to 78255\n",
      "Data columns (total 6 columns):\n",
      "a_type        78243 non-null int64\n",
      "breed_type    78243 non-null int64\n",
      "color_type    78243 non-null int64\n",
      "age           78243 non-null float64\n",
      "sex_type      78243 non-null int64\n",
      "outcome       78243 non-null int64\n",
      "dtypes: float64(1), int64(5)\n",
      "memory usage: 6.7 MB\n"
     ]
    }
   ],
   "source": [
    "data.info()"
   ]
  },
  {
   "cell_type": "code",
   "execution_count": 332,
   "metadata": {},
   "outputs": [
    {
     "data": {
      "text/html": [
       "<div>\n",
       "<style>\n",
       "    .dataframe thead tr:only-child th {\n",
       "        text-align: right;\n",
       "    }\n",
       "\n",
       "    .dataframe thead th {\n",
       "        text-align: left;\n",
       "    }\n",
       "\n",
       "    .dataframe tbody tr th {\n",
       "        vertical-align: top;\n",
       "    }\n",
       "</style>\n",
       "<table border=\"1\" class=\"dataframe\">\n",
       "  <thead>\n",
       "    <tr style=\"text-align: right;\">\n",
       "      <th></th>\n",
       "      <th>count</th>\n",
       "      <th>mean</th>\n",
       "      <th>std</th>\n",
       "      <th>min</th>\n",
       "      <th>25%</th>\n",
       "      <th>50%</th>\n",
       "      <th>75%</th>\n",
       "      <th>max</th>\n",
       "    </tr>\n",
       "  </thead>\n",
       "  <tbody>\n",
       "    <tr>\n",
       "      <th>a_type</th>\n",
       "      <td>78243.0</td>\n",
       "      <td>1.791227</td>\n",
       "      <td>0.908471</td>\n",
       "      <td>1.000000</td>\n",
       "      <td>1.000000</td>\n",
       "      <td>2.000000</td>\n",
       "      <td>2.00000</td>\n",
       "      <td>5.000000</td>\n",
       "    </tr>\n",
       "    <tr>\n",
       "      <th>breed_type</th>\n",
       "      <td>78243.0</td>\n",
       "      <td>117.923763</td>\n",
       "      <td>286.237353</td>\n",
       "      <td>0.000000</td>\n",
       "      <td>0.000000</td>\n",
       "      <td>14.000000</td>\n",
       "      <td>78.00000</td>\n",
       "      <td>2127.000000</td>\n",
       "    </tr>\n",
       "    <tr>\n",
       "      <th>color_type</th>\n",
       "      <td>78243.0</td>\n",
       "      <td>31.178010</td>\n",
       "      <td>49.129122</td>\n",
       "      <td>0.000000</td>\n",
       "      <td>9.000000</td>\n",
       "      <td>12.000000</td>\n",
       "      <td>38.00000</td>\n",
       "      <td>524.000000</td>\n",
       "    </tr>\n",
       "    <tr>\n",
       "      <th>age</th>\n",
       "      <td>78243.0</td>\n",
       "      <td>2.238495</td>\n",
       "      <td>2.950941</td>\n",
       "      <td>-0.336986</td>\n",
       "      <td>0.260274</td>\n",
       "      <td>1.016438</td>\n",
       "      <td>3.00274</td>\n",
       "      <td>25.032877</td>\n",
       "    </tr>\n",
       "    <tr>\n",
       "      <th>sex_type</th>\n",
       "      <td>78243.0</td>\n",
       "      <td>1.751454</td>\n",
       "      <td>1.140024</td>\n",
       "      <td>0.000000</td>\n",
       "      <td>1.000000</td>\n",
       "      <td>2.000000</td>\n",
       "      <td>2.00000</td>\n",
       "      <td>4.000000</td>\n",
       "    </tr>\n",
       "    <tr>\n",
       "      <th>outcome</th>\n",
       "      <td>78243.0</td>\n",
       "      <td>1.203993</td>\n",
       "      <td>1.153872</td>\n",
       "      <td>0.000000</td>\n",
       "      <td>0.000000</td>\n",
       "      <td>1.000000</td>\n",
       "      <td>2.00000</td>\n",
       "      <td>8.000000</td>\n",
       "    </tr>\n",
       "  </tbody>\n",
       "</table>\n",
       "</div>"
      ],
      "text/plain": [
       "              count        mean         std       min       25%        50%  \\\n",
       "a_type      78243.0    1.791227    0.908471  1.000000  1.000000   2.000000   \n",
       "breed_type  78243.0  117.923763  286.237353  0.000000  0.000000  14.000000   \n",
       "color_type  78243.0   31.178010   49.129122  0.000000  9.000000  12.000000   \n",
       "age         78243.0    2.238495    2.950941 -0.336986  0.260274   1.016438   \n",
       "sex_type    78243.0    1.751454    1.140024  0.000000  1.000000   2.000000   \n",
       "outcome     78243.0    1.203993    1.153872  0.000000  0.000000   1.000000   \n",
       "\n",
       "                 75%          max  \n",
       "a_type       2.00000     5.000000  \n",
       "breed_type  78.00000  2127.000000  \n",
       "color_type  38.00000   524.000000  \n",
       "age          3.00274    25.032877  \n",
       "sex_type     2.00000     4.000000  \n",
       "outcome      2.00000     8.000000  "
      ]
     },
     "execution_count": 332,
     "metadata": {},
     "output_type": "execute_result"
    }
   ],
   "source": [
    "data.describe().transpose()"
   ]
  },
  {
   "cell_type": "code",
   "execution_count": 335,
   "metadata": {},
   "outputs": [
    {
     "data": {
      "text/html": [
       "<div>\n",
       "<style>\n",
       "    .dataframe thead tr:only-child th {\n",
       "        text-align: right;\n",
       "    }\n",
       "\n",
       "    .dataframe thead th {\n",
       "        text-align: left;\n",
       "    }\n",
       "\n",
       "    .dataframe tbody tr th {\n",
       "        vertical-align: top;\n",
       "    }\n",
       "</style>\n",
       "<table border=\"1\" class=\"dataframe\">\n",
       "  <thead>\n",
       "    <tr style=\"text-align: right;\">\n",
       "      <th></th>\n",
       "      <th>a_type</th>\n",
       "      <th>breed_type</th>\n",
       "      <th>color_type</th>\n",
       "      <th>age</th>\n",
       "      <th>sex_type</th>\n",
       "      <th>outcome</th>\n",
       "    </tr>\n",
       "  </thead>\n",
       "  <tbody>\n",
       "    <tr>\n",
       "      <th>19814</th>\n",
       "      <td>2</td>\n",
       "      <td>12</td>\n",
       "      <td>9</td>\n",
       "      <td>-0.336986</td>\n",
       "      <td>1</td>\n",
       "      <td>0</td>\n",
       "    </tr>\n",
       "    <tr>\n",
       "      <th>22804</th>\n",
       "      <td>2</td>\n",
       "      <td>23</td>\n",
       "      <td>9</td>\n",
       "      <td>-0.254795</td>\n",
       "      <td>2</td>\n",
       "      <td>1</td>\n",
       "    </tr>\n",
       "    <tr>\n",
       "      <th>45764</th>\n",
       "      <td>1</td>\n",
       "      <td>0</td>\n",
       "      <td>112</td>\n",
       "      <td>-0.027397</td>\n",
       "      <td>4</td>\n",
       "      <td>1</td>\n",
       "    </tr>\n",
       "    <tr>\n",
       "      <th>46565</th>\n",
       "      <td>1</td>\n",
       "      <td>0</td>\n",
       "      <td>0</td>\n",
       "      <td>-0.136986</td>\n",
       "      <td>4</td>\n",
       "      <td>2</td>\n",
       "    </tr>\n",
       "    <tr>\n",
       "      <th>47054</th>\n",
       "      <td>2</td>\n",
       "      <td>12</td>\n",
       "      <td>10</td>\n",
       "      <td>-0.008219</td>\n",
       "      <td>2</td>\n",
       "      <td>3</td>\n",
       "    </tr>\n",
       "    <tr>\n",
       "      <th>50533</th>\n",
       "      <td>1</td>\n",
       "      <td>0</td>\n",
       "      <td>57</td>\n",
       "      <td>-0.002740</td>\n",
       "      <td>3</td>\n",
       "      <td>0</td>\n",
       "    </tr>\n",
       "    <tr>\n",
       "      <th>52977</th>\n",
       "      <td>1</td>\n",
       "      <td>0</td>\n",
       "      <td>0</td>\n",
       "      <td>-0.065753</td>\n",
       "      <td>0</td>\n",
       "      <td>0</td>\n",
       "    </tr>\n",
       "    <tr>\n",
       "      <th>64745</th>\n",
       "      <td>1</td>\n",
       "      <td>0</td>\n",
       "      <td>10</td>\n",
       "      <td>-0.265753</td>\n",
       "      <td>1</td>\n",
       "      <td>1</td>\n",
       "    </tr>\n",
       "  </tbody>\n",
       "</table>\n",
       "</div>"
      ],
      "text/plain": [
       "       a_type  breed_type  color_type       age  sex_type  outcome\n",
       "19814       2          12           9 -0.336986         1        0\n",
       "22804       2          23           9 -0.254795         2        1\n",
       "45764       1           0         112 -0.027397         4        1\n",
       "46565       1           0           0 -0.136986         4        2\n",
       "47054       2          12          10 -0.008219         2        3\n",
       "50533       1           0          57 -0.002740         3        0\n",
       "52977       1           0           0 -0.065753         0        0\n",
       "64745       1           0          10 -0.265753         1        1"
      ]
     },
     "execution_count": 335,
     "metadata": {},
     "output_type": "execute_result"
    }
   ],
   "source": [
    "#8 строки с возрастом меньше 0 - уберем их\n",
    "data[data['age']<0]"
   ]
  },
  {
   "cell_type": "code",
   "execution_count": 336,
   "metadata": {
    "collapsed": true
   },
   "outputs": [],
   "source": [
    "data = data[data['age']!=0]"
   ]
  },
  {
   "cell_type": "code",
   "execution_count": 337,
   "metadata": {
    "scrolled": true
   },
   "outputs": [
    {
     "name": "stdout",
     "output_type": "stream",
     "text": [
      "<class 'pandas.core.frame.DataFrame'>\n",
      "Int64Index: 78157 entries, 0 to 78255\n",
      "Data columns (total 6 columns):\n",
      "a_type        78157 non-null int64\n",
      "breed_type    78157 non-null int64\n",
      "color_type    78157 non-null int64\n",
      "age           78157 non-null float64\n",
      "sex_type      78157 non-null int64\n",
      "outcome       78157 non-null int64\n",
      "dtypes: float64(1), int64(5)\n",
      "memory usage: 6.7 MB\n"
     ]
    }
   ],
   "source": [
    "data.info()"
   ]
  },
  {
   "cell_type": "code",
   "execution_count": 345,
   "metadata": {
    "scrolled": true
   },
   "outputs": [
    {
     "data": {
      "text/html": [
       "<div>\n",
       "<style>\n",
       "    .dataframe thead tr:only-child th {\n",
       "        text-align: right;\n",
       "    }\n",
       "\n",
       "    .dataframe thead th {\n",
       "        text-align: left;\n",
       "    }\n",
       "\n",
       "    .dataframe tbody tr th {\n",
       "        vertical-align: top;\n",
       "    }\n",
       "</style>\n",
       "<table border=\"1\" class=\"dataframe\">\n",
       "  <thead>\n",
       "    <tr style=\"text-align: right;\">\n",
       "      <th></th>\n",
       "      <th>a_type</th>\n",
       "      <th>breed_type</th>\n",
       "      <th>color_type</th>\n",
       "      <th>age</th>\n",
       "      <th>sex_type</th>\n",
       "      <th>outcome</th>\n",
       "    </tr>\n",
       "    <tr>\n",
       "      <th>a_type</th>\n",
       "      <th></th>\n",
       "      <th></th>\n",
       "      <th></th>\n",
       "      <th></th>\n",
       "      <th></th>\n",
       "      <th></th>\n",
       "    </tr>\n",
       "  </thead>\n",
       "  <tbody>\n",
       "    <tr>\n",
       "      <th>1</th>\n",
       "      <td>2493</td>\n",
       "      <td>2493</td>\n",
       "      <td>2493</td>\n",
       "      <td>2493</td>\n",
       "      <td>2493</td>\n",
       "      <td>2493</td>\n",
       "    </tr>\n",
       "    <tr>\n",
       "      <th>2</th>\n",
       "      <td>223</td>\n",
       "      <td>223</td>\n",
       "      <td>223</td>\n",
       "      <td>223</td>\n",
       "      <td>223</td>\n",
       "      <td>223</td>\n",
       "    </tr>\n",
       "    <tr>\n",
       "      <th>3</th>\n",
       "      <td>194</td>\n",
       "      <td>194</td>\n",
       "      <td>194</td>\n",
       "      <td>194</td>\n",
       "      <td>194</td>\n",
       "      <td>194</td>\n",
       "    </tr>\n",
       "    <tr>\n",
       "      <th>4</th>\n",
       "      <td>2</td>\n",
       "      <td>2</td>\n",
       "      <td>2</td>\n",
       "      <td>2</td>\n",
       "      <td>2</td>\n",
       "      <td>2</td>\n",
       "    </tr>\n",
       "    <tr>\n",
       "      <th>5</th>\n",
       "      <td>3596</td>\n",
       "      <td>3596</td>\n",
       "      <td>3596</td>\n",
       "      <td>3596</td>\n",
       "      <td>3596</td>\n",
       "      <td>3596</td>\n",
       "    </tr>\n",
       "  </tbody>\n",
       "</table>\n",
       "</div>"
      ],
      "text/plain": [
       "        a_type  breed_type  color_type   age  sex_type  outcome\n",
       "a_type                                                         \n",
       "1         2493        2493        2493  2493      2493     2493\n",
       "2          223         223         223   223       223      223\n",
       "3          194         194         194   194       194      194\n",
       "4            2           2           2     2         2        2\n",
       "5         3596        3596        3596  3596      3596     3596"
      ]
     },
     "execution_count": 345,
     "metadata": {},
     "output_type": "execute_result"
    }
   ],
   "source": [
    "#странные животные с не понятным полом. значений досаточно много и по разным животным. Оставляем.\n",
    "data[data['sex_type'] == 3].groupby(data['a_type']).count() #'Unknown': 3"
   ]
  },
  {
   "cell_type": "code",
   "execution_count": 346,
   "metadata": {
    "scrolled": true
   },
   "outputs": [
    {
     "data": {
      "text/plain": [
       "<seaborn.axisgrid.PairGrid at 0x174ac90dbe0>"
      ]
     },
     "execution_count": 346,
     "metadata": {},
     "output_type": "execute_result"
    },
    {
     "data": {
      "image/png": "[encoded data removed]",
      "text/plain": [
       "<matplotlib.figure.Figure at 0x174ac90d668>"
      ]
     },
     "metadata": {},
     "output_type": "display_data"
    }
   ],
   "source": [
    "sns.pairplot(data)\n",
    "#посмотрим распределеяния"
   ]
  },
  {
   "cell_type": "code",
   "execution_count": 347,
   "metadata": {
    "collapsed": true
   },
   "outputs": [],
   "source": [
    "#по факту почти весь дата сет категориальный.Да, как и писал выше тут конечно похоже нужен лес решений"
   ]
  },
  {
   "cell_type": "code",
   "execution_count": null,
   "metadata": {
    "collapsed": true
   },
   "outputs": [],
   "source": [
    "# по хорошему бы что нить сделать с плтицами, со скотом и прочими. Их реально не много по факту - всего 5%\n",
    "#или вообще убрать\n",
    "# Думаю правельнее перевернуть - ван хот ин кодинг"
   ]
  },
  {
   "cell_type": "code",
   "execution_count": 353,
   "metadata": {
    "scrolled": true
   },
   "outputs": [
    {
     "data": {
      "text/plain": [
       "0.05851043412618192"
      ]
     },
     "execution_count": 353,
     "metadata": {},
     "output_type": "execute_result"
    }
   ],
   "source": [
    "data[data['a_type'].isin([3,4,5])].a_type.count()/data.a_type.count()"
   ]
  },
  {
   "cell_type": "code",
   "execution_count": null,
   "metadata": {
    "collapsed": true
   },
   "outputs": [],
   "source": [
    "#глянем кореляцию"
   ]
  },
  {
   "cell_type": "code",
   "execution_count": 358,
   "metadata": {
    "scrolled": true
   },
   "outputs": [
    {
     "data": {
      "text/html": [
       "<style  type=\"text/css\" >\n",
       "    #T_fc8c7cc0_411e_11ea_9909_5ce0c5973f82row0_col0 {\n",
       "            background-color:  #023858;\n",
       "        }    #T_fc8c7cc0_411e_11ea_9909_5ce0c5973f82row0_col1 {\n",
       "            background-color:  #dfddec;\n",
       "        }    #T_fc8c7cc0_411e_11ea_9909_5ce0c5973f82row0_col2 {\n",
       "            background-color:  #fff7fb;\n",
       "        }    #T_fc8c7cc0_411e_11ea_9909_5ce0c5973f82row0_col3 {\n",
       "            background-color:  #eee9f3;\n",
       "        }    #T_fc8c7cc0_411e_11ea_9909_5ce0c5973f82row0_col4 {\n",
       "            background-color:  #dcdaeb;\n",
       "        }    #T_fc8c7cc0_411e_11ea_9909_5ce0c5973f82row0_col5 {\n",
       "            background-color:  #bbc7e0;\n",
       "        }    #T_fc8c7cc0_411e_11ea_9909_5ce0c5973f82row1_col0 {\n",
       "            background-color:  #e4e1ef;\n",
       "        }    #T_fc8c7cc0_411e_11ea_9909_5ce0c5973f82row1_col1 {\n",
       "            background-color:  #023858;\n",
       "        }    #T_fc8c7cc0_411e_11ea_9909_5ce0c5973f82row1_col2 {\n",
       "            background-color:  #f4eef6;\n",
       "        }    #T_fc8c7cc0_411e_11ea_9909_5ce0c5973f82row1_col3 {\n",
       "            background-color:  #ebe6f2;\n",
       "        }    #T_fc8c7cc0_411e_11ea_9909_5ce0c5973f82row1_col4 {\n",
       "            background-color:  #f8f1f8;\n",
       "        }    #T_fc8c7cc0_411e_11ea_9909_5ce0c5973f82row1_col5 {\n",
       "            background-color:  #f0eaf4;\n",
       "        }    #T_fc8c7cc0_411e_11ea_9909_5ce0c5973f82row2_col0 {\n",
       "            background-color:  #fff7fb;\n",
       "        }    #T_fc8c7cc0_411e_11ea_9909_5ce0c5973f82row2_col1 {\n",
       "            background-color:  #f0eaf4;\n",
       "        }    #T_fc8c7cc0_411e_11ea_9909_5ce0c5973f82row2_col2 {\n",
       "            background-color:  #023858;\n",
       "        }    #T_fc8c7cc0_411e_11ea_9909_5ce0c5973f82row2_col3 {\n",
       "            background-color:  #f2ecf5;\n",
       "        }    #T_fc8c7cc0_411e_11ea_9909_5ce0c5973f82row2_col4 {\n",
       "            background-color:  #f4edf6;\n",
       "        }    #T_fc8c7cc0_411e_11ea_9909_5ce0c5973f82row2_col5 {\n",
       "            background-color:  #f7f0f7;\n",
       "        }    #T_fc8c7cc0_411e_11ea_9909_5ce0c5973f82row3_col0 {\n",
       "            background-color:  #f9f2f8;\n",
       "        }    #T_fc8c7cc0_411e_11ea_9909_5ce0c5973f82row3_col1 {\n",
       "            background-color:  #f2ecf5;\n",
       "        }    #T_fc8c7cc0_411e_11ea_9909_5ce0c5973f82row3_col2 {\n",
       "            background-color:  #fef6fa;\n",
       "        }    #T_fc8c7cc0_411e_11ea_9909_5ce0c5973f82row3_col3 {\n",
       "            background-color:  #023858;\n",
       "        }    #T_fc8c7cc0_411e_11ea_9909_5ce0c5973f82row3_col4 {\n",
       "            background-color:  #fff7fb;\n",
       "        }    #T_fc8c7cc0_411e_11ea_9909_5ce0c5973f82row3_col5 {\n",
       "            background-color:  #c1cae2;\n",
       "        }    #T_fc8c7cc0_411e_11ea_9909_5ce0c5973f82row4_col0 {\n",
       "            background-color:  #ebe6f2;\n",
       "        }    #T_fc8c7cc0_411e_11ea_9909_5ce0c5973f82row4_col1 {\n",
       "            background-color:  #fff7fb;\n",
       "        }    #T_fc8c7cc0_411e_11ea_9909_5ce0c5973f82row4_col2 {\n",
       "            background-color:  #fff7fb;\n",
       "        }    #T_fc8c7cc0_411e_11ea_9909_5ce0c5973f82row4_col3 {\n",
       "            background-color:  #fff7fb;\n",
       "        }    #T_fc8c7cc0_411e_11ea_9909_5ce0c5973f82row4_col4 {\n",
       "            background-color:  #023858;\n",
       "        }    #T_fc8c7cc0_411e_11ea_9909_5ce0c5973f82row4_col5 {\n",
       "            background-color:  #fff7fb;\n",
       "        }    #T_fc8c7cc0_411e_11ea_9909_5ce0c5973f82row5_col0 {\n",
       "            background-color:  #c9cee4;\n",
       "        }    #T_fc8c7cc0_411e_11ea_9909_5ce0c5973f82row5_col1 {\n",
       "            background-color:  #f3edf5;\n",
       "        }    #T_fc8c7cc0_411e_11ea_9909_5ce0c5973f82row5_col2 {\n",
       "            background-color:  #fff7fb;\n",
       "        }    #T_fc8c7cc0_411e_11ea_9909_5ce0c5973f82row5_col3 {\n",
       "            background-color:  #bdc8e1;\n",
       "        }    #T_fc8c7cc0_411e_11ea_9909_5ce0c5973f82row5_col4 {\n",
       "            background-color:  #fdf5fa;\n",
       "        }    #T_fc8c7cc0_411e_11ea_9909_5ce0c5973f82row5_col5 {\n",
       "            background-color:  #023858;\n",
       "        }</style>  \n",
       "<table id=\"T_fc8c7cc0_411e_11ea_9909_5ce0c5973f82\" > \n",
       "<thead>    <tr> \n",
       "        <th class=\"blank level0\" ></th> \n",
       "        <th class=\"col_heading level0 col0\" >a_type</th> \n",
       "        <th class=\"col_heading level0 col1\" >breed_type</th> \n",
       "        <th class=\"col_heading level0 col2\" >color_type</th> \n",
       "        <th class=\"col_heading level0 col3\" >age</th> \n",
       "        <th class=\"col_heading level0 col4\" >sex_type</th> \n",
       "        <th class=\"col_heading level0 col5\" >outcome</th> \n",
       "    </tr></thead> \n",
       "<tbody>    <tr> \n",
       "        <th id=\"T_fc8c7cc0_411e_11ea_9909_5ce0c5973f82level0_row0\" class=\"row_heading level0 row0\" >a_type</th> \n",
       "        <td id=\"T_fc8c7cc0_411e_11ea_9909_5ce0c5973f82row0_col0\" class=\"data row0 col0\" >1</td> \n",
       "        <td id=\"T_fc8c7cc0_411e_11ea_9909_5ce0c5973f82row0_col1\" class=\"data row0 col1\" >0.17</td> \n",
       "        <td id=\"T_fc8c7cc0_411e_11ea_9909_5ce0c5973f82row0_col2\" class=\"data row0 col2\" >0.01</td> \n",
       "        <td id=\"T_fc8c7cc0_411e_11ea_9909_5ce0c5973f82row0_col3\" class=\"data row0 col3\" >0.05</td> \n",
       "        <td id=\"T_fc8c7cc0_411e_11ea_9909_5ce0c5973f82row0_col4\" class=\"data row0 col4\" >0.14</td> \n",
       "        <td id=\"T_fc8c7cc0_411e_11ea_9909_5ce0c5973f82row0_col5\" class=\"data row0 col5\" >0.28</td> \n",
       "    </tr>    <tr> \n",
       "        <th id=\"T_fc8c7cc0_411e_11ea_9909_5ce0c5973f82level0_row1\" class=\"row_heading level0 row1\" >breed_type</th> \n",
       "        <td id=\"T_fc8c7cc0_411e_11ea_9909_5ce0c5973f82row1_col0\" class=\"data row1 col0\" >0.17</td> \n",
       "        <td id=\"T_fc8c7cc0_411e_11ea_9909_5ce0c5973f82row1_col1\" class=\"data row1 col1\" >1</td> \n",
       "        <td id=\"T_fc8c7cc0_411e_11ea_9909_5ce0c5973f82row1_col2\" class=\"data row1 col2\" >0.08</td> \n",
       "        <td id=\"T_fc8c7cc0_411e_11ea_9909_5ce0c5973f82row1_col3\" class=\"data row1 col3\" >0.07</td> \n",
       "        <td id=\"T_fc8c7cc0_411e_11ea_9909_5ce0c5973f82row1_col4\" class=\"data row1 col4\" >-0.02</td> \n",
       "        <td id=\"T_fc8c7cc0_411e_11ea_9909_5ce0c5973f82row1_col5\" class=\"data row1 col5\" >0.06</td> \n",
       "    </tr>    <tr> \n",
       "        <th id=\"T_fc8c7cc0_411e_11ea_9909_5ce0c5973f82level0_row2\" class=\"row_heading level0 row2\" >color_type</th> \n",
       "        <td id=\"T_fc8c7cc0_411e_11ea_9909_5ce0c5973f82row2_col0\" class=\"data row2 col0\" >0.01</td> \n",
       "        <td id=\"T_fc8c7cc0_411e_11ea_9909_5ce0c5973f82row2_col1\" class=\"data row2 col1\" >0.08</td> \n",
       "        <td id=\"T_fc8c7cc0_411e_11ea_9909_5ce0c5973f82row2_col2\" class=\"data row2 col2\" >1</td> \n",
       "        <td id=\"T_fc8c7cc0_411e_11ea_9909_5ce0c5973f82row2_col3\" class=\"data row2 col3\" >0.02</td> \n",
       "        <td id=\"T_fc8c7cc0_411e_11ea_9909_5ce0c5973f82row2_col4\" class=\"data row2 col4\" >0.01</td> \n",
       "        <td id=\"T_fc8c7cc0_411e_11ea_9909_5ce0c5973f82row2_col5\" class=\"data row2 col5\" >0.01</td> \n",
       "    </tr>    <tr> \n",
       "        <th id=\"T_fc8c7cc0_411e_11ea_9909_5ce0c5973f82level0_row3\" class=\"row_heading level0 row3\" >age</th> \n",
       "        <td id=\"T_fc8c7cc0_411e_11ea_9909_5ce0c5973f82row3_col0\" class=\"data row3 col0\" >0.05</td> \n",
       "        <td id=\"T_fc8c7cc0_411e_11ea_9909_5ce0c5973f82row3_col1\" class=\"data row3 col1\" >0.07</td> \n",
       "        <td id=\"T_fc8c7cc0_411e_11ea_9909_5ce0c5973f82row3_col2\" class=\"data row3 col2\" >0.02</td> \n",
       "        <td id=\"T_fc8c7cc0_411e_11ea_9909_5ce0c5973f82row3_col3\" class=\"data row3 col3\" >1</td> \n",
       "        <td id=\"T_fc8c7cc0_411e_11ea_9909_5ce0c5973f82row3_col4\" class=\"data row3 col4\" >-0.07</td> \n",
       "        <td id=\"T_fc8c7cc0_411e_11ea_9909_5ce0c5973f82row3_col5\" class=\"data row3 col5\" >0.26</td> \n",
       "    </tr>    <tr> \n",
       "        <th id=\"T_fc8c7cc0_411e_11ea_9909_5ce0c5973f82level0_row4\" class=\"row_heading level0 row4\" >sex_type</th> \n",
       "        <td id=\"T_fc8c7cc0_411e_11ea_9909_5ce0c5973f82row4_col0\" class=\"data row4 col0\" >0.14</td> \n",
       "        <td id=\"T_fc8c7cc0_411e_11ea_9909_5ce0c5973f82row4_col1\" class=\"data row4 col1\" >-0.02</td> \n",
       "        <td id=\"T_fc8c7cc0_411e_11ea_9909_5ce0c5973f82row4_col2\" class=\"data row4 col2\" >0.01</td> \n",
       "        <td id=\"T_fc8c7cc0_411e_11ea_9909_5ce0c5973f82row4_col3\" class=\"data row4 col3\" >-0.07</td> \n",
       "        <td id=\"T_fc8c7cc0_411e_11ea_9909_5ce0c5973f82row4_col4\" class=\"data row4 col4\" >1</td> \n",
       "        <td id=\"T_fc8c7cc0_411e_11ea_9909_5ce0c5973f82row4_col5\" class=\"data row4 col5\" >-0.05</td> \n",
       "    </tr>    <tr> \n",
       "        <th id=\"T_fc8c7cc0_411e_11ea_9909_5ce0c5973f82level0_row5\" class=\"row_heading level0 row5\" >outcome</th> \n",
       "        <td id=\"T_fc8c7cc0_411e_11ea_9909_5ce0c5973f82row5_col0\" class=\"data row5 col0\" >0.28</td> \n",
       "        <td id=\"T_fc8c7cc0_411e_11ea_9909_5ce0c5973f82row5_col1\" class=\"data row5 col1\" >0.06</td> \n",
       "        <td id=\"T_fc8c7cc0_411e_11ea_9909_5ce0c5973f82row5_col2\" class=\"data row5 col2\" >0.01</td> \n",
       "        <td id=\"T_fc8c7cc0_411e_11ea_9909_5ce0c5973f82row5_col3\" class=\"data row5 col3\" >0.26</td> \n",
       "        <td id=\"T_fc8c7cc0_411e_11ea_9909_5ce0c5973f82row5_col4\" class=\"data row5 col4\" >-0.05</td> \n",
       "        <td id=\"T_fc8c7cc0_411e_11ea_9909_5ce0c5973f82row5_col5\" class=\"data row5 col5\" >1</td> \n",
       "    </tr></tbody> \n",
       "</table> "
      ],
      "text/plain": [
       "<pandas.io.formats.style.Styler at 0x174bd248ac8>"
      ]
     },
     "execution_count": 358,
     "metadata": {},
     "output_type": "execute_result"
    }
   ],
   "source": [
    "corr = data.corr()\n",
    "corr = corr.round(2)\n",
    "corr.style.background_gradient()"
   ]
  },
  {
   "cell_type": "code",
   "execution_count": 359,
   "metadata": {
    "collapsed": true
   },
   "outputs": [],
   "source": [
    "#Возраст и тип животного значему для целевой функции"
   ]
  },
  {
   "cell_type": "code",
   "execution_count": null,
   "metadata": {
    "collapsed": true
   },
   "outputs": [],
   "source": []
  },
  {
   "cell_type": "code",
   "execution_count": null,
   "metadata": {
    "collapsed": true
   },
   "outputs": [],
   "source": [
    "#но сначала пойдем в лоб =)"
   ]
  },
  {
   "cell_type": "code",
   "execution_count": 356,
   "metadata": {
    "scrolled": true
   },
   "outputs": [
    {
     "data": {
      "text/plain": [
       "count    78157.000000\n",
       "mean         1.204908\n",
       "std          1.153711\n",
       "min          0.000000\n",
       "25%          0.000000\n",
       "50%          1.000000\n",
       "75%          2.000000\n",
       "max          8.000000\n",
       "Name: outcome, dtype: float64"
      ]
     },
     "execution_count": 356,
     "metadata": {},
     "output_type": "execute_result"
    }
   ],
   "source": [
    "data.outcome.describe()"
   ]
  },
  {
   "cell_type": "code",
   "execution_count": 355,
   "metadata": {},
   "outputs": [
    {
     "name": "stdout",
     "output_type": "stream",
     "text": [
      "Weights: [[ 3.54073076e-01 -1.73635942e-05 -2.80837586e-05  9.31430689e-02\n",
      "  -6.99915162e-02]]\n",
      "Bias: [0.48745687]\n",
      "Error: 0.8044187708628472\n"
     ]
    }
   ],
   "source": [
    "from sklearn.metrics import mean_absolute_error\n",
    "\n",
    "X = data[['a_type', 'breed_type', 'color_type', 'age', 'sex_type']]\n",
    "y = data[['outcome']]\n",
    "reg = LinearRegression().fit(X, y)\n",
    "print('Weights: {}'.format(reg.coef_))\n",
    "print('Bias: {}'.format(reg.intercept_))\n",
    "\n",
    "pred_values = reg.predict(X)\n",
    "print('Error: {}'.format(mean_absolute_error(pred_values, y)))"
   ]
  },
  {
   "cell_type": "code",
   "execution_count": 357,
   "metadata": {
    "collapsed": true
   },
   "outputs": [],
   "source": [
    "#ошибка 0.8, при среднем 1.2 - это прям очень больно."
   ]
  },
  {
   "cell_type": "code",
   "execution_count": 360,
   "metadata": {
    "collapsed": true
   },
   "outputs": [],
   "source": [
    "#прогоним только значемые признаки"
   ]
  },
  {
   "cell_type": "code",
   "execution_count": 363,
   "metadata": {
    "scrolled": false
   },
   "outputs": [
    {
     "name": "stdout",
     "output_type": "stream",
     "text": [
      "Weights: [[0.34016292 0.09504736]]\n",
      "Bias: [0.38266691]\n",
      "Error: 0.8085394991235372\n"
     ]
    }
   ],
   "source": [
    "X = data[['a_type', 'age']]\n",
    "y = data[['outcome']]\n",
    "reg = LinearRegression().fit(X, y)\n",
    "print('Weights: {}'.format(reg.coef_))\n",
    "print('Bias: {}'.format(reg.intercept_))\n",
    "\n",
    "pred_values = reg.predict(X)\n",
    "print('Error: {}'.format(mean_absolute_error(pred_values, y)))"
   ]
  },
  {
   "cell_type": "code",
   "execution_count": 364,
   "metadata": {
    "collapsed": true
   },
   "outputs": [],
   "source": [
    "#Стало даже хуже..."
   ]
  },
  {
   "cell_type": "code",
   "execution_count": 366,
   "metadata": {
    "collapsed": true
   },
   "outputs": [],
   "source": [
    "#посмотрим распределение по сушественным признакам"
   ]
  },
  {
   "cell_type": "code",
   "execution_count": 365,
   "metadata": {
    "scrolled": true
   },
   "outputs": [
    {
     "data": {
      "text/plain": [
       "<seaborn.axisgrid.PairGrid at 0x174bd299208>"
      ]
     },
     "execution_count": 365,
     "metadata": {},
     "output_type": "execute_result"
    },
    {
     "data": {
      "image/png": "[encoded data removed]",
      "text/plain": [
       "<matplotlib.figure.Figure at 0x174bd299278>"
      ]
     },
     "metadata": {},
     "output_type": "display_data"
    }
   ],
   "source": [
    "sns.pairplot(data[['a_type', 'age','outcome']])"
   ]
  },
  {
   "cell_type": "code",
   "execution_count": 367,
   "metadata": {
    "scrolled": true
   },
   "outputs": [
    {
     "data": {
      "text/plain": [
       "<matplotlib.axes._subplots.AxesSubplot at 0x174befd2940>"
      ]
     },
     "execution_count": 367,
     "metadata": {},
     "output_type": "execute_result"
    },
    {
     "data": {
      "image/png": "[encoded data removed]",
      "text/plain": [
       "<matplotlib.figure.Figure at 0x174befcfd68>"
      ]
     },
     "metadata": {},
     "output_type": "display_data"
    }
   ],
   "source": [
    "data.outcome.hist()"
   ]
  },
  {
   "cell_type": "code",
   "execution_count": 368,
   "metadata": {
    "collapsed": true
   },
   "outputs": [],
   "source": [
    "#Свыше 3 это вообще вырасы. Посмотрим сколько их"
   ]
  },
  {
   "cell_type": "code",
   "execution_count": 370,
   "metadata": {},
   "outputs": [
    {
     "data": {
      "text/html": [
       "<div>\n",
       "<style>\n",
       "    .dataframe thead tr:only-child th {\n",
       "        text-align: right;\n",
       "    }\n",
       "\n",
       "    .dataframe thead th {\n",
       "        text-align: left;\n",
       "    }\n",
       "\n",
       "    .dataframe tbody tr th {\n",
       "        vertical-align: top;\n",
       "    }\n",
       "</style>\n",
       "<table border=\"1\" class=\"dataframe\">\n",
       "  <thead>\n",
       "    <tr style=\"text-align: right;\">\n",
       "      <th></th>\n",
       "      <th>a_type</th>\n",
       "      <th>breed_type</th>\n",
       "      <th>color_type</th>\n",
       "      <th>age</th>\n",
       "      <th>sex_type</th>\n",
       "      <th>outcome</th>\n",
       "    </tr>\n",
       "  </thead>\n",
       "  <tbody>\n",
       "    <tr>\n",
       "      <th>38</th>\n",
       "      <td>1</td>\n",
       "      <td>8</td>\n",
       "      <td>0</td>\n",
       "      <td>3.093151</td>\n",
       "      <td>2</td>\n",
       "      <td>4</td>\n",
       "    </tr>\n",
       "    <tr>\n",
       "      <th>273</th>\n",
       "      <td>1</td>\n",
       "      <td>0</td>\n",
       "      <td>21</td>\n",
       "      <td>0.098630</td>\n",
       "      <td>4</td>\n",
       "      <td>4</td>\n",
       "    </tr>\n",
       "    <tr>\n",
       "      <th>423</th>\n",
       "      <td>1</td>\n",
       "      <td>0</td>\n",
       "      <td>47</td>\n",
       "      <td>0.095890</td>\n",
       "      <td>0</td>\n",
       "      <td>4</td>\n",
       "    </tr>\n",
       "    <tr>\n",
       "      <th>433</th>\n",
       "      <td>5</td>\n",
       "      <td>4</td>\n",
       "      <td>4</td>\n",
       "      <td>0.501370</td>\n",
       "      <td>3</td>\n",
       "      <td>5</td>\n",
       "    </tr>\n",
       "    <tr>\n",
       "      <th>554</th>\n",
       "      <td>1</td>\n",
       "      <td>0</td>\n",
       "      <td>9</td>\n",
       "      <td>3.010959</td>\n",
       "      <td>0</td>\n",
       "      <td>4</td>\n",
       "    </tr>\n",
       "    <tr>\n",
       "      <th>596</th>\n",
       "      <td>5</td>\n",
       "      <td>4</td>\n",
       "      <td>4</td>\n",
       "      <td>0.509589</td>\n",
       "      <td>3</td>\n",
       "      <td>5</td>\n",
       "    </tr>\n",
       "    <tr>\n",
       "      <th>599</th>\n",
       "      <td>1</td>\n",
       "      <td>0</td>\n",
       "      <td>12</td>\n",
       "      <td>0.167123</td>\n",
       "      <td>0</td>\n",
       "      <td>4</td>\n",
       "    </tr>\n",
       "    <tr>\n",
       "      <th>648</th>\n",
       "      <td>1</td>\n",
       "      <td>0</td>\n",
       "      <td>2</td>\n",
       "      <td>0.128767</td>\n",
       "      <td>4</td>\n",
       "      <td>4</td>\n",
       "    </tr>\n",
       "    <tr>\n",
       "      <th>676</th>\n",
       "      <td>5</td>\n",
       "      <td>33</td>\n",
       "      <td>10</td>\n",
       "      <td>2.005479</td>\n",
       "      <td>3</td>\n",
       "      <td>6</td>\n",
       "    </tr>\n",
       "    <tr>\n",
       "      <th>715</th>\n",
       "      <td>2</td>\n",
       "      <td>53</td>\n",
       "      <td>24</td>\n",
       "      <td>0.071233</td>\n",
       "      <td>0</td>\n",
       "      <td>4</td>\n",
       "    </tr>\n",
       "    <tr>\n",
       "      <th>753</th>\n",
       "      <td>5</td>\n",
       "      <td>4</td>\n",
       "      <td>4</td>\n",
       "      <td>0.506849</td>\n",
       "      <td>3</td>\n",
       "      <td>5</td>\n",
       "    </tr>\n",
       "    <tr>\n",
       "      <th>820</th>\n",
       "      <td>5</td>\n",
       "      <td>20</td>\n",
       "      <td>33</td>\n",
       "      <td>0.087671</td>\n",
       "      <td>3</td>\n",
       "      <td>5</td>\n",
       "    </tr>\n",
       "    <tr>\n",
       "      <th>843</th>\n",
       "      <td>1</td>\n",
       "      <td>0</td>\n",
       "      <td>25</td>\n",
       "      <td>0.178082</td>\n",
       "      <td>4</td>\n",
       "      <td>4</td>\n",
       "    </tr>\n",
       "    <tr>\n",
       "      <th>1022</th>\n",
       "      <td>1</td>\n",
       "      <td>0</td>\n",
       "      <td>9</td>\n",
       "      <td>0.268493</td>\n",
       "      <td>4</td>\n",
       "      <td>4</td>\n",
       "    </tr>\n",
       "    <tr>\n",
       "      <th>1042</th>\n",
       "      <td>1</td>\n",
       "      <td>0</td>\n",
       "      <td>10</td>\n",
       "      <td>0.115068</td>\n",
       "      <td>0</td>\n",
       "      <td>4</td>\n",
       "    </tr>\n",
       "    <tr>\n",
       "      <th>1045</th>\n",
       "      <td>5</td>\n",
       "      <td>20</td>\n",
       "      <td>4</td>\n",
       "      <td>3.002740</td>\n",
       "      <td>3</td>\n",
       "      <td>4</td>\n",
       "    </tr>\n",
       "    <tr>\n",
       "      <th>1152</th>\n",
       "      <td>1</td>\n",
       "      <td>0</td>\n",
       "      <td>60</td>\n",
       "      <td>1.019178</td>\n",
       "      <td>4</td>\n",
       "      <td>4</td>\n",
       "    </tr>\n",
       "    <tr>\n",
       "      <th>1160</th>\n",
       "      <td>5</td>\n",
       "      <td>4</td>\n",
       "      <td>40</td>\n",
       "      <td>0.498630</td>\n",
       "      <td>3</td>\n",
       "      <td>5</td>\n",
       "    </tr>\n",
       "    <tr>\n",
       "      <th>1355</th>\n",
       "      <td>5</td>\n",
       "      <td>4</td>\n",
       "      <td>4</td>\n",
       "      <td>1.090411</td>\n",
       "      <td>3</td>\n",
       "      <td>5</td>\n",
       "    </tr>\n",
       "    <tr>\n",
       "      <th>1372</th>\n",
       "      <td>5</td>\n",
       "      <td>33</td>\n",
       "      <td>4</td>\n",
       "      <td>0.498630</td>\n",
       "      <td>3</td>\n",
       "      <td>5</td>\n",
       "    </tr>\n",
       "    <tr>\n",
       "      <th>1431</th>\n",
       "      <td>2</td>\n",
       "      <td>7</td>\n",
       "      <td>15</td>\n",
       "      <td>3.005479</td>\n",
       "      <td>4</td>\n",
       "      <td>4</td>\n",
       "    </tr>\n",
       "    <tr>\n",
       "      <th>1435</th>\n",
       "      <td>2</td>\n",
       "      <td>14</td>\n",
       "      <td>15</td>\n",
       "      <td>2.054795</td>\n",
       "      <td>2</td>\n",
       "      <td>4</td>\n",
       "    </tr>\n",
       "    <tr>\n",
       "      <th>1457</th>\n",
       "      <td>5</td>\n",
       "      <td>4</td>\n",
       "      <td>4</td>\n",
       "      <td>2.008219</td>\n",
       "      <td>3</td>\n",
       "      <td>4</td>\n",
       "    </tr>\n",
       "    <tr>\n",
       "      <th>1583</th>\n",
       "      <td>1</td>\n",
       "      <td>84</td>\n",
       "      <td>12</td>\n",
       "      <td>0.134247</td>\n",
       "      <td>0</td>\n",
       "      <td>4</td>\n",
       "    </tr>\n",
       "    <tr>\n",
       "      <th>1656</th>\n",
       "      <td>5</td>\n",
       "      <td>4</td>\n",
       "      <td>4</td>\n",
       "      <td>2.008219</td>\n",
       "      <td>3</td>\n",
       "      <td>4</td>\n",
       "    </tr>\n",
       "    <tr>\n",
       "      <th>1684</th>\n",
       "      <td>5</td>\n",
       "      <td>4</td>\n",
       "      <td>4</td>\n",
       "      <td>1.002740</td>\n",
       "      <td>3</td>\n",
       "      <td>5</td>\n",
       "    </tr>\n",
       "    <tr>\n",
       "      <th>1714</th>\n",
       "      <td>5</td>\n",
       "      <td>33</td>\n",
       "      <td>80</td>\n",
       "      <td>1.000000</td>\n",
       "      <td>3</td>\n",
       "      <td>4</td>\n",
       "    </tr>\n",
       "    <tr>\n",
       "      <th>1835</th>\n",
       "      <td>2</td>\n",
       "      <td>7</td>\n",
       "      <td>1</td>\n",
       "      <td>0.016438</td>\n",
       "      <td>4</td>\n",
       "      <td>4</td>\n",
       "    </tr>\n",
       "    <tr>\n",
       "      <th>1849</th>\n",
       "      <td>1</td>\n",
       "      <td>0</td>\n",
       "      <td>9</td>\n",
       "      <td>0.109589</td>\n",
       "      <td>0</td>\n",
       "      <td>4</td>\n",
       "    </tr>\n",
       "    <tr>\n",
       "      <th>1871</th>\n",
       "      <td>5</td>\n",
       "      <td>4</td>\n",
       "      <td>4</td>\n",
       "      <td>1.002740</td>\n",
       "      <td>3</td>\n",
       "      <td>5</td>\n",
       "    </tr>\n",
       "    <tr>\n",
       "      <th>...</th>\n",
       "      <td>...</td>\n",
       "      <td>...</td>\n",
       "      <td>...</td>\n",
       "      <td>...</td>\n",
       "      <td>...</td>\n",
       "      <td>...</td>\n",
       "    </tr>\n",
       "    <tr>\n",
       "      <th>76901</th>\n",
       "      <td>1</td>\n",
       "      <td>0</td>\n",
       "      <td>9</td>\n",
       "      <td>3.016438</td>\n",
       "      <td>0</td>\n",
       "      <td>5</td>\n",
       "    </tr>\n",
       "    <tr>\n",
       "      <th>76902</th>\n",
       "      <td>1</td>\n",
       "      <td>150</td>\n",
       "      <td>117</td>\n",
       "      <td>2.035616</td>\n",
       "      <td>3</td>\n",
       "      <td>5</td>\n",
       "    </tr>\n",
       "    <tr>\n",
       "      <th>76903</th>\n",
       "      <td>2</td>\n",
       "      <td>14</td>\n",
       "      <td>11</td>\n",
       "      <td>4.032877</td>\n",
       "      <td>4</td>\n",
       "      <td>5</td>\n",
       "    </tr>\n",
       "    <tr>\n",
       "      <th>76905</th>\n",
       "      <td>2</td>\n",
       "      <td>41</td>\n",
       "      <td>33</td>\n",
       "      <td>12.235616</td>\n",
       "      <td>0</td>\n",
       "      <td>5</td>\n",
       "    </tr>\n",
       "    <tr>\n",
       "      <th>76907</th>\n",
       "      <td>2</td>\n",
       "      <td>46</td>\n",
       "      <td>24</td>\n",
       "      <td>2.013699</td>\n",
       "      <td>3</td>\n",
       "      <td>5</td>\n",
       "    </tr>\n",
       "    <tr>\n",
       "      <th>76955</th>\n",
       "      <td>1</td>\n",
       "      <td>0</td>\n",
       "      <td>13</td>\n",
       "      <td>13.413699</td>\n",
       "      <td>1</td>\n",
       "      <td>4</td>\n",
       "    </tr>\n",
       "    <tr>\n",
       "      <th>77028</th>\n",
       "      <td>2</td>\n",
       "      <td>171</td>\n",
       "      <td>1</td>\n",
       "      <td>1.010959</td>\n",
       "      <td>2</td>\n",
       "      <td>8</td>\n",
       "    </tr>\n",
       "    <tr>\n",
       "      <th>77080</th>\n",
       "      <td>1</td>\n",
       "      <td>0</td>\n",
       "      <td>12</td>\n",
       "      <td>2.005479</td>\n",
       "      <td>4</td>\n",
       "      <td>4</td>\n",
       "    </tr>\n",
       "    <tr>\n",
       "      <th>77090</th>\n",
       "      <td>1</td>\n",
       "      <td>0</td>\n",
       "      <td>48</td>\n",
       "      <td>6.104110</td>\n",
       "      <td>1</td>\n",
       "      <td>8</td>\n",
       "    </tr>\n",
       "    <tr>\n",
       "      <th>77226</th>\n",
       "      <td>1</td>\n",
       "      <td>0</td>\n",
       "      <td>175</td>\n",
       "      <td>1.016438</td>\n",
       "      <td>2</td>\n",
       "      <td>8</td>\n",
       "    </tr>\n",
       "    <tr>\n",
       "      <th>77243</th>\n",
       "      <td>1</td>\n",
       "      <td>62</td>\n",
       "      <td>1</td>\n",
       "      <td>0.345205</td>\n",
       "      <td>2</td>\n",
       "      <td>8</td>\n",
       "    </tr>\n",
       "    <tr>\n",
       "      <th>77282</th>\n",
       "      <td>1</td>\n",
       "      <td>43</td>\n",
       "      <td>0</td>\n",
       "      <td>2.002740</td>\n",
       "      <td>0</td>\n",
       "      <td>4</td>\n",
       "    </tr>\n",
       "    <tr>\n",
       "      <th>77283</th>\n",
       "      <td>2</td>\n",
       "      <td>41</td>\n",
       "      <td>38</td>\n",
       "      <td>0.169863</td>\n",
       "      <td>0</td>\n",
       "      <td>4</td>\n",
       "    </tr>\n",
       "    <tr>\n",
       "      <th>77291</th>\n",
       "      <td>2</td>\n",
       "      <td>1</td>\n",
       "      <td>6</td>\n",
       "      <td>8.958904</td>\n",
       "      <td>2</td>\n",
       "      <td>8</td>\n",
       "    </tr>\n",
       "    <tr>\n",
       "      <th>77293</th>\n",
       "      <td>1</td>\n",
       "      <td>0</td>\n",
       "      <td>12</td>\n",
       "      <td>5.063014</td>\n",
       "      <td>2</td>\n",
       "      <td>8</td>\n",
       "    </tr>\n",
       "    <tr>\n",
       "      <th>77349</th>\n",
       "      <td>2</td>\n",
       "      <td>14</td>\n",
       "      <td>79</td>\n",
       "      <td>2.575342</td>\n",
       "      <td>0</td>\n",
       "      <td>8</td>\n",
       "    </tr>\n",
       "    <tr>\n",
       "      <th>77433</th>\n",
       "      <td>1</td>\n",
       "      <td>8</td>\n",
       "      <td>115</td>\n",
       "      <td>2.005479</td>\n",
       "      <td>1</td>\n",
       "      <td>8</td>\n",
       "    </tr>\n",
       "    <tr>\n",
       "      <th>77518</th>\n",
       "      <td>2</td>\n",
       "      <td>1920</td>\n",
       "      <td>3</td>\n",
       "      <td>1.019178</td>\n",
       "      <td>2</td>\n",
       "      <td>8</td>\n",
       "    </tr>\n",
       "    <tr>\n",
       "      <th>77593</th>\n",
       "      <td>2</td>\n",
       "      <td>14</td>\n",
       "      <td>74</td>\n",
       "      <td>0.087671</td>\n",
       "      <td>4</td>\n",
       "      <td>4</td>\n",
       "    </tr>\n",
       "    <tr>\n",
       "      <th>77624</th>\n",
       "      <td>2</td>\n",
       "      <td>14</td>\n",
       "      <td>9</td>\n",
       "      <td>2.052055</td>\n",
       "      <td>4</td>\n",
       "      <td>8</td>\n",
       "    </tr>\n",
       "    <tr>\n",
       "      <th>77699</th>\n",
       "      <td>2</td>\n",
       "      <td>14</td>\n",
       "      <td>1</td>\n",
       "      <td>1.013699</td>\n",
       "      <td>2</td>\n",
       "      <td>8</td>\n",
       "    </tr>\n",
       "    <tr>\n",
       "      <th>77708</th>\n",
       "      <td>2</td>\n",
       "      <td>765</td>\n",
       "      <td>9</td>\n",
       "      <td>8.019178</td>\n",
       "      <td>2</td>\n",
       "      <td>8</td>\n",
       "    </tr>\n",
       "    <tr>\n",
       "      <th>77760</th>\n",
       "      <td>1</td>\n",
       "      <td>8</td>\n",
       "      <td>12</td>\n",
       "      <td>2.602740</td>\n",
       "      <td>2</td>\n",
       "      <td>8</td>\n",
       "    </tr>\n",
       "    <tr>\n",
       "      <th>77780</th>\n",
       "      <td>1</td>\n",
       "      <td>8</td>\n",
       "      <td>9</td>\n",
       "      <td>4.019178</td>\n",
       "      <td>2</td>\n",
       "      <td>8</td>\n",
       "    </tr>\n",
       "    <tr>\n",
       "      <th>77817</th>\n",
       "      <td>1</td>\n",
       "      <td>0</td>\n",
       "      <td>202</td>\n",
       "      <td>2.682192</td>\n",
       "      <td>1</td>\n",
       "      <td>8</td>\n",
       "    </tr>\n",
       "    <tr>\n",
       "      <th>77825</th>\n",
       "      <td>2</td>\n",
       "      <td>14</td>\n",
       "      <td>9</td>\n",
       "      <td>2.476712</td>\n",
       "      <td>1</td>\n",
       "      <td>8</td>\n",
       "    </tr>\n",
       "    <tr>\n",
       "      <th>77941</th>\n",
       "      <td>5</td>\n",
       "      <td>33</td>\n",
       "      <td>80</td>\n",
       "      <td>1.000000</td>\n",
       "      <td>3</td>\n",
       "      <td>5</td>\n",
       "    </tr>\n",
       "    <tr>\n",
       "      <th>78066</th>\n",
       "      <td>1</td>\n",
       "      <td>0</td>\n",
       "      <td>21</td>\n",
       "      <td>1.013699</td>\n",
       "      <td>3</td>\n",
       "      <td>5</td>\n",
       "    </tr>\n",
       "    <tr>\n",
       "      <th>78113</th>\n",
       "      <td>2</td>\n",
       "      <td>1465</td>\n",
       "      <td>1</td>\n",
       "      <td>2.687671</td>\n",
       "      <td>2</td>\n",
       "      <td>8</td>\n",
       "    </tr>\n",
       "    <tr>\n",
       "      <th>78119</th>\n",
       "      <td>1</td>\n",
       "      <td>0</td>\n",
       "      <td>202</td>\n",
       "      <td>2.005479</td>\n",
       "      <td>3</td>\n",
       "      <td>4</td>\n",
       "    </tr>\n",
       "  </tbody>\n",
       "</table>\n",
       "<p>1195 rows × 6 columns</p>\n",
       "</div>"
      ],
      "text/plain": [
       "       a_type  breed_type  color_type        age  sex_type  outcome\n",
       "38          1           8           0   3.093151         2        4\n",
       "273         1           0          21   0.098630         4        4\n",
       "423         1           0          47   0.095890         0        4\n",
       "433         5           4           4   0.501370         3        5\n",
       "554         1           0           9   3.010959         0        4\n",
       "596         5           4           4   0.509589         3        5\n",
       "599         1           0          12   0.167123         0        4\n",
       "648         1           0           2   0.128767         4        4\n",
       "676         5          33          10   2.005479         3        6\n",
       "715         2          53          24   0.071233         0        4\n",
       "753         5           4           4   0.506849         3        5\n",
       "820         5          20          33   0.087671         3        5\n",
       "843         1           0          25   0.178082         4        4\n",
       "1022        1           0           9   0.268493         4        4\n",
       "1042        1           0          10   0.115068         0        4\n",
       "1045        5          20           4   3.002740         3        4\n",
       "1152        1           0          60   1.019178         4        4\n",
       "1160        5           4          40   0.498630         3        5\n",
       "1355        5           4           4   1.090411         3        5\n",
       "1372        5          33           4   0.498630         3        5\n",
       "1431        2           7          15   3.005479         4        4\n",
       "1435        2          14          15   2.054795         2        4\n",
       "1457        5           4           4   2.008219         3        4\n",
       "1583        1          84          12   0.134247         0        4\n",
       "1656        5           4           4   2.008219         3        4\n",
       "1684        5           4           4   1.002740         3        5\n",
       "1714        5          33          80   1.000000         3        4\n",
       "1835        2           7           1   0.016438         4        4\n",
       "1849        1           0           9   0.109589         0        4\n",
       "1871        5           4           4   1.002740         3        5\n",
       "...       ...         ...         ...        ...       ...      ...\n",
       "76901       1           0           9   3.016438         0        5\n",
       "76902       1         150         117   2.035616         3        5\n",
       "76903       2          14          11   4.032877         4        5\n",
       "76905       2          41          33  12.235616         0        5\n",
       "76907       2          46          24   2.013699         3        5\n",
       "76955       1           0          13  13.413699         1        4\n",
       "77028       2         171           1   1.010959         2        8\n",
       "77080       1           0          12   2.005479         4        4\n",
       "77090       1           0          48   6.104110         1        8\n",
       "77226       1           0         175   1.016438         2        8\n",
       "77243       1          62           1   0.345205         2        8\n",
       "77282       1          43           0   2.002740         0        4\n",
       "77283       2          41          38   0.169863         0        4\n",
       "77291       2           1           6   8.958904         2        8\n",
       "77293       1           0          12   5.063014         2        8\n",
       "77349       2          14          79   2.575342         0        8\n",
       "77433       1           8         115   2.005479         1        8\n",
       "77518       2        1920           3   1.019178         2        8\n",
       "77593       2          14          74   0.087671         4        4\n",
       "77624       2          14           9   2.052055         4        8\n",
       "77699       2          14           1   1.013699         2        8\n",
       "77708       2         765           9   8.019178         2        8\n",
       "77760       1           8          12   2.602740         2        8\n",
       "77780       1           8           9   4.019178         2        8\n",
       "77817       1           0         202   2.682192         1        8\n",
       "77825       2          14           9   2.476712         1        8\n",
       "77941       5          33          80   1.000000         3        5\n",
       "78066       1           0          21   1.013699         3        5\n",
       "78113       2        1465           1   2.687671         2        8\n",
       "78119       1           0         202   2.005479         3        4\n",
       "\n",
       "[1195 rows x 6 columns]"
      ]
     },
     "execution_count": 370,
     "metadata": {},
     "output_type": "execute_result"
    }
   ],
   "source": [
    "data[data['outcome']>3]"
   ]
  },
  {
   "cell_type": "code",
   "execution_count": 371,
   "metadata": {
    "collapsed": true
   },
   "outputs": [],
   "source": [
    "#размер позволяет их выкинуть\n"
   ]
  },
  {
   "cell_type": "code",
   "execution_count": 372,
   "metadata": {
    "collapsed": true
   },
   "outputs": [],
   "source": [
    "data = data[data['outcome']<4]"
   ]
  },
  {
   "cell_type": "code",
   "execution_count": 373,
   "metadata": {
    "scrolled": true
   },
   "outputs": [
    {
     "data": {
      "text/plain": [
       "<matplotlib.axes._subplots.AxesSubplot at 0x174bf5c5320>"
      ]
     },
     "execution_count": 373,
     "metadata": {},
     "output_type": "execute_result"
    },
    {
     "data": {
      "image/png": "[encoded data removed]",
      "text/plain": [
       "<matplotlib.figure.Figure at 0x174bf5a8b70>"
      ]
     },
     "metadata": {},
     "output_type": "display_data"
    }
   ],
   "source": [
    "data.outcome.hist()"
   ]
  },
  {
   "cell_type": "code",
   "execution_count": 375,
   "metadata": {},
   "outputs": [
    {
     "data": {
      "text/plain": [
       "{'Adoption': 1,\n",
       " 'Died': 4,\n",
       " 'Disposal': 5,\n",
       " 'Euthanasia': 2,\n",
       " 'Missing': 7,\n",
       " 'Relocate': 6,\n",
       " 'Return to Owner': 3,\n",
       " 'Rto-Adopt': 8,\n",
       " 'Transfer': 0}"
      ]
     },
     "execution_count": 375,
     "metadata": {},
     "output_type": "execute_result"
    }
   ],
   "source": [
    "#стало красивее\n",
    "dict_outcome\n",
    "#Наши целевые это 0 и 1\n",
    "#нуно будет проверить а 2 и 3 сопоставимы вооще\n",
    "#может вообще строить отдельные модели для каждого из этих вариантов, а уже потом как то выбирать из них..."
   ]
  },
  {
   "cell_type": "code",
   "execution_count": 377,
   "metadata": {},
   "outputs": [
    {
     "name": "stdout",
     "output_type": "stream",
     "text": [
      "Weights: [[0.30149885 0.09884173]]\n",
      "Bias: [0.38902485]\n",
      "Error: 0.7461430469942717\n"
     ]
    }
   ],
   "source": [
    "X = data[['a_type', 'age']]\n",
    "y = data[['outcome']]\n",
    "reg = LinearRegression().fit(X, y)\n",
    "print('Weights: {}'.format(reg.coef_))\n",
    "print('Bias: {}'.format(reg.intercept_))\n",
    "\n",
    "pred_values = reg.predict(X)\n",
    "print('Error: {}'.format(mean_absolute_error(pred_values, y)))"
   ]
  },
  {
   "cell_type": "code",
   "execution_count": 378,
   "metadata": {
    "collapsed": true
   },
   "outputs": [],
   "source": [
    "#ошибка стала лучше. Но все равно больно"
   ]
  },
  {
   "cell_type": "code",
   "execution_count": 376,
   "metadata": {
    "scrolled": true
   },
   "outputs": [
    {
     "data": {
      "text/plain": [
       "<matplotlib.axes._subplots.AxesSubplot at 0x174bff3ed30>"
      ]
     },
     "execution_count": 376,
     "metadata": {},
     "output_type": "execute_result"
    },
    {
     "data": {
      "image/png": "[encoded data removed]",
      "text/plain": [
       "<matplotlib.figure.Figure at 0x174bff3be10>"
      ]
     },
     "metadata": {},
     "output_type": "display_data"
    }
   ],
   "source": [
    "data.a_type.hist()"
   ]
  },
  {
   "cell_type": "code",
   "execution_count": 379,
   "metadata": {},
   "outputs": [
    {
     "data": {
      "text/plain": [
       "{'Bird': 3, 'Cat': 1, 'Dog': 2, 'Livestock': 4, 'Other': 5}"
      ]
     },
     "execution_count": 379,
     "metadata": {},
     "output_type": "execute_result"
    }
   ],
   "source": [
    "dict_animal"
   ]
  },
  {
   "cell_type": "code",
   "execution_count": 380,
   "metadata": {
    "collapsed": true
   },
   "outputs": [],
   "source": [
    "#тут сделаю ван хот ин кодинг. ПОсмотрим что будет тогда"
   ]
  },
  {
   "cell_type": "code",
   "execution_count": 382,
   "metadata": {},
   "outputs": [
    {
     "data": {
      "text/plain": [
       "(76962, 6)"
      ]
     },
     "execution_count": 382,
     "metadata": {},
     "output_type": "execute_result"
    }
   ],
   "source": [
    "data.shape"
   ]
  },
  {
   "cell_type": "code",
   "execution_count": 383,
   "metadata": {
    "collapsed": true
   },
   "outputs": [],
   "source": [
    "data_oh = data"
   ]
  },
  {
   "cell_type": "code",
   "execution_count": 384,
   "metadata": {
    "collapsed": true
   },
   "outputs": [],
   "source": [
    "from sklearn import preprocessing"
   ]
  },
  {
   "cell_type": "code",
   "execution_count": 385,
   "metadata": {
    "collapsed": true
   },
   "outputs": [],
   "source": [
    "a_type = data_oh['a_type'].get_values().reshape(-1, 1)"
   ]
  },
  {
   "cell_type": "code",
   "execution_count": 390,
   "metadata": {
    "collapsed": true
   },
   "outputs": [],
   "source": [
    "colums_a_type = ['Cat','Dog','Bird','Livestock','Other']"
   ]
  },
  {
   "cell_type": "code",
   "execution_count": 391,
   "metadata": {},
   "outputs": [
    {
     "data": {
      "text/plain": [
       "array([[1., 0., 0., 0., 0.],\n",
       "       [0., 1., 0., 0., 0.],\n",
       "       [0., 1., 0., 0., 0.],\n",
       "       ...,\n",
       "       [0., 0., 0., 0., 1.],\n",
       "       [0., 1., 0., 0., 0.],\n",
       "       [0., 1., 0., 0., 0.]])"
      ]
     },
     "execution_count": 391,
     "metadata": {},
     "output_type": "execute_result"
    }
   ],
   "source": [
    "# One-hot encoding\n",
    "oh_encoder = preprocessing.OneHotEncoder()\n",
    "oh_encoder.fit(a_type)\n",
    "oh_result = oh_encoder.transform(a_type).toarray()\n",
    "oh_result"
   ]
  },
  {
   "cell_type": "code",
   "execution_count": 392,
   "metadata": {
    "collapsed": true
   },
   "outputs": [],
   "source": [
    "a_type_df = pd.DataFrame(oh_result, columns=colums_a_type)\n",
    "a_type_df.index = data_oh.index"
   ]
  },
  {
   "cell_type": "code",
   "execution_count": 393,
   "metadata": {},
   "outputs": [
    {
     "data": {
      "text/html": [
       "<div>\n",
       "<style>\n",
       "    .dataframe thead tr:only-child th {\n",
       "        text-align: right;\n",
       "    }\n",
       "\n",
       "    .dataframe thead th {\n",
       "        text-align: left;\n",
       "    }\n",
       "\n",
       "    .dataframe tbody tr th {\n",
       "        vertical-align: top;\n",
       "    }\n",
       "</style>\n",
       "<table border=\"1\" class=\"dataframe\">\n",
       "  <thead>\n",
       "    <tr style=\"text-align: right;\">\n",
       "      <th></th>\n",
       "      <th>breed_type</th>\n",
       "      <th>color_type</th>\n",
       "      <th>age</th>\n",
       "      <th>sex_type</th>\n",
       "      <th>outcome</th>\n",
       "      <th>Cat</th>\n",
       "      <th>Dog</th>\n",
       "      <th>Bird</th>\n",
       "      <th>Livestock</th>\n",
       "      <th>Other</th>\n",
       "    </tr>\n",
       "  </thead>\n",
       "  <tbody>\n",
       "    <tr>\n",
       "      <th>0</th>\n",
       "      <td>0</td>\n",
       "      <td>0</td>\n",
       "      <td>0.041096</td>\n",
       "      <td>0</td>\n",
       "      <td>0</td>\n",
       "      <td>1.0</td>\n",
       "      <td>0.0</td>\n",
       "      <td>0.0</td>\n",
       "      <td>0.0</td>\n",
       "      <td>0.0</td>\n",
       "    </tr>\n",
       "    <tr>\n",
       "      <th>1</th>\n",
       "      <td>1</td>\n",
       "      <td>1</td>\n",
       "      <td>1.002740</td>\n",
       "      <td>1</td>\n",
       "      <td>0</td>\n",
       "      <td>0.0</td>\n",
       "      <td>1.0</td>\n",
       "      <td>0.0</td>\n",
       "      <td>0.0</td>\n",
       "      <td>0.0</td>\n",
       "    </tr>\n",
       "    <tr>\n",
       "      <th>2</th>\n",
       "      <td>2</td>\n",
       "      <td>2</td>\n",
       "      <td>1.175342</td>\n",
       "      <td>2</td>\n",
       "      <td>1</td>\n",
       "      <td>0.0</td>\n",
       "      <td>1.0</td>\n",
       "      <td>0.0</td>\n",
       "      <td>0.0</td>\n",
       "      <td>0.0</td>\n",
       "    </tr>\n",
       "    <tr>\n",
       "      <th>3</th>\n",
       "      <td>3</td>\n",
       "      <td>3</td>\n",
       "      <td>9.041096</td>\n",
       "      <td>2</td>\n",
       "      <td>0</td>\n",
       "      <td>0.0</td>\n",
       "      <td>1.0</td>\n",
       "      <td>0.0</td>\n",
       "      <td>0.0</td>\n",
       "      <td>0.0</td>\n",
       "    </tr>\n",
       "    <tr>\n",
       "      <th>4</th>\n",
       "      <td>4</td>\n",
       "      <td>4</td>\n",
       "      <td>0.495890</td>\n",
       "      <td>3</td>\n",
       "      <td>2</td>\n",
       "      <td>0.0</td>\n",
       "      <td>0.0</td>\n",
       "      <td>0.0</td>\n",
       "      <td>0.0</td>\n",
       "      <td>1.0</td>\n",
       "    </tr>\n",
       "  </tbody>\n",
       "</table>\n",
       "</div>"
      ],
      "text/plain": [
       "   breed_type  color_type       age  sex_type  outcome  Cat  Dog  Bird  \\\n",
       "0           0           0  0.041096         0        0  1.0  0.0   0.0   \n",
       "1           1           1  1.002740         1        0  0.0  1.0   0.0   \n",
       "2           2           2  1.175342         2        1  0.0  1.0   0.0   \n",
       "3           3           3  9.041096         2        0  0.0  1.0   0.0   \n",
       "4           4           4  0.495890         3        2  0.0  0.0   0.0   \n",
       "\n",
       "   Livestock  Other  \n",
       "0        0.0    0.0  \n",
       "1        0.0    0.0  \n",
       "2        0.0    0.0  \n",
       "3        0.0    0.0  \n",
       "4        0.0    1.0  "
      ]
     },
     "execution_count": 393,
     "metadata": {},
     "output_type": "execute_result"
    }
   ],
   "source": [
    "data_a_type = pd.concat([data_oh, a_type_df], axis=1)\n",
    "data_a_type = data_a_type.drop(['a_type'], axis=1)\n",
    "data_a_type.head(5)"
   ]
  },
  {
   "cell_type": "code",
   "execution_count": 395,
   "metadata": {
    "scrolled": true
   },
   "outputs": [
    {
     "name": "stdout",
     "output_type": "stream",
     "text": [
      "<class 'pandas.core.frame.DataFrame'>\n",
      "Int64Index: 76962 entries, 0 to 78255\n",
      "Data columns (total 10 columns):\n",
      "breed_type    76962 non-null int64\n",
      "color_type    76962 non-null int64\n",
      "age           76962 non-null float64\n",
      "sex_type      76962 non-null int64\n",
      "outcome       76962 non-null int64\n",
      "Cat           76962 non-null float64\n",
      "Dog           76962 non-null float64\n",
      "Bird          76962 non-null float64\n",
      "Livestock     76962 non-null float64\n",
      "Other         76962 non-null float64\n",
      "dtypes: float64(6), int64(4)\n",
      "memory usage: 9.0 MB\n"
     ]
    }
   ],
   "source": [
    "data_a_type.info()"
   ]
  },
  {
   "cell_type": "code",
   "execution_count": null,
   "metadata": {
    "collapsed": true
   },
   "outputs": [],
   "source": [
    "#попробуйем так."
   ]
  },
  {
   "cell_type": "code",
   "execution_count": 398,
   "metadata": {
    "scrolled": true
   },
   "outputs": [
    {
     "data": {
      "text/plain": [
       "<seaborn.axisgrid.PairGrid at 0x174be122898>"
      ]
     },
     "execution_count": 398,
     "metadata": {},
     "output_type": "execute_result"
    },
    {
     "data": {
      "image/png": "[encoded data removed]",
      "text/plain": [
       "<matplotlib.figure.Figure at 0x174be122748>"
      ]
     },
     "metadata": {},
     "output_type": "display_data"
    }
   ],
   "source": [
    "sns.pairplot(data_a_type[['Cat','Dog','Bird','Livestock','Other', 'age','outcome']])"
   ]
  },
  {
   "cell_type": "code",
   "execution_count": null,
   "metadata": {
    "collapsed": true
   },
   "outputs": [],
   "source": []
  },
  {
   "cell_type": "code",
   "execution_count": 399,
   "metadata": {},
   "outputs": [
    {
     "name": "stdout",
     "output_type": "stream",
     "text": [
      "Weights: [[-4.17004082e+10 -4.17004082e+10 -4.17004082e+10 -4.17004082e+10\n",
      "  -4.17004082e+10  8.58383179e-02]]\n",
      "Bias: [4.17004082e+10]\n",
      "Error: 0.7836212795026888\n"
     ]
    }
   ],
   "source": [
    "X = data_a_type[['Cat','Dog','Bird','Livestock','Other', 'age']]\n",
    "y = data_a_type[['outcome']]\n",
    "reg = LinearRegression().fit(X, y)\n",
    "print('Weights: {}'.format(reg.coef_))\n",
    "print('Bias: {}'.format(reg.intercept_))\n",
    "\n",
    "pred_values = reg.predict(X)\n",
    "print('Error: {}'.format(mean_absolute_error(pred_values, y)))"
   ]
  },
  {
   "cell_type": "code",
   "execution_count": 400,
   "metadata": {
    "collapsed": true
   },
   "outputs": [],
   "source": [
    "#стало даже хуже..."
   ]
  },
  {
   "cell_type": "code",
   "execution_count": 401,
   "metadata": {
    "collapsed": true
   },
   "outputs": [],
   "source": [
    "#оставим только те признаки которые хотим прогнозить. Не айс, но попробуем"
   ]
  },
  {
   "cell_type": "code",
   "execution_count": 405,
   "metadata": {
    "scrolled": true
   },
   "outputs": [
    {
     "data": {
      "text/html": [
       "<div>\n",
       "<style>\n",
       "    .dataframe thead tr:only-child th {\n",
       "        text-align: right;\n",
       "    }\n",
       "\n",
       "    .dataframe thead th {\n",
       "        text-align: left;\n",
       "    }\n",
       "\n",
       "    .dataframe tbody tr th {\n",
       "        vertical-align: top;\n",
       "    }\n",
       "</style>\n",
       "<table border=\"1\" class=\"dataframe\">\n",
       "  <thead>\n",
       "    <tr style=\"text-align: right;\">\n",
       "      <th></th>\n",
       "      <th>breed_type</th>\n",
       "      <th>color_type</th>\n",
       "      <th>age</th>\n",
       "      <th>sex_type</th>\n",
       "      <th>outcome</th>\n",
       "      <th>Cat</th>\n",
       "      <th>Dog</th>\n",
       "      <th>Bird</th>\n",
       "      <th>Livestock</th>\n",
       "      <th>Other</th>\n",
       "    </tr>\n",
       "  </thead>\n",
       "  <tbody>\n",
       "    <tr>\n",
       "      <th>count</th>\n",
       "      <td>56537.000000</td>\n",
       "      <td>56537.000000</td>\n",
       "      <td>56537.000000</td>\n",
       "      <td>56537.000000</td>\n",
       "      <td>56537.00000</td>\n",
       "      <td>56537.000000</td>\n",
       "      <td>56537.000000</td>\n",
       "      <td>56537.000000</td>\n",
       "      <td>56537.000000</td>\n",
       "      <td>56537.000000</td>\n",
       "    </tr>\n",
       "    <tr>\n",
       "      <th>mean</th>\n",
       "      <td>111.543520</td>\n",
       "      <td>31.161770</td>\n",
       "      <td>1.735847</td>\n",
       "      <td>1.715549</td>\n",
       "      <td>0.58567</td>\n",
       "      <td>0.460106</td>\n",
       "      <td>0.522614</td>\n",
       "      <td>0.003644</td>\n",
       "      <td>0.000142</td>\n",
       "      <td>0.013496</td>\n",
       "    </tr>\n",
       "    <tr>\n",
       "      <th>std</th>\n",
       "      <td>283.193051</td>\n",
       "      <td>48.984459</td>\n",
       "      <td>2.488335</td>\n",
       "      <td>1.118046</td>\n",
       "      <td>0.49261</td>\n",
       "      <td>0.498410</td>\n",
       "      <td>0.499493</td>\n",
       "      <td>0.060253</td>\n",
       "      <td>0.011895</td>\n",
       "      <td>0.115385</td>\n",
       "    </tr>\n",
       "    <tr>\n",
       "      <th>min</th>\n",
       "      <td>0.000000</td>\n",
       "      <td>0.000000</td>\n",
       "      <td>-0.336986</td>\n",
       "      <td>0.000000</td>\n",
       "      <td>0.00000</td>\n",
       "      <td>0.000000</td>\n",
       "      <td>0.000000</td>\n",
       "      <td>0.000000</td>\n",
       "      <td>0.000000</td>\n",
       "      <td>0.000000</td>\n",
       "    </tr>\n",
       "    <tr>\n",
       "      <th>25%</th>\n",
       "      <td>0.000000</td>\n",
       "      <td>9.000000</td>\n",
       "      <td>0.216438</td>\n",
       "      <td>1.000000</td>\n",
       "      <td>0.00000</td>\n",
       "      <td>0.000000</td>\n",
       "      <td>0.000000</td>\n",
       "      <td>0.000000</td>\n",
       "      <td>0.000000</td>\n",
       "      <td>0.000000</td>\n",
       "    </tr>\n",
       "    <tr>\n",
       "      <th>50%</th>\n",
       "      <td>12.000000</td>\n",
       "      <td>12.000000</td>\n",
       "      <td>0.857534</td>\n",
       "      <td>2.000000</td>\n",
       "      <td>1.00000</td>\n",
       "      <td>0.000000</td>\n",
       "      <td>1.000000</td>\n",
       "      <td>0.000000</td>\n",
       "      <td>0.000000</td>\n",
       "      <td>0.000000</td>\n",
       "    </tr>\n",
       "    <tr>\n",
       "      <th>75%</th>\n",
       "      <td>64.000000</td>\n",
       "      <td>38.000000</td>\n",
       "      <td>2.032877</td>\n",
       "      <td>2.000000</td>\n",
       "      <td>1.00000</td>\n",
       "      <td>1.000000</td>\n",
       "      <td>1.000000</td>\n",
       "      <td>0.000000</td>\n",
       "      <td>0.000000</td>\n",
       "      <td>0.000000</td>\n",
       "    </tr>\n",
       "    <tr>\n",
       "      <th>max</th>\n",
       "      <td>2127.000000</td>\n",
       "      <td>524.000000</td>\n",
       "      <td>25.032877</td>\n",
       "      <td>4.000000</td>\n",
       "      <td>1.00000</td>\n",
       "      <td>1.000000</td>\n",
       "      <td>1.000000</td>\n",
       "      <td>1.000000</td>\n",
       "      <td>1.000000</td>\n",
       "      <td>1.000000</td>\n",
       "    </tr>\n",
       "  </tbody>\n",
       "</table>\n",
       "</div>"
      ],
      "text/plain": [
       "         breed_type    color_type           age      sex_type      outcome  \\\n",
       "count  56537.000000  56537.000000  56537.000000  56537.000000  56537.00000   \n",
       "mean     111.543520     31.161770      1.735847      1.715549      0.58567   \n",
       "std      283.193051     48.984459      2.488335      1.118046      0.49261   \n",
       "min        0.000000      0.000000     -0.336986      0.000000      0.00000   \n",
       "25%        0.000000      9.000000      0.216438      1.000000      0.00000   \n",
       "50%       12.000000     12.000000      0.857534      2.000000      1.00000   \n",
       "75%       64.000000     38.000000      2.032877      2.000000      1.00000   \n",
       "max     2127.000000    524.000000     25.032877      4.000000      1.00000   \n",
       "\n",
       "                Cat           Dog          Bird     Livestock         Other  \n",
       "count  56537.000000  56537.000000  56537.000000  56537.000000  56537.000000  \n",
       "mean       0.460106      0.522614      0.003644      0.000142      0.013496  \n",
       "std        0.498410      0.499493      0.060253      0.011895      0.115385  \n",
       "min        0.000000      0.000000      0.000000      0.000000      0.000000  \n",
       "25%        0.000000      0.000000      0.000000      0.000000      0.000000  \n",
       "50%        0.000000      1.000000      0.000000      0.000000      0.000000  \n",
       "75%        1.000000      1.000000      0.000000      0.000000      0.000000  \n",
       "max        1.000000      1.000000      1.000000      1.000000      1.000000  "
      ]
     },
     "execution_count": 405,
     "metadata": {},
     "output_type": "execute_result"
    }
   ],
   "source": [
    "list_1 = [0,1]\n",
    "data_a_type = data_a_type[data_a_type.outcome.isin(list_1)]\n",
    "data_a_type.describe()"
   ]
  },
  {
   "cell_type": "code",
   "execution_count": 406,
   "metadata": {
    "scrolled": true
   },
   "outputs": [
    {
     "name": "stdout",
     "output_type": "stream",
     "text": [
      "Weights: [[-2.60345289e+10 -2.60345289e+10 -2.60345289e+10 -2.60345289e+10\n",
      "  -2.60345289e+10 -3.42941284e-03]]\n",
      "Bias: [2.60345289e+10]\n",
      "Error: 0.4654301357743282\n"
     ]
    }
   ],
   "source": [
    "X = data_a_type[['Cat','Dog','Bird','Livestock','Other', 'age']]\n",
    "y = data_a_type[['outcome']]\n",
    "reg = LinearRegression().fit(X, y)\n",
    "print('Weights: {}'.format(reg.coef_))\n",
    "print('Bias: {}'.format(reg.intercept_))\n",
    "\n",
    "pred_values = reg.predict(X)\n",
    "print('Error: {}'.format(mean_absolute_error(pred_values, y)))"
   ]
  },
  {
   "cell_type": "code",
   "execution_count": null,
   "metadata": {
    "collapsed": true
   },
   "outputs": [],
   "source": [
    "#во ошибка упала до 0.46"
   ]
  },
  {
   "cell_type": "code",
   "execution_count": null,
   "metadata": {
    "collapsed": true
   },
   "outputs": [],
   "source": [
    "#а если докинуть признаков?"
   ]
  },
  {
   "cell_type": "code",
   "execution_count": 407,
   "metadata": {},
   "outputs": [
    {
     "name": "stdout",
     "output_type": "stream",
     "text": [
      "Weights: [[ 4.92451277e-02  2.21150629e-01  8.95594056e-02 -2.09298978e-01\n",
      "  -1.50656184e-01  4.23163191e-05  7.33841073e-05 -4.87867913e-03\n",
      "  -7.69239459e-02]]\n",
      "Bias: [0.58260033]\n",
      "Error: 0.450118018601618\n"
     ]
    }
   ],
   "source": [
    "X = data_a_type[['Cat','Dog','Bird','Livestock','Other', 'breed_type', 'color_type', 'age', 'sex_type']]\n",
    "y = data_a_type[['outcome']]\n",
    "reg = LinearRegression().fit(X, y)\n",
    "print('Weights: {}'.format(reg.coef_))\n",
    "print('Bias: {}'.format(reg.intercept_))\n",
    "\n",
    "pred_values = reg.predict(X)\n",
    "print('Error: {}'.format(mean_absolute_error(pred_values, y)))"
   ]
  },
  {
   "cell_type": "code",
   "execution_count": 408,
   "metadata": {
    "collapsed": true
   },
   "outputs": [],
   "source": [
    "#немного даже улучшилась"
   ]
  },
  {
   "cell_type": "code",
   "execution_count": 409,
   "metadata": {
    "collapsed": true
   },
   "outputs": [],
   "source": [
    "#А если прогнать олиному?"
   ]
  },
  {
   "cell_type": "code",
   "execution_count": 410,
   "metadata": {},
   "outputs": [
    {
     "name": "stdout",
     "output_type": "stream",
     "text": [
      "Bias: [0.36963684]\n",
      "Error: 0.3348632590823723\n"
     ]
    }
   ],
   "source": [
    "from sklearn.preprocessing import PolynomialFeatures\n",
    "X = data_a_type[['Cat','Dog','Bird','Livestock','Other', 'breed_type', 'color_type', 'age', 'sex_type']]\n",
    "y = data_a_type[['outcome']]\n",
    "\n",
    "\n",
    "poly_reg = PolynomialFeatures(degree=2)#степень\n",
    "\n",
    "X_poly = poly_reg.fit_transform(X) #переобразовываем наши данные в поли\n",
    "\n",
    "reg = LinearRegression().fit(X_poly, y)\n",
    "#print('Weights: {}'.format(reg.coef_))\n",
    "print('Bias: {}'.format(reg.intercept_))\n",
    "\n",
    "pred_values = reg.predict(X_poly)\n",
    "print('Error: {}'.format(mean_absolute_error(pred_values, y)))"
   ]
  },
  {
   "cell_type": "code",
   "execution_count": 411,
   "metadata": {
    "collapsed": true
   },
   "outputs": [],
   "source": [
    "#Шикарно. попробуйем увеличить полиному"
   ]
  },
  {
   "cell_type": "code",
   "execution_count": 412,
   "metadata": {},
   "outputs": [
    {
     "name": "stdout",
     "output_type": "stream",
     "text": [
      "Bias: [0.24794494]\n",
      "Error: 0.291720068044351\n"
     ]
    }
   ],
   "source": [
    "from sklearn.preprocessing import PolynomialFeatures\n",
    "X = data_a_type[['Cat','Dog','Bird','Livestock','Other', 'breed_type', 'color_type', 'age', 'sex_type']]\n",
    "y = data_a_type[['outcome']]\n",
    "\n",
    "\n",
    "poly_reg = PolynomialFeatures(degree=3)#степень\n",
    "\n",
    "X_poly = poly_reg.fit_transform(X) #переобразовываем наши данные в поли\n",
    "\n",
    "reg = LinearRegression().fit(X_poly, y)\n",
    "#print('Weights: {}'.format(reg.coef_))\n",
    "print('Bias: {}'.format(reg.intercept_))\n",
    "\n",
    "pred_values = reg.predict(X_poly)\n",
    "print('Error: {}'.format(mean_absolute_error(pred_values, y)))"
   ]
  },
  {
   "cell_type": "code",
   "execution_count": 413,
   "metadata": {
    "collapsed": true
   },
   "outputs": [],
   "source": [
    "# ну еще 0.04 улучшение"
   ]
  },
  {
   "cell_type": "code",
   "execution_count": 414,
   "metadata": {},
   "outputs": [
    {
     "name": "stdout",
     "output_type": "stream",
     "text": [
      "Bias: [-0.08758647]\n",
      "Error: 0.2783568664013632\n"
     ]
    }
   ],
   "source": [
    "from sklearn.preprocessing import PolynomialFeatures\n",
    "X = data_a_type[['Cat','Dog','Bird','Livestock','Other', 'breed_type', 'color_type', 'age', 'sex_type']]\n",
    "y = data_a_type[['outcome']]\n",
    "\n",
    "\n",
    "poly_reg = PolynomialFeatures(degree=4)#степень\n",
    "\n",
    "X_poly = poly_reg.fit_transform(X) #переобразовываем наши данные в поли\n",
    "\n",
    "reg = LinearRegression().fit(X_poly, y)\n",
    "#print('Weights: {}'.format(reg.coef_))\n",
    "print('Bias: {}'.format(reg.intercept_))\n",
    "\n",
    "pred_values = reg.predict(X_poly)\n",
    "print('Error: {}'.format(mean_absolute_error(pred_values, y)))"
   ]
  },
  {
   "cell_type": "code",
   "execution_count": 415,
   "metadata": {
    "collapsed": true
   },
   "outputs": [],
   "source": [
    "# улучшение пости не дает. пока останавливаемся на полиноме =2"
   ]
  },
  {
   "cell_type": "code",
   "execution_count": 416,
   "metadata": {
    "collapsed": true
   },
   "outputs": [],
   "source": [
    "#а если центрировать и масшибировать?\n",
    "import statistics"
   ]
  },
  {
   "cell_type": "code",
   "execution_count": 427,
   "metadata": {
    "collapsed": true
   },
   "outputs": [],
   "source": [
    "data_a_type_norm = data_a_type"
   ]
  },
  {
   "cell_type": "code",
   "execution_count": 428,
   "metadata": {},
   "outputs": [
    {
     "data": {
      "text/html": [
       "<div>\n",
       "<style>\n",
       "    .dataframe thead tr:only-child th {\n",
       "        text-align: right;\n",
       "    }\n",
       "\n",
       "    .dataframe thead th {\n",
       "        text-align: left;\n",
       "    }\n",
       "\n",
       "    .dataframe tbody tr th {\n",
       "        vertical-align: top;\n",
       "    }\n",
       "</style>\n",
       "<table border=\"1\" class=\"dataframe\">\n",
       "  <thead>\n",
       "    <tr style=\"text-align: right;\">\n",
       "      <th></th>\n",
       "      <th>Cat</th>\n",
       "      <th>Dog</th>\n",
       "      <th>Bird</th>\n",
       "      <th>Livestock</th>\n",
       "      <th>Other</th>\n",
       "      <th>age</th>\n",
       "      <th>outcome</th>\n",
       "    </tr>\n",
       "  </thead>\n",
       "  <tbody>\n",
       "    <tr>\n",
       "      <th>0</th>\n",
       "      <td>0.539894</td>\n",
       "      <td>-0.522614</td>\n",
       "      <td>-0.003644</td>\n",
       "      <td>-0.000142</td>\n",
       "      <td>-0.013496</td>\n",
       "      <td>-1.694751</td>\n",
       "      <td>0</td>\n",
       "    </tr>\n",
       "    <tr>\n",
       "      <th>1</th>\n",
       "      <td>-0.460106</td>\n",
       "      <td>0.477386</td>\n",
       "      <td>-0.003644</td>\n",
       "      <td>-0.000142</td>\n",
       "      <td>-0.013496</td>\n",
       "      <td>-0.733107</td>\n",
       "      <td>0</td>\n",
       "    </tr>\n",
       "    <tr>\n",
       "      <th>2</th>\n",
       "      <td>-0.460106</td>\n",
       "      <td>0.477386</td>\n",
       "      <td>-0.003644</td>\n",
       "      <td>-0.000142</td>\n",
       "      <td>-0.013496</td>\n",
       "      <td>-0.560505</td>\n",
       "      <td>1</td>\n",
       "    </tr>\n",
       "    <tr>\n",
       "      <th>3</th>\n",
       "      <td>-0.460106</td>\n",
       "      <td>0.477386</td>\n",
       "      <td>-0.003644</td>\n",
       "      <td>-0.000142</td>\n",
       "      <td>-0.013496</td>\n",
       "      <td>7.305249</td>\n",
       "      <td>0</td>\n",
       "    </tr>\n",
       "    <tr>\n",
       "      <th>5</th>\n",
       "      <td>-0.460106</td>\n",
       "      <td>0.477386</td>\n",
       "      <td>-0.003644</td>\n",
       "      <td>-0.000142</td>\n",
       "      <td>-0.013496</td>\n",
       "      <td>-1.390642</td>\n",
       "      <td>0</td>\n",
       "    </tr>\n",
       "  </tbody>\n",
       "</table>\n",
       "</div>"
      ],
      "text/plain": [
       "        Cat       Dog      Bird  Livestock     Other       age  outcome\n",
       "0  0.539894 -0.522614 -0.003644  -0.000142 -0.013496 -1.694751        0\n",
       "1 -0.460106  0.477386 -0.003644  -0.000142 -0.013496 -0.733107        0\n",
       "2 -0.460106  0.477386 -0.003644  -0.000142 -0.013496 -0.560505        1\n",
       "3 -0.460106  0.477386 -0.003644  -0.000142 -0.013496  7.305249        0\n",
       "5 -0.460106  0.477386 -0.003644  -0.000142 -0.013496 -1.390642        0"
      ]
     },
     "execution_count": 428,
     "metadata": {},
     "output_type": "execute_result"
    }
   ],
   "source": [
    "#централизация\n",
    "data_a_type_norm.Cat = data_a_type_norm.Cat - statistics.mean(data_a_type_norm.Cat)\n",
    "data_a_type_norm.Dog = data_a_type_norm.Dog - statistics.mean(data_a_type_norm.Dog)\n",
    "data_a_type_norm.Bird = data_a_type_norm.Bird - statistics.mean(data_a_type_norm.Bird)\n",
    "data_a_type_norm.Livestock = data_a_type_norm.Livestock - statistics.mean(data_a_type_norm.Livestock)\n",
    "data_a_type_norm.Other = data_a_type_norm.Other - statistics.mean(data_a_type_norm.Other)\n",
    "#плохая затея центровать ван хот ин кодинг, но все равно проверим\n",
    "data_a_type_norm.age = data_a_type_norm.age - statistics.mean(data_a_type_norm.age)\n",
    "data_a_type_norm.outcome = data_a_type_norm.outcome - statistics.mean(data_a_type_norm.outcome)\n",
    "data_a_type_norm = data_a_type_norm[['Cat','Dog','Bird','Livestock','Other', 'age','outcome']]\n",
    "data_a_type_norm.head()"
   ]
  },
  {
   "cell_type": "code",
   "execution_count": 430,
   "metadata": {
    "scrolled": true
   },
   "outputs": [
    {
     "name": "stderr",
     "output_type": "stream",
     "text": [
      "e:\\Users\\chefranov_as\\AppData\\Local\\Continuum\\anaconda3\\lib\\site-packages\\pandas\\core\\generic.py:3110: SettingWithCopyWarning: \n",
      "A value is trying to be set on a copy of a slice from a DataFrame.\n",
      "Try using .loc[row_indexer,col_indexer] = value instead\n",
      "\n",
      "See the caveats in the documentation: http://pandas.pydata.org/pandas-docs/stable/indexing.html#indexing-view-versus-copy\n",
      "  self[name] = value\n",
      "e:\\Users\\chefranov_as\\AppData\\Local\\Continuum\\anaconda3\\lib\\site-packages\\pandas\\core\\generic.py:3110: SettingWithCopyWarning: \n",
      "A value is trying to be set on a copy of a slice from a DataFrame.\n",
      "Try using .loc[row_indexer,col_indexer] = value instead\n",
      "\n",
      "See the caveats in the documentation: http://pandas.pydata.org/pandas-docs/stable/indexing.html#indexing-view-versus-copy\n",
      "  self[name] = value\n",
      "e:\\Users\\chefranov_as\\AppData\\Local\\Continuum\\anaconda3\\lib\\site-packages\\pandas\\core\\generic.py:3110: SettingWithCopyWarning: \n",
      "A value is trying to be set on a copy of a slice from a DataFrame.\n",
      "Try using .loc[row_indexer,col_indexer] = value instead\n",
      "\n",
      "See the caveats in the documentation: http://pandas.pydata.org/pandas-docs/stable/indexing.html#indexing-view-versus-copy\n",
      "  self[name] = value\n",
      "e:\\Users\\chefranov_as\\AppData\\Local\\Continuum\\anaconda3\\lib\\site-packages\\pandas\\core\\generic.py:3110: SettingWithCopyWarning: \n",
      "A value is trying to be set on a copy of a slice from a DataFrame.\n",
      "Try using .loc[row_indexer,col_indexer] = value instead\n",
      "\n",
      "See the caveats in the documentation: http://pandas.pydata.org/pandas-docs/stable/indexing.html#indexing-view-versus-copy\n",
      "  self[name] = value\n",
      "e:\\Users\\chefranov_as\\AppData\\Local\\Continuum\\anaconda3\\lib\\site-packages\\pandas\\core\\generic.py:3110: SettingWithCopyWarning: \n",
      "A value is trying to be set on a copy of a slice from a DataFrame.\n",
      "Try using .loc[row_indexer,col_indexer] = value instead\n",
      "\n",
      "See the caveats in the documentation: http://pandas.pydata.org/pandas-docs/stable/indexing.html#indexing-view-versus-copy\n",
      "  self[name] = value\n",
      "e:\\Users\\chefranov_as\\AppData\\Local\\Continuum\\anaconda3\\lib\\site-packages\\pandas\\core\\generic.py:3110: SettingWithCopyWarning: \n",
      "A value is trying to be set on a copy of a slice from a DataFrame.\n",
      "Try using .loc[row_indexer,col_indexer] = value instead\n",
      "\n",
      "See the caveats in the documentation: http://pandas.pydata.org/pandas-docs/stable/indexing.html#indexing-view-versus-copy\n",
      "  self[name] = value\n",
      "e:\\Users\\chefranov_as\\AppData\\Local\\Continuum\\anaconda3\\lib\\site-packages\\pandas\\core\\generic.py:3110: SettingWithCopyWarning: \n",
      "A value is trying to be set on a copy of a slice from a DataFrame.\n",
      "Try using .loc[row_indexer,col_indexer] = value instead\n",
      "\n",
      "See the caveats in the documentation: http://pandas.pydata.org/pandas-docs/stable/indexing.html#indexing-view-versus-copy\n",
      "  self[name] = value\n"
     ]
    }
   ],
   "source": [
    "#масштабирование\n",
    "from sklearn import preprocessing\n",
    "min_max_scaler = preprocessing.MinMaxScaler(feature_range=(-1,1))\n",
    "\n",
    "data_a_type_norm.Cat = min_max_scaler.fit_transform(np.array(data_a_type_norm.Cat).reshape(-1, 1))\n",
    "data_a_type_norm.Dog = min_max_scaler.fit_transform(np.array(data_a_type_norm.Dog).reshape(-1, 1))\n",
    "data_a_type_norm.Bird = min_max_scaler.fit_transform(np.array(data_a_type_norm.Bird).reshape(-1, 1))\n",
    "data_a_type_norm.Livestock = min_max_scaler.fit_transform(np.array(data_a_type_norm.Livestock).reshape(-1, 1))\n",
    "data_a_type_norm.Other = min_max_scaler.fit_transform(np.array(data_a_type_norm.Other).reshape(-1, 1))\n",
    "data_a_type_norm.age = min_max_scaler.fit_transform(np.array(data_a_type_norm.age).reshape(-1, 1))\n",
    "data_a_type_norm.outcome = min_max_scaler.fit_transform(np.array(data_a_type_norm.outcome).reshape(-1, 1))\n"
   ]
  },
  {
   "cell_type": "code",
   "execution_count": 434,
   "metadata": {
    "scrolled": true
   },
   "outputs": [
    {
     "data": {
      "text/html": [
       "<div>\n",
       "<style>\n",
       "    .dataframe thead tr:only-child th {\n",
       "        text-align: right;\n",
       "    }\n",
       "\n",
       "    .dataframe thead th {\n",
       "        text-align: left;\n",
       "    }\n",
       "\n",
       "    .dataframe tbody tr th {\n",
       "        vertical-align: top;\n",
       "    }\n",
       "</style>\n",
       "<table border=\"1\" class=\"dataframe\">\n",
       "  <thead>\n",
       "    <tr style=\"text-align: right;\">\n",
       "      <th></th>\n",
       "      <th>Cat</th>\n",
       "      <th>Dog</th>\n",
       "      <th>Bird</th>\n",
       "      <th>Livestock</th>\n",
       "      <th>Other</th>\n",
       "      <th>age</th>\n",
       "      <th>outcome</th>\n",
       "    </tr>\n",
       "  </thead>\n",
       "  <tbody>\n",
       "    <tr>\n",
       "      <th>0</th>\n",
       "      <td>1.0</td>\n",
       "      <td>-1.0</td>\n",
       "      <td>-1.0</td>\n",
       "      <td>-1.0</td>\n",
       "      <td>-1.0</td>\n",
       "      <td>-0.970194</td>\n",
       "      <td>-1.0</td>\n",
       "    </tr>\n",
       "    <tr>\n",
       "      <th>1</th>\n",
       "      <td>-1.0</td>\n",
       "      <td>1.0</td>\n",
       "      <td>-1.0</td>\n",
       "      <td>-1.0</td>\n",
       "      <td>-1.0</td>\n",
       "      <td>-0.894384</td>\n",
       "      <td>-1.0</td>\n",
       "    </tr>\n",
       "    <tr>\n",
       "      <th>2</th>\n",
       "      <td>-1.0</td>\n",
       "      <td>1.0</td>\n",
       "      <td>-1.0</td>\n",
       "      <td>-1.0</td>\n",
       "      <td>-1.0</td>\n",
       "      <td>-0.880778</td>\n",
       "      <td>1.0</td>\n",
       "    </tr>\n",
       "    <tr>\n",
       "      <th>3</th>\n",
       "      <td>-1.0</td>\n",
       "      <td>1.0</td>\n",
       "      <td>-1.0</td>\n",
       "      <td>-1.0</td>\n",
       "      <td>-1.0</td>\n",
       "      <td>-0.260691</td>\n",
       "      <td>-1.0</td>\n",
       "    </tr>\n",
       "    <tr>\n",
       "      <th>5</th>\n",
       "      <td>-1.0</td>\n",
       "      <td>1.0</td>\n",
       "      <td>-1.0</td>\n",
       "      <td>-1.0</td>\n",
       "      <td>-1.0</td>\n",
       "      <td>-0.946220</td>\n",
       "      <td>-1.0</td>\n",
       "    </tr>\n",
       "  </tbody>\n",
       "</table>\n",
       "</div>"
      ],
      "text/plain": [
       "   Cat  Dog  Bird  Livestock  Other       age  outcome\n",
       "0  1.0 -1.0  -1.0       -1.0   -1.0 -0.970194     -1.0\n",
       "1 -1.0  1.0  -1.0       -1.0   -1.0 -0.894384     -1.0\n",
       "2 -1.0  1.0  -1.0       -1.0   -1.0 -0.880778      1.0\n",
       "3 -1.0  1.0  -1.0       -1.0   -1.0 -0.260691     -1.0\n",
       "5 -1.0  1.0  -1.0       -1.0   -1.0 -0.946220     -1.0"
      ]
     },
     "execution_count": 434,
     "metadata": {},
     "output_type": "execute_result"
    }
   ],
   "source": [
    "data_a_type_norm.head()"
   ]
  },
  {
   "cell_type": "code",
   "execution_count": 433,
   "metadata": {
    "collapsed": true
   },
   "outputs": [],
   "source": [
    "#прогним вторую полиному"
   ]
  },
  {
   "cell_type": "code",
   "execution_count": 435,
   "metadata": {},
   "outputs": [
    {
     "name": "stdout",
     "output_type": "stream",
     "text": [
      "Bias: [2.4236269e+11]\n",
      "Error: 0.9272018204020086\n"
     ]
    }
   ],
   "source": [
    "X = data_a_type_norm[['Cat','Dog','Bird','Livestock','Other', 'age']]\n",
    "y = data_a_type_norm[['outcome']]\n",
    "\n",
    "\n",
    "poly_reg = PolynomialFeatures(degree=2)#степень\n",
    "\n",
    "X_poly = poly_reg.fit_transform(X) #переобразовываем наши данные в поли\n",
    "\n",
    "reg = LinearRegression().fit(X_poly, y)\n",
    "#print('Weights: {}'.format(reg.coef_))\n",
    "print('Bias: {}'.format(reg.intercept_))\n",
    "\n",
    "pred_values = reg.predict(X_poly)\n",
    "print('Error: {}'.format(mean_absolute_error(pred_values, y)))"
   ]
  },
  {
   "cell_type": "code",
   "execution_count": 436,
   "metadata": {
    "collapsed": true
   },
   "outputs": [],
   "source": [
    "#Ошибка даже выросла. Отбой.\n"
   ]
  },
  {
   "cell_type": "markdown",
   "metadata": {},
   "source": [
    "#попробуем деревья решений\n",
    "#Выделим из датасета тренировочные и тестовые данные. Тренировочные данные будем использовать для обучения модели. Тестовые данные будем использовать для подсчета качества модели."
   ]
  },
  {
   "cell_type": "code",
   "execution_count": 441,
   "metadata": {
    "scrolled": true
   },
   "outputs": [
    {
     "data": {
      "text/html": [
       "<div>\n",
       "<style>\n",
       "    .dataframe thead tr:only-child th {\n",
       "        text-align: right;\n",
       "    }\n",
       "\n",
       "    .dataframe thead th {\n",
       "        text-align: left;\n",
       "    }\n",
       "\n",
       "    .dataframe tbody tr th {\n",
       "        vertical-align: top;\n",
       "    }\n",
       "</style>\n",
       "<table border=\"1\" class=\"dataframe\">\n",
       "  <thead>\n",
       "    <tr style=\"text-align: right;\">\n",
       "      <th></th>\n",
       "      <th>Cat</th>\n",
       "      <th>Dog</th>\n",
       "      <th>Bird</th>\n",
       "      <th>Livestock</th>\n",
       "      <th>Other</th>\n",
       "      <th>age</th>\n",
       "      <th>outcome</th>\n",
       "    </tr>\n",
       "  </thead>\n",
       "  <tbody>\n",
       "    <tr>\n",
       "      <th>0</th>\n",
       "      <td>1.0</td>\n",
       "      <td>-1.0</td>\n",
       "      <td>-1.0</td>\n",
       "      <td>-1.0</td>\n",
       "      <td>-1.0</td>\n",
       "      <td>-0.970194</td>\n",
       "      <td>-1.0</td>\n",
       "    </tr>\n",
       "    <tr>\n",
       "      <th>1</th>\n",
       "      <td>-1.0</td>\n",
       "      <td>1.0</td>\n",
       "      <td>-1.0</td>\n",
       "      <td>-1.0</td>\n",
       "      <td>-1.0</td>\n",
       "      <td>-0.894384</td>\n",
       "      <td>-1.0</td>\n",
       "    </tr>\n",
       "    <tr>\n",
       "      <th>2</th>\n",
       "      <td>-1.0</td>\n",
       "      <td>1.0</td>\n",
       "      <td>-1.0</td>\n",
       "      <td>-1.0</td>\n",
       "      <td>-1.0</td>\n",
       "      <td>-0.880778</td>\n",
       "      <td>1.0</td>\n",
       "    </tr>\n",
       "    <tr>\n",
       "      <th>3</th>\n",
       "      <td>-1.0</td>\n",
       "      <td>1.0</td>\n",
       "      <td>-1.0</td>\n",
       "      <td>-1.0</td>\n",
       "      <td>-1.0</td>\n",
       "      <td>-0.260691</td>\n",
       "      <td>-1.0</td>\n",
       "    </tr>\n",
       "    <tr>\n",
       "      <th>5</th>\n",
       "      <td>-1.0</td>\n",
       "      <td>1.0</td>\n",
       "      <td>-1.0</td>\n",
       "      <td>-1.0</td>\n",
       "      <td>-1.0</td>\n",
       "      <td>-0.946220</td>\n",
       "      <td>-1.0</td>\n",
       "    </tr>\n",
       "  </tbody>\n",
       "</table>\n",
       "</div>"
      ],
      "text/plain": [
       "   Cat  Dog  Bird  Livestock  Other       age  outcome\n",
       "0  1.0 -1.0  -1.0       -1.0   -1.0 -0.970194     -1.0\n",
       "1 -1.0  1.0  -1.0       -1.0   -1.0 -0.894384     -1.0\n",
       "2 -1.0  1.0  -1.0       -1.0   -1.0 -0.880778      1.0\n",
       "3 -1.0  1.0  -1.0       -1.0   -1.0 -0.260691     -1.0\n",
       "5 -1.0  1.0  -1.0       -1.0   -1.0 -0.946220     -1.0"
      ]
     },
     "execution_count": 441,
     "metadata": {},
     "output_type": "execute_result"
    }
   ],
   "source": [
    "data_a_type_norm.head()"
   ]
  },
  {
   "cell_type": "code",
   "execution_count": null,
   "metadata": {
    "collapsed": true
   },
   "outputs": [],
   "source": []
  },
  {
   "cell_type": "code",
   "execution_count": 443,
   "metadata": {
    "collapsed": true
   },
   "outputs": [],
   "source": [
    "Y = data_a_type_norm.outcome\n",
    "X = data_a_type_norm[['Cat','Dog','Bird','Livestock','Other', 'age']]"
   ]
  },
  {
   "cell_type": "code",
   "execution_count": null,
   "metadata": {
    "collapsed": true
   },
   "outputs": [],
   "source": []
  },
  {
   "cell_type": "code",
   "execution_count": 444,
   "metadata": {},
   "outputs": [],
   "source": [
    "from sklearn.model_selection import train_test_split\n",
    "X_train_22, X_test_22, y_train_22, y_test_22 = train_test_split(X, Y, test_size=0.3)"
   ]
  },
  {
   "cell_type": "code",
   "execution_count": 445,
   "metadata": {},
   "outputs": [
    {
     "name": "stderr",
     "output_type": "stream",
     "text": [
      "e:\\Users\\chefranov_as\\AppData\\Local\\Continuum\\anaconda3\\lib\\site-packages\\matplotlib\\axes\\_axes.py:545: UserWarning: No labelled objects found. Use label='...' kwarg on individual plots.\n",
      "  warnings.warn(\"No labelled objects found. \"\n"
     ]
    },
    {
     "data": {
      "image/png": "[encoded data removed]",
      "text/plain": [
       "<matplotlib.figure.Figure at 0x174c7f5d710>"
      ]
     },
     "metadata": {},
     "output_type": "display_data"
    }
   ],
   "source": [
    "from sklearn.ensemble import RandomForestClassifier\n",
    "\n",
    "# создаем модель деревья решений\n",
    "# выбираем 100 деревьев в качестве параметра\n",
    "model=RandomForestClassifier(n_estimators=100)\n",
    "\n",
    "# обучаем модель\n",
    "model.fit(X_train_22,y_train_22)\n",
    "\n",
    "headers = list(X_train_22.columns.values)\n",
    "\n",
    "feature_imp = pd.Series(model.feature_importances_,index=headers).sort_values(ascending=False)#влияние на модель\n",
    "\n",
    "f, ax = plt.subplots(figsize=(10, 10))\n",
    "sns.barplot(x=feature_imp, y=feature_imp.index)\n",
    "\n",
    "plt.xlabel('Важность атрибутов')\n",
    "plt.ylabel('Атрибуты')\n",
    "plt.title(\"Наиболее важные атрибуты\")\n",
    "plt.legend()\n",
    "plt.show()"
   ]
  },
  {
   "cell_type": "code",
   "execution_count": 447,
   "metadata": {},
   "outputs": [
    {
     "name": "stdout",
     "output_type": "stream",
     "text": [
      "              precision    recall  f1-score   support\n",
      "\n",
      "        -1.0       0.75      0.56      0.64      7040\n",
      "         1.0       0.74      0.87      0.80      9922\n",
      "\n",
      "    accuracy                           0.74     16962\n",
      "   macro avg       0.75      0.72      0.72     16962\n",
      "weighted avg       0.74      0.74      0.73     16962\n",
      "\n"
     ]
    },
    {
     "data": {
      "text/plain": [
       "0.7423063318004952"
      ]
     },
     "execution_count": 447,
     "metadata": {},
     "output_type": "execute_result"
    }
   ],
   "source": [
    "from sklearn.metrics import classification_report\n",
    "model_pred = model.predict(X_test_22)\n",
    "\n",
    "print(classification_report(y_test_22, model_pred))\n",
    "\n",
    "model.score(X_test_22, y_test_22)"
   ]
  },
  {
   "cell_type": "code",
   "execution_count": 448,
   "metadata": {
    "collapsed": true
   },
   "outputs": [],
   "source": [
    "#В общем как то так.\n",
    "#понимаю что по хорошему нужно все прогнать занова через оченку на тесте и т.д.\n",
    "#но реально тут по факту это классификационный дата сет и тут дерево решений по факту лучшее решение и верное \n",
    "#PCA тоже можно прогнать и посмотреть как ляжет, я тут многое отрубил. PCA может быт учел к примеру пароды, цвета животных и т.д. \n",
    "#Суть я показал как бы я решал это с первого подхода."
   ]
  },
  {
   "cell_type": "code",
   "execution_count": null,
   "metadata": {
    "collapsed": true
   },
   "outputs": [],
   "source": []
  }
 ],
 "metadata": {
  "kernelspec": {
   "display_name": "Python 3",
   "language": "python",
   "name": "python3"
  },
  "language_info": {
   "codemirror_mode": {
    "name": "ipython",
    "version": 3
   },
   "file_extension": ".py",
   "mimetype": "text/x-python",
   "name": "python",
   "nbconvert_exporter": "python",
   "pygments_lexer": "ipython3",
   "version": "3.6.2"
  }
 },
 "nbformat": 4,
 "nbformat_minor": 2
}
