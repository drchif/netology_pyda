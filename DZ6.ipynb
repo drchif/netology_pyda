{
 "cells": [
  {
   "cell_type": "markdown",
   "metadata": {},
   "source": [
    "# Домашнее задание к лекции \"Регулярные выражения\"\n",
    "Для зачета необходимо выполнить 4 задания.  \n",
    "Для зачета с отличием – все."
   ]
  },
  {
   "cell_type": "markdown",
   "metadata": {},
   "source": [
    "## Задание 1"
   ]
  },
  {
   "cell_type": "markdown",
   "metadata": {},
   "source": [
    "Напишите функцию, которая принимает на вход строку и проверяет является ли она валидным транспортным номером. Если да, то функция должна возвращать отдельно номер и регион.\n",
    "ТОлько российские буквы = не вся кирилица, а только котрая пересекаяется с латиницей.\n",
    ". Таких букв только 12 — А, В, Е, К, М, Н, О, Р, С, Т, У, Х. \n",
    "!Функция!"
   ]
  },
  {
   "cell_type": "code",
   "execution_count": 125,
   "metadata": {
    "collapsed": true
   },
   "outputs": [],
   "source": [
    "import re"
   ]
  },
  {
   "cell_type": "code",
   "execution_count": 383,
   "metadata": {},
   "outputs": [
    {
     "data": {
      "text/plain": [
       "[('К234МР', '12')]"
      ]
     },
     "execution_count": 383,
     "metadata": {},
     "output_type": "execute_result"
    }
   ],
   "source": [
    "gos_number = 'К234МР12'\n",
    "def valid_num(number):\n",
    "    regex_gos_num9 = '[\\А,В,Е,К,М,Н,О,Р,С,Т,У,Х]{1}[\\d]{3}[\\А,В,Е,К,М,Н,О,Р,С,Т,У,Х]{2}[\\d]{3}'\n",
    "    regex_gos_num8 = '[\\А,В,Е,К,М,Н,О,Р,С,Т,У,Х]{1}[\\d]{3}[\\А,В,Е,К,М,Н,О,Р,С,Т,У,Х]{2}[\\d]{2}'\n",
    "    if len(gos_number)==9 and re.match(regex_gos_num9, number):\n",
    "        return re.findall('(\\w{6})(\\w{3})', number)\n",
    "    elif len(gos_number)==8 and re.match(regex_gos_num8, number):\n",
    "        return re.findall('(\\w{6})(\\w{2})', number)\n",
    "    else:\n",
    "        return 'не валидный'\n",
    "#АВЕКМНОРСТУХ\n",
    "valid_num(gos_number)"
   ]
  },
  {
   "cell_type": "code",
   "execution_count": null,
   "metadata": {
    "collapsed": true
   },
   "outputs": [],
   "source": []
  },
  {
   "cell_type": "markdown",
   "metadata": {},
   "source": [
    "## Задание 2"
   ]
  },
  {
   "cell_type": "markdown",
   "metadata": {},
   "source": [
    "Напишите функцию, которая проверяет e-mail адрес на валидность по стандарту RFC822: http://www.w3.org/Protocols/rfc822/. Для этого постарайтесь написать (в крайнем случае найти) самый полный шаблон для проверки e-mail адресов через регулярное выражение. Разберитесь и напишите примеры, какие ваш шаблон может не охватить."
   ]
  },
  {
   "cell_type": "code",
   "execution_count": 386,
   "metadata": {},
   "outputs": [
    {
     "name": "stdout",
     "output_type": "stream",
     "text": [
      "Valid Email dr-chif@g.g-r\n",
      "Valid Email Андрей@тратата.РФ\n"
     ]
    }
   ],
   "source": [
    "def check1(email):  \n",
    "    #regex = '^\\w+([\\._+-]?\\w+)*@\\w+([\\.-_]?\\w+)*(\\.\\w{2,255})+$'\n",
    "    #добавил проверку на длину домена 1 уровня и возможности там -\n",
    "    #не до конца понял как он в итоге считает \"-\" как символ\n",
    "    #минус подхода - говорит что кирилица тоже можно. Ну хотя сейчас это уже и не минус =)\n",
    "    regex = '^\\w+([\\._+-]?\\w+)*@\\w+([\\.-_]?\\w+)*(\\.(\\w+([\\-]?\\w+)){1,255})+$'\n",
    "    if(re.search(regex,email)):  \n",
    "        print(\"Valid Email\",email)  \n",
    "    else:  \n",
    "        print(\"Invalid Email\",email)  \n",
    "check1('dr-chif@g.g-r')\n",
    "check1('Андрей@тратата.РФ')"
   ]
  },
  {
   "cell_type": "code",
   "execution_count": 387,
   "metadata": {},
   "outputs": [
    {
     "name": "stdout",
     "output_type": "stream",
     "text": [
      "Valid Email dr-chif@g.gr\n"
     ]
    }
   ],
   "source": [
    "def check2 (email):\n",
    "    reg = '(^[a-zA-Z0-9_.+-]+@[a-zA-Z0-9-]+\\.[a-zA-Z0-9-.]+$)'\n",
    "    if (re.search(reg,email)):\n",
    "        print(\"Valid Email\",email)  \n",
    "    else:  \n",
    "        print(\"Invalid Email\",email)  \n",
    "check2('dr-chif@g.gr')    "
   ]
  },
  {
   "cell_type": "code",
   "execution_count": null,
   "metadata": {
    "collapsed": true
   },
   "outputs": [],
   "source": []
  },
  {
   "cell_type": "markdown",
   "metadata": {},
   "source": [
    "## Задание 3\n",
    "При помощи регулярных выражений напишите функцию, которая будет возвращать акроним переданного в нее текста.\n",
    "Первые закглавные буквы текста\n",
    "ФУНКЦИЯ!!"
   ]
  },
  {
   "cell_type": "code",
   "execution_count": 187,
   "metadata": {},
   "outputs": [],
   "source": [
    "line = 'вот был понедельник and monday'"
   ]
  },
  {
   "cell_type": "code",
   "execution_count": 382,
   "metadata": {},
   "outputs": [
    {
     "data": {
      "text/plain": [
       "'ВБПAM'"
      ]
     },
     "execution_count": 382,
     "metadata": {},
     "output_type": "execute_result"
    }
   ],
   "source": [
    "def text_to_acr (line):\n",
    "    #rrr = re.findall('[А-Я]+[а-я]*|[а-я]+', line)\n",
    "    rrr = re.findall('[\\w]+[\\w]*|[\\w]+', line)\n",
    "    acr = ''.join(word[0].upper() for word in rrr)\n",
    "    return acr\n",
    "text_to_acr(line)"
   ]
  },
  {
   "cell_type": "markdown",
   "metadata": {},
   "source": [
    "## Задание 4\n",
    "Напишите функцию, которая будет удалять все последовательные повторы слов из заданной строки.\n",
    "группировки\n"
   ]
  },
  {
   "cell_type": "code",
   "execution_count": 199,
   "metadata": {
    "collapsed": true
   },
   "outputs": [],
   "source": [
    "text = 'один один два один три три'"
   ]
  },
  {
   "cell_type": "code",
   "execution_count": 200,
   "metadata": {},
   "outputs": [
    {
     "data": {
      "text/plain": [
       "'один два один три'"
      ]
     },
     "execution_count": 200,
     "metadata": {},
     "output_type": "execute_result"
    }
   ],
   "source": [
    "def del_budl(line):\n",
    "    return re.sub(r'\\b(\\w+)( \\1\\b)+', r'\\1', text)\n",
    "\n",
    "del_budl(text)"
   ]
  },
  {
   "cell_type": "markdown",
   "metadata": {},
   "source": [
    "## Задание 5\n",
    "Напишите функцию, которая будет проверять номер сотового телефона на валидность, если он валиден, то переводить его в формат:   \n",
    "+7(xxx)-xxx-xx-xx  \n",
    "Постарайтесь предусмотреть как можно больше адекватных форматов изначального ввода номера.\n",
    "Примеры правильных и неправильных форматов:\n",
    "- +1 555 555-55-55;\n",
    "- 5555555555;\n",
    "- 555555555;\n",
    "- 8(555)555-55-55;\n",
    "- +7 555 555 55 55;\n",
    "- 7(555) 555-55-55;\n",
    "- +7 555+555+55+55."
   ]
  },
  {
   "cell_type": "code",
   "execution_count": 424,
   "metadata": {},
   "outputs": [],
   "source": [
    "text = '+7 955 555-55-55;\\\n",
    "955555555;\\\n",
    "8(955)555-55-55;\\\n",
    "+7 955 555 55 55;\\\n",
    "7(955) 555-55-55;\\\n",
    "+7 955+555+55+55;\\\n",
    "9187771123'"
   ]
  },
  {
   "cell_type": "code",
   "execution_count": 425,
   "metadata": {
    "collapsed": true
   },
   "outputs": [],
   "source": [
    "pattern = '^((8|\\+7|\\7)[\\- ]?)'\n",
    "pattern2 = '^((8|\\+7)[\\- ]?)?(\\(?\\d{3}\\)?[\\- ]?)?[\\d\\- ]{7,10}$'\n",
    "pattern3 = '^(\\s*)?(\\+)?([- _():=+]?\\d[- _():=+]?){10,14}(\\s*)?$'\n",
    "pattern4 = '^(\\s*)?'"
   ]
  },
  {
   "cell_type": "code",
   "execution_count": 433,
   "metadata": {},
   "outputs": [],
   "source": [
    "re.search(pattern3,text)"
   ]
  },
  {
   "cell_type": "code",
   "execution_count": null,
   "metadata": {
    "collapsed": true
   },
   "outputs": [],
   "source": []
  }
 ],
 "metadata": {
  "kernelspec": {
   "display_name": "Python 3",
   "language": "python",
   "name": "python3"
  },
  "language_info": {
   "codemirror_mode": {
    "name": "ipython",
    "version": 3
   },
   "file_extension": ".py",
   "mimetype": "text/x-python",
   "name": "python",
   "nbconvert_exporter": "python",
   "pygments_lexer": "ipython3",
   "version": "3.6.2"
  }
 },
 "nbformat": 4,
 "nbformat_minor": 2
}
