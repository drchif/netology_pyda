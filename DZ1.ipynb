{
 "cells": [
  {
   "cell_type": "code",
   "execution_count": 1,
   "metadata": {},
   "outputs": [
    {
     "data": {
      "text/plain": [
       "True"
      ]
     },
     "execution_count": 1,
     "metadata": {},
     "output_type": "execute_result"
    }
   ],
   "source": [
    "long_phrase = 'Насколько проще было бы писать программы, если бы не заказчики'\n",
    "short_phrase = '640Кб должно хватить для любых задач. Билл Гейтс (по легенде)'\n",
    "\n",
    "len(long_phrase)>len(short_phrase)"
   ]
  },
  {
   "cell_type": "code",
   "execution_count": null,
   "metadata": {
    "collapsed": true
   },
   "outputs": [],
   "source": [
    "file = 302984\n",
    "\n",
    "Mb=round(file/1024,2)\n",
    "print('Объем файла равен',Mb,'Mb')\n"
   ]
  },
  {
   "cell_type": "code",
   "execution_count": 14,
   "metadata": {},
   "outputs": [
    {
     "name": "stdout",
     "output_type": "stream",
     "text": [
      "Введите месяцноябрь\n",
      "Введите число20\n",
      "Скорпион\n"
     ]
    }
   ],
   "source": [
    "month=input('Введите месяц')\n",
    "day = int(input('Введите число'))\n",
    "if (month == 'март' and day >=21 and day <=31) or (month == 'апрель' and day >=1 and day <=20):\n",
    "    print(\"Овен\")\n",
    "elif (month == 'апрель' and day >=21 and day <=30) or (month == 'май' and day >=1 and day <=21):\n",
    "    print(\"Телец\")\n",
    "elif (month == 'май' and day >=22 and day <=31) or (month == 'июнь' and day >=1 and day <=21):\n",
    "    print(\"Близнецы\")\n",
    "elif (month == 'июнь' and day >=22 and day <=30) or (month == 'июль' and day >=1 and day <=22):\n",
    "    print(\"Рак\")\n",
    "elif (month == 'июль' and day >=23 and day <=31) or (month == 'август' and day >=1 and day <=21):\n",
    "    print(\"Лев\")\n",
    "elif (month == 'август' and day >=22 and day <=31) or (month == 'сентябрь' and day >=1 and day <=23):\n",
    "    print(\"Дева\")\n",
    "elif (month == 'сентябрь' and day >=24 and day <=30) or (month == 'октябрь' and day >=1 and day <=23):\n",
    "    print(\"Весы\")\n",
    "elif (month == 'октябрь' and day >=24 and day <=31) or (month == 'ноябрь' and day >=1 and day <=22):\n",
    "    print(\"Скорпион\")\n",
    "elif (month == 'ноябрь' and day >=23 and day <=30) or (month == 'декабрь' and day >=1 and day <=22):\n",
    "    print(\"Стрелец\")\n",
    "elif (month == 'декабрь' and day >=23 and day <=31) or (month == 'январь' and day >=1 and day <=20):\n",
    "    print(\"Козерог\")\n",
    "elif (month == 'январь' and day >=21 and day <=31) or (month == 'февраль' and day >=1 and day <=19):\n",
    "    print(\"Водолей\")\n",
    "elif (month == 'февраль' and day >=20 and day <=29) or (month == 'март' and day >=1 and day <=20):\n",
    "    print(\"Рыбы\")\n",
    "else:\n",
    "    print(\"!!\")\n"
   ]
  },
  {
   "cell_type": "code",
   "execution_count": 15,
   "metadata": {},
   "outputs": [
    {
     "name": "stdout",
     "output_type": "stream",
     "text": [
      "Введите заработанную плату в месяц10000\n",
      "Введите сколько процентов уходит на ипотеку10\n",
      "Введите сколько процентов уходит на жизнь20\n",
      "Введите количество премий за год2\n",
      "На ипотеку было потрачено: 12000.0 рублей\n",
      "Было накоплено: 94000.0 рублей\n"
     ]
    }
   ],
   "source": [
    "cash = int(input(\"Введите заработанную плату в месяц\"))\n",
    "ip_perc = int(input(\"Введите сколько процентов уходит на ипотеку\"))\n",
    "life_perc = int(input(\"Введите сколько процентов уходит на жизнь\"))\n",
    "prem = int(input(\"Введите количество премий за год\"))\n",
    "\n",
    "ip_money = cash * 12 * ip_perc/100\n",
    "free_money = cash * 12 * (1-(ip_perc+life_perc)/100) + cash * prem/2\n",
    "\n",
    "print(\"На ипотеку было потрачено:\",ip_money,\"рублей\")\n",
    "print(\"Было накоплено:\",free_money,\"рублей\")\n"
   ]
  }
 ],
 "metadata": {
  "kernelspec": {
   "display_name": "Python 3",
   "language": "python",
   "name": "python3"
  },
  "language_info": {
   "codemirror_mode": {
    "name": "ipython",
    "version": 3
   },
   "file_extension": ".py",
   "mimetype": "text/x-python",
   "name": "python",
   "nbconvert_exporter": "python",
   "pygments_lexer": "ipython3",
   "version": "3.6.2"
  }
 },
 "nbformat": 4,
 "nbformat_minor": 2
}
