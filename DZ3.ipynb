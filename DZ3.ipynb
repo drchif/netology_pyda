{
 "cells": [
  {
   "cell_type": "markdown",
   "metadata": {},
   "source": [
    "Дана статистика рекламных каналов по объемам продаж. Напишите скрипт, который возвращает название канала с максимальным объемом.\n",
    "Т. е. в данном примере скрипт должен возвращать “yandex”.\n",
    "stats = {“facebook”: 55, “yandex”: 120, “vk”: 115, “google”: 99, “email”: 42, “ok”: 98}"
   ]
  },
  {
   "cell_type": "code",
   "execution_count": 66,
   "metadata": {},
   "outputs": [],
   "source": [
    "stats = {'facebook': 55, 'yandex': 120, 'vk': 115, 'google': 99, 'email': 42, 'ok': 98}"
   ]
  },
  {
   "cell_type": "code",
   "execution_count": 71,
   "metadata": {},
   "outputs": [],
   "source": [
    "max_key = max(stats.items(), key=lambda x: x[1])"
   ]
  },
  {
   "cell_type": "code",
   "execution_count": 72,
   "metadata": {},
   "outputs": [
    {
     "data": {
      "text/plain": [
       "'yandex'"
      ]
     },
     "execution_count": 72,
     "metadata": {},
     "output_type": "execute_result"
    }
   ],
   "source": [
    "max_key[0]"
   ]
  },
  {
   "cell_type": "markdown",
   "metadata": {},
   "source": [
    "Задание 2\n",
    "Дан список описаний товаров descriptions:\n",
    "descriptions = [\n",
    "[“браслет”, “xiaomi”, “mi”, “band”, “2.”, “умный”, “браслет”, “xiaomi”, “mi”, “лидер”, “в”, “линейке”, “xiaomi.”, “фитнес”, “браслет”, “для”, “android”, “4.4,”, “ios”, “7,”, “экран”, “oled.”, “лучший”, “выбор”, “xiaomi”],\n",
    "[“браслет”, “huawei”, “honor”, “band”, “3.”, “фитнес”, “браслет”, “влагозащищенный”, “сенсорный”, “экран”, “android,”, “ios”, “мониторинг”, “сна”],\n",
    "[“браслет”, “samsung”, “gear”, “fit2”, “pro.”, “влагозащищенный”, “сенсорный”, “amoled-экран”, “мониторинг”, “сна,”, “калорий,”, “новинка”, “samsung”],\n",
    "]\n",
    "\n",
    "Есть подозрение, что некоторые описания содержат много дубликатов одних и тех же слов. Т. е. могут быть переоптимизированными. Для каждого описания товара выведите на экран разницу между количеством уникальных слов и общим количеством слов в этом описании."
   ]
  },
  {
   "cell_type": "code",
   "execution_count": 105,
   "metadata": {
    "collapsed": true
   },
   "outputs": [],
   "source": [
    "descriptions = [ \n",
    "    ['браслет', 'xiaomi', 'mi', 'band', '2.', 'умный', 'браслет', 'xiaomi', 'mi', 'лидер', 'в', 'линейке', 'xiaomi.', 'фитнес', 'браслет', 'для', 'android', '4.4,', 'ios', '7,', 'экран', 'oled.', 'лучший', 'выбор', 'xiaomi'],\n",
    "    ['браслет', 'huawei', 'honor', 'band', '3.', 'фитнес', 'браслет', 'влагозащищенный', 'сенсорный', 'экран', 'android,', 'ios', 'мониторинг', 'сна'],\n",
    "    ['браслет', 'samsung', 'gear', 'fit2', 'pro.', 'влагозащищенный', 'сенсорный', 'amoled-экран', 'мониторинг', 'сна,', 'калорий,', 'новинка', 'samsung'], \n",
    "]"
   ]
  },
  {
   "cell_type": "code",
   "execution_count": 170,
   "metadata": {},
   "outputs": [
    {
     "name": "stdout",
     "output_type": "stream",
     "text": [
      "[-5, -1, -1]\n"
     ]
    }
   ],
   "source": [
    "r = []\n",
    "for x in descriptions:\n",
    "        r.append(len(set(x))-len(x))\n",
    "print(r)"
   ]
  },
  {
   "cell_type": "markdown",
   "metadata": {},
   "source": [
    "Задание 3\n",
    "В примере поиска с помощью кортежей мы использовали 3 столбца. Напишите функцию, которая формирует словарь для поиска по n столбцам."
   ]
  },
  {
   "cell_type": "code",
   "execution_count": 184,
   "metadata": {
    "collapsed": true
   },
   "outputs": [],
   "source": [
    "def f_find_n(f, line_to_find):#Говорим где искать, что искать\n",
    "    \n",
    "    n = len(line_to_find) # Считаем кол-во элементов по которым искать\n",
    "    stats_dict = {} #Создаем словарь по которому будем искать\n",
    "    \n",
    "    for line in f:\n",
    "        line = line.strip().split(',') # разделяем слоку по запятой\n",
    "        stats_dict[tuple(line[:n])] = line[n:len(line)] # наполняем словарь в качестве ключа используем кортеж с указаной длиной и указываем в качестве значений оставшиеся элементы строки\n",
    "        \n",
    "    cost = [line_to_find,stats_dict[line_to_find]] #ищем в сформированном словаре что ъотим найти по ключу и выводим всю строку включая ключ \n",
    "    \n",
    "    return cost"
   ]
  },
  {
   "cell_type": "code",
   "execution_count": 194,
   "metadata": {},
   "outputs": [
    {
     "name": "stdout",
     "output_type": "stream",
     "text": [
      "[('20', '20552', '3'), ['39156']]\n"
     ]
    }
   ],
   "source": [
    "line_to_find = ('20', '20552','3') #переменная что хотим найти\n",
    "with open('stats.csv') as f:#переменная где ищем с учетом открытия csv\n",
    "    print(f_find_n(f, line_to_find)) #выводим результат функции на экран"
   ]
  },
  {
   "cell_type": "code",
   "execution_count": null,
   "metadata": {
    "collapsed": true
   },
   "outputs": [],
   "source": []
  }
 ],
 "metadata": {
  "kernelspec": {
   "display_name": "Python 3",
   "language": "python",
   "name": "python3"
  },
  "language_info": {
   "codemirror_mode": {
    "name": "ipython",
    "version": 3
   },
   "file_extension": ".py",
   "mimetype": "text/x-python",
   "name": "python",
   "nbconvert_exporter": "python",
   "pygments_lexer": "ipython3",
   "version": "3.6.2"
  }
 },
 "nbformat": 4,
 "nbformat_minor": 2
}
