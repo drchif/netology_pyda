{
 "cells": [
  {
   "cell_type": "markdown",
   "metadata": {},
   "source": [
    "Итоговая работа\n",
    "=====================\n",
    "\n",
    "Поздравляю вас, теперь вы вооружены знаниями по предобработке данных, и пора применить их на интересном кейсе.\n",
    "\n",
    "Представлены данные такси, по которым мы должны предсказать возьмёт ли таксист заказ или нет(driver_response).\n",
    "\n",
    "Принципы вы знаете, чек-лист аналогичен лабораторной работе.\n",
    "\n",
    "Чек-лист:\n",
    "1. Загрузите датасет taxi.csv.\n",
    "2. Посмотрите на данные. Отобразите общую информацию по признакам (вспомните о describe и info). Напишите в markdown свои наблюдения.\n",
    "3. Выявите пропуски, а также возможные причины их возникновения. Решите, что следует сделать с ними. Напишите в markdown свои наблюдения.\n",
    "4. Оцените зависимости переменных между собой. Используйте корреляции. Будет хорошо, если воспользуетесь profile_report. Напишите в markdown свои наблюдения.\n",
    "5. Определите стратегию преобразования категориальных признаков (т.е. как их сделать адекватными для моделей).\n",
    "6. Найдите признаки, которые можно разделить на другие, или преобразовать в другой тип данных. Удалите лишние, при необходимости.\n",
    "7. Разделите выборку на обучаемую и тестовую.\n",
    "8. Обучите модель. Напишите в markdown свои наблюдения по полученным результатам. Хорошие результаты дают классификаторы RandomForest и XGBoost\n",
    "\n",
    "Если возникнут затруднения, то смотрите на материал практических занятий. Данного там должно хватить для выполнения всех пунктов. Желаю успеха!"
   ]
  },
  {
   "cell_type": "markdown",
   "metadata": {},
   "source": [
    "#приступим\n",
    "1. Загрузите датасет taxi.csv."
   ]
  },
  {
   "cell_type": "code",
   "execution_count": 2,
   "metadata": {
    "collapsed": true
   },
   "outputs": [],
   "source": [
    "import pandas as pd\n",
    "import numpy as np\n",
    "import seaborn as sns\n",
    "from sklearn.linear_model import LinearRegression\n",
    "\n",
    "from matplotlib import pyplot as plt\n",
    "%matplotlib inline"
   ]
  },
  {
   "cell_type": "code",
   "execution_count": 3,
   "metadata": {
    "scrolled": true
   },
   "outputs": [
    {
     "data": {
      "text/html": [
       "<div>\n",
       "<style scoped>\n",
       "    .dataframe tbody tr th:only-of-type {\n",
       "        vertical-align: middle;\n",
       "    }\n",
       "\n",
       "    .dataframe tbody tr th {\n",
       "        vertical-align: top;\n",
       "    }\n",
       "\n",
       "    .dataframe thead th {\n",
       "        text-align: right;\n",
       "    }\n",
       "</style>\n",
       "<table border=\"1\" class=\"dataframe\">\n",
       "  <thead>\n",
       "    <tr style=\"text-align: right;\">\n",
       "      <th></th>\n",
       "      <th>offer_gk</th>\n",
       "      <th>weekday_key</th>\n",
       "      <th>hour_key</th>\n",
       "      <th>driver_gk</th>\n",
       "      <th>order_gk</th>\n",
       "      <th>driver_latitude</th>\n",
       "      <th>driver_longitude</th>\n",
       "      <th>origin_order_latitude</th>\n",
       "      <th>origin_order_longitude</th>\n",
       "      <th>distance_km</th>\n",
       "      <th>duration_min</th>\n",
       "      <th>offer_class_group</th>\n",
       "      <th>ride_type_desc</th>\n",
       "      <th>driver_response</th>\n",
       "    </tr>\n",
       "  </thead>\n",
       "  <tbody>\n",
       "    <tr>\n",
       "      <th>0</th>\n",
       "      <td>1105373</td>\n",
       "      <td>5</td>\n",
       "      <td>20</td>\n",
       "      <td>6080</td>\n",
       "      <td>174182</td>\n",
       "      <td>55.818842</td>\n",
       "      <td>37.334562</td>\n",
       "      <td>55.814567</td>\n",
       "      <td>37.355010</td>\n",
       "      <td>-1.000</td>\n",
       "      <td>-1.000</td>\n",
       "      <td>Economy</td>\n",
       "      <td>private</td>\n",
       "      <td>0</td>\n",
       "    </tr>\n",
       "    <tr>\n",
       "      <th>1</th>\n",
       "      <td>759733</td>\n",
       "      <td>5</td>\n",
       "      <td>14</td>\n",
       "      <td>6080</td>\n",
       "      <td>358774</td>\n",
       "      <td>55.805342</td>\n",
       "      <td>37.515023</td>\n",
       "      <td>55.819329</td>\n",
       "      <td>37.466398</td>\n",
       "      <td>18.802</td>\n",
       "      <td>25.217</td>\n",
       "      <td>Standard</td>\n",
       "      <td>private</td>\n",
       "      <td>1</td>\n",
       "    </tr>\n",
       "    <tr>\n",
       "      <th>2</th>\n",
       "      <td>416977</td>\n",
       "      <td>6</td>\n",
       "      <td>14</td>\n",
       "      <td>6080</td>\n",
       "      <td>866260</td>\n",
       "      <td>55.813978</td>\n",
       "      <td>37.347688</td>\n",
       "      <td>55.814827</td>\n",
       "      <td>37.354074</td>\n",
       "      <td>6.747</td>\n",
       "      <td>9.800</td>\n",
       "      <td>Economy</td>\n",
       "      <td>private</td>\n",
       "      <td>0</td>\n",
       "    </tr>\n",
       "    <tr>\n",
       "      <th>3</th>\n",
       "      <td>889660</td>\n",
       "      <td>2</td>\n",
       "      <td>6</td>\n",
       "      <td>6080</td>\n",
       "      <td>163522</td>\n",
       "      <td>55.745922</td>\n",
       "      <td>37.421748</td>\n",
       "      <td>55.743469</td>\n",
       "      <td>37.431130</td>\n",
       "      <td>-1.000</td>\n",
       "      <td>-1.000</td>\n",
       "      <td>Economy</td>\n",
       "      <td>private</td>\n",
       "      <td>1</td>\n",
       "    </tr>\n",
       "    <tr>\n",
       "      <th>4</th>\n",
       "      <td>1120055</td>\n",
       "      <td>4</td>\n",
       "      <td>16</td>\n",
       "      <td>6080</td>\n",
       "      <td>506710</td>\n",
       "      <td>55.803578</td>\n",
       "      <td>37.521602</td>\n",
       "      <td>55.812559</td>\n",
       "      <td>37.527407</td>\n",
       "      <td>12.383</td>\n",
       "      <td>19.250</td>\n",
       "      <td>Economy</td>\n",
       "      <td>private</td>\n",
       "      <td>1</td>\n",
       "    </tr>\n",
       "  </tbody>\n",
       "</table>\n",
       "</div>"
      ],
      "text/plain": [
       "   offer_gk  weekday_key  hour_key  driver_gk  order_gk  driver_latitude  \\\n",
       "0   1105373            5        20       6080    174182        55.818842   \n",
       "1    759733            5        14       6080    358774        55.805342   \n",
       "2    416977            6        14       6080    866260        55.813978   \n",
       "3    889660            2         6       6080    163522        55.745922   \n",
       "4   1120055            4        16       6080    506710        55.803578   \n",
       "\n",
       "   driver_longitude  origin_order_latitude  origin_order_longitude  \\\n",
       "0         37.334562              55.814567               37.355010   \n",
       "1         37.515023              55.819329               37.466398   \n",
       "2         37.347688              55.814827               37.354074   \n",
       "3         37.421748              55.743469               37.431130   \n",
       "4         37.521602              55.812559               37.527407   \n",
       "\n",
       "   distance_km  duration_min offer_class_group ride_type_desc  driver_response  \n",
       "0       -1.000        -1.000           Economy        private                0  \n",
       "1       18.802        25.217          Standard        private                1  \n",
       "2        6.747         9.800           Economy        private                0  \n",
       "3       -1.000        -1.000           Economy        private                1  \n",
       "4       12.383        19.250           Economy        private                1  "
      ]
     },
     "execution_count": 3,
     "metadata": {},
     "output_type": "execute_result"
    }
   ],
   "source": [
    "data = pd.read_csv('taxi.csv')\n",
    "data.head()"
   ]
  },
  {
   "cell_type": "markdown",
   "metadata": {},
   "source": [
    " 2. Посмотрите на данные. Отобразите общую информацию по признакам (вспомните о describe и info). Напишите в markdown свои наблюдения."
   ]
  },
  {
   "cell_type": "code",
   "execution_count": 4,
   "metadata": {
    "scrolled": true
   },
   "outputs": [
    {
     "name": "stdout",
     "output_type": "stream",
     "text": [
      "<class 'pandas.core.frame.DataFrame'>\n",
      "RangeIndex: 100000 entries, 0 to 99999\n",
      "Data columns (total 14 columns):\n",
      "offer_gk                  100000 non-null int64\n",
      "weekday_key               100000 non-null int64\n",
      "hour_key                  100000 non-null int64\n",
      "driver_gk                 100000 non-null int64\n",
      "order_gk                  100000 non-null int64\n",
      "driver_latitude           100000 non-null float64\n",
      "driver_longitude          100000 non-null float64\n",
      "origin_order_latitude     100000 non-null float64\n",
      "origin_order_longitude    100000 non-null float64\n",
      "distance_km               100000 non-null float64\n",
      "duration_min              100000 non-null float64\n",
      "offer_class_group         100000 non-null object\n",
      "ride_type_desc            100000 non-null object\n",
      "driver_response           100000 non-null int64\n",
      "dtypes: float64(6), int64(6), object(2)\n",
      "memory usage: 10.7+ MB\n"
     ]
    }
   ],
   "source": [
    "data.info()"
   ]
  },
  {
   "cell_type": "markdown",
   "metadata": {},
   "source": [
    "Хорошо что нет нулов\n",
    "выборка достаточно большая\n",
    "основной объем данных уже числовой"
   ]
  },
  {
   "cell_type": "code",
   "execution_count": 5,
   "metadata": {
    "scrolled": true
   },
   "outputs": [
    {
     "data": {
      "text/html": [
       "<div>\n",
       "<style scoped>\n",
       "    .dataframe tbody tr th:only-of-type {\n",
       "        vertical-align: middle;\n",
       "    }\n",
       "\n",
       "    .dataframe tbody tr th {\n",
       "        vertical-align: top;\n",
       "    }\n",
       "\n",
       "    .dataframe thead th {\n",
       "        text-align: right;\n",
       "    }\n",
       "</style>\n",
       "<table border=\"1\" class=\"dataframe\">\n",
       "  <thead>\n",
       "    <tr style=\"text-align: right;\">\n",
       "      <th></th>\n",
       "      <th>count</th>\n",
       "      <th>mean</th>\n",
       "      <th>std</th>\n",
       "      <th>min</th>\n",
       "      <th>25%</th>\n",
       "      <th>50%</th>\n",
       "      <th>75%</th>\n",
       "      <th>max</th>\n",
       "    </tr>\n",
       "  </thead>\n",
       "  <tbody>\n",
       "    <tr>\n",
       "      <th>offer_gk</th>\n",
       "      <td>100000.0</td>\n",
       "      <td>566218.928650</td>\n",
       "      <td>325935.980081</td>\n",
       "      <td>4.0</td>\n",
       "      <td>285555.250000</td>\n",
       "      <td>565671.500000</td>\n",
       "      <td>848719.750000</td>\n",
       "      <td>1.130355e+06</td>\n",
       "    </tr>\n",
       "    <tr>\n",
       "      <th>weekday_key</th>\n",
       "      <td>100000.0</td>\n",
       "      <td>3.159860</td>\n",
       "      <td>2.054222</td>\n",
       "      <td>0.0</td>\n",
       "      <td>1.000000</td>\n",
       "      <td>3.000000</td>\n",
       "      <td>5.000000</td>\n",
       "      <td>6.000000e+00</td>\n",
       "    </tr>\n",
       "    <tr>\n",
       "      <th>hour_key</th>\n",
       "      <td>100000.0</td>\n",
       "      <td>13.827790</td>\n",
       "      <td>7.306496</td>\n",
       "      <td>0.0</td>\n",
       "      <td>8.000000</td>\n",
       "      <td>16.000000</td>\n",
       "      <td>20.000000</td>\n",
       "      <td>2.300000e+01</td>\n",
       "    </tr>\n",
       "    <tr>\n",
       "      <th>driver_gk</th>\n",
       "      <td>100000.0</td>\n",
       "      <td>3446.376360</td>\n",
       "      <td>2038.738677</td>\n",
       "      <td>14.0</td>\n",
       "      <td>1421.000000</td>\n",
       "      <td>3506.500000</td>\n",
       "      <td>5242.000000</td>\n",
       "      <td>6.806000e+03</td>\n",
       "    </tr>\n",
       "    <tr>\n",
       "      <th>order_gk</th>\n",
       "      <td>100000.0</td>\n",
       "      <td>460867.012910</td>\n",
       "      <td>266064.989530</td>\n",
       "      <td>18.0</td>\n",
       "      <td>229178.500000</td>\n",
       "      <td>462420.000000</td>\n",
       "      <td>690894.000000</td>\n",
       "      <td>9.203440e+05</td>\n",
       "    </tr>\n",
       "    <tr>\n",
       "      <th>driver_latitude</th>\n",
       "      <td>100000.0</td>\n",
       "      <td>55.700824</td>\n",
       "      <td>2.135903</td>\n",
       "      <td>-1.0</td>\n",
       "      <td>55.708651</td>\n",
       "      <td>55.772904</td>\n",
       "      <td>55.960667</td>\n",
       "      <td>5.617410e+01</td>\n",
       "    </tr>\n",
       "    <tr>\n",
       "      <th>driver_longitude</th>\n",
       "      <td>100000.0</td>\n",
       "      <td>37.492292</td>\n",
       "      <td>1.454640</td>\n",
       "      <td>-1.0</td>\n",
       "      <td>37.413497</td>\n",
       "      <td>37.533664</td>\n",
       "      <td>37.624113</td>\n",
       "      <td>3.828055e+01</td>\n",
       "    </tr>\n",
       "    <tr>\n",
       "      <th>origin_order_latitude</th>\n",
       "      <td>100000.0</td>\n",
       "      <td>55.772440</td>\n",
       "      <td>0.665985</td>\n",
       "      <td>-1.0</td>\n",
       "      <td>55.708032</td>\n",
       "      <td>55.772561</td>\n",
       "      <td>55.962000</td>\n",
       "      <td>5.631112e+01</td>\n",
       "    </tr>\n",
       "    <tr>\n",
       "      <th>origin_order_longitude</th>\n",
       "      <td>100000.0</td>\n",
       "      <td>37.541637</td>\n",
       "      <td>0.467758</td>\n",
       "      <td>-1.0</td>\n",
       "      <td>37.407117</td>\n",
       "      <td>37.532537</td>\n",
       "      <td>37.624358</td>\n",
       "      <td>3.824361e+01</td>\n",
       "    </tr>\n",
       "    <tr>\n",
       "      <th>distance_km</th>\n",
       "      <td>100000.0</td>\n",
       "      <td>18.393518</td>\n",
       "      <td>41.129296</td>\n",
       "      <td>-1.0</td>\n",
       "      <td>-1.000000</td>\n",
       "      <td>10.411500</td>\n",
       "      <td>30.665250</td>\n",
       "      <td>5.234283e+03</td>\n",
       "    </tr>\n",
       "    <tr>\n",
       "      <th>duration_min</th>\n",
       "      <td>100000.0</td>\n",
       "      <td>23.134841</td>\n",
       "      <td>33.890105</td>\n",
       "      <td>-1.0</td>\n",
       "      <td>-1.000000</td>\n",
       "      <td>19.700000</td>\n",
       "      <td>37.867000</td>\n",
       "      <td>3.958283e+03</td>\n",
       "    </tr>\n",
       "    <tr>\n",
       "      <th>driver_response</th>\n",
       "      <td>100000.0</td>\n",
       "      <td>0.492480</td>\n",
       "      <td>0.499946</td>\n",
       "      <td>0.0</td>\n",
       "      <td>0.000000</td>\n",
       "      <td>0.000000</td>\n",
       "      <td>1.000000</td>\n",
       "      <td>1.000000e+00</td>\n",
       "    </tr>\n",
       "  </tbody>\n",
       "</table>\n",
       "</div>"
      ],
      "text/plain": [
       "                           count           mean            std   min  \\\n",
       "offer_gk                100000.0  566218.928650  325935.980081   4.0   \n",
       "weekday_key             100000.0       3.159860       2.054222   0.0   \n",
       "hour_key                100000.0      13.827790       7.306496   0.0   \n",
       "driver_gk               100000.0    3446.376360    2038.738677  14.0   \n",
       "order_gk                100000.0  460867.012910  266064.989530  18.0   \n",
       "driver_latitude         100000.0      55.700824       2.135903  -1.0   \n",
       "driver_longitude        100000.0      37.492292       1.454640  -1.0   \n",
       "origin_order_latitude   100000.0      55.772440       0.665985  -1.0   \n",
       "origin_order_longitude  100000.0      37.541637       0.467758  -1.0   \n",
       "distance_km             100000.0      18.393518      41.129296  -1.0   \n",
       "duration_min            100000.0      23.134841      33.890105  -1.0   \n",
       "driver_response         100000.0       0.492480       0.499946   0.0   \n",
       "\n",
       "                                  25%            50%            75%  \\\n",
       "offer_gk                285555.250000  565671.500000  848719.750000   \n",
       "weekday_key                  1.000000       3.000000       5.000000   \n",
       "hour_key                     8.000000      16.000000      20.000000   \n",
       "driver_gk                 1421.000000    3506.500000    5242.000000   \n",
       "order_gk                229178.500000  462420.000000  690894.000000   \n",
       "driver_latitude             55.708651      55.772904      55.960667   \n",
       "driver_longitude            37.413497      37.533664      37.624113   \n",
       "origin_order_latitude       55.708032      55.772561      55.962000   \n",
       "origin_order_longitude      37.407117      37.532537      37.624358   \n",
       "distance_km                 -1.000000      10.411500      30.665250   \n",
       "duration_min                -1.000000      19.700000      37.867000   \n",
       "driver_response              0.000000       0.000000       1.000000   \n",
       "\n",
       "                                 max  \n",
       "offer_gk                1.130355e+06  \n",
       "weekday_key             6.000000e+00  \n",
       "hour_key                2.300000e+01  \n",
       "driver_gk               6.806000e+03  \n",
       "order_gk                9.203440e+05  \n",
       "driver_latitude         5.617410e+01  \n",
       "driver_longitude        3.828055e+01  \n",
       "origin_order_latitude   5.631112e+01  \n",
       "origin_order_longitude  3.824361e+01  \n",
       "distance_km             5.234283e+03  \n",
       "duration_min            3.958283e+03  \n",
       "driver_response         1.000000e+00  "
      ]
     },
     "execution_count": 5,
     "metadata": {},
     "output_type": "execute_result"
    }
   ],
   "source": [
    "data.describe().transpose()"
   ]
  },
  {
   "cell_type": "markdown",
   "metadata": {},
   "source": [
    "offer_gk - это id предложения водителю. разброс огромный. не нужно\n",
    "weekday_key - день недели. 0 - вск, 6 суб. Оставляем. Выбрасов за пределы нет\n",
    "hour_key - час дня заказа. 0-23. Оставляем. выбрасов за пределы нет\n",
    "driver_gk - id водителя. Ну не уверен что поле это нужно. огромные разбросы, так как это id\n",
    "order_gk - id заказа. в рамках заказа несколько предложений. не нужно\n",
    "driver_latitude - широта водителя на момент получения заказа. имеет значения -1 - те часть данных нет\n",
    "driver_longitude - долгота водителя на момент получения заказа. имеет значения -1 - те часть данных нет\n",
    "origin_order_latitude\t- широта начала маршрута заказа.  имеет значения -1 - те часть данных нет\n",
    "origin_order_longitude - долгота начала маршрута заказа. имеет значения -1 - те часть данных нет\n",
    "distance_km - дистанция в км от места заказа до места назначения. -1 те в части данных нет растояния.\n",
    "duration_min - время в пути от места заказа до места назначения.  -1 те в части данных нет времени.\n",
    "offer_class_group - классификационный признак. Класс заказа.\n",
    "ride_type_desc - классификационный признак. Тип заказа - бизнес\\не бизнес\n",
    "driver_response - целевая функция. Принятие или отказ водителя в предложении.\n"
   ]
  },
  {
   "cell_type": "markdown",
   "metadata": {},
   "source": [
    "  #3. Выявите пропуски, а также возможные причины их возникновения. Решите, что следует сделать с ними. Напишите в markdown свои наблюдения."
   ]
  },
  {
   "cell_type": "code",
   "execution_count": 6,
   "metadata": {
    "scrolled": true
   },
   "outputs": [
    {
     "data": {
      "text/plain": [
       "offer_gk                  140\n",
       "weekday_key               140\n",
       "hour_key                  140\n",
       "driver_gk                 140\n",
       "order_gk                  140\n",
       "driver_latitude           140\n",
       "driver_longitude          140\n",
       "origin_order_latitude     140\n",
       "origin_order_longitude    140\n",
       "distance_km               140\n",
       "duration_min              140\n",
       "offer_class_group         140\n",
       "ride_type_desc            140\n",
       "driver_response           140\n",
       "dtype: int64"
      ]
     },
     "execution_count": 6,
     "metadata": {},
     "output_type": "execute_result"
    }
   ],
   "source": [
    "data[data['driver_latitude']==-1].count()\n",
    "#140 значений не материально для объема выборки. удалить"
   ]
  },
  {
   "cell_type": "code",
   "execution_count": 30,
   "metadata": {},
   "outputs": [
    {
     "data": {
      "text/plain": [
       "offer_gk                  140\n",
       "weekday_key               140\n",
       "hour_key                  140\n",
       "driver_gk                 140\n",
       "order_gk                  140\n",
       "driver_latitude           140\n",
       "driver_longitude          140\n",
       "origin_order_latitude     140\n",
       "origin_order_longitude    140\n",
       "distance_km               140\n",
       "duration_min              140\n",
       "offer_class_group         140\n",
       "ride_type_desc            140\n",
       "driver_response           140\n",
       "dtype: int64"
      ]
     },
     "execution_count": 30,
     "metadata": {},
     "output_type": "execute_result"
    }
   ],
   "source": [
    "data[data['driver_longitude']==-1].count()\n",
    "#так же не материально."
   ]
  },
  {
   "cell_type": "code",
   "execution_count": 10,
   "metadata": {
    "scrolled": true
   },
   "outputs": [
    {
     "data": {
      "text/html": [
       "<div>\n",
       "<style scoped>\n",
       "    .dataframe tbody tr th:only-of-type {\n",
       "        vertical-align: middle;\n",
       "    }\n",
       "\n",
       "    .dataframe tbody tr th {\n",
       "        vertical-align: top;\n",
       "    }\n",
       "\n",
       "    .dataframe thead th {\n",
       "        text-align: right;\n",
       "    }\n",
       "</style>\n",
       "<table border=\"1\" class=\"dataframe\">\n",
       "  <thead>\n",
       "    <tr style=\"text-align: right;\">\n",
       "      <th></th>\n",
       "      <th>offer_gk</th>\n",
       "      <th>weekday_key</th>\n",
       "      <th>hour_key</th>\n",
       "      <th>driver_gk</th>\n",
       "      <th>order_gk</th>\n",
       "      <th>driver_latitude</th>\n",
       "      <th>driver_longitude</th>\n",
       "      <th>origin_order_latitude</th>\n",
       "      <th>origin_order_longitude</th>\n",
       "      <th>distance_km</th>\n",
       "      <th>duration_min</th>\n",
       "      <th>offer_class_group</th>\n",
       "      <th>ride_type_desc</th>\n",
       "      <th>driver_response</th>\n",
       "    </tr>\n",
       "  </thead>\n",
       "  <tbody>\n",
       "    <tr>\n",
       "      <th>565</th>\n",
       "      <td>638186</td>\n",
       "      <td>5</td>\n",
       "      <td>14</td>\n",
       "      <td>6272</td>\n",
       "      <td>817074</td>\n",
       "      <td>-1.0</td>\n",
       "      <td>-1.0</td>\n",
       "      <td>55.908664</td>\n",
       "      <td>37.597781</td>\n",
       "      <td>-1.000</td>\n",
       "      <td>-1.00</td>\n",
       "      <td>Standard</td>\n",
       "      <td>business</td>\n",
       "      <td>1</td>\n",
       "    </tr>\n",
       "    <tr>\n",
       "      <th>2111</th>\n",
       "      <td>567790</td>\n",
       "      <td>1</td>\n",
       "      <td>12</td>\n",
       "      <td>6792</td>\n",
       "      <td>820788</td>\n",
       "      <td>-1.0</td>\n",
       "      <td>-1.0</td>\n",
       "      <td>55.415361</td>\n",
       "      <td>37.898917</td>\n",
       "      <td>-1.000</td>\n",
       "      <td>-1.00</td>\n",
       "      <td>Standard</td>\n",
       "      <td>business</td>\n",
       "      <td>1</td>\n",
       "    </tr>\n",
       "    <tr>\n",
       "      <th>2129</th>\n",
       "      <td>302376</td>\n",
       "      <td>1</td>\n",
       "      <td>1</td>\n",
       "      <td>6792</td>\n",
       "      <td>548327</td>\n",
       "      <td>-1.0</td>\n",
       "      <td>-1.0</td>\n",
       "      <td>55.415361</td>\n",
       "      <td>37.898917</td>\n",
       "      <td>83.923</td>\n",
       "      <td>81.35</td>\n",
       "      <td>Standard</td>\n",
       "      <td>business</td>\n",
       "      <td>1</td>\n",
       "    </tr>\n",
       "    <tr>\n",
       "      <th>2137</th>\n",
       "      <td>427612</td>\n",
       "      <td>6</td>\n",
       "      <td>21</td>\n",
       "      <td>6792</td>\n",
       "      <td>32158</td>\n",
       "      <td>-1.0</td>\n",
       "      <td>-1.0</td>\n",
       "      <td>55.415361</td>\n",
       "      <td>37.898917</td>\n",
       "      <td>-1.000</td>\n",
       "      <td>-1.00</td>\n",
       "      <td>Standard</td>\n",
       "      <td>business</td>\n",
       "      <td>1</td>\n",
       "    </tr>\n",
       "    <tr>\n",
       "      <th>2142</th>\n",
       "      <td>202875</td>\n",
       "      <td>6</td>\n",
       "      <td>3</td>\n",
       "      <td>6792</td>\n",
       "      <td>346671</td>\n",
       "      <td>-1.0</td>\n",
       "      <td>-1.0</td>\n",
       "      <td>55.415361</td>\n",
       "      <td>37.898917</td>\n",
       "      <td>70.529</td>\n",
       "      <td>65.00</td>\n",
       "      <td>Standard</td>\n",
       "      <td>business</td>\n",
       "      <td>1</td>\n",
       "    </tr>\n",
       "    <tr>\n",
       "      <th>2145</th>\n",
       "      <td>845726</td>\n",
       "      <td>6</td>\n",
       "      <td>0</td>\n",
       "      <td>6792</td>\n",
       "      <td>552732</td>\n",
       "      <td>-1.0</td>\n",
       "      <td>-1.0</td>\n",
       "      <td>55.415361</td>\n",
       "      <td>37.898917</td>\n",
       "      <td>-1.000</td>\n",
       "      <td>-1.00</td>\n",
       "      <td>Standard</td>\n",
       "      <td>business</td>\n",
       "      <td>1</td>\n",
       "    </tr>\n",
       "    <tr>\n",
       "      <th>2183</th>\n",
       "      <td>177029</td>\n",
       "      <td>0</td>\n",
       "      <td>17</td>\n",
       "      <td>6792</td>\n",
       "      <td>658177</td>\n",
       "      <td>-1.0</td>\n",
       "      <td>-1.0</td>\n",
       "      <td>55.415361</td>\n",
       "      <td>37.898917</td>\n",
       "      <td>-1.000</td>\n",
       "      <td>-1.00</td>\n",
       "      <td>Standard</td>\n",
       "      <td>business</td>\n",
       "      <td>1</td>\n",
       "    </tr>\n",
       "    <tr>\n",
       "      <th>2191</th>\n",
       "      <td>10275</td>\n",
       "      <td>3</td>\n",
       "      <td>11</td>\n",
       "      <td>6792</td>\n",
       "      <td>92302</td>\n",
       "      <td>-1.0</td>\n",
       "      <td>-1.0</td>\n",
       "      <td>55.415361</td>\n",
       "      <td>37.898917</td>\n",
       "      <td>-1.000</td>\n",
       "      <td>-1.00</td>\n",
       "      <td>Standard</td>\n",
       "      <td>business</td>\n",
       "      <td>1</td>\n",
       "    </tr>\n",
       "    <tr>\n",
       "      <th>2221</th>\n",
       "      <td>1039638</td>\n",
       "      <td>5</td>\n",
       "      <td>22</td>\n",
       "      <td>6792</td>\n",
       "      <td>378336</td>\n",
       "      <td>-1.0</td>\n",
       "      <td>-1.0</td>\n",
       "      <td>55.415361</td>\n",
       "      <td>37.898917</td>\n",
       "      <td>-1.000</td>\n",
       "      <td>-1.00</td>\n",
       "      <td>Standard</td>\n",
       "      <td>business</td>\n",
       "      <td>1</td>\n",
       "    </tr>\n",
       "    <tr>\n",
       "      <th>2268</th>\n",
       "      <td>378336</td>\n",
       "      <td>1</td>\n",
       "      <td>11</td>\n",
       "      <td>6792</td>\n",
       "      <td>354709</td>\n",
       "      <td>-1.0</td>\n",
       "      <td>-1.0</td>\n",
       "      <td>55.415361</td>\n",
       "      <td>37.898917</td>\n",
       "      <td>-1.000</td>\n",
       "      <td>-1.00</td>\n",
       "      <td>Standard</td>\n",
       "      <td>business</td>\n",
       "      <td>1</td>\n",
       "    </tr>\n",
       "    <tr>\n",
       "      <th>2314</th>\n",
       "      <td>266783</td>\n",
       "      <td>0</td>\n",
       "      <td>14</td>\n",
       "      <td>6792</td>\n",
       "      <td>545225</td>\n",
       "      <td>-1.0</td>\n",
       "      <td>-1.0</td>\n",
       "      <td>55.415361</td>\n",
       "      <td>37.898917</td>\n",
       "      <td>-1.000</td>\n",
       "      <td>-1.00</td>\n",
       "      <td>Standard</td>\n",
       "      <td>business</td>\n",
       "      <td>1</td>\n",
       "    </tr>\n",
       "    <tr>\n",
       "      <th>2323</th>\n",
       "      <td>441943</td>\n",
       "      <td>4</td>\n",
       "      <td>9</td>\n",
       "      <td>6792</td>\n",
       "      <td>705422</td>\n",
       "      <td>-1.0</td>\n",
       "      <td>-1.0</td>\n",
       "      <td>55.415361</td>\n",
       "      <td>37.898917</td>\n",
       "      <td>-1.000</td>\n",
       "      <td>-1.00</td>\n",
       "      <td>Standard</td>\n",
       "      <td>business</td>\n",
       "      <td>1</td>\n",
       "    </tr>\n",
       "    <tr>\n",
       "      <th>2340</th>\n",
       "      <td>298122</td>\n",
       "      <td>5</td>\n",
       "      <td>13</td>\n",
       "      <td>6792</td>\n",
       "      <td>707361</td>\n",
       "      <td>-1.0</td>\n",
       "      <td>-1.0</td>\n",
       "      <td>55.415361</td>\n",
       "      <td>37.898917</td>\n",
       "      <td>-1.000</td>\n",
       "      <td>-1.00</td>\n",
       "      <td>Standard</td>\n",
       "      <td>business</td>\n",
       "      <td>1</td>\n",
       "    </tr>\n",
       "    <tr>\n",
       "      <th>2388</th>\n",
       "      <td>962568</td>\n",
       "      <td>1</td>\n",
       "      <td>9</td>\n",
       "      <td>6792</td>\n",
       "      <td>278916</td>\n",
       "      <td>-1.0</td>\n",
       "      <td>-1.0</td>\n",
       "      <td>55.415361</td>\n",
       "      <td>37.898917</td>\n",
       "      <td>-1.000</td>\n",
       "      <td>-1.00</td>\n",
       "      <td>Standard</td>\n",
       "      <td>business</td>\n",
       "      <td>1</td>\n",
       "    </tr>\n",
       "    <tr>\n",
       "      <th>2407</th>\n",
       "      <td>329541</td>\n",
       "      <td>4</td>\n",
       "      <td>16</td>\n",
       "      <td>6792</td>\n",
       "      <td>515305</td>\n",
       "      <td>-1.0</td>\n",
       "      <td>-1.0</td>\n",
       "      <td>55.415361</td>\n",
       "      <td>37.898917</td>\n",
       "      <td>-1.000</td>\n",
       "      <td>-1.00</td>\n",
       "      <td>Standard</td>\n",
       "      <td>business</td>\n",
       "      <td>1</td>\n",
       "    </tr>\n",
       "    <tr>\n",
       "      <th>2476</th>\n",
       "      <td>748504</td>\n",
       "      <td>3</td>\n",
       "      <td>21</td>\n",
       "      <td>6792</td>\n",
       "      <td>80883</td>\n",
       "      <td>-1.0</td>\n",
       "      <td>-1.0</td>\n",
       "      <td>55.415361</td>\n",
       "      <td>37.898917</td>\n",
       "      <td>-1.000</td>\n",
       "      <td>-1.00</td>\n",
       "      <td>Standard</td>\n",
       "      <td>business</td>\n",
       "      <td>1</td>\n",
       "    </tr>\n",
       "    <tr>\n",
       "      <th>2480</th>\n",
       "      <td>578582</td>\n",
       "      <td>3</td>\n",
       "      <td>22</td>\n",
       "      <td>6792</td>\n",
       "      <td>21076</td>\n",
       "      <td>-1.0</td>\n",
       "      <td>-1.0</td>\n",
       "      <td>55.415361</td>\n",
       "      <td>37.898917</td>\n",
       "      <td>-1.000</td>\n",
       "      <td>-1.00</td>\n",
       "      <td>Standard</td>\n",
       "      <td>business</td>\n",
       "      <td>1</td>\n",
       "    </tr>\n",
       "    <tr>\n",
       "      <th>2494</th>\n",
       "      <td>703697</td>\n",
       "      <td>5</td>\n",
       "      <td>14</td>\n",
       "      <td>6792</td>\n",
       "      <td>131423</td>\n",
       "      <td>-1.0</td>\n",
       "      <td>-1.0</td>\n",
       "      <td>55.415361</td>\n",
       "      <td>37.898917</td>\n",
       "      <td>-1.000</td>\n",
       "      <td>-1.00</td>\n",
       "      <td>Standard</td>\n",
       "      <td>business</td>\n",
       "      <td>1</td>\n",
       "    </tr>\n",
       "    <tr>\n",
       "      <th>2503</th>\n",
       "      <td>1108185</td>\n",
       "      <td>6</td>\n",
       "      <td>14</td>\n",
       "      <td>6792</td>\n",
       "      <td>905830</td>\n",
       "      <td>-1.0</td>\n",
       "      <td>-1.0</td>\n",
       "      <td>55.415361</td>\n",
       "      <td>37.898917</td>\n",
       "      <td>-1.000</td>\n",
       "      <td>-1.00</td>\n",
       "      <td>Standard</td>\n",
       "      <td>business</td>\n",
       "      <td>1</td>\n",
       "    </tr>\n",
       "    <tr>\n",
       "      <th>2516</th>\n",
       "      <td>972092</td>\n",
       "      <td>3</td>\n",
       "      <td>18</td>\n",
       "      <td>6792</td>\n",
       "      <td>525380</td>\n",
       "      <td>-1.0</td>\n",
       "      <td>-1.0</td>\n",
       "      <td>55.415361</td>\n",
       "      <td>37.898917</td>\n",
       "      <td>-1.000</td>\n",
       "      <td>-1.00</td>\n",
       "      <td>Standard</td>\n",
       "      <td>business</td>\n",
       "      <td>1</td>\n",
       "    </tr>\n",
       "  </tbody>\n",
       "</table>\n",
       "</div>"
      ],
      "text/plain": [
       "      offer_gk  weekday_key  hour_key  driver_gk  order_gk  driver_latitude  \\\n",
       "565     638186            5        14       6272    817074             -1.0   \n",
       "2111    567790            1        12       6792    820788             -1.0   \n",
       "2129    302376            1         1       6792    548327             -1.0   \n",
       "2137    427612            6        21       6792     32158             -1.0   \n",
       "2142    202875            6         3       6792    346671             -1.0   \n",
       "2145    845726            6         0       6792    552732             -1.0   \n",
       "2183    177029            0        17       6792    658177             -1.0   \n",
       "2191     10275            3        11       6792     92302             -1.0   \n",
       "2221   1039638            5        22       6792    378336             -1.0   \n",
       "2268    378336            1        11       6792    354709             -1.0   \n",
       "2314    266783            0        14       6792    545225             -1.0   \n",
       "2323    441943            4         9       6792    705422             -1.0   \n",
       "2340    298122            5        13       6792    707361             -1.0   \n",
       "2388    962568            1         9       6792    278916             -1.0   \n",
       "2407    329541            4        16       6792    515305             -1.0   \n",
       "2476    748504            3        21       6792     80883             -1.0   \n",
       "2480    578582            3        22       6792     21076             -1.0   \n",
       "2494    703697            5        14       6792    131423             -1.0   \n",
       "2503   1108185            6        14       6792    905830             -1.0   \n",
       "2516    972092            3        18       6792    525380             -1.0   \n",
       "\n",
       "      driver_longitude  origin_order_latitude  origin_order_longitude  \\\n",
       "565               -1.0              55.908664               37.597781   \n",
       "2111              -1.0              55.415361               37.898917   \n",
       "2129              -1.0              55.415361               37.898917   \n",
       "2137              -1.0              55.415361               37.898917   \n",
       "2142              -1.0              55.415361               37.898917   \n",
       "2145              -1.0              55.415361               37.898917   \n",
       "2183              -1.0              55.415361               37.898917   \n",
       "2191              -1.0              55.415361               37.898917   \n",
       "2221              -1.0              55.415361               37.898917   \n",
       "2268              -1.0              55.415361               37.898917   \n",
       "2314              -1.0              55.415361               37.898917   \n",
       "2323              -1.0              55.415361               37.898917   \n",
       "2340              -1.0              55.415361               37.898917   \n",
       "2388              -1.0              55.415361               37.898917   \n",
       "2407              -1.0              55.415361               37.898917   \n",
       "2476              -1.0              55.415361               37.898917   \n",
       "2480              -1.0              55.415361               37.898917   \n",
       "2494              -1.0              55.415361               37.898917   \n",
       "2503              -1.0              55.415361               37.898917   \n",
       "2516              -1.0              55.415361               37.898917   \n",
       "\n",
       "      distance_km  duration_min offer_class_group ride_type_desc  \\\n",
       "565        -1.000         -1.00          Standard       business   \n",
       "2111       -1.000         -1.00          Standard       business   \n",
       "2129       83.923         81.35          Standard       business   \n",
       "2137       -1.000         -1.00          Standard       business   \n",
       "2142       70.529         65.00          Standard       business   \n",
       "2145       -1.000         -1.00          Standard       business   \n",
       "2183       -1.000         -1.00          Standard       business   \n",
       "2191       -1.000         -1.00          Standard       business   \n",
       "2221       -1.000         -1.00          Standard       business   \n",
       "2268       -1.000         -1.00          Standard       business   \n",
       "2314       -1.000         -1.00          Standard       business   \n",
       "2323       -1.000         -1.00          Standard       business   \n",
       "2340       -1.000         -1.00          Standard       business   \n",
       "2388       -1.000         -1.00          Standard       business   \n",
       "2407       -1.000         -1.00          Standard       business   \n",
       "2476       -1.000         -1.00          Standard       business   \n",
       "2480       -1.000         -1.00          Standard       business   \n",
       "2494       -1.000         -1.00          Standard       business   \n",
       "2503       -1.000         -1.00          Standard       business   \n",
       "2516       -1.000         -1.00          Standard       business   \n",
       "\n",
       "      driver_response  \n",
       "565                 1  \n",
       "2111                1  \n",
       "2129                1  \n",
       "2137                1  \n",
       "2142                1  \n",
       "2145                1  \n",
       "2183                1  \n",
       "2191                1  \n",
       "2221                1  \n",
       "2268                1  \n",
       "2314                1  \n",
       "2323                1  \n",
       "2340                1  \n",
       "2388                1  \n",
       "2407                1  \n",
       "2476                1  \n",
       "2480                1  \n",
       "2494                1  \n",
       "2503                1  \n",
       "2516                1  "
      ]
     },
     "execution_count": 10,
     "metadata": {},
     "output_type": "execute_result"
    }
   ],
   "source": [
    "data[data['driver_longitude']==-1].head(20)\n",
    "#пересечение выборки ширина и долгота"
   ]
  },
  {
   "cell_type": "code",
   "execution_count": 11,
   "metadata": {},
   "outputs": [
    {
     "data": {
      "text/plain": [
       "offer_gk                  13\n",
       "weekday_key               13\n",
       "hour_key                  13\n",
       "driver_gk                 13\n",
       "order_gk                  13\n",
       "driver_latitude           13\n",
       "driver_longitude          13\n",
       "origin_order_latitude     13\n",
       "origin_order_longitude    13\n",
       "distance_km               13\n",
       "duration_min              13\n",
       "offer_class_group         13\n",
       "ride_type_desc            13\n",
       "driver_response           13\n",
       "dtype: int64"
      ]
     },
     "execution_count": 11,
     "metadata": {},
     "output_type": "execute_result"
    }
   ],
   "source": [
    "data[data['origin_order_latitude']==-1].count()"
   ]
  },
  {
   "cell_type": "code",
   "execution_count": 12,
   "metadata": {
    "scrolled": true
   },
   "outputs": [
    {
     "data": {
      "text/plain": [
       "offer_gk                  13\n",
       "weekday_key               13\n",
       "hour_key                  13\n",
       "driver_gk                 13\n",
       "order_gk                  13\n",
       "driver_latitude           13\n",
       "driver_longitude          13\n",
       "origin_order_latitude     13\n",
       "origin_order_longitude    13\n",
       "distance_km               13\n",
       "duration_min              13\n",
       "offer_class_group         13\n",
       "ride_type_desc            13\n",
       "driver_response           13\n",
       "dtype: int64"
      ]
     },
     "execution_count": 12,
     "metadata": {},
     "output_type": "execute_result"
    }
   ],
   "source": [
    "data[data['origin_order_longitude']==-1].count()"
   ]
  },
  {
   "cell_type": "code",
   "execution_count": 13,
   "metadata": {
    "scrolled": false
   },
   "outputs": [
    {
     "data": {
      "text/plain": [
       "offer_gk                  26207\n",
       "weekday_key               26207\n",
       "hour_key                  26207\n",
       "driver_gk                 26207\n",
       "order_gk                  26207\n",
       "driver_latitude           26207\n",
       "driver_longitude          26207\n",
       "origin_order_latitude     26207\n",
       "origin_order_longitude    26207\n",
       "distance_km               26207\n",
       "duration_min              26207\n",
       "offer_class_group         26207\n",
       "ride_type_desc            26207\n",
       "driver_response           26207\n",
       "dtype: int64"
      ]
     },
     "execution_count": 13,
     "metadata": {},
     "output_type": "execute_result"
    }
   ],
   "source": [
    "data[data['distance_km']==-1].count()"
   ]
  },
  {
   "cell_type": "code",
   "execution_count": 34,
   "metadata": {
    "scrolled": true
   },
   "outputs": [
    {
     "data": {
      "text/plain": [
       "offer_gk                  152\n",
       "weekday_key               152\n",
       "hour_key                  152\n",
       "driver_gk                 152\n",
       "order_gk                  152\n",
       "driver_latitude           152\n",
       "driver_longitude          152\n",
       "origin_order_latitude     152\n",
       "origin_order_longitude    152\n",
       "distance_km               152\n",
       "duration_min              152\n",
       "offer_class_group         152\n",
       "ride_type_desc            152\n",
       "driver_response           152\n",
       "dtype: int64"
      ]
     },
     "execution_count": 34,
     "metadata": {},
     "output_type": "execute_result"
    }
   ],
   "source": [
    "data[data['distance_km']==0].count()"
   ]
  },
  {
   "cell_type": "code",
   "execution_count": 14,
   "metadata": {
    "scrolled": false
   },
   "outputs": [
    {
     "data": {
      "text/plain": [
       "offer_gk                  26207\n",
       "weekday_key               26207\n",
       "hour_key                  26207\n",
       "driver_gk                 26207\n",
       "order_gk                  26207\n",
       "driver_latitude           26207\n",
       "driver_longitude          26207\n",
       "origin_order_latitude     26207\n",
       "origin_order_longitude    26207\n",
       "distance_km               26207\n",
       "duration_min              26207\n",
       "offer_class_group         26207\n",
       "ride_type_desc            26207\n",
       "driver_response           26207\n",
       "dtype: int64"
      ]
     },
     "execution_count": 14,
     "metadata": {},
     "output_type": "execute_result"
    }
   ],
   "source": [
    "data[data['duration_min']==-1].count()"
   ]
  },
  {
   "cell_type": "code",
   "execution_count": 35,
   "metadata": {},
   "outputs": [
    {
     "data": {
      "text/plain": [
       "offer_gk                  152\n",
       "weekday_key               152\n",
       "hour_key                  152\n",
       "driver_gk                 152\n",
       "order_gk                  152\n",
       "driver_latitude           152\n",
       "driver_longitude          152\n",
       "origin_order_latitude     152\n",
       "origin_order_longitude    152\n",
       "distance_km               152\n",
       "duration_min              152\n",
       "offer_class_group         152\n",
       "ride_type_desc            152\n",
       "driver_response           152\n",
       "dtype: int64"
      ]
     },
     "execution_count": 35,
     "metadata": {},
     "output_type": "execute_result"
    }
   ],
   "source": [
    "data[data['duration_min']==0].count()"
   ]
  },
  {
   "cell_type": "code",
   "execution_count": 29,
   "metadata": {},
   "outputs": [
    {
     "data": {
      "text/plain": [
       "driver_response\n",
       "0    50752\n",
       "1    49248\n",
       "Name: driver_response, dtype: int64"
      ]
     },
     "execution_count": 29,
     "metadata": {},
     "output_type": "execute_result"
    }
   ],
   "source": [
    "data.groupby('driver_response').driver_response.count()"
   ]
  },
  {
   "cell_type": "markdown",
   "metadata": {},
   "source": [
    "driver_latitude - всего 140 пропусков можно удалить\n",
    "driver_longitude - всего 140 пропусков можно удалить + пересекаются по широте\n",
    "origin_order_latitude\t- всего 13 пропусков можно удалить\n",
    "origin_order_longitude - всего 13 пропусков можно удалить + пересекаются по широте\n",
    "distance_km - 26207 пропусков (-1). Очень много. потеря 26% дата сета при удалении. Пункт назначения не установлен (данные дата сета). Те условно свободная поезда по городу и платишь за время. Оставляем как есть. условно это классификационный признак. Можно подумать как с этим жить. Но я бы оставил как есть.\n",
    "distance_km - 152 значения где растояние (и длительность) равна 0. Уберем. Это не материально для выборки\n",
    "duration_min - пересекается с Км, см выше\n",
    "offer_class_group - 'Test' - вообще удалить. Оставить Economy и Standard. Остальные свернуть в группу OTHER. Иначе группы не сопоставимые\n",
    "ride_type_desc - оставляем private и business. Остальные схлопываем в OTHER"
   ]
  },
  {
   "cell_type": "markdown",
   "metadata": {},
   "source": [
    "#4. Оцените зависимости переменных между собой. Используйте корреляции. Будет хорошо, если воспользуетесь profile_report. Напишите в markdown свои наблюдения."
   ]
  },
  {
   "cell_type": "code",
   "execution_count": 31,
   "metadata": {
    "collapsed": true
   },
   "outputs": [],
   "source": [
    "import pandas_profiling as pp"
   ]
  },
  {
   "cell_type": "code",
   "execution_count": 32,
   "metadata": {
    "collapsed": true
   },
   "outputs": [],
   "source": [
    "report = pp.ProfileReport(data)\n",
    "report.to_file('profile_report.html')"
   ]
  },
  {
   "cell_type": "markdown",
   "metadata": {},
   "source": [
    "#см файл profile_report.html у меня что то не хочет показывать в ноутбуке данные профалера"
   ]
  },
  {
   "cell_type": "markdown",
   "metadata": {},
   "source": [
    "#Предупреждения вполне логичные. Но являются нормальными для этого дата сета.\n",
    "#распределение driver_gk дает задуматься - может вообще оставить в модели? всего 439 уникаьных значений (те 439 водителей, по идеи они имеют уникальную )\n",
    "#distance_km - нужно проанализировать выбросы. те посмотреть диаграмму >0. Какие там распределение. Это так же закроект по идеи вопрос по длительности поездки. Покзатели сильную корреляцию имеют. Кореляция длительности поездки и растояния сильно зависимые. уберем понятие длительности, оно избыточное. Это как бы вообще одно и тоже просто в разных единицах\n",
    "#hour_key - интересное распределение - заказывают в основном ближе к ночи. Но логично =)\n",
    "#weekday_key - тоже логичное распределение =)\n",
    "#кореляция между растоянием и продолжительностью, что писал выше\n",
    "#интересная кореляция между продолжительность\\растоянием и решением (целевой функции)\n",
    "#интересная связи типов и классов. Хотя новерное логично. переведем классификаторы в инты и потом посмотрим еще раз"
   ]
  },
  {
   "cell_type": "code",
   "execution_count": 70,
   "metadata": {
    "scrolled": false
   },
   "outputs": [
    {
     "data": {
      "text/plain": [
       "689"
      ]
     },
     "execution_count": 70,
     "metadata": {},
     "output_type": "execute_result"
    },
    {
     "data": {
      "image/png": "[encoded data removed]",
      "text/plain": [
       "<Figure size 576x396 with 1 Axes>"
      ]
     },
     "metadata": {},
     "output_type": "display_data"
    }
   ],
   "source": [
    "data[data['distance_km']>80].distance_km.hist(bins = 30)\n",
    "data[data['distance_km']>80].distance_km.count()"
   ]
  },
  {
   "cell_type": "code",
   "execution_count": 54,
   "metadata": {},
   "outputs": [
    {
     "data": {
      "text/plain": [
       "distance_km\n",
       "-1.000       26207\n",
       " 0.000         152\n",
       " 0.005           1\n",
       " 0.010           1\n",
       " 0.020           5\n",
       "             ...  \n",
       " 2120.626        1\n",
       " 3563.968        1\n",
       " 4177.900        1\n",
       " 5215.793        1\n",
       " 5234.283        1\n",
       "Name: distance_km, Length: 31297, dtype: int64"
      ]
     },
     "execution_count": 54,
     "metadata": {},
     "output_type": "execute_result"
    }
   ],
   "source": [
    "data.groupby('distance_km').distance_km.count()"
   ]
  },
  {
   "cell_type": "code",
   "execution_count": null,
   "metadata": {},
   "outputs": [],
   "source": [
    "#дистанцию больше 80 км тоже убираем. большие выбросы"
   ]
  },
  {
   "cell_type": "code",
   "execution_count": 75,
   "metadata": {},
   "outputs": [
    {
     "data": {
      "text/plain": [
       "<matplotlib.axes._subplots.AxesSubplot at 0x25903091780>"
      ]
     },
     "execution_count": 75,
     "metadata": {},
     "output_type": "execute_result"
    },
    {
     "data": {
      "image/png": "[encoded data removed]",
      "text/plain": [
       "<Figure size 576x396 with 1 Axes>"
      ]
     },
     "metadata": {},
     "output_type": "display_data"
    }
   ],
   "source": [
    "\n",
    "data[(data['distance_km']>0) & (data['distance_km']<1)].distance_km.hist(bins = 300)"
   ]
  },
  {
   "cell_type": "code",
   "execution_count": 83,
   "metadata": {},
   "outputs": [
    {
     "data": {
      "text/plain": [
       "477"
      ]
     },
     "execution_count": 83,
     "metadata": {},
     "output_type": "execute_result"
    }
   ],
   "source": [
    "data[(data['distance_km']>=0) & (data['distance_km']<=1)].distance_km.count()"
   ]
  },
  {
   "cell_type": "code",
   "execution_count": 80,
   "metadata": {
    "collapsed": true
   },
   "outputs": [],
   "source": [
    "#вообще убераем пробег менее или равно 1 км но больше или равно 0 и больше 80 км. это выбросы"
   ]
  },
  {
   "cell_type": "markdown",
   "metadata": {},
   "source": [
    "#5. Определите стратегию преобразования категориальных признаков (т.е. как их сделать адекватными для моделей)."
   ]
  },
  {
   "cell_type": "markdown",
   "metadata": {},
   "source": [
    "offer_class_group - 'Test' - вообще удалить. Оставить Economy и Standard. Остальные свернуть в группу OTHER. Иначе группы не сопоставимые\n",
    "ride_type_desc - оставляем private и business. Остальные схлопываем в OTHER - а может вообще удалим, посмотрим когда обрежим выбросы и то что выше"
   ]
  },
  {
   "cell_type": "code",
   "execution_count": 27,
   "metadata": {
    "scrolled": false
   },
   "outputs": [
    {
     "data": {
      "text/plain": [
       "offer_class_group\n",
       "Delivery     1290\n",
       "Economy     48335\n",
       "Kids          588\n",
       "Premium      1773\n",
       "Standard    47288\n",
       "Test            8\n",
       "VIP           225\n",
       "VIP+           29\n",
       "XL            464\n",
       "Name: offer_class_group, dtype: int64"
      ]
     },
     "execution_count": 27,
     "metadata": {},
     "output_type": "execute_result"
    }
   ],
   "source": [
    "data.groupby('offer_class_group').offer_class_group.count()"
   ]
  },
  {
   "cell_type": "code",
   "execution_count": 28,
   "metadata": {
    "scrolled": false
   },
   "outputs": [
    {
     "data": {
      "text/plain": [
       "ride_type_desc\n",
       "SMB             36\n",
       "affiliate      224\n",
       "business      8533\n",
       "private      91207\n",
       "Name: ride_type_desc, dtype: int64"
      ]
     },
     "execution_count": 28,
     "metadata": {},
     "output_type": "execute_result"
    }
   ],
   "source": [
    "data.groupby('ride_type_desc').ride_type_desc.count()"
   ]
  },
  {
   "cell_type": "markdown",
   "metadata": {},
   "source": [
    "#6. Найдите признаки, которые можно разделить на другие, или преобразовать в другой тип данных. Удалите лишние, при необходимости."
   ]
  },
  {
   "cell_type": "markdown",
   "metadata": {},
   "source": [
    "1. категорийные переводим в инты.\n",
    "2. Прогоним дополнительно на 2 версии преобразования в ван хот ин кодинг - но сначла глянем как отработает модель без этого\n",
    "3. Попробуе получить растояние от места нахождения водителя до места заказа - тут должна быть большая связь. После этогого координаты удалим\n"
   ]
  },
  {
   "cell_type": "code",
   "execution_count": 85,
   "metadata": {
    "collapsed": true
   },
   "outputs": [],
   "source": [
    "#начнем подготовку данных для модели"
   ]
  },
  {
   "cell_type": "code",
   "execution_count": 87,
   "metadata": {
    "scrolled": true
   },
   "outputs": [
    {
     "name": "stdout",
     "output_type": "stream",
     "text": [
      "<class 'pandas.core.frame.DataFrame'>\n",
      "RangeIndex: 100000 entries, 0 to 99999\n",
      "Data columns (total 14 columns):\n",
      "offer_gk                  100000 non-null int64\n",
      "weekday_key               100000 non-null int64\n",
      "hour_key                  100000 non-null int64\n",
      "driver_gk                 100000 non-null int64\n",
      "order_gk                  100000 non-null int64\n",
      "driver_latitude           100000 non-null float64\n",
      "driver_longitude          100000 non-null float64\n",
      "origin_order_latitude     100000 non-null float64\n",
      "origin_order_longitude    100000 non-null float64\n",
      "distance_km               100000 non-null float64\n",
      "duration_min              100000 non-null float64\n",
      "offer_class_group         100000 non-null object\n",
      "ride_type_desc            100000 non-null object\n",
      "driver_response           100000 non-null int64\n",
      "dtypes: float64(6), int64(6), object(2)\n",
      "memory usage: 10.7+ MB\n"
     ]
    }
   ],
   "source": [
    "data.info()"
   ]
  },
  {
   "cell_type": "code",
   "execution_count": 193,
   "metadata": {
    "collapsed": true
   },
   "outputs": [],
   "source": [
    "data_to_model = data.copy()"
   ]
  },
  {
   "cell_type": "code",
   "execution_count": 194,
   "metadata": {},
   "outputs": [
    {
     "name": "stdout",
     "output_type": "stream",
     "text": [
      "<class 'pandas.core.frame.DataFrame'>\n",
      "RangeIndex: 100000 entries, 0 to 99999\n",
      "Data columns (total 14 columns):\n",
      "offer_gk                  100000 non-null int64\n",
      "weekday_key               100000 non-null int64\n",
      "hour_key                  100000 non-null int64\n",
      "driver_gk                 100000 non-null int64\n",
      "order_gk                  100000 non-null int64\n",
      "driver_latitude           100000 non-null float64\n",
      "driver_longitude          100000 non-null float64\n",
      "origin_order_latitude     100000 non-null float64\n",
      "origin_order_longitude    100000 non-null float64\n",
      "distance_km               100000 non-null float64\n",
      "duration_min              100000 non-null float64\n",
      "offer_class_group         100000 non-null object\n",
      "ride_type_desc            100000 non-null object\n",
      "driver_response           100000 non-null int64\n",
      "dtypes: float64(6), int64(6), object(2)\n",
      "memory usage: 10.7+ MB\n"
     ]
    }
   ],
   "source": [
    "data_to_model.info()"
   ]
  },
  {
   "cell_type": "code",
   "execution_count": 195,
   "metadata": {},
   "outputs": [],
   "source": [
    "#оставляю только то что считаю нужным\n",
    "data_to_model = data_to_model[['weekday_key', 'hour_key', 'driver_latitude','driver_longitude','origin_order_latitude','origin_order_longitude','distance_km','offer_class_group','ride_type_desc','driver_response']]"
   ]
  },
  {
   "cell_type": "code",
   "execution_count": 196,
   "metadata": {
    "scrolled": true
   },
   "outputs": [
    {
     "data": {
      "text/html": [
       "<div>\n",
       "<style scoped>\n",
       "    .dataframe tbody tr th:only-of-type {\n",
       "        vertical-align: middle;\n",
       "    }\n",
       "\n",
       "    .dataframe tbody tr th {\n",
       "        vertical-align: top;\n",
       "    }\n",
       "\n",
       "    .dataframe thead th {\n",
       "        text-align: right;\n",
       "    }\n",
       "</style>\n",
       "<table border=\"1\" class=\"dataframe\">\n",
       "  <thead>\n",
       "    <tr style=\"text-align: right;\">\n",
       "      <th></th>\n",
       "      <th>weekday_key</th>\n",
       "      <th>hour_key</th>\n",
       "      <th>driver_latitude</th>\n",
       "      <th>driver_longitude</th>\n",
       "      <th>origin_order_latitude</th>\n",
       "      <th>origin_order_longitude</th>\n",
       "      <th>distance_km</th>\n",
       "      <th>offer_class_group</th>\n",
       "      <th>ride_type_desc</th>\n",
       "      <th>driver_response</th>\n",
       "    </tr>\n",
       "  </thead>\n",
       "  <tbody>\n",
       "    <tr>\n",
       "      <th>0</th>\n",
       "      <td>5</td>\n",
       "      <td>20</td>\n",
       "      <td>55.818842</td>\n",
       "      <td>37.334562</td>\n",
       "      <td>55.814567</td>\n",
       "      <td>37.355010</td>\n",
       "      <td>-1.000</td>\n",
       "      <td>Economy</td>\n",
       "      <td>private</td>\n",
       "      <td>0</td>\n",
       "    </tr>\n",
       "    <tr>\n",
       "      <th>1</th>\n",
       "      <td>5</td>\n",
       "      <td>14</td>\n",
       "      <td>55.805342</td>\n",
       "      <td>37.515023</td>\n",
       "      <td>55.819329</td>\n",
       "      <td>37.466398</td>\n",
       "      <td>18.802</td>\n",
       "      <td>Standard</td>\n",
       "      <td>private</td>\n",
       "      <td>1</td>\n",
       "    </tr>\n",
       "    <tr>\n",
       "      <th>2</th>\n",
       "      <td>6</td>\n",
       "      <td>14</td>\n",
       "      <td>55.813978</td>\n",
       "      <td>37.347688</td>\n",
       "      <td>55.814827</td>\n",
       "      <td>37.354074</td>\n",
       "      <td>6.747</td>\n",
       "      <td>Economy</td>\n",
       "      <td>private</td>\n",
       "      <td>0</td>\n",
       "    </tr>\n",
       "    <tr>\n",
       "      <th>3</th>\n",
       "      <td>2</td>\n",
       "      <td>6</td>\n",
       "      <td>55.745922</td>\n",
       "      <td>37.421748</td>\n",
       "      <td>55.743469</td>\n",
       "      <td>37.431130</td>\n",
       "      <td>-1.000</td>\n",
       "      <td>Economy</td>\n",
       "      <td>private</td>\n",
       "      <td>1</td>\n",
       "    </tr>\n",
       "    <tr>\n",
       "      <th>4</th>\n",
       "      <td>4</td>\n",
       "      <td>16</td>\n",
       "      <td>55.803578</td>\n",
       "      <td>37.521602</td>\n",
       "      <td>55.812559</td>\n",
       "      <td>37.527407</td>\n",
       "      <td>12.383</td>\n",
       "      <td>Economy</td>\n",
       "      <td>private</td>\n",
       "      <td>1</td>\n",
       "    </tr>\n",
       "  </tbody>\n",
       "</table>\n",
       "</div>"
      ],
      "text/plain": [
       "   weekday_key  hour_key  driver_latitude  driver_longitude  \\\n",
       "0            5        20        55.818842         37.334562   \n",
       "1            5        14        55.805342         37.515023   \n",
       "2            6        14        55.813978         37.347688   \n",
       "3            2         6        55.745922         37.421748   \n",
       "4            4        16        55.803578         37.521602   \n",
       "\n",
       "   origin_order_latitude  origin_order_longitude  distance_km  \\\n",
       "0              55.814567               37.355010       -1.000   \n",
       "1              55.819329               37.466398       18.802   \n",
       "2              55.814827               37.354074        6.747   \n",
       "3              55.743469               37.431130       -1.000   \n",
       "4              55.812559               37.527407       12.383   \n",
       "\n",
       "  offer_class_group ride_type_desc  driver_response  \n",
       "0           Economy        private                0  \n",
       "1          Standard        private                1  \n",
       "2           Economy        private                0  \n",
       "3           Economy        private                1  \n",
       "4           Economy        private                1  "
      ]
     },
     "execution_count": 196,
     "metadata": {},
     "output_type": "execute_result"
    }
   ],
   "source": [
    "data_to_model.head()"
   ]
  },
  {
   "cell_type": "code",
   "execution_count": 197,
   "metadata": {},
   "outputs": [
    {
     "data": {
      "text/plain": [
       "100000"
      ]
     },
     "execution_count": 197,
     "metadata": {},
     "output_type": "execute_result"
    }
   ],
   "source": [
    "data_to_model.weekday_key.count()"
   ]
  },
  {
   "cell_type": "code",
   "execution_count": 198,
   "metadata": {
    "collapsed": true
   },
   "outputs": [],
   "source": [
    "#сносим данные где нет координат водителя\n",
    "data_to_model = data_to_model[data_to_model['driver_latitude']!=-1]"
   ]
  },
  {
   "cell_type": "code",
   "execution_count": 199,
   "metadata": {
    "scrolled": false
   },
   "outputs": [
    {
     "data": {
      "text/html": [
       "<div>\n",
       "<style scoped>\n",
       "    .dataframe tbody tr th:only-of-type {\n",
       "        vertical-align: middle;\n",
       "    }\n",
       "\n",
       "    .dataframe tbody tr th {\n",
       "        vertical-align: top;\n",
       "    }\n",
       "\n",
       "    .dataframe thead th {\n",
       "        text-align: right;\n",
       "    }\n",
       "</style>\n",
       "<table border=\"1\" class=\"dataframe\">\n",
       "  <thead>\n",
       "    <tr style=\"text-align: right;\">\n",
       "      <th></th>\n",
       "      <th>weekday_key</th>\n",
       "      <th>hour_key</th>\n",
       "      <th>driver_latitude</th>\n",
       "      <th>driver_longitude</th>\n",
       "      <th>origin_order_latitude</th>\n",
       "      <th>origin_order_longitude</th>\n",
       "      <th>distance_km</th>\n",
       "      <th>offer_class_group</th>\n",
       "      <th>ride_type_desc</th>\n",
       "      <th>driver_response</th>\n",
       "    </tr>\n",
       "  </thead>\n",
       "  <tbody>\n",
       "    <tr>\n",
       "      <th>0</th>\n",
       "      <td>5</td>\n",
       "      <td>20</td>\n",
       "      <td>55.818842</td>\n",
       "      <td>37.334562</td>\n",
       "      <td>55.814567</td>\n",
       "      <td>37.355010</td>\n",
       "      <td>-1.000</td>\n",
       "      <td>Economy</td>\n",
       "      <td>private</td>\n",
       "      <td>0</td>\n",
       "    </tr>\n",
       "    <tr>\n",
       "      <th>1</th>\n",
       "      <td>5</td>\n",
       "      <td>14</td>\n",
       "      <td>55.805342</td>\n",
       "      <td>37.515023</td>\n",
       "      <td>55.819329</td>\n",
       "      <td>37.466398</td>\n",
       "      <td>18.802</td>\n",
       "      <td>Standard</td>\n",
       "      <td>private</td>\n",
       "      <td>1</td>\n",
       "    </tr>\n",
       "    <tr>\n",
       "      <th>2</th>\n",
       "      <td>6</td>\n",
       "      <td>14</td>\n",
       "      <td>55.813978</td>\n",
       "      <td>37.347688</td>\n",
       "      <td>55.814827</td>\n",
       "      <td>37.354074</td>\n",
       "      <td>6.747</td>\n",
       "      <td>Economy</td>\n",
       "      <td>private</td>\n",
       "      <td>0</td>\n",
       "    </tr>\n",
       "    <tr>\n",
       "      <th>3</th>\n",
       "      <td>2</td>\n",
       "      <td>6</td>\n",
       "      <td>55.745922</td>\n",
       "      <td>37.421748</td>\n",
       "      <td>55.743469</td>\n",
       "      <td>37.431130</td>\n",
       "      <td>-1.000</td>\n",
       "      <td>Economy</td>\n",
       "      <td>private</td>\n",
       "      <td>1</td>\n",
       "    </tr>\n",
       "    <tr>\n",
       "      <th>4</th>\n",
       "      <td>4</td>\n",
       "      <td>16</td>\n",
       "      <td>55.803578</td>\n",
       "      <td>37.521602</td>\n",
       "      <td>55.812559</td>\n",
       "      <td>37.527407</td>\n",
       "      <td>12.383</td>\n",
       "      <td>Economy</td>\n",
       "      <td>private</td>\n",
       "      <td>1</td>\n",
       "    </tr>\n",
       "  </tbody>\n",
       "</table>\n",
       "</div>"
      ],
      "text/plain": [
       "   weekday_key  hour_key  driver_latitude  driver_longitude  \\\n",
       "0            5        20        55.818842         37.334562   \n",
       "1            5        14        55.805342         37.515023   \n",
       "2            6        14        55.813978         37.347688   \n",
       "3            2         6        55.745922         37.421748   \n",
       "4            4        16        55.803578         37.521602   \n",
       "\n",
       "   origin_order_latitude  origin_order_longitude  distance_km  \\\n",
       "0              55.814567               37.355010       -1.000   \n",
       "1              55.819329               37.466398       18.802   \n",
       "2              55.814827               37.354074        6.747   \n",
       "3              55.743469               37.431130       -1.000   \n",
       "4              55.812559               37.527407       12.383   \n",
       "\n",
       "  offer_class_group ride_type_desc  driver_response  \n",
       "0           Economy        private                0  \n",
       "1          Standard        private                1  \n",
       "2           Economy        private                0  \n",
       "3           Economy        private                1  \n",
       "4           Economy        private                1  "
      ]
     },
     "execution_count": 199,
     "metadata": {},
     "output_type": "execute_result"
    }
   ],
   "source": [
    "data_to_model.head()"
   ]
  },
  {
   "cell_type": "code",
   "execution_count": 200,
   "metadata": {
    "scrolled": true
   },
   "outputs": [
    {
     "data": {
      "text/plain": [
       "99860"
      ]
     },
     "execution_count": 200,
     "metadata": {},
     "output_type": "execute_result"
    }
   ],
   "source": [
    "data_to_model.weekday_key.count()"
   ]
  },
  {
   "cell_type": "code",
   "execution_count": 201,
   "metadata": {
    "collapsed": true
   },
   "outputs": [],
   "source": [
    "#сносим где нет данных по месту нахождения заказчика\n",
    "data_to_model = data_to_model[data_to_model['origin_order_longitude']!=-1]"
   ]
  },
  {
   "cell_type": "code",
   "execution_count": 202,
   "metadata": {},
   "outputs": [
    {
     "data": {
      "text/plain": [
       "99847"
      ]
     },
     "execution_count": 202,
     "metadata": {},
     "output_type": "execute_result"
    }
   ],
   "source": [
    "data_to_model.weekday_key.count()"
   ]
  },
  {
   "cell_type": "code",
   "execution_count": 203,
   "metadata": {},
   "outputs": [
    {
     "data": {
      "text/plain": [
       "99163"
      ]
     },
     "execution_count": 203,
     "metadata": {},
     "output_type": "execute_result"
    }
   ],
   "source": [
    "#Убираем выбросы растояний\n",
    "#большое растояние\n",
    "data_to_model = data_to_model[data_to_model['distance_km']<80]\n",
    "data_to_model.weekday_key.count()"
   ]
  },
  {
   "cell_type": "code",
   "execution_count": 204,
   "metadata": {},
   "outputs": [],
   "source": [
    "#убираем где дистанция от 0 до 1 км. это выброс\n",
    "data_to_model = data_to_model.loc[(data_to_model['distance_km']<0) | (data_to_model['distance_km']>1)]"
   ]
  },
  {
   "cell_type": "code",
   "execution_count": 205,
   "metadata": {
    "scrolled": true
   },
   "outputs": [
    {
     "data": {
      "text/plain": [
       "98686"
      ]
     },
     "execution_count": 205,
     "metadata": {},
     "output_type": "execute_result"
    }
   ],
   "source": [
    "data_to_model.weekday_key.count()"
   ]
  },
  {
   "cell_type": "code",
   "execution_count": 206,
   "metadata": {
    "collapsed": true
   },
   "outputs": [],
   "source": [
    "#убираем тестовый класс\n",
    "data_to_model = data_to_model[data_to_model['offer_class_group']!='Test']\n"
   ]
  },
  {
   "cell_type": "code",
   "execution_count": 207,
   "metadata": {},
   "outputs": [
    {
     "data": {
      "text/plain": [
       "98678"
      ]
     },
     "execution_count": 207,
     "metadata": {},
     "output_type": "execute_result"
    }
   ],
   "source": [
    "data_to_model.weekday_key.count()"
   ]
  },
  {
   "cell_type": "code",
   "execution_count": 208,
   "metadata": {
    "collapsed": true
   },
   "outputs": [],
   "source": [
    "#перегруппировываем признаки offer_class_group и переводим их в инт"
   ]
  },
  {
   "cell_type": "code",
   "execution_count": 209,
   "metadata": {
    "scrolled": true
   },
   "outputs": [
    {
     "data": {
      "text/plain": [
       "offer_class_group\n",
       "Delivery     1290\n",
       "Economy     48335\n",
       "Kids          588\n",
       "Premium      1773\n",
       "Standard    47288\n",
       "Test            8\n",
       "VIP           225\n",
       "VIP+           29\n",
       "XL            464\n",
       "Name: offer_class_group, dtype: int64"
      ]
     },
     "execution_count": 209,
     "metadata": {},
     "output_type": "execute_result"
    }
   ],
   "source": [
    "data.groupby('offer_class_group').offer_class_group.count()"
   ]
  },
  {
   "cell_type": "code",
   "execution_count": 210,
   "metadata": {
    "collapsed": true
   },
   "outputs": [],
   "source": [
    "dict_class = {'Economy':1,\n",
    "       'Standard': 2,\n",
    "       'Delivery':3,\n",
    "       'Kids':3,\n",
    "       'Premium':3,\n",
    "        'VIP':3,\n",
    "        'VIP+':3,\n",
    "        'XL':3\n",
    "      }"
   ]
  },
  {
   "cell_type": "code",
   "execution_count": 211,
   "metadata": {
    "collapsed": true
   },
   "outputs": [],
   "source": [
    "data_to_model['class'] = data_to_model.offer_class_group.replace(dict_class)\n",
    "data_to_model = data_to_model[['weekday_key', 'hour_key', 'driver_latitude','driver_longitude','origin_order_latitude','origin_order_longitude','distance_km','class','ride_type_desc','driver_response']]"
   ]
  },
  {
   "cell_type": "code",
   "execution_count": 212,
   "metadata": {},
   "outputs": [
    {
     "data": {
      "text/html": [
       "<div>\n",
       "<style scoped>\n",
       "    .dataframe tbody tr th:only-of-type {\n",
       "        vertical-align: middle;\n",
       "    }\n",
       "\n",
       "    .dataframe tbody tr th {\n",
       "        vertical-align: top;\n",
       "    }\n",
       "\n",
       "    .dataframe thead th {\n",
       "        text-align: right;\n",
       "    }\n",
       "</style>\n",
       "<table border=\"1\" class=\"dataframe\">\n",
       "  <thead>\n",
       "    <tr style=\"text-align: right;\">\n",
       "      <th></th>\n",
       "      <th>weekday_key</th>\n",
       "      <th>hour_key</th>\n",
       "      <th>driver_latitude</th>\n",
       "      <th>driver_longitude</th>\n",
       "      <th>origin_order_latitude</th>\n",
       "      <th>origin_order_longitude</th>\n",
       "      <th>distance_km</th>\n",
       "      <th>class</th>\n",
       "      <th>ride_type_desc</th>\n",
       "      <th>driver_response</th>\n",
       "    </tr>\n",
       "  </thead>\n",
       "  <tbody>\n",
       "    <tr>\n",
       "      <th>0</th>\n",
       "      <td>5</td>\n",
       "      <td>20</td>\n",
       "      <td>55.818842</td>\n",
       "      <td>37.334562</td>\n",
       "      <td>55.814567</td>\n",
       "      <td>37.355010</td>\n",
       "      <td>-1.000</td>\n",
       "      <td>1</td>\n",
       "      <td>private</td>\n",
       "      <td>0</td>\n",
       "    </tr>\n",
       "    <tr>\n",
       "      <th>1</th>\n",
       "      <td>5</td>\n",
       "      <td>14</td>\n",
       "      <td>55.805342</td>\n",
       "      <td>37.515023</td>\n",
       "      <td>55.819329</td>\n",
       "      <td>37.466398</td>\n",
       "      <td>18.802</td>\n",
       "      <td>2</td>\n",
       "      <td>private</td>\n",
       "      <td>1</td>\n",
       "    </tr>\n",
       "    <tr>\n",
       "      <th>2</th>\n",
       "      <td>6</td>\n",
       "      <td>14</td>\n",
       "      <td>55.813978</td>\n",
       "      <td>37.347688</td>\n",
       "      <td>55.814827</td>\n",
       "      <td>37.354074</td>\n",
       "      <td>6.747</td>\n",
       "      <td>1</td>\n",
       "      <td>private</td>\n",
       "      <td>0</td>\n",
       "    </tr>\n",
       "    <tr>\n",
       "      <th>3</th>\n",
       "      <td>2</td>\n",
       "      <td>6</td>\n",
       "      <td>55.745922</td>\n",
       "      <td>37.421748</td>\n",
       "      <td>55.743469</td>\n",
       "      <td>37.431130</td>\n",
       "      <td>-1.000</td>\n",
       "      <td>1</td>\n",
       "      <td>private</td>\n",
       "      <td>1</td>\n",
       "    </tr>\n",
       "    <tr>\n",
       "      <th>4</th>\n",
       "      <td>4</td>\n",
       "      <td>16</td>\n",
       "      <td>55.803578</td>\n",
       "      <td>37.521602</td>\n",
       "      <td>55.812559</td>\n",
       "      <td>37.527407</td>\n",
       "      <td>12.383</td>\n",
       "      <td>1</td>\n",
       "      <td>private</td>\n",
       "      <td>1</td>\n",
       "    </tr>\n",
       "  </tbody>\n",
       "</table>\n",
       "</div>"
      ],
      "text/plain": [
       "   weekday_key  hour_key  driver_latitude  driver_longitude  \\\n",
       "0            5        20        55.818842         37.334562   \n",
       "1            5        14        55.805342         37.515023   \n",
       "2            6        14        55.813978         37.347688   \n",
       "3            2         6        55.745922         37.421748   \n",
       "4            4        16        55.803578         37.521602   \n",
       "\n",
       "   origin_order_latitude  origin_order_longitude  distance_km  class  \\\n",
       "0              55.814567               37.355010       -1.000      1   \n",
       "1              55.819329               37.466398       18.802      2   \n",
       "2              55.814827               37.354074        6.747      1   \n",
       "3              55.743469               37.431130       -1.000      1   \n",
       "4              55.812559               37.527407       12.383      1   \n",
       "\n",
       "  ride_type_desc  driver_response  \n",
       "0        private                0  \n",
       "1        private                1  \n",
       "2        private                0  \n",
       "3        private                1  \n",
       "4        private                1  "
      ]
     },
     "execution_count": 212,
     "metadata": {},
     "output_type": "execute_result"
    }
   ],
   "source": [
    "data_to_model.head()"
   ]
  },
  {
   "cell_type": "code",
   "execution_count": 213,
   "metadata": {
    "scrolled": true
   },
   "outputs": [
    {
     "data": {
      "text/plain": [
       "class\n",
       "1    47705\n",
       "2    46669\n",
       "3     4304\n",
       "Name: class, dtype: int64"
      ]
     },
     "execution_count": 213,
     "metadata": {},
     "output_type": "execute_result"
    }
   ],
   "source": [
    "data_to_model.groupby('class')['class'].count()"
   ]
  },
  {
   "cell_type": "code",
   "execution_count": 214,
   "metadata": {
    "collapsed": true
   },
   "outputs": [],
   "source": [
    "#группы встали нормально"
   ]
  },
  {
   "cell_type": "code",
   "execution_count": 215,
   "metadata": {
    "scrolled": true
   },
   "outputs": [
    {
     "data": {
      "text/plain": [
       "ride_type_desc\n",
       "SMB             28\n",
       "affiliate      224\n",
       "business      8399\n",
       "private      90027\n",
       "Name: ride_type_desc, dtype: int64"
      ]
     },
     "execution_count": 215,
     "metadata": {},
     "output_type": "execute_result"
    }
   ],
   "source": [
    "data_to_model.groupby('ride_type_desc').ride_type_desc.count()"
   ]
  },
  {
   "cell_type": "code",
   "execution_count": 216,
   "metadata": {
    "collapsed": true
   },
   "outputs": [],
   "source": [
    "dict_type = {'private':1,\n",
    "       'business': 2,\n",
    "       'affiliate':3,\n",
    "       'SMB':3\n",
    "      }"
   ]
  },
  {
   "cell_type": "code",
   "execution_count": 217,
   "metadata": {
    "collapsed": true
   },
   "outputs": [],
   "source": [
    "data_to_model['type'] = data_to_model.ride_type_desc.replace(dict_type)\n",
    "data_to_model = data_to_model[['weekday_key', 'hour_key', 'driver_latitude','driver_longitude','origin_order_latitude','origin_order_longitude','distance_km','class','type','driver_response']]"
   ]
  },
  {
   "cell_type": "code",
   "execution_count": 218,
   "metadata": {
    "scrolled": true
   },
   "outputs": [
    {
     "data": {
      "text/plain": [
       "type\n",
       "1    90027\n",
       "2     8399\n",
       "3      252\n",
       "Name: type, dtype: int64"
      ]
     },
     "execution_count": 218,
     "metadata": {},
     "output_type": "execute_result"
    }
   ],
   "source": [
    "data_to_model.groupby('type')['type'].count()"
   ]
  },
  {
   "cell_type": "code",
   "execution_count": 219,
   "metadata": {},
   "outputs": [],
   "source": [
    "from geopy.distance import geodesic"
   ]
  },
  {
   "cell_type": "code",
   "execution_count": 220,
   "metadata": {},
   "outputs": [
    {
     "data": {
      "text/html": [
       "<div>\n",
       "<style scoped>\n",
       "    .dataframe tbody tr th:only-of-type {\n",
       "        vertical-align: middle;\n",
       "    }\n",
       "\n",
       "    .dataframe tbody tr th {\n",
       "        vertical-align: top;\n",
       "    }\n",
       "\n",
       "    .dataframe thead th {\n",
       "        text-align: right;\n",
       "    }\n",
       "</style>\n",
       "<table border=\"1\" class=\"dataframe\">\n",
       "  <thead>\n",
       "    <tr style=\"text-align: right;\">\n",
       "      <th></th>\n",
       "      <th>weekday_key</th>\n",
       "      <th>hour_key</th>\n",
       "      <th>driver_latitude</th>\n",
       "      <th>driver_longitude</th>\n",
       "      <th>origin_order_latitude</th>\n",
       "      <th>origin_order_longitude</th>\n",
       "      <th>distance_km</th>\n",
       "      <th>class</th>\n",
       "      <th>type</th>\n",
       "      <th>driver_response</th>\n",
       "    </tr>\n",
       "  </thead>\n",
       "  <tbody>\n",
       "    <tr>\n",
       "      <th>0</th>\n",
       "      <td>5</td>\n",
       "      <td>20</td>\n",
       "      <td>55.818842</td>\n",
       "      <td>37.334562</td>\n",
       "      <td>55.814567</td>\n",
       "      <td>37.355010</td>\n",
       "      <td>-1.000</td>\n",
       "      <td>1</td>\n",
       "      <td>1</td>\n",
       "      <td>0</td>\n",
       "    </tr>\n",
       "    <tr>\n",
       "      <th>1</th>\n",
       "      <td>5</td>\n",
       "      <td>14</td>\n",
       "      <td>55.805342</td>\n",
       "      <td>37.515023</td>\n",
       "      <td>55.819329</td>\n",
       "      <td>37.466398</td>\n",
       "      <td>18.802</td>\n",
       "      <td>2</td>\n",
       "      <td>1</td>\n",
       "      <td>1</td>\n",
       "    </tr>\n",
       "    <tr>\n",
       "      <th>2</th>\n",
       "      <td>6</td>\n",
       "      <td>14</td>\n",
       "      <td>55.813978</td>\n",
       "      <td>37.347688</td>\n",
       "      <td>55.814827</td>\n",
       "      <td>37.354074</td>\n",
       "      <td>6.747</td>\n",
       "      <td>1</td>\n",
       "      <td>1</td>\n",
       "      <td>0</td>\n",
       "    </tr>\n",
       "    <tr>\n",
       "      <th>3</th>\n",
       "      <td>2</td>\n",
       "      <td>6</td>\n",
       "      <td>55.745922</td>\n",
       "      <td>37.421748</td>\n",
       "      <td>55.743469</td>\n",
       "      <td>37.431130</td>\n",
       "      <td>-1.000</td>\n",
       "      <td>1</td>\n",
       "      <td>1</td>\n",
       "      <td>1</td>\n",
       "    </tr>\n",
       "    <tr>\n",
       "      <th>4</th>\n",
       "      <td>4</td>\n",
       "      <td>16</td>\n",
       "      <td>55.803578</td>\n",
       "      <td>37.521602</td>\n",
       "      <td>55.812559</td>\n",
       "      <td>37.527407</td>\n",
       "      <td>12.383</td>\n",
       "      <td>1</td>\n",
       "      <td>1</td>\n",
       "      <td>1</td>\n",
       "    </tr>\n",
       "  </tbody>\n",
       "</table>\n",
       "</div>"
      ],
      "text/plain": [
       "   weekday_key  hour_key  driver_latitude  driver_longitude  \\\n",
       "0            5        20        55.818842         37.334562   \n",
       "1            5        14        55.805342         37.515023   \n",
       "2            6        14        55.813978         37.347688   \n",
       "3            2         6        55.745922         37.421748   \n",
       "4            4        16        55.803578         37.521602   \n",
       "\n",
       "   origin_order_latitude  origin_order_longitude  distance_km  class  type  \\\n",
       "0              55.814567               37.355010       -1.000      1     1   \n",
       "1              55.819329               37.466398       18.802      2     1   \n",
       "2              55.814827               37.354074        6.747      1     1   \n",
       "3              55.743469               37.431130       -1.000      1     1   \n",
       "4              55.812559               37.527407       12.383      1     1   \n",
       "\n",
       "   driver_response  \n",
       "0                0  \n",
       "1                1  \n",
       "2                0  \n",
       "3                1  \n",
       "4                1  "
      ]
     },
     "execution_count": 220,
     "metadata": {},
     "output_type": "execute_result"
    }
   ],
   "source": [
    "data_to_model.head()"
   ]
  },
  {
   "cell_type": "code",
   "execution_count": 239,
   "metadata": {
    "scrolled": true
   },
   "outputs": [
    {
     "name": "stdout",
     "output_type": "stream",
     "text": [
      "1.367355375189808\n"
     ]
    }
   ],
   "source": [
    "t1 = (55.818842,37.334562)\n",
    "t2 = (55.814567,37.355010)\n",
    "print(geodesic(t1,t2).km)"
   ]
  },
  {
   "cell_type": "code",
   "execution_count": 247,
   "metadata": {},
   "outputs": [
    {
     "name": "stdout",
     "output_type": "stream",
     "text": [
      "3.423259731639396\n"
     ]
    }
   ],
   "source": [
    "t1 = (55.805342,37.515023)\n",
    "t2 = (55.819329,37.466398)\n",
    "print(geodesic(t1,t2).km)"
   ]
  },
  {
   "cell_type": "code",
   "execution_count": null,
   "metadata": {
    "collapsed": true
   },
   "outputs": [],
   "source": []
  },
  {
   "cell_type": "code",
   "execution_count": 249,
   "metadata": {
    "collapsed": true
   },
   "outputs": [],
   "source": [
    "def distancer(row):\n",
    "    t_1 = (row.driver_latitude, row.driver_longitude)\n",
    "    t_2 = (row.origin_order_latitude, row.origin_order_longitude)\n",
    "    return geodesic(t_1,t_2).km"
   ]
  },
  {
   "cell_type": "code",
   "execution_count": 250,
   "metadata": {
    "scrolled": true
   },
   "outputs": [],
   "source": [
    "\n",
    "data_to_model['distance_km_ord'] = data_to_model.apply(distancer, axis=1)"
   ]
  },
  {
   "cell_type": "code",
   "execution_count": 251,
   "metadata": {
    "scrolled": true
   },
   "outputs": [
    {
     "data": {
      "text/html": [
       "<div>\n",
       "<style scoped>\n",
       "    .dataframe tbody tr th:only-of-type {\n",
       "        vertical-align: middle;\n",
       "    }\n",
       "\n",
       "    .dataframe tbody tr th {\n",
       "        vertical-align: top;\n",
       "    }\n",
       "\n",
       "    .dataframe thead th {\n",
       "        text-align: right;\n",
       "    }\n",
       "</style>\n",
       "<table border=\"1\" class=\"dataframe\">\n",
       "  <thead>\n",
       "    <tr style=\"text-align: right;\">\n",
       "      <th></th>\n",
       "      <th>weekday_key</th>\n",
       "      <th>hour_key</th>\n",
       "      <th>driver_latitude</th>\n",
       "      <th>driver_longitude</th>\n",
       "      <th>origin_order_latitude</th>\n",
       "      <th>origin_order_longitude</th>\n",
       "      <th>distance_km</th>\n",
       "      <th>class</th>\n",
       "      <th>type</th>\n",
       "      <th>driver_response</th>\n",
       "      <th>distance_km_ord</th>\n",
       "    </tr>\n",
       "  </thead>\n",
       "  <tbody>\n",
       "    <tr>\n",
       "      <th>0</th>\n",
       "      <td>5</td>\n",
       "      <td>20</td>\n",
       "      <td>55.818842</td>\n",
       "      <td>37.334562</td>\n",
       "      <td>55.814567</td>\n",
       "      <td>37.355010</td>\n",
       "      <td>-1.000</td>\n",
       "      <td>1</td>\n",
       "      <td>1</td>\n",
       "      <td>0</td>\n",
       "      <td>1.367355</td>\n",
       "    </tr>\n",
       "    <tr>\n",
       "      <th>1</th>\n",
       "      <td>5</td>\n",
       "      <td>14</td>\n",
       "      <td>55.805342</td>\n",
       "      <td>37.515023</td>\n",
       "      <td>55.819329</td>\n",
       "      <td>37.466398</td>\n",
       "      <td>18.802</td>\n",
       "      <td>2</td>\n",
       "      <td>1</td>\n",
       "      <td>1</td>\n",
       "      <td>3.423260</td>\n",
       "    </tr>\n",
       "    <tr>\n",
       "      <th>2</th>\n",
       "      <td>6</td>\n",
       "      <td>14</td>\n",
       "      <td>55.813978</td>\n",
       "      <td>37.347688</td>\n",
       "      <td>55.814827</td>\n",
       "      <td>37.354074</td>\n",
       "      <td>6.747</td>\n",
       "      <td>1</td>\n",
       "      <td>1</td>\n",
       "      <td>0</td>\n",
       "      <td>0.411356</td>\n",
       "    </tr>\n",
       "    <tr>\n",
       "      <th>3</th>\n",
       "      <td>2</td>\n",
       "      <td>6</td>\n",
       "      <td>55.745922</td>\n",
       "      <td>37.421748</td>\n",
       "      <td>55.743469</td>\n",
       "      <td>37.431130</td>\n",
       "      <td>-1.000</td>\n",
       "      <td>1</td>\n",
       "      <td>1</td>\n",
       "      <td>1</td>\n",
       "      <td>0.649440</td>\n",
       "    </tr>\n",
       "    <tr>\n",
       "      <th>4</th>\n",
       "      <td>4</td>\n",
       "      <td>16</td>\n",
       "      <td>55.803578</td>\n",
       "      <td>37.521602</td>\n",
       "      <td>55.812559</td>\n",
       "      <td>37.527407</td>\n",
       "      <td>12.383</td>\n",
       "      <td>1</td>\n",
       "      <td>1</td>\n",
       "      <td>1</td>\n",
       "      <td>1.064116</td>\n",
       "    </tr>\n",
       "  </tbody>\n",
       "</table>\n",
       "</div>"
      ],
      "text/plain": [
       "   weekday_key  hour_key  driver_latitude  driver_longitude  \\\n",
       "0            5        20        55.818842         37.334562   \n",
       "1            5        14        55.805342         37.515023   \n",
       "2            6        14        55.813978         37.347688   \n",
       "3            2         6        55.745922         37.421748   \n",
       "4            4        16        55.803578         37.521602   \n",
       "\n",
       "   origin_order_latitude  origin_order_longitude  distance_km  class  type  \\\n",
       "0              55.814567               37.355010       -1.000      1     1   \n",
       "1              55.819329               37.466398       18.802      2     1   \n",
       "2              55.814827               37.354074        6.747      1     1   \n",
       "3              55.743469               37.431130       -1.000      1     1   \n",
       "4              55.812559               37.527407       12.383      1     1   \n",
       "\n",
       "   driver_response  distance_km_ord  \n",
       "0                0         1.367355  \n",
       "1                1         3.423260  \n",
       "2                0         0.411356  \n",
       "3                1         0.649440  \n",
       "4                1         1.064116  "
      ]
     },
     "execution_count": 251,
     "metadata": {},
     "output_type": "execute_result"
    }
   ],
   "source": [
    "data_to_model.head()"
   ]
  },
  {
   "cell_type": "code",
   "execution_count": 252,
   "metadata": {},
   "outputs": [
    {
     "data": {
      "text/plain": [
       "distance_km_ord\n",
       "0.000000       247\n",
       "0.000062         2\n",
       "0.000062         6\n",
       "0.000063         5\n",
       "0.000111        49\n",
       "              ... \n",
       "13.561707        1\n",
       "17.296709        1\n",
       "17.459780        1\n",
       "22.358308        1\n",
       "7035.421094      1\n",
       "Name: distance_km_ord, Length: 73608, dtype: int64"
      ]
     },
     "execution_count": 252,
     "metadata": {},
     "output_type": "execute_result"
    }
   ],
   "source": [
    "data_to_model.groupby('distance_km_ord')['distance_km_ord'].count()"
   ]
  },
  {
   "cell_type": "code",
   "execution_count": 254,
   "metadata": {
    "scrolled": false
   },
   "outputs": [
    {
     "data": {
      "text/plain": [
       "count    98678.000000\n",
       "mean         1.061882\n",
       "std         22.413433\n",
       "min          0.000000\n",
       "25%          0.405623\n",
       "50%          0.655737\n",
       "75%          1.320940\n",
       "max       7035.421094\n",
       "Name: distance_km_ord, dtype: float64"
      ]
     },
     "execution_count": 254,
     "metadata": {},
     "output_type": "execute_result"
    }
   ],
   "source": [
    "#дистанцию посчитал. но что за 7к километров\n",
    "data_to_model.distance_km_ord.describe()"
   ]
  },
  {
   "cell_type": "code",
   "execution_count": 256,
   "metadata": {},
   "outputs": [
    {
     "data": {
      "text/html": [
       "<div>\n",
       "<style scoped>\n",
       "    .dataframe tbody tr th:only-of-type {\n",
       "        vertical-align: middle;\n",
       "    }\n",
       "\n",
       "    .dataframe tbody tr th {\n",
       "        vertical-align: top;\n",
       "    }\n",
       "\n",
       "    .dataframe thead th {\n",
       "        text-align: right;\n",
       "    }\n",
       "</style>\n",
       "<table border=\"1\" class=\"dataframe\">\n",
       "  <thead>\n",
       "    <tr style=\"text-align: right;\">\n",
       "      <th></th>\n",
       "      <th>weekday_key</th>\n",
       "      <th>hour_key</th>\n",
       "      <th>driver_latitude</th>\n",
       "      <th>driver_longitude</th>\n",
       "      <th>origin_order_latitude</th>\n",
       "      <th>origin_order_longitude</th>\n",
       "      <th>distance_km</th>\n",
       "      <th>class</th>\n",
       "      <th>type</th>\n",
       "      <th>driver_response</th>\n",
       "      <th>distance_km_ord</th>\n",
       "    </tr>\n",
       "  </thead>\n",
       "  <tbody>\n",
       "    <tr>\n",
       "      <th>55260</th>\n",
       "      <td>0</td>\n",
       "      <td>14</td>\n",
       "      <td>0.0</td>\n",
       "      <td>0.0</td>\n",
       "      <td>55.410307</td>\n",
       "      <td>37.902451</td>\n",
       "      <td>43.726</td>\n",
       "      <td>1</td>\n",
       "      <td>1</td>\n",
       "      <td>0</td>\n",
       "      <td>7035.421094</td>\n",
       "    </tr>\n",
       "  </tbody>\n",
       "</table>\n",
       "</div>"
      ],
      "text/plain": [
       "       weekday_key  hour_key  driver_latitude  driver_longitude  \\\n",
       "55260            0        14              0.0               0.0   \n",
       "\n",
       "       origin_order_latitude  origin_order_longitude  distance_km  class  \\\n",
       "55260              55.410307               37.902451       43.726      1   \n",
       "\n",
       "       type  driver_response  distance_km_ord  \n",
       "55260     1                0      7035.421094  "
      ]
     },
     "execution_count": 256,
     "metadata": {},
     "output_type": "execute_result"
    }
   ],
   "source": [
    "data_to_model[data_to_model.distance_km_ord>7000]"
   ]
  },
  {
   "cell_type": "code",
   "execution_count": 257,
   "metadata": {
    "collapsed": true
   },
   "outputs": [],
   "source": [
    "#еще раз чистим. координаты водитяля не должны быть равны 0\n",
    "data_to_model = data_to_model[data_to_model['driver_latitude']!=0]"
   ]
  },
  {
   "cell_type": "code",
   "execution_count": 258,
   "metadata": {},
   "outputs": [
    {
     "data": {
      "text/plain": [
       "count    98677.000000\n",
       "mean         0.990595\n",
       "std          0.948967\n",
       "min          0.000000\n",
       "25%          0.405623\n",
       "50%          0.655734\n",
       "75%          1.320920\n",
       "max         22.358308\n",
       "Name: distance_km_ord, dtype: float64"
      ]
     },
     "execution_count": 258,
     "metadata": {},
     "output_type": "execute_result"
    }
   ],
   "source": [
    "data_to_model.distance_km_ord.describe()"
   ]
  },
  {
   "cell_type": "code",
   "execution_count": 259,
   "metadata": {},
   "outputs": [
    {
     "data": {
      "text/plain": [
       "<matplotlib.axes._subplots.AxesSubplot at 0x259014de860>"
      ]
     },
     "execution_count": 259,
     "metadata": {},
     "output_type": "execute_result"
    },
    {
     "data": {
      "image/png": "[encoded data removed]",
      "text/plain": [
       "<Figure size 576x396 with 1 Axes>"
      ]
     },
     "metadata": {},
     "output_type": "display_data"
    }
   ],
   "source": [
    "data_to_model.distance_km_ord.hist()"
   ]
  },
  {
   "cell_type": "code",
   "execution_count": 271,
   "metadata": {
    "scrolled": true
   },
   "outputs": [
    {
     "data": {
      "text/plain": [
       "247"
      ]
     },
     "execution_count": 271,
     "metadata": {},
     "output_type": "execute_result"
    }
   ],
   "source": [
    "data_to_model[data_to_model.distance_km_ord<=0].distance_km_ord.count()"
   ]
  },
  {
   "cell_type": "code",
   "execution_count": 272,
   "metadata": {},
   "outputs": [
    {
     "data": {
      "text/plain": [
       "120"
      ]
     },
     "execution_count": 272,
     "metadata": {},
     "output_type": "execute_result"
    }
   ],
   "source": [
    "data_to_model[data_to_model.distance_km_ord>=6].distance_km_ord.count()"
   ]
  },
  {
   "cell_type": "code",
   "execution_count": 273,
   "metadata": {},
   "outputs": [
    {
     "data": {
      "text/plain": [
       "98677"
      ]
     },
     "execution_count": 273,
     "metadata": {},
     "output_type": "execute_result"
    }
   ],
   "source": [
    "#зачистим выбросы по дистанциям от водителя к заказчику\n",
    "data_to_model.distance_km.count()"
   ]
  },
  {
   "cell_type": "code",
   "execution_count": 274,
   "metadata": {
    "collapsed": true
   },
   "outputs": [],
   "source": [
    "data_to_model = data_to_model[data_to_model.distance_km_ord>0]\n",
    "data_to_model = data_to_model[data_to_model.distance_km_ord<6]"
   ]
  },
  {
   "cell_type": "code",
   "execution_count": 275,
   "metadata": {
    "scrolled": true
   },
   "outputs": [
    {
     "data": {
      "text/plain": [
       "98310"
      ]
     },
     "execution_count": 275,
     "metadata": {},
     "output_type": "execute_result"
    }
   ],
   "source": [
    "data_to_model.distance_km.count()"
   ]
  },
  {
   "cell_type": "code",
   "execution_count": 278,
   "metadata": {},
   "outputs": [
    {
     "name": "stdout",
     "output_type": "stream",
     "text": [
      "-1.6900000000000026\n"
     ]
    }
   ],
   "source": [
    "print((98310/100000-1)*100)"
   ]
  },
  {
   "cell_type": "code",
   "execution_count": 279,
   "metadata": {
    "collapsed": true
   },
   "outputs": [],
   "source": [
    "#потеряли менее 2% данных"
   ]
  },
  {
   "cell_type": "code",
   "execution_count": 280,
   "metadata": {
    "collapsed": true
   },
   "outputs": [],
   "source": [
    "data_to_model = data_to_model[['weekday_key', 'hour_key','distance_km','distance_km_ord','class','type','driver_response']]"
   ]
  },
  {
   "cell_type": "code",
   "execution_count": 281,
   "metadata": {
    "scrolled": true
   },
   "outputs": [
    {
     "data": {
      "text/html": [
       "<div>\n",
       "<style scoped>\n",
       "    .dataframe tbody tr th:only-of-type {\n",
       "        vertical-align: middle;\n",
       "    }\n",
       "\n",
       "    .dataframe tbody tr th {\n",
       "        vertical-align: top;\n",
       "    }\n",
       "\n",
       "    .dataframe thead th {\n",
       "        text-align: right;\n",
       "    }\n",
       "</style>\n",
       "<table border=\"1\" class=\"dataframe\">\n",
       "  <thead>\n",
       "    <tr style=\"text-align: right;\">\n",
       "      <th></th>\n",
       "      <th>weekday_key</th>\n",
       "      <th>hour_key</th>\n",
       "      <th>distance_km</th>\n",
       "      <th>distance_km_ord</th>\n",
       "      <th>class</th>\n",
       "      <th>type</th>\n",
       "      <th>driver_response</th>\n",
       "    </tr>\n",
       "  </thead>\n",
       "  <tbody>\n",
       "    <tr>\n",
       "      <th>0</th>\n",
       "      <td>5</td>\n",
       "      <td>20</td>\n",
       "      <td>-1.000</td>\n",
       "      <td>1.367355</td>\n",
       "      <td>1</td>\n",
       "      <td>1</td>\n",
       "      <td>0</td>\n",
       "    </tr>\n",
       "    <tr>\n",
       "      <th>1</th>\n",
       "      <td>5</td>\n",
       "      <td>14</td>\n",
       "      <td>18.802</td>\n",
       "      <td>3.423260</td>\n",
       "      <td>2</td>\n",
       "      <td>1</td>\n",
       "      <td>1</td>\n",
       "    </tr>\n",
       "    <tr>\n",
       "      <th>2</th>\n",
       "      <td>6</td>\n",
       "      <td>14</td>\n",
       "      <td>6.747</td>\n",
       "      <td>0.411356</td>\n",
       "      <td>1</td>\n",
       "      <td>1</td>\n",
       "      <td>0</td>\n",
       "    </tr>\n",
       "    <tr>\n",
       "      <th>3</th>\n",
       "      <td>2</td>\n",
       "      <td>6</td>\n",
       "      <td>-1.000</td>\n",
       "      <td>0.649440</td>\n",
       "      <td>1</td>\n",
       "      <td>1</td>\n",
       "      <td>1</td>\n",
       "    </tr>\n",
       "    <tr>\n",
       "      <th>4</th>\n",
       "      <td>4</td>\n",
       "      <td>16</td>\n",
       "      <td>12.383</td>\n",
       "      <td>1.064116</td>\n",
       "      <td>1</td>\n",
       "      <td>1</td>\n",
       "      <td>1</td>\n",
       "    </tr>\n",
       "  </tbody>\n",
       "</table>\n",
       "</div>"
      ],
      "text/plain": [
       "   weekday_key  hour_key  distance_km  distance_km_ord  class  type  \\\n",
       "0            5        20       -1.000         1.367355      1     1   \n",
       "1            5        14       18.802         3.423260      2     1   \n",
       "2            6        14        6.747         0.411356      1     1   \n",
       "3            2         6       -1.000         0.649440      1     1   \n",
       "4            4        16       12.383         1.064116      1     1   \n",
       "\n",
       "   driver_response  \n",
       "0                0  \n",
       "1                1  \n",
       "2                0  \n",
       "3                1  \n",
       "4                1  "
      ]
     },
     "execution_count": 281,
     "metadata": {},
     "output_type": "execute_result"
    }
   ],
   "source": [
    "data_to_model.head()"
   ]
  },
  {
   "cell_type": "code",
   "execution_count": 282,
   "metadata": {
    "collapsed": true
   },
   "outputs": [],
   "source": [
    "#вот наши данные для модели.\n",
    "#Дальше посмотрим корреляции и подумаю что делать дальше.\n",
    "#пошел спать =)"
   ]
  },
  {
   "cell_type": "code",
   "execution_count": 307,
   "metadata": {
    "collapsed": true
   },
   "outputs": [],
   "source": [
    "report = pp.ProfileReport(data_to_model)\n",
    "report.to_file('profile_report_1.html')"
   ]
  },
  {
   "cell_type": "code",
   "execution_count": 310,
   "metadata": {
    "scrolled": false
   },
   "outputs": [
    {
     "data": {
      "text/html": [
       "<style  type=\"text/css\" >\n",
       "    #T_ba20421c_4338_11ea_a42b_d3a6d7b767eerow0_col0 {\n",
       "            background-color:  #023858;\n",
       "            color:  #f1f1f1;\n",
       "        }    #T_ba20421c_4338_11ea_a42b_d3a6d7b767eerow0_col1 {\n",
       "            background-color:  #f0eaf4;\n",
       "            color:  #000000;\n",
       "        }    #T_ba20421c_4338_11ea_a42b_d3a6d7b767eerow0_col2 {\n",
       "            background-color:  #e0dded;\n",
       "            color:  #000000;\n",
       "        }    #T_ba20421c_4338_11ea_a42b_d3a6d7b767eerow0_col3 {\n",
       "            background-color:  #ece7f2;\n",
       "            color:  #000000;\n",
       "        }    #T_ba20421c_4338_11ea_a42b_d3a6d7b767eerow0_col4 {\n",
       "            background-color:  #f0eaf4;\n",
       "            color:  #000000;\n",
       "        }    #T_ba20421c_4338_11ea_a42b_d3a6d7b767eerow0_col5 {\n",
       "            background-color:  #d3d4e7;\n",
       "            color:  #000000;\n",
       "        }    #T_ba20421c_4338_11ea_a42b_d3a6d7b767eerow0_col6 {\n",
       "            background-color:  #cacee5;\n",
       "            color:  #000000;\n",
       "        }    #T_ba20421c_4338_11ea_a42b_d3a6d7b767eerow1_col0 {\n",
       "            background-color:  #eee9f3;\n",
       "            color:  #000000;\n",
       "        }    #T_ba20421c_4338_11ea_a42b_d3a6d7b767eerow1_col1 {\n",
       "            background-color:  #023858;\n",
       "            color:  #f1f1f1;\n",
       "        }    #T_ba20421c_4338_11ea_a42b_d3a6d7b767eerow1_col2 {\n",
       "            background-color:  #dcdaeb;\n",
       "            color:  #000000;\n",
       "        }    #T_ba20421c_4338_11ea_a42b_d3a6d7b767eerow1_col3 {\n",
       "            background-color:  #faf2f8;\n",
       "            color:  #000000;\n",
       "        }    #T_ba20421c_4338_11ea_a42b_d3a6d7b767eerow1_col4 {\n",
       "            background-color:  #efe9f3;\n",
       "            color:  #000000;\n",
       "        }    #T_ba20421c_4338_11ea_a42b_d3a6d7b767eerow1_col5 {\n",
       "            background-color:  #d5d5e8;\n",
       "            color:  #000000;\n",
       "        }    #T_ba20421c_4338_11ea_a42b_d3a6d7b767eerow1_col6 {\n",
       "            background-color:  #d0d1e6;\n",
       "            color:  #000000;\n",
       "        }    #T_ba20421c_4338_11ea_a42b_d3a6d7b767eerow2_col0 {\n",
       "            background-color:  #fff7fb;\n",
       "            color:  #000000;\n",
       "        }    #T_ba20421c_4338_11ea_a42b_d3a6d7b767eerow2_col1 {\n",
       "            background-color:  #fef6fa;\n",
       "            color:  #000000;\n",
       "        }    #T_ba20421c_4338_11ea_a42b_d3a6d7b767eerow2_col2 {\n",
       "            background-color:  #023858;\n",
       "            color:  #f1f1f1;\n",
       "        }    #T_ba20421c_4338_11ea_a42b_d3a6d7b767eerow2_col3 {\n",
       "            background-color:  #fff7fb;\n",
       "            color:  #000000;\n",
       "        }    #T_ba20421c_4338_11ea_a42b_d3a6d7b767eerow2_col4 {\n",
       "            background-color:  #fff7fb;\n",
       "            color:  #000000;\n",
       "        }    #T_ba20421c_4338_11ea_a42b_d3a6d7b767eerow2_col5 {\n",
       "            background-color:  #fff7fb;\n",
       "            color:  #000000;\n",
       "        }    #T_ba20421c_4338_11ea_a42b_d3a6d7b767eerow2_col6 {\n",
       "            background-color:  #fff7fb;\n",
       "            color:  #000000;\n",
       "        }    #T_ba20421c_4338_11ea_a42b_d3a6d7b767eerow3_col0 {\n",
       "            background-color:  #f0eaf4;\n",
       "            color:  #000000;\n",
       "        }    #T_ba20421c_4338_11ea_a42b_d3a6d7b767eerow3_col1 {\n",
       "            background-color:  #fff7fb;\n",
       "            color:  #000000;\n",
       "        }    #T_ba20421c_4338_11ea_a42b_d3a6d7b767eerow3_col2 {\n",
       "            background-color:  #e4e1ef;\n",
       "            color:  #000000;\n",
       "        }    #T_ba20421c_4338_11ea_a42b_d3a6d7b767eerow3_col3 {\n",
       "            background-color:  #023858;\n",
       "            color:  #f1f1f1;\n",
       "        }    #T_ba20421c_4338_11ea_a42b_d3a6d7b767eerow3_col4 {\n",
       "            background-color:  #e1dfed;\n",
       "            color:  #000000;\n",
       "        }    #T_ba20421c_4338_11ea_a42b_d3a6d7b767eerow3_col5 {\n",
       "            background-color:  #d3d4e7;\n",
       "            color:  #000000;\n",
       "        }    #T_ba20421c_4338_11ea_a42b_d3a6d7b767eerow3_col6 {\n",
       "            background-color:  #c0c9e2;\n",
       "            color:  #000000;\n",
       "        }    #T_ba20421c_4338_11ea_a42b_d3a6d7b767eerow4_col0 {\n",
       "            background-color:  #f4edf6;\n",
       "            color:  #000000;\n",
       "        }    #T_ba20421c_4338_11ea_a42b_d3a6d7b767eerow4_col1 {\n",
       "            background-color:  #f4edf6;\n",
       "            color:  #000000;\n",
       "        }    #T_ba20421c_4338_11ea_a42b_d3a6d7b767eerow4_col2 {\n",
       "            background-color:  #e4e1ef;\n",
       "            color:  #000000;\n",
       "        }    #T_ba20421c_4338_11ea_a42b_d3a6d7b767eerow4_col3 {\n",
       "            background-color:  #e1dfed;\n",
       "            color:  #000000;\n",
       "        }    #T_ba20421c_4338_11ea_a42b_d3a6d7b767eerow4_col4 {\n",
       "            background-color:  #023858;\n",
       "            color:  #f1f1f1;\n",
       "        }    #T_ba20421c_4338_11ea_a42b_d3a6d7b767eerow4_col5 {\n",
       "            background-color:  #adc1dd;\n",
       "            color:  #000000;\n",
       "        }    #T_ba20421c_4338_11ea_a42b_d3a6d7b767eerow4_col6 {\n",
       "            background-color:  #b4c4df;\n",
       "            color:  #000000;\n",
       "        }    #T_ba20421c_4338_11ea_a42b_d3a6d7b767eerow5_col0 {\n",
       "            background-color:  #f2ecf5;\n",
       "            color:  #000000;\n",
       "        }    #T_ba20421c_4338_11ea_a42b_d3a6d7b767eerow5_col1 {\n",
       "            background-color:  #f5eff6;\n",
       "            color:  #000000;\n",
       "        }    #T_ba20421c_4338_11ea_a42b_d3a6d7b767eerow5_col2 {\n",
       "            background-color:  #fcf4fa;\n",
       "            color:  #000000;\n",
       "        }    #T_ba20421c_4338_11ea_a42b_d3a6d7b767eerow5_col3 {\n",
       "            background-color:  #efe9f3;\n",
       "            color:  #000000;\n",
       "        }    #T_ba20421c_4338_11ea_a42b_d3a6d7b767eerow5_col4 {\n",
       "            background-color:  #d2d2e7;\n",
       "            color:  #000000;\n",
       "        }    #T_ba20421c_4338_11ea_a42b_d3a6d7b767eerow5_col5 {\n",
       "            background-color:  #023858;\n",
       "            color:  #f1f1f1;\n",
       "        }    #T_ba20421c_4338_11ea_a42b_d3a6d7b767eerow5_col6 {\n",
       "            background-color:  #c5cce3;\n",
       "            color:  #000000;\n",
       "        }    #T_ba20421c_4338_11ea_a42b_d3a6d7b767eerow6_col0 {\n",
       "            background-color:  #f0eaf4;\n",
       "            color:  #000000;\n",
       "        }    #T_ba20421c_4338_11ea_a42b_d3a6d7b767eerow6_col1 {\n",
       "            background-color:  #f4edf6;\n",
       "            color:  #000000;\n",
       "        }    #T_ba20421c_4338_11ea_a42b_d3a6d7b767eerow6_col2 {\n",
       "            background-color:  #fff7fb;\n",
       "            color:  #000000;\n",
       "        }    #T_ba20421c_4338_11ea_a42b_d3a6d7b767eerow6_col3 {\n",
       "            background-color:  #e4e1ef;\n",
       "            color:  #000000;\n",
       "        }    #T_ba20421c_4338_11ea_a42b_d3a6d7b767eerow6_col4 {\n",
       "            background-color:  #d9d8ea;\n",
       "            color:  #000000;\n",
       "        }    #T_ba20421c_4338_11ea_a42b_d3a6d7b767eerow6_col5 {\n",
       "            background-color:  #cacee5;\n",
       "            color:  #000000;\n",
       "        }    #T_ba20421c_4338_11ea_a42b_d3a6d7b767eerow6_col6 {\n",
       "            background-color:  #023858;\n",
       "            color:  #f1f1f1;\n",
       "        }</style><table id=\"T_ba20421c_4338_11ea_a42b_d3a6d7b767ee\" ><thead>    <tr>        <th class=\"blank level0\" ></th>        <th class=\"col_heading level0 col0\" >weekday_key</th>        <th class=\"col_heading level0 col1\" >hour_key</th>        <th class=\"col_heading level0 col2\" >distance_km</th>        <th class=\"col_heading level0 col3\" >distance_km_ord</th>        <th class=\"col_heading level0 col4\" >class</th>        <th class=\"col_heading level0 col5\" >type</th>        <th class=\"col_heading level0 col6\" >driver_response</th>    </tr></thead><tbody>\n",
       "                <tr>\n",
       "                        <th id=\"T_ba20421c_4338_11ea_a42b_d3a6d7b767eelevel0_row0\" class=\"row_heading level0 row0\" >weekday_key</th>\n",
       "                        <td id=\"T_ba20421c_4338_11ea_a42b_d3a6d7b767eerow0_col0\" class=\"data row0 col0\" >1</td>\n",
       "                        <td id=\"T_ba20421c_4338_11ea_a42b_d3a6d7b767eerow0_col1\" class=\"data row0 col1\" >0.05</td>\n",
       "                        <td id=\"T_ba20421c_4338_11ea_a42b_d3a6d7b767eerow0_col2\" class=\"data row0 col2\" >-0.07</td>\n",
       "                        <td id=\"T_ba20421c_4338_11ea_a42b_d3a6d7b767eerow0_col3\" class=\"data row0 col3\" >0.04</td>\n",
       "                        <td id=\"T_ba20421c_4338_11ea_a42b_d3a6d7b767eerow0_col4\" class=\"data row0 col4\" >0.01</td>\n",
       "                        <td id=\"T_ba20421c_4338_11ea_a42b_d3a6d7b767eerow0_col5\" class=\"data row0 col5\" >0.02</td>\n",
       "                        <td id=\"T_ba20421c_4338_11ea_a42b_d3a6d7b767eerow0_col6\" class=\"data row0 col6\" >0.04</td>\n",
       "            </tr>\n",
       "            <tr>\n",
       "                        <th id=\"T_ba20421c_4338_11ea_a42b_d3a6d7b767eelevel0_row1\" class=\"row_heading level0 row1\" >hour_key</th>\n",
       "                        <td id=\"T_ba20421c_4338_11ea_a42b_d3a6d7b767eerow1_col0\" class=\"data row1 col0\" >0.05</td>\n",
       "                        <td id=\"T_ba20421c_4338_11ea_a42b_d3a6d7b767eerow1_col1\" class=\"data row1 col1\" >1</td>\n",
       "                        <td id=\"T_ba20421c_4338_11ea_a42b_d3a6d7b767eerow1_col2\" class=\"data row1 col2\" >-0.05</td>\n",
       "                        <td id=\"T_ba20421c_4338_11ea_a42b_d3a6d7b767eerow1_col3\" class=\"data row1 col3\" >-0.06</td>\n",
       "                        <td id=\"T_ba20421c_4338_11ea_a42b_d3a6d7b767eerow1_col4\" class=\"data row1 col4\" >0.02</td>\n",
       "                        <td id=\"T_ba20421c_4338_11ea_a42b_d3a6d7b767eerow1_col5\" class=\"data row1 col5\" >0.01</td>\n",
       "                        <td id=\"T_ba20421c_4338_11ea_a42b_d3a6d7b767eerow1_col6\" class=\"data row1 col6\" >0.02</td>\n",
       "            </tr>\n",
       "            <tr>\n",
       "                        <th id=\"T_ba20421c_4338_11ea_a42b_d3a6d7b767eelevel0_row2\" class=\"row_heading level0 row2\" >distance_km</th>\n",
       "                        <td id=\"T_ba20421c_4338_11ea_a42b_d3a6d7b767eerow2_col0\" class=\"data row2 col0\" >-0.07</td>\n",
       "                        <td id=\"T_ba20421c_4338_11ea_a42b_d3a6d7b767eerow2_col1\" class=\"data row2 col1\" >-0.05</td>\n",
       "                        <td id=\"T_ba20421c_4338_11ea_a42b_d3a6d7b767eerow2_col2\" class=\"data row2 col2\" >1</td>\n",
       "                        <td id=\"T_ba20421c_4338_11ea_a42b_d3a6d7b767eerow2_col3\" class=\"data row2 col3\" >-0.1</td>\n",
       "                        <td id=\"T_ba20421c_4338_11ea_a42b_d3a6d7b767eerow2_col4\" class=\"data row2 col4\" >-0.1</td>\n",
       "                        <td id=\"T_ba20421c_4338_11ea_a42b_d3a6d7b767eerow2_col5\" class=\"data row2 col5\" >-0.28</td>\n",
       "                        <td id=\"T_ba20421c_4338_11ea_a42b_d3a6d7b767eerow2_col6\" class=\"data row2 col6\" >-0.31</td>\n",
       "            </tr>\n",
       "            <tr>\n",
       "                        <th id=\"T_ba20421c_4338_11ea_a42b_d3a6d7b767eelevel0_row3\" class=\"row_heading level0 row3\" >distance_km_ord</th>\n",
       "                        <td id=\"T_ba20421c_4338_11ea_a42b_d3a6d7b767eerow3_col0\" class=\"data row3 col0\" >0.04</td>\n",
       "                        <td id=\"T_ba20421c_4338_11ea_a42b_d3a6d7b767eerow3_col1\" class=\"data row3 col1\" >-0.06</td>\n",
       "                        <td id=\"T_ba20421c_4338_11ea_a42b_d3a6d7b767eerow3_col2\" class=\"data row3 col2\" >-0.1</td>\n",
       "                        <td id=\"T_ba20421c_4338_11ea_a42b_d3a6d7b767eerow3_col3\" class=\"data row3 col3\" >1</td>\n",
       "                        <td id=\"T_ba20421c_4338_11ea_a42b_d3a6d7b767eerow3_col4\" class=\"data row3 col4\" >0.09</td>\n",
       "                        <td id=\"T_ba20421c_4338_11ea_a42b_d3a6d7b767eerow3_col5\" class=\"data row3 col5\" >0.02</td>\n",
       "                        <td id=\"T_ba20421c_4338_11ea_a42b_d3a6d7b767eerow3_col6\" class=\"data row3 col6\" >0.08</td>\n",
       "            </tr>\n",
       "            <tr>\n",
       "                        <th id=\"T_ba20421c_4338_11ea_a42b_d3a6d7b767eelevel0_row4\" class=\"row_heading level0 row4\" >class</th>\n",
       "                        <td id=\"T_ba20421c_4338_11ea_a42b_d3a6d7b767eerow4_col0\" class=\"data row4 col0\" >0.01</td>\n",
       "                        <td id=\"T_ba20421c_4338_11ea_a42b_d3a6d7b767eerow4_col1\" class=\"data row4 col1\" >0.02</td>\n",
       "                        <td id=\"T_ba20421c_4338_11ea_a42b_d3a6d7b767eerow4_col2\" class=\"data row4 col2\" >-0.1</td>\n",
       "                        <td id=\"T_ba20421c_4338_11ea_a42b_d3a6d7b767eerow4_col3\" class=\"data row4 col3\" >0.09</td>\n",
       "                        <td id=\"T_ba20421c_4338_11ea_a42b_d3a6d7b767eerow4_col4\" class=\"data row4 col4\" >1</td>\n",
       "                        <td id=\"T_ba20421c_4338_11ea_a42b_d3a6d7b767eerow4_col5\" class=\"data row4 col5\" >0.17</td>\n",
       "                        <td id=\"T_ba20421c_4338_11ea_a42b_d3a6d7b767eerow4_col6\" class=\"data row4 col6\" >0.13</td>\n",
       "            </tr>\n",
       "            <tr>\n",
       "                        <th id=\"T_ba20421c_4338_11ea_a42b_d3a6d7b767eelevel0_row5\" class=\"row_heading level0 row5\" >type</th>\n",
       "                        <td id=\"T_ba20421c_4338_11ea_a42b_d3a6d7b767eerow5_col0\" class=\"data row5 col0\" >0.02</td>\n",
       "                        <td id=\"T_ba20421c_4338_11ea_a42b_d3a6d7b767eerow5_col1\" class=\"data row5 col1\" >0.01</td>\n",
       "                        <td id=\"T_ba20421c_4338_11ea_a42b_d3a6d7b767eerow5_col2\" class=\"data row5 col2\" >-0.28</td>\n",
       "                        <td id=\"T_ba20421c_4338_11ea_a42b_d3a6d7b767eerow5_col3\" class=\"data row5 col3\" >0.02</td>\n",
       "                        <td id=\"T_ba20421c_4338_11ea_a42b_d3a6d7b767eerow5_col4\" class=\"data row5 col4\" >0.17</td>\n",
       "                        <td id=\"T_ba20421c_4338_11ea_a42b_d3a6d7b767eerow5_col5\" class=\"data row5 col5\" >1</td>\n",
       "                        <td id=\"T_ba20421c_4338_11ea_a42b_d3a6d7b767eerow5_col6\" class=\"data row5 col6\" >0.06</td>\n",
       "            </tr>\n",
       "            <tr>\n",
       "                        <th id=\"T_ba20421c_4338_11ea_a42b_d3a6d7b767eelevel0_row6\" class=\"row_heading level0 row6\" >driver_response</th>\n",
       "                        <td id=\"T_ba20421c_4338_11ea_a42b_d3a6d7b767eerow6_col0\" class=\"data row6 col0\" >0.04</td>\n",
       "                        <td id=\"T_ba20421c_4338_11ea_a42b_d3a6d7b767eerow6_col1\" class=\"data row6 col1\" >0.02</td>\n",
       "                        <td id=\"T_ba20421c_4338_11ea_a42b_d3a6d7b767eerow6_col2\" class=\"data row6 col2\" >-0.31</td>\n",
       "                        <td id=\"T_ba20421c_4338_11ea_a42b_d3a6d7b767eerow6_col3\" class=\"data row6 col3\" >0.08</td>\n",
       "                        <td id=\"T_ba20421c_4338_11ea_a42b_d3a6d7b767eerow6_col4\" class=\"data row6 col4\" >0.13</td>\n",
       "                        <td id=\"T_ba20421c_4338_11ea_a42b_d3a6d7b767eerow6_col5\" class=\"data row6 col5\" >0.06</td>\n",
       "                        <td id=\"T_ba20421c_4338_11ea_a42b_d3a6d7b767eerow6_col6\" class=\"data row6 col6\" >1</td>\n",
       "            </tr>\n",
       "    </tbody></table>"
      ],
      "text/plain": [
       "<pandas.io.formats.style.Styler at 0x259652ce4a8>"
      ]
     },
     "execution_count": 310,
     "metadata": {},
     "output_type": "execute_result"
    }
   ],
   "source": [
    "corr = data_to_model.corr()\n",
    "corr = corr.round(2)\n",
    "corr.style.background_gradient()"
   ]
  },
  {
   "cell_type": "code",
   "execution_count": 311,
   "metadata": {
    "collapsed": true
   },
   "outputs": [],
   "source": [
    "#Мне нравится. Можно конечно убрать hour_key, так как корреляция самая маленькаяс целевой функцией но я оставлю."
   ]
  },
  {
   "cell_type": "markdown",
   "metadata": {},
   "source": [
    "#7. Разделите выборку на обучаемую и тестовую."
   ]
  },
  {
   "cell_type": "code",
   "execution_count": null,
   "metadata": {
    "collapsed": true
   },
   "outputs": [],
   "source": [
    "#Буду использовать рендом форест"
   ]
  },
  {
   "cell_type": "code",
   "execution_count": 312,
   "metadata": {
    "collapsed": true
   },
   "outputs": [],
   "source": [
    "#сначала сделаем нормализацию даных"
   ]
  },
  {
   "cell_type": "code",
   "execution_count": 313,
   "metadata": {
    "collapsed": true
   },
   "outputs": [],
   "source": [
    "headers = list(data_to_model.columns.values)"
   ]
  },
  {
   "cell_type": "code",
   "execution_count": 314,
   "metadata": {
    "scrolled": true
   },
   "outputs": [
    {
     "data": {
      "text/html": [
       "<div>\n",
       "<style scoped>\n",
       "    .dataframe tbody tr th:only-of-type {\n",
       "        vertical-align: middle;\n",
       "    }\n",
       "\n",
       "    .dataframe tbody tr th {\n",
       "        vertical-align: top;\n",
       "    }\n",
       "\n",
       "    .dataframe thead th {\n",
       "        text-align: right;\n",
       "    }\n",
       "</style>\n",
       "<table border=\"1\" class=\"dataframe\">\n",
       "  <thead>\n",
       "    <tr style=\"text-align: right;\">\n",
       "      <th></th>\n",
       "      <th>weekday_key</th>\n",
       "      <th>hour_key</th>\n",
       "      <th>distance_km</th>\n",
       "      <th>distance_km_ord</th>\n",
       "      <th>class</th>\n",
       "      <th>type</th>\n",
       "      <th>driver_response</th>\n",
       "    </tr>\n",
       "  </thead>\n",
       "  <tbody>\n",
       "    <tr>\n",
       "      <th>0</th>\n",
       "      <td>0.666667</td>\n",
       "      <td>0.739130</td>\n",
       "      <td>-1.000000</td>\n",
       "      <td>-0.543619</td>\n",
       "      <td>-1.0</td>\n",
       "      <td>-1.0</td>\n",
       "      <td>-1.0</td>\n",
       "    </tr>\n",
       "    <tr>\n",
       "      <th>1</th>\n",
       "      <td>0.666667</td>\n",
       "      <td>0.217391</td>\n",
       "      <td>-0.511050</td>\n",
       "      <td>0.142610</td>\n",
       "      <td>0.0</td>\n",
       "      <td>-1.0</td>\n",
       "      <td>1.0</td>\n",
       "    </tr>\n",
       "    <tr>\n",
       "      <th>2</th>\n",
       "      <td>1.000000</td>\n",
       "      <td>0.217391</td>\n",
       "      <td>-0.808711</td>\n",
       "      <td>-0.862717</td>\n",
       "      <td>-1.0</td>\n",
       "      <td>-1.0</td>\n",
       "      <td>-1.0</td>\n",
       "    </tr>\n",
       "    <tr>\n",
       "      <th>3</th>\n",
       "      <td>-0.333333</td>\n",
       "      <td>-0.478261</td>\n",
       "      <td>-1.000000</td>\n",
       "      <td>-0.783248</td>\n",
       "      <td>-1.0</td>\n",
       "      <td>-1.0</td>\n",
       "      <td>1.0</td>\n",
       "    </tr>\n",
       "    <tr>\n",
       "      <th>4</th>\n",
       "      <td>0.333333</td>\n",
       "      <td>0.391304</td>\n",
       "      <td>-0.669547</td>\n",
       "      <td>-0.644836</td>\n",
       "      <td>-1.0</td>\n",
       "      <td>-1.0</td>\n",
       "      <td>1.0</td>\n",
       "    </tr>\n",
       "  </tbody>\n",
       "</table>\n",
       "</div>"
      ],
      "text/plain": [
       "   weekday_key  hour_key  distance_km  distance_km_ord  class  type  \\\n",
       "0     0.666667  0.739130    -1.000000        -0.543619   -1.0  -1.0   \n",
       "1     0.666667  0.217391    -0.511050         0.142610    0.0  -1.0   \n",
       "2     1.000000  0.217391    -0.808711        -0.862717   -1.0  -1.0   \n",
       "3    -0.333333 -0.478261    -1.000000        -0.783248   -1.0  -1.0   \n",
       "4     0.333333  0.391304    -0.669547        -0.644836   -1.0  -1.0   \n",
       "\n",
       "   driver_response  \n",
       "0             -1.0  \n",
       "1              1.0  \n",
       "2             -1.0  \n",
       "3              1.0  \n",
       "4              1.0  "
      ]
     },
     "execution_count": 314,
     "metadata": {},
     "output_type": "execute_result"
    }
   ],
   "source": [
    "from sklearn import preprocessing\n",
    "min_max_scaler = preprocessing.MinMaxScaler(feature_range=(-1,1))\n",
    "\n",
    "np_scaled = min_max_scaler.fit_transform(data_to_model)\n",
    "data_to_model_norm = pd.DataFrame(np_scaled)\n",
    "data_to_model_norm.columns = headers\n",
    "data_to_model_norm.head()"
   ]
  },
  {
   "cell_type": "code",
   "execution_count": 316,
   "metadata": {},
   "outputs": [
    {
     "data": {
      "text/html": [
       "<style  type=\"text/css\" >\n",
       "    #T_1d4a4d5a_4349_11ea_aa36_d3a6d7b767eerow0_col0 {\n",
       "            background-color:  #023858;\n",
       "            color:  #f1f1f1;\n",
       "        }    #T_1d4a4d5a_4349_11ea_aa36_d3a6d7b767eerow0_col1 {\n",
       "            background-color:  #f0eaf4;\n",
       "            color:  #000000;\n",
       "        }    #T_1d4a4d5a_4349_11ea_aa36_d3a6d7b767eerow0_col2 {\n",
       "            background-color:  #e0dded;\n",
       "            color:  #000000;\n",
       "        }    #T_1d4a4d5a_4349_11ea_aa36_d3a6d7b767eerow0_col3 {\n",
       "            background-color:  #ece7f2;\n",
       "            color:  #000000;\n",
       "        }    #T_1d4a4d5a_4349_11ea_aa36_d3a6d7b767eerow0_col4 {\n",
       "            background-color:  #f0eaf4;\n",
       "            color:  #000000;\n",
       "        }    #T_1d4a4d5a_4349_11ea_aa36_d3a6d7b767eerow0_col5 {\n",
       "            background-color:  #d3d4e7;\n",
       "            color:  #000000;\n",
       "        }    #T_1d4a4d5a_4349_11ea_aa36_d3a6d7b767eerow0_col6 {\n",
       "            background-color:  #cacee5;\n",
       "            color:  #000000;\n",
       "        }    #T_1d4a4d5a_4349_11ea_aa36_d3a6d7b767eerow1_col0 {\n",
       "            background-color:  #eee9f3;\n",
       "            color:  #000000;\n",
       "        }    #T_1d4a4d5a_4349_11ea_aa36_d3a6d7b767eerow1_col1 {\n",
       "            background-color:  #023858;\n",
       "            color:  #f1f1f1;\n",
       "        }    #T_1d4a4d5a_4349_11ea_aa36_d3a6d7b767eerow1_col2 {\n",
       "            background-color:  #dcdaeb;\n",
       "            color:  #000000;\n",
       "        }    #T_1d4a4d5a_4349_11ea_aa36_d3a6d7b767eerow1_col3 {\n",
       "            background-color:  #faf2f8;\n",
       "            color:  #000000;\n",
       "        }    #T_1d4a4d5a_4349_11ea_aa36_d3a6d7b767eerow1_col4 {\n",
       "            background-color:  #efe9f3;\n",
       "            color:  #000000;\n",
       "        }    #T_1d4a4d5a_4349_11ea_aa36_d3a6d7b767eerow1_col5 {\n",
       "            background-color:  #d5d5e8;\n",
       "            color:  #000000;\n",
       "        }    #T_1d4a4d5a_4349_11ea_aa36_d3a6d7b767eerow1_col6 {\n",
       "            background-color:  #d0d1e6;\n",
       "            color:  #000000;\n",
       "        }    #T_1d4a4d5a_4349_11ea_aa36_d3a6d7b767eerow2_col0 {\n",
       "            background-color:  #fff7fb;\n",
       "            color:  #000000;\n",
       "        }    #T_1d4a4d5a_4349_11ea_aa36_d3a6d7b767eerow2_col1 {\n",
       "            background-color:  #fef6fa;\n",
       "            color:  #000000;\n",
       "        }    #T_1d4a4d5a_4349_11ea_aa36_d3a6d7b767eerow2_col2 {\n",
       "            background-color:  #023858;\n",
       "            color:  #f1f1f1;\n",
       "        }    #T_1d4a4d5a_4349_11ea_aa36_d3a6d7b767eerow2_col3 {\n",
       "            background-color:  #fff7fb;\n",
       "            color:  #000000;\n",
       "        }    #T_1d4a4d5a_4349_11ea_aa36_d3a6d7b767eerow2_col4 {\n",
       "            background-color:  #fff7fb;\n",
       "            color:  #000000;\n",
       "        }    #T_1d4a4d5a_4349_11ea_aa36_d3a6d7b767eerow2_col5 {\n",
       "            background-color:  #fff7fb;\n",
       "            color:  #000000;\n",
       "        }    #T_1d4a4d5a_4349_11ea_aa36_d3a6d7b767eerow2_col6 {\n",
       "            background-color:  #fff7fb;\n",
       "            color:  #000000;\n",
       "        }    #T_1d4a4d5a_4349_11ea_aa36_d3a6d7b767eerow3_col0 {\n",
       "            background-color:  #f0eaf4;\n",
       "            color:  #000000;\n",
       "        }    #T_1d4a4d5a_4349_11ea_aa36_d3a6d7b767eerow3_col1 {\n",
       "            background-color:  #fff7fb;\n",
       "            color:  #000000;\n",
       "        }    #T_1d4a4d5a_4349_11ea_aa36_d3a6d7b767eerow3_col2 {\n",
       "            background-color:  #e4e1ef;\n",
       "            color:  #000000;\n",
       "        }    #T_1d4a4d5a_4349_11ea_aa36_d3a6d7b767eerow3_col3 {\n",
       "            background-color:  #023858;\n",
       "            color:  #f1f1f1;\n",
       "        }    #T_1d4a4d5a_4349_11ea_aa36_d3a6d7b767eerow3_col4 {\n",
       "            background-color:  #e1dfed;\n",
       "            color:  #000000;\n",
       "        }    #T_1d4a4d5a_4349_11ea_aa36_d3a6d7b767eerow3_col5 {\n",
       "            background-color:  #d3d4e7;\n",
       "            color:  #000000;\n",
       "        }    #T_1d4a4d5a_4349_11ea_aa36_d3a6d7b767eerow3_col6 {\n",
       "            background-color:  #c0c9e2;\n",
       "            color:  #000000;\n",
       "        }    #T_1d4a4d5a_4349_11ea_aa36_d3a6d7b767eerow4_col0 {\n",
       "            background-color:  #f4edf6;\n",
       "            color:  #000000;\n",
       "        }    #T_1d4a4d5a_4349_11ea_aa36_d3a6d7b767eerow4_col1 {\n",
       "            background-color:  #f4edf6;\n",
       "            color:  #000000;\n",
       "        }    #T_1d4a4d5a_4349_11ea_aa36_d3a6d7b767eerow4_col2 {\n",
       "            background-color:  #e4e1ef;\n",
       "            color:  #000000;\n",
       "        }    #T_1d4a4d5a_4349_11ea_aa36_d3a6d7b767eerow4_col3 {\n",
       "            background-color:  #e1dfed;\n",
       "            color:  #000000;\n",
       "        }    #T_1d4a4d5a_4349_11ea_aa36_d3a6d7b767eerow4_col4 {\n",
       "            background-color:  #023858;\n",
       "            color:  #f1f1f1;\n",
       "        }    #T_1d4a4d5a_4349_11ea_aa36_d3a6d7b767eerow4_col5 {\n",
       "            background-color:  #adc1dd;\n",
       "            color:  #000000;\n",
       "        }    #T_1d4a4d5a_4349_11ea_aa36_d3a6d7b767eerow4_col6 {\n",
       "            background-color:  #b4c4df;\n",
       "            color:  #000000;\n",
       "        }    #T_1d4a4d5a_4349_11ea_aa36_d3a6d7b767eerow5_col0 {\n",
       "            background-color:  #f2ecf5;\n",
       "            color:  #000000;\n",
       "        }    #T_1d4a4d5a_4349_11ea_aa36_d3a6d7b767eerow5_col1 {\n",
       "            background-color:  #f5eff6;\n",
       "            color:  #000000;\n",
       "        }    #T_1d4a4d5a_4349_11ea_aa36_d3a6d7b767eerow5_col2 {\n",
       "            background-color:  #fcf4fa;\n",
       "            color:  #000000;\n",
       "        }    #T_1d4a4d5a_4349_11ea_aa36_d3a6d7b767eerow5_col3 {\n",
       "            background-color:  #efe9f3;\n",
       "            color:  #000000;\n",
       "        }    #T_1d4a4d5a_4349_11ea_aa36_d3a6d7b767eerow5_col4 {\n",
       "            background-color:  #d2d2e7;\n",
       "            color:  #000000;\n",
       "        }    #T_1d4a4d5a_4349_11ea_aa36_d3a6d7b767eerow5_col5 {\n",
       "            background-color:  #023858;\n",
       "            color:  #f1f1f1;\n",
       "        }    #T_1d4a4d5a_4349_11ea_aa36_d3a6d7b767eerow5_col6 {\n",
       "            background-color:  #c5cce3;\n",
       "            color:  #000000;\n",
       "        }    #T_1d4a4d5a_4349_11ea_aa36_d3a6d7b767eerow6_col0 {\n",
       "            background-color:  #f0eaf4;\n",
       "            color:  #000000;\n",
       "        }    #T_1d4a4d5a_4349_11ea_aa36_d3a6d7b767eerow6_col1 {\n",
       "            background-color:  #f4edf6;\n",
       "            color:  #000000;\n",
       "        }    #T_1d4a4d5a_4349_11ea_aa36_d3a6d7b767eerow6_col2 {\n",
       "            background-color:  #fff7fb;\n",
       "            color:  #000000;\n",
       "        }    #T_1d4a4d5a_4349_11ea_aa36_d3a6d7b767eerow6_col3 {\n",
       "            background-color:  #e4e1ef;\n",
       "            color:  #000000;\n",
       "        }    #T_1d4a4d5a_4349_11ea_aa36_d3a6d7b767eerow6_col4 {\n",
       "            background-color:  #d9d8ea;\n",
       "            color:  #000000;\n",
       "        }    #T_1d4a4d5a_4349_11ea_aa36_d3a6d7b767eerow6_col5 {\n",
       "            background-color:  #cacee5;\n",
       "            color:  #000000;\n",
       "        }    #T_1d4a4d5a_4349_11ea_aa36_d3a6d7b767eerow6_col6 {\n",
       "            background-color:  #023858;\n",
       "            color:  #f1f1f1;\n",
       "        }</style><table id=\"T_1d4a4d5a_4349_11ea_aa36_d3a6d7b767ee\" ><thead>    <tr>        <th class=\"blank level0\" ></th>        <th class=\"col_heading level0 col0\" >weekday_key</th>        <th class=\"col_heading level0 col1\" >hour_key</th>        <th class=\"col_heading level0 col2\" >distance_km</th>        <th class=\"col_heading level0 col3\" >distance_km_ord</th>        <th class=\"col_heading level0 col4\" >class</th>        <th class=\"col_heading level0 col5\" >type</th>        <th class=\"col_heading level0 col6\" >driver_response</th>    </tr></thead><tbody>\n",
       "                <tr>\n",
       "                        <th id=\"T_1d4a4d5a_4349_11ea_aa36_d3a6d7b767eelevel0_row0\" class=\"row_heading level0 row0\" >weekday_key</th>\n",
       "                        <td id=\"T_1d4a4d5a_4349_11ea_aa36_d3a6d7b767eerow0_col0\" class=\"data row0 col0\" >1</td>\n",
       "                        <td id=\"T_1d4a4d5a_4349_11ea_aa36_d3a6d7b767eerow0_col1\" class=\"data row0 col1\" >0.05</td>\n",
       "                        <td id=\"T_1d4a4d5a_4349_11ea_aa36_d3a6d7b767eerow0_col2\" class=\"data row0 col2\" >-0.07</td>\n",
       "                        <td id=\"T_1d4a4d5a_4349_11ea_aa36_d3a6d7b767eerow0_col3\" class=\"data row0 col3\" >0.04</td>\n",
       "                        <td id=\"T_1d4a4d5a_4349_11ea_aa36_d3a6d7b767eerow0_col4\" class=\"data row0 col4\" >0.01</td>\n",
       "                        <td id=\"T_1d4a4d5a_4349_11ea_aa36_d3a6d7b767eerow0_col5\" class=\"data row0 col5\" >0.02</td>\n",
       "                        <td id=\"T_1d4a4d5a_4349_11ea_aa36_d3a6d7b767eerow0_col6\" class=\"data row0 col6\" >0.04</td>\n",
       "            </tr>\n",
       "            <tr>\n",
       "                        <th id=\"T_1d4a4d5a_4349_11ea_aa36_d3a6d7b767eelevel0_row1\" class=\"row_heading level0 row1\" >hour_key</th>\n",
       "                        <td id=\"T_1d4a4d5a_4349_11ea_aa36_d3a6d7b767eerow1_col0\" class=\"data row1 col0\" >0.05</td>\n",
       "                        <td id=\"T_1d4a4d5a_4349_11ea_aa36_d3a6d7b767eerow1_col1\" class=\"data row1 col1\" >1</td>\n",
       "                        <td id=\"T_1d4a4d5a_4349_11ea_aa36_d3a6d7b767eerow1_col2\" class=\"data row1 col2\" >-0.05</td>\n",
       "                        <td id=\"T_1d4a4d5a_4349_11ea_aa36_d3a6d7b767eerow1_col3\" class=\"data row1 col3\" >-0.06</td>\n",
       "                        <td id=\"T_1d4a4d5a_4349_11ea_aa36_d3a6d7b767eerow1_col4\" class=\"data row1 col4\" >0.02</td>\n",
       "                        <td id=\"T_1d4a4d5a_4349_11ea_aa36_d3a6d7b767eerow1_col5\" class=\"data row1 col5\" >0.01</td>\n",
       "                        <td id=\"T_1d4a4d5a_4349_11ea_aa36_d3a6d7b767eerow1_col6\" class=\"data row1 col6\" >0.02</td>\n",
       "            </tr>\n",
       "            <tr>\n",
       "                        <th id=\"T_1d4a4d5a_4349_11ea_aa36_d3a6d7b767eelevel0_row2\" class=\"row_heading level0 row2\" >distance_km</th>\n",
       "                        <td id=\"T_1d4a4d5a_4349_11ea_aa36_d3a6d7b767eerow2_col0\" class=\"data row2 col0\" >-0.07</td>\n",
       "                        <td id=\"T_1d4a4d5a_4349_11ea_aa36_d3a6d7b767eerow2_col1\" class=\"data row2 col1\" >-0.05</td>\n",
       "                        <td id=\"T_1d4a4d5a_4349_11ea_aa36_d3a6d7b767eerow2_col2\" class=\"data row2 col2\" >1</td>\n",
       "                        <td id=\"T_1d4a4d5a_4349_11ea_aa36_d3a6d7b767eerow2_col3\" class=\"data row2 col3\" >-0.1</td>\n",
       "                        <td id=\"T_1d4a4d5a_4349_11ea_aa36_d3a6d7b767eerow2_col4\" class=\"data row2 col4\" >-0.1</td>\n",
       "                        <td id=\"T_1d4a4d5a_4349_11ea_aa36_d3a6d7b767eerow2_col5\" class=\"data row2 col5\" >-0.28</td>\n",
       "                        <td id=\"T_1d4a4d5a_4349_11ea_aa36_d3a6d7b767eerow2_col6\" class=\"data row2 col6\" >-0.31</td>\n",
       "            </tr>\n",
       "            <tr>\n",
       "                        <th id=\"T_1d4a4d5a_4349_11ea_aa36_d3a6d7b767eelevel0_row3\" class=\"row_heading level0 row3\" >distance_km_ord</th>\n",
       "                        <td id=\"T_1d4a4d5a_4349_11ea_aa36_d3a6d7b767eerow3_col0\" class=\"data row3 col0\" >0.04</td>\n",
       "                        <td id=\"T_1d4a4d5a_4349_11ea_aa36_d3a6d7b767eerow3_col1\" class=\"data row3 col1\" >-0.06</td>\n",
       "                        <td id=\"T_1d4a4d5a_4349_11ea_aa36_d3a6d7b767eerow3_col2\" class=\"data row3 col2\" >-0.1</td>\n",
       "                        <td id=\"T_1d4a4d5a_4349_11ea_aa36_d3a6d7b767eerow3_col3\" class=\"data row3 col3\" >1</td>\n",
       "                        <td id=\"T_1d4a4d5a_4349_11ea_aa36_d3a6d7b767eerow3_col4\" class=\"data row3 col4\" >0.09</td>\n",
       "                        <td id=\"T_1d4a4d5a_4349_11ea_aa36_d3a6d7b767eerow3_col5\" class=\"data row3 col5\" >0.02</td>\n",
       "                        <td id=\"T_1d4a4d5a_4349_11ea_aa36_d3a6d7b767eerow3_col6\" class=\"data row3 col6\" >0.08</td>\n",
       "            </tr>\n",
       "            <tr>\n",
       "                        <th id=\"T_1d4a4d5a_4349_11ea_aa36_d3a6d7b767eelevel0_row4\" class=\"row_heading level0 row4\" >class</th>\n",
       "                        <td id=\"T_1d4a4d5a_4349_11ea_aa36_d3a6d7b767eerow4_col0\" class=\"data row4 col0\" >0.01</td>\n",
       "                        <td id=\"T_1d4a4d5a_4349_11ea_aa36_d3a6d7b767eerow4_col1\" class=\"data row4 col1\" >0.02</td>\n",
       "                        <td id=\"T_1d4a4d5a_4349_11ea_aa36_d3a6d7b767eerow4_col2\" class=\"data row4 col2\" >-0.1</td>\n",
       "                        <td id=\"T_1d4a4d5a_4349_11ea_aa36_d3a6d7b767eerow4_col3\" class=\"data row4 col3\" >0.09</td>\n",
       "                        <td id=\"T_1d4a4d5a_4349_11ea_aa36_d3a6d7b767eerow4_col4\" class=\"data row4 col4\" >1</td>\n",
       "                        <td id=\"T_1d4a4d5a_4349_11ea_aa36_d3a6d7b767eerow4_col5\" class=\"data row4 col5\" >0.17</td>\n",
       "                        <td id=\"T_1d4a4d5a_4349_11ea_aa36_d3a6d7b767eerow4_col6\" class=\"data row4 col6\" >0.13</td>\n",
       "            </tr>\n",
       "            <tr>\n",
       "                        <th id=\"T_1d4a4d5a_4349_11ea_aa36_d3a6d7b767eelevel0_row5\" class=\"row_heading level0 row5\" >type</th>\n",
       "                        <td id=\"T_1d4a4d5a_4349_11ea_aa36_d3a6d7b767eerow5_col0\" class=\"data row5 col0\" >0.02</td>\n",
       "                        <td id=\"T_1d4a4d5a_4349_11ea_aa36_d3a6d7b767eerow5_col1\" class=\"data row5 col1\" >0.01</td>\n",
       "                        <td id=\"T_1d4a4d5a_4349_11ea_aa36_d3a6d7b767eerow5_col2\" class=\"data row5 col2\" >-0.28</td>\n",
       "                        <td id=\"T_1d4a4d5a_4349_11ea_aa36_d3a6d7b767eerow5_col3\" class=\"data row5 col3\" >0.02</td>\n",
       "                        <td id=\"T_1d4a4d5a_4349_11ea_aa36_d3a6d7b767eerow5_col4\" class=\"data row5 col4\" >0.17</td>\n",
       "                        <td id=\"T_1d4a4d5a_4349_11ea_aa36_d3a6d7b767eerow5_col5\" class=\"data row5 col5\" >1</td>\n",
       "                        <td id=\"T_1d4a4d5a_4349_11ea_aa36_d3a6d7b767eerow5_col6\" class=\"data row5 col6\" >0.06</td>\n",
       "            </tr>\n",
       "            <tr>\n",
       "                        <th id=\"T_1d4a4d5a_4349_11ea_aa36_d3a6d7b767eelevel0_row6\" class=\"row_heading level0 row6\" >driver_response</th>\n",
       "                        <td id=\"T_1d4a4d5a_4349_11ea_aa36_d3a6d7b767eerow6_col0\" class=\"data row6 col0\" >0.04</td>\n",
       "                        <td id=\"T_1d4a4d5a_4349_11ea_aa36_d3a6d7b767eerow6_col1\" class=\"data row6 col1\" >0.02</td>\n",
       "                        <td id=\"T_1d4a4d5a_4349_11ea_aa36_d3a6d7b767eerow6_col2\" class=\"data row6 col2\" >-0.31</td>\n",
       "                        <td id=\"T_1d4a4d5a_4349_11ea_aa36_d3a6d7b767eerow6_col3\" class=\"data row6 col3\" >0.08</td>\n",
       "                        <td id=\"T_1d4a4d5a_4349_11ea_aa36_d3a6d7b767eerow6_col4\" class=\"data row6 col4\" >0.13</td>\n",
       "                        <td id=\"T_1d4a4d5a_4349_11ea_aa36_d3a6d7b767eerow6_col5\" class=\"data row6 col5\" >0.06</td>\n",
       "                        <td id=\"T_1d4a4d5a_4349_11ea_aa36_d3a6d7b767eerow6_col6\" class=\"data row6 col6\" >1</td>\n",
       "            </tr>\n",
       "    </tbody></table>"
      ],
      "text/plain": [
       "<pandas.io.formats.style.Styler at 0x2591003eef0>"
      ]
     },
     "execution_count": 316,
     "metadata": {},
     "output_type": "execute_result"
    }
   ],
   "source": [
    "corr = data_to_model_norm.corr()\n",
    "corr = corr.round(2)\n",
    "corr.style.background_gradient()"
   ]
  },
  {
   "cell_type": "code",
   "execution_count": 317,
   "metadata": {
    "collapsed": true
   },
   "outputs": [],
   "source": [
    "#строим деревья"
   ]
  },
  {
   "cell_type": "code",
   "execution_count": 318,
   "metadata": {
    "scrolled": true
   },
   "outputs": [
    {
     "name": "stdout",
     "output_type": "stream",
     "text": [
      "<class 'pandas.core.frame.DataFrame'>\n",
      "RangeIndex: 98310 entries, 0 to 98309\n",
      "Data columns (total 7 columns):\n",
      "weekday_key        98310 non-null float64\n",
      "hour_key           98310 non-null float64\n",
      "distance_km        98310 non-null float64\n",
      "distance_km_ord    98310 non-null float64\n",
      "class              98310 non-null float64\n",
      "type               98310 non-null float64\n",
      "driver_response    98310 non-null float64\n",
      "dtypes: float64(7)\n",
      "memory usage: 5.3 MB\n"
     ]
    }
   ],
   "source": [
    "data_to_model_norm.info()"
   ]
  },
  {
   "cell_type": "code",
   "execution_count": 319,
   "metadata": {
    "collapsed": true
   },
   "outputs": [],
   "source": [
    "Y = data_to_model_norm.driver_response\n",
    "X = data_to_model_norm[['weekday_key', 'hour_key','distance_km','distance_km_ord','class','type']]"
   ]
  },
  {
   "cell_type": "code",
   "execution_count": 320,
   "metadata": {
    "collapsed": true
   },
   "outputs": [],
   "source": [
    "from sklearn.model_selection import train_test_split\n",
    "X_train, X_test, Y_train, Y_test = train_test_split(X, Y, test_size=0.3)"
   ]
  },
  {
   "cell_type": "code",
   "execution_count": 321,
   "metadata": {
    "collapsed": true
   },
   "outputs": [],
   "source": [
    "#8. Обучите модель. Напишите в markdown свои наблюдения по полученным результатам."
   ]
  },
  {
   "cell_type": "code",
   "execution_count": 322,
   "metadata": {},
   "outputs": [
    {
     "name": "stderr",
     "output_type": "stream",
     "text": [
      "No handles with labels found to put in legend.\n"
     ]
    },
    {
     "data": {
      "image/png": "[encoded data removed]",
      "text/plain": [
       "<Figure size 720x720 with 1 Axes>"
      ]
     },
     "metadata": {},
     "output_type": "display_data"
    }
   ],
   "source": [
    "from sklearn.ensemble import RandomForestClassifier\n",
    "\n",
    "# создаем модель деревья решений\n",
    "# выбираем 100 деревьев в качестве параметра\n",
    "model=RandomForestClassifier(n_estimators=100)\n",
    "\n",
    "# обучаем модель\n",
    "model.fit(X_train,Y_train)\n",
    "\n",
    "headers = list(X_train.columns.values)\n",
    "\n",
    "feature_imp = pd.Series(model.feature_importances_,index=headers).sort_values(ascending=False)#влияние на модель\n",
    "\n",
    "f, ax = plt.subplots(figsize=(10, 10))\n",
    "sns.barplot(x=feature_imp, y=feature_imp.index)\n",
    "\n",
    "plt.xlabel('Важность атрибутов')\n",
    "plt.ylabel('Атрибуты')\n",
    "plt.title(\"Наиболее важные атрибуты\")\n",
    "plt.legend()\n",
    "plt.show()"
   ]
  },
  {
   "cell_type": "code",
   "execution_count": 324,
   "metadata": {
    "scrolled": false
   },
   "outputs": [
    {
     "name": "stdout",
     "output_type": "stream",
     "text": [
      "              precision    recall  f1-score   support\n",
      "\n",
      "        -1.0       0.71      0.69      0.70     14897\n",
      "         1.0       0.69      0.71      0.70     14596\n",
      "\n",
      "    accuracy                           0.70     29493\n",
      "   macro avg       0.70      0.70      0.70     29493\n",
      "weighted avg       0.70      0.70      0.70     29493\n",
      "\n"
     ]
    },
    {
     "data": {
      "text/plain": [
       "0.6989455124944902"
      ]
     },
     "execution_count": 324,
     "metadata": {},
     "output_type": "execute_result"
    }
   ],
   "source": [
    "from sklearn.metrics import classification_report\n",
    "model_pred = model.predict(X_test)\n",
    "\n",
    "print(classification_report(Y_test, model_pred))\n",
    "\n",
    "model.score(X_test, Y_test)"
   ]
  },
  {
   "cell_type": "markdown",
   "metadata": {},
   "source": [
    "#точность предсказания 70%. Очень хорошая точность по мне.\n",
    "#Из самого прикольного - что растояние от водителя до заказа это первый элемент по важности при принятии решения. \n",
    "#ВТорое место это растояние до места назначения\n",
    "#Третье время\n",
    "#По мне достаточно логично. Водитель принимает то что рядом с ним, что бы меньше ехать, и выбираем так же куда ехать - так как от этого определяется цена (гипотеза). Был бы тариф или сколько заплатили было бы понятнее."
   ]
  },
  {
   "cell_type": "code",
   "execution_count": null,
   "metadata": {
    "collapsed": true
   },
   "outputs": [],
   "source": []
  },
  {
   "cell_type": "markdown",
   "metadata": {},
   "source": [
    "#как бы все, НО я хочу проверить что будет если растояние -1 вынести как категорийный признак - free_ride. И дистанцию для таких еще и подменить на среднее значение без учета этих элементов. Будет ли улучшение или нет.\n"
   ]
  },
  {
   "cell_type": "code",
   "execution_count": 326,
   "metadata": {},
   "outputs": [
    {
     "data": {
      "text/html": [
       "<div>\n",
       "<style scoped>\n",
       "    .dataframe tbody tr th:only-of-type {\n",
       "        vertical-align: middle;\n",
       "    }\n",
       "\n",
       "    .dataframe tbody tr th {\n",
       "        vertical-align: top;\n",
       "    }\n",
       "\n",
       "    .dataframe thead th {\n",
       "        text-align: right;\n",
       "    }\n",
       "</style>\n",
       "<table border=\"1\" class=\"dataframe\">\n",
       "  <thead>\n",
       "    <tr style=\"text-align: right;\">\n",
       "      <th></th>\n",
       "      <th>weekday_key</th>\n",
       "      <th>hour_key</th>\n",
       "      <th>distance_km</th>\n",
       "      <th>distance_km_ord</th>\n",
       "      <th>class</th>\n",
       "      <th>type</th>\n",
       "      <th>driver_response</th>\n",
       "    </tr>\n",
       "  </thead>\n",
       "  <tbody>\n",
       "    <tr>\n",
       "      <th>0</th>\n",
       "      <td>5</td>\n",
       "      <td>20</td>\n",
       "      <td>-1.000</td>\n",
       "      <td>1.367355</td>\n",
       "      <td>1</td>\n",
       "      <td>1</td>\n",
       "      <td>0</td>\n",
       "    </tr>\n",
       "    <tr>\n",
       "      <th>1</th>\n",
       "      <td>5</td>\n",
       "      <td>14</td>\n",
       "      <td>18.802</td>\n",
       "      <td>3.423260</td>\n",
       "      <td>2</td>\n",
       "      <td>1</td>\n",
       "      <td>1</td>\n",
       "    </tr>\n",
       "    <tr>\n",
       "      <th>2</th>\n",
       "      <td>6</td>\n",
       "      <td>14</td>\n",
       "      <td>6.747</td>\n",
       "      <td>0.411356</td>\n",
       "      <td>1</td>\n",
       "      <td>1</td>\n",
       "      <td>0</td>\n",
       "    </tr>\n",
       "    <tr>\n",
       "      <th>3</th>\n",
       "      <td>2</td>\n",
       "      <td>6</td>\n",
       "      <td>-1.000</td>\n",
       "      <td>0.649440</td>\n",
       "      <td>1</td>\n",
       "      <td>1</td>\n",
       "      <td>1</td>\n",
       "    </tr>\n",
       "    <tr>\n",
       "      <th>4</th>\n",
       "      <td>4</td>\n",
       "      <td>16</td>\n",
       "      <td>12.383</td>\n",
       "      <td>1.064116</td>\n",
       "      <td>1</td>\n",
       "      <td>1</td>\n",
       "      <td>1</td>\n",
       "    </tr>\n",
       "  </tbody>\n",
       "</table>\n",
       "</div>"
      ],
      "text/plain": [
       "   weekday_key  hour_key  distance_km  distance_km_ord  class  type  \\\n",
       "0            5        20       -1.000         1.367355      1     1   \n",
       "1            5        14       18.802         3.423260      2     1   \n",
       "2            6        14        6.747         0.411356      1     1   \n",
       "3            2         6       -1.000         0.649440      1     1   \n",
       "4            4        16       12.383         1.064116      1     1   \n",
       "\n",
       "   driver_response  \n",
       "0                0  \n",
       "1                1  \n",
       "2                0  \n",
       "3                1  \n",
       "4                1  "
      ]
     },
     "execution_count": 326,
     "metadata": {},
     "output_type": "execute_result"
    }
   ],
   "source": [
    "data_to_model_2 = data_to_model.copy()\n",
    "data_to_model_2.head()"
   ]
  },
  {
   "cell_type": "code",
   "execution_count": 335,
   "metadata": {},
   "outputs": [
    {
     "data": {
      "text/plain": [
       "23.959056302195652"
      ]
     },
     "execution_count": 335,
     "metadata": {},
     "output_type": "execute_result"
    }
   ],
   "source": [
    "mean_distance_km = data_to_model_2[data_to_model_2.distance_km!=-1].distance_km.mean()\n",
    "mean_distance_km"
   ]
  },
  {
   "cell_type": "code",
   "execution_count": 336,
   "metadata": {
    "collapsed": true
   },
   "outputs": [],
   "source": [
    "def free_ride (row):\n",
    "    if row['distance_km']== -1:\n",
    "        return 1\n",
    "    return 0 "
   ]
  },
  {
   "cell_type": "code",
   "execution_count": 338,
   "metadata": {
    "scrolled": true
   },
   "outputs": [],
   "source": [
    "data_to_model_2['free_ride'] = data_to_model_2.apply(free_ride, axis=1)"
   ]
  },
  {
   "cell_type": "code",
   "execution_count": 339,
   "metadata": {},
   "outputs": [
    {
     "data": {
      "text/html": [
       "<div>\n",
       "<style scoped>\n",
       "    .dataframe tbody tr th:only-of-type {\n",
       "        vertical-align: middle;\n",
       "    }\n",
       "\n",
       "    .dataframe tbody tr th {\n",
       "        vertical-align: top;\n",
       "    }\n",
       "\n",
       "    .dataframe thead th {\n",
       "        text-align: right;\n",
       "    }\n",
       "</style>\n",
       "<table border=\"1\" class=\"dataframe\">\n",
       "  <thead>\n",
       "    <tr style=\"text-align: right;\">\n",
       "      <th></th>\n",
       "      <th>weekday_key</th>\n",
       "      <th>hour_key</th>\n",
       "      <th>distance_km</th>\n",
       "      <th>distance_km_ord</th>\n",
       "      <th>class</th>\n",
       "      <th>type</th>\n",
       "      <th>driver_response</th>\n",
       "      <th>free_ride</th>\n",
       "    </tr>\n",
       "  </thead>\n",
       "  <tbody>\n",
       "    <tr>\n",
       "      <th>0</th>\n",
       "      <td>5</td>\n",
       "      <td>20</td>\n",
       "      <td>-1.000</td>\n",
       "      <td>1.367355</td>\n",
       "      <td>1</td>\n",
       "      <td>1</td>\n",
       "      <td>0</td>\n",
       "      <td>1</td>\n",
       "    </tr>\n",
       "    <tr>\n",
       "      <th>1</th>\n",
       "      <td>5</td>\n",
       "      <td>14</td>\n",
       "      <td>18.802</td>\n",
       "      <td>3.423260</td>\n",
       "      <td>2</td>\n",
       "      <td>1</td>\n",
       "      <td>1</td>\n",
       "      <td>0</td>\n",
       "    </tr>\n",
       "    <tr>\n",
       "      <th>2</th>\n",
       "      <td>6</td>\n",
       "      <td>14</td>\n",
       "      <td>6.747</td>\n",
       "      <td>0.411356</td>\n",
       "      <td>1</td>\n",
       "      <td>1</td>\n",
       "      <td>0</td>\n",
       "      <td>0</td>\n",
       "    </tr>\n",
       "    <tr>\n",
       "      <th>3</th>\n",
       "      <td>2</td>\n",
       "      <td>6</td>\n",
       "      <td>-1.000</td>\n",
       "      <td>0.649440</td>\n",
       "      <td>1</td>\n",
       "      <td>1</td>\n",
       "      <td>1</td>\n",
       "      <td>1</td>\n",
       "    </tr>\n",
       "    <tr>\n",
       "      <th>4</th>\n",
       "      <td>4</td>\n",
       "      <td>16</td>\n",
       "      <td>12.383</td>\n",
       "      <td>1.064116</td>\n",
       "      <td>1</td>\n",
       "      <td>1</td>\n",
       "      <td>1</td>\n",
       "      <td>0</td>\n",
       "    </tr>\n",
       "  </tbody>\n",
       "</table>\n",
       "</div>"
      ],
      "text/plain": [
       "   weekday_key  hour_key  distance_km  distance_km_ord  class  type  \\\n",
       "0            5        20       -1.000         1.367355      1     1   \n",
       "1            5        14       18.802         3.423260      2     1   \n",
       "2            6        14        6.747         0.411356      1     1   \n",
       "3            2         6       -1.000         0.649440      1     1   \n",
       "4            4        16       12.383         1.064116      1     1   \n",
       "\n",
       "   driver_response  free_ride  \n",
       "0                0          1  \n",
       "1                1          0  \n",
       "2                0          0  \n",
       "3                1          1  \n",
       "4                1          0  "
      ]
     },
     "execution_count": 339,
     "metadata": {},
     "output_type": "execute_result"
    }
   ],
   "source": [
    "data_to_model_2.head()"
   ]
  },
  {
   "cell_type": "code",
   "execution_count": 340,
   "metadata": {
    "collapsed": true
   },
   "outputs": [],
   "source": [
    "def distan_km_maen (row):\n",
    "    if row['distance_km']== -1:\n",
    "        return mean_distance_km\n",
    "    return row['distance_km']"
   ]
  },
  {
   "cell_type": "code",
   "execution_count": 341,
   "metadata": {
    "collapsed": true
   },
   "outputs": [],
   "source": [
    "data_to_model_2['distance_km_2'] = data_to_model_2.apply(distan_km_maen, axis=1)"
   ]
  },
  {
   "cell_type": "code",
   "execution_count": 342,
   "metadata": {
    "scrolled": true
   },
   "outputs": [
    {
     "data": {
      "text/html": [
       "<div>\n",
       "<style scoped>\n",
       "    .dataframe tbody tr th:only-of-type {\n",
       "        vertical-align: middle;\n",
       "    }\n",
       "\n",
       "    .dataframe tbody tr th {\n",
       "        vertical-align: top;\n",
       "    }\n",
       "\n",
       "    .dataframe thead th {\n",
       "        text-align: right;\n",
       "    }\n",
       "</style>\n",
       "<table border=\"1\" class=\"dataframe\">\n",
       "  <thead>\n",
       "    <tr style=\"text-align: right;\">\n",
       "      <th></th>\n",
       "      <th>weekday_key</th>\n",
       "      <th>hour_key</th>\n",
       "      <th>distance_km</th>\n",
       "      <th>distance_km_ord</th>\n",
       "      <th>class</th>\n",
       "      <th>type</th>\n",
       "      <th>driver_response</th>\n",
       "      <th>free_ride</th>\n",
       "      <th>distance_km_2</th>\n",
       "    </tr>\n",
       "  </thead>\n",
       "  <tbody>\n",
       "    <tr>\n",
       "      <th>0</th>\n",
       "      <td>5</td>\n",
       "      <td>20</td>\n",
       "      <td>-1.000</td>\n",
       "      <td>1.367355</td>\n",
       "      <td>1</td>\n",
       "      <td>1</td>\n",
       "      <td>0</td>\n",
       "      <td>1</td>\n",
       "      <td>23.959056</td>\n",
       "    </tr>\n",
       "    <tr>\n",
       "      <th>1</th>\n",
       "      <td>5</td>\n",
       "      <td>14</td>\n",
       "      <td>18.802</td>\n",
       "      <td>3.423260</td>\n",
       "      <td>2</td>\n",
       "      <td>1</td>\n",
       "      <td>1</td>\n",
       "      <td>0</td>\n",
       "      <td>18.802000</td>\n",
       "    </tr>\n",
       "    <tr>\n",
       "      <th>2</th>\n",
       "      <td>6</td>\n",
       "      <td>14</td>\n",
       "      <td>6.747</td>\n",
       "      <td>0.411356</td>\n",
       "      <td>1</td>\n",
       "      <td>1</td>\n",
       "      <td>0</td>\n",
       "      <td>0</td>\n",
       "      <td>6.747000</td>\n",
       "    </tr>\n",
       "    <tr>\n",
       "      <th>3</th>\n",
       "      <td>2</td>\n",
       "      <td>6</td>\n",
       "      <td>-1.000</td>\n",
       "      <td>0.649440</td>\n",
       "      <td>1</td>\n",
       "      <td>1</td>\n",
       "      <td>1</td>\n",
       "      <td>1</td>\n",
       "      <td>23.959056</td>\n",
       "    </tr>\n",
       "    <tr>\n",
       "      <th>4</th>\n",
       "      <td>4</td>\n",
       "      <td>16</td>\n",
       "      <td>12.383</td>\n",
       "      <td>1.064116</td>\n",
       "      <td>1</td>\n",
       "      <td>1</td>\n",
       "      <td>1</td>\n",
       "      <td>0</td>\n",
       "      <td>12.383000</td>\n",
       "    </tr>\n",
       "  </tbody>\n",
       "</table>\n",
       "</div>"
      ],
      "text/plain": [
       "   weekday_key  hour_key  distance_km  distance_km_ord  class  type  \\\n",
       "0            5        20       -1.000         1.367355      1     1   \n",
       "1            5        14       18.802         3.423260      2     1   \n",
       "2            6        14        6.747         0.411356      1     1   \n",
       "3            2         6       -1.000         0.649440      1     1   \n",
       "4            4        16       12.383         1.064116      1     1   \n",
       "\n",
       "   driver_response  free_ride  distance_km_2  \n",
       "0                0          1      23.959056  \n",
       "1                1          0      18.802000  \n",
       "2                0          0       6.747000  \n",
       "3                1          1      23.959056  \n",
       "4                1          0      12.383000  "
      ]
     },
     "execution_count": 342,
     "metadata": {},
     "output_type": "execute_result"
    }
   ],
   "source": [
    "data_to_model_2.head()"
   ]
  },
  {
   "cell_type": "code",
   "execution_count": 343,
   "metadata": {
    "scrolled": true
   },
   "outputs": [
    {
     "data": {
      "text/html": [
       "<div>\n",
       "<style scoped>\n",
       "    .dataframe tbody tr th:only-of-type {\n",
       "        vertical-align: middle;\n",
       "    }\n",
       "\n",
       "    .dataframe tbody tr th {\n",
       "        vertical-align: top;\n",
       "    }\n",
       "\n",
       "    .dataframe thead th {\n",
       "        text-align: right;\n",
       "    }\n",
       "</style>\n",
       "<table border=\"1\" class=\"dataframe\">\n",
       "  <thead>\n",
       "    <tr style=\"text-align: right;\">\n",
       "      <th></th>\n",
       "      <th>weekday_key</th>\n",
       "      <th>hour_key</th>\n",
       "      <th>distance_km_2</th>\n",
       "      <th>free_ride</th>\n",
       "      <th>distance_km_ord</th>\n",
       "      <th>class</th>\n",
       "      <th>type</th>\n",
       "      <th>driver_response</th>\n",
       "    </tr>\n",
       "  </thead>\n",
       "  <tbody>\n",
       "    <tr>\n",
       "      <th>0</th>\n",
       "      <td>5</td>\n",
       "      <td>20</td>\n",
       "      <td>23.959056</td>\n",
       "      <td>1</td>\n",
       "      <td>1.367355</td>\n",
       "      <td>1</td>\n",
       "      <td>1</td>\n",
       "      <td>0</td>\n",
       "    </tr>\n",
       "    <tr>\n",
       "      <th>1</th>\n",
       "      <td>5</td>\n",
       "      <td>14</td>\n",
       "      <td>18.802000</td>\n",
       "      <td>0</td>\n",
       "      <td>3.423260</td>\n",
       "      <td>2</td>\n",
       "      <td>1</td>\n",
       "      <td>1</td>\n",
       "    </tr>\n",
       "    <tr>\n",
       "      <th>2</th>\n",
       "      <td>6</td>\n",
       "      <td>14</td>\n",
       "      <td>6.747000</td>\n",
       "      <td>0</td>\n",
       "      <td>0.411356</td>\n",
       "      <td>1</td>\n",
       "      <td>1</td>\n",
       "      <td>0</td>\n",
       "    </tr>\n",
       "    <tr>\n",
       "      <th>3</th>\n",
       "      <td>2</td>\n",
       "      <td>6</td>\n",
       "      <td>23.959056</td>\n",
       "      <td>1</td>\n",
       "      <td>0.649440</td>\n",
       "      <td>1</td>\n",
       "      <td>1</td>\n",
       "      <td>1</td>\n",
       "    </tr>\n",
       "    <tr>\n",
       "      <th>4</th>\n",
       "      <td>4</td>\n",
       "      <td>16</td>\n",
       "      <td>12.383000</td>\n",
       "      <td>0</td>\n",
       "      <td>1.064116</td>\n",
       "      <td>1</td>\n",
       "      <td>1</td>\n",
       "      <td>1</td>\n",
       "    </tr>\n",
       "  </tbody>\n",
       "</table>\n",
       "</div>"
      ],
      "text/plain": [
       "   weekday_key  hour_key  distance_km_2  free_ride  distance_km_ord  class  \\\n",
       "0            5        20      23.959056          1         1.367355      1   \n",
       "1            5        14      18.802000          0         3.423260      2   \n",
       "2            6        14       6.747000          0         0.411356      1   \n",
       "3            2         6      23.959056          1         0.649440      1   \n",
       "4            4        16      12.383000          0         1.064116      1   \n",
       "\n",
       "   type  driver_response  \n",
       "0     1                0  \n",
       "1     1                1  \n",
       "2     1                0  \n",
       "3     1                1  \n",
       "4     1                1  "
      ]
     },
     "execution_count": 343,
     "metadata": {},
     "output_type": "execute_result"
    }
   ],
   "source": [
    "data_to_model_2 = data_to_model_2[['weekday_key', 'hour_key','distance_km_2','free_ride','distance_km_ord','class','type','driver_response']]\n",
    "data_to_model_2.head()"
   ]
  },
  {
   "cell_type": "code",
   "execution_count": null,
   "metadata": {
    "collapsed": true
   },
   "outputs": [],
   "source": []
  },
  {
   "cell_type": "code",
   "execution_count": 344,
   "metadata": {
    "collapsed": true
   },
   "outputs": [],
   "source": [
    "headers = list(data_to_model_2.columns.values)"
   ]
  },
  {
   "cell_type": "code",
   "execution_count": 345,
   "metadata": {
    "scrolled": true
   },
   "outputs": [
    {
     "data": {
      "text/html": [
       "<div>\n",
       "<style scoped>\n",
       "    .dataframe tbody tr th:only-of-type {\n",
       "        vertical-align: middle;\n",
       "    }\n",
       "\n",
       "    .dataframe tbody tr th {\n",
       "        vertical-align: top;\n",
       "    }\n",
       "\n",
       "    .dataframe thead th {\n",
       "        text-align: right;\n",
       "    }\n",
       "</style>\n",
       "<table border=\"1\" class=\"dataframe\">\n",
       "  <thead>\n",
       "    <tr style=\"text-align: right;\">\n",
       "      <th></th>\n",
       "      <th>weekday_key</th>\n",
       "      <th>hour_key</th>\n",
       "      <th>distance_km_2</th>\n",
       "      <th>free_ride</th>\n",
       "      <th>distance_km_ord</th>\n",
       "      <th>class</th>\n",
       "      <th>type</th>\n",
       "      <th>driver_response</th>\n",
       "    </tr>\n",
       "  </thead>\n",
       "  <tbody>\n",
       "    <tr>\n",
       "      <th>0</th>\n",
       "      <td>0.666667</td>\n",
       "      <td>0.739130</td>\n",
       "      <td>-0.418761</td>\n",
       "      <td>1.0</td>\n",
       "      <td>-0.543619</td>\n",
       "      <td>-1.0</td>\n",
       "      <td>-1.0</td>\n",
       "      <td>-1.0</td>\n",
       "    </tr>\n",
       "    <tr>\n",
       "      <th>1</th>\n",
       "      <td>0.666667</td>\n",
       "      <td>0.217391</td>\n",
       "      <td>-0.549325</td>\n",
       "      <td>-1.0</td>\n",
       "      <td>0.142610</td>\n",
       "      <td>0.0</td>\n",
       "      <td>-1.0</td>\n",
       "      <td>1.0</td>\n",
       "    </tr>\n",
       "    <tr>\n",
       "      <th>2</th>\n",
       "      <td>1.000000</td>\n",
       "      <td>0.217391</td>\n",
       "      <td>-0.854526</td>\n",
       "      <td>-1.0</td>\n",
       "      <td>-0.862717</td>\n",
       "      <td>-1.0</td>\n",
       "      <td>-1.0</td>\n",
       "      <td>-1.0</td>\n",
       "    </tr>\n",
       "    <tr>\n",
       "      <th>3</th>\n",
       "      <td>-0.333333</td>\n",
       "      <td>-0.478261</td>\n",
       "      <td>-0.418761</td>\n",
       "      <td>1.0</td>\n",
       "      <td>-0.783248</td>\n",
       "      <td>-1.0</td>\n",
       "      <td>-1.0</td>\n",
       "      <td>1.0</td>\n",
       "    </tr>\n",
       "    <tr>\n",
       "      <th>4</th>\n",
       "      <td>0.333333</td>\n",
       "      <td>0.391304</td>\n",
       "      <td>-0.711837</td>\n",
       "      <td>-1.0</td>\n",
       "      <td>-0.644836</td>\n",
       "      <td>-1.0</td>\n",
       "      <td>-1.0</td>\n",
       "      <td>1.0</td>\n",
       "    </tr>\n",
       "  </tbody>\n",
       "</table>\n",
       "</div>"
      ],
      "text/plain": [
       "   weekday_key  hour_key  distance_km_2  free_ride  distance_km_ord  class  \\\n",
       "0     0.666667  0.739130      -0.418761        1.0        -0.543619   -1.0   \n",
       "1     0.666667  0.217391      -0.549325       -1.0         0.142610    0.0   \n",
       "2     1.000000  0.217391      -0.854526       -1.0        -0.862717   -1.0   \n",
       "3    -0.333333 -0.478261      -0.418761        1.0        -0.783248   -1.0   \n",
       "4     0.333333  0.391304      -0.711837       -1.0        -0.644836   -1.0   \n",
       "\n",
       "   type  driver_response  \n",
       "0  -1.0             -1.0  \n",
       "1  -1.0              1.0  \n",
       "2  -1.0             -1.0  \n",
       "3  -1.0              1.0  \n",
       "4  -1.0              1.0  "
      ]
     },
     "execution_count": 345,
     "metadata": {},
     "output_type": "execute_result"
    }
   ],
   "source": [
    "from sklearn import preprocessing\n",
    "min_max_scaler = preprocessing.MinMaxScaler(feature_range=(-1,1))\n",
    "\n",
    "np_scaled = min_max_scaler.fit_transform(data_to_model_2)\n",
    "data_to_model_norm_2 = pd.DataFrame(np_scaled)\n",
    "data_to_model_norm_2.columns = headers\n",
    "data_to_model_norm_2.head()"
   ]
  },
  {
   "cell_type": "code",
   "execution_count": 346,
   "metadata": {
    "scrolled": true
   },
   "outputs": [
    {
     "data": {
      "text/html": [
       "<style  type=\"text/css\" >\n",
       "    #T_a9c73548_43f4_11ea_b411_d3a6d7b767eerow0_col0 {\n",
       "            background-color:  #023858;\n",
       "            color:  #f1f1f1;\n",
       "        }    #T_a9c73548_43f4_11ea_b411_d3a6d7b767eerow0_col1 {\n",
       "            background-color:  #f0eaf4;\n",
       "            color:  #000000;\n",
       "        }    #T_a9c73548_43f4_11ea_b411_d3a6d7b767eerow0_col2 {\n",
       "            background-color:  #dcdaeb;\n",
       "            color:  #000000;\n",
       "        }    #T_a9c73548_43f4_11ea_b411_d3a6d7b767eerow0_col3 {\n",
       "            background-color:  #fef6fa;\n",
       "            color:  #000000;\n",
       "        }    #T_a9c73548_43f4_11ea_b411_d3a6d7b767eerow0_col4 {\n",
       "            background-color:  #e8e4f0;\n",
       "            color:  #000000;\n",
       "        }    #T_a9c73548_43f4_11ea_b411_d3a6d7b767eerow0_col5 {\n",
       "            background-color:  #fff7fb;\n",
       "            color:  #000000;\n",
       "        }    #T_a9c73548_43f4_11ea_b411_d3a6d7b767eerow0_col6 {\n",
       "            background-color:  #fcf4fa;\n",
       "            color:  #000000;\n",
       "        }    #T_a9c73548_43f4_11ea_b411_d3a6d7b767eerow0_col7 {\n",
       "            background-color:  #c6cce3;\n",
       "            color:  #000000;\n",
       "        }    #T_a9c73548_43f4_11ea_b411_d3a6d7b767eerow1_col0 {\n",
       "            background-color:  #eee9f3;\n",
       "            color:  #000000;\n",
       "        }    #T_a9c73548_43f4_11ea_b411_d3a6d7b767eerow1_col1 {\n",
       "            background-color:  #023858;\n",
       "            color:  #f1f1f1;\n",
       "        }    #T_a9c73548_43f4_11ea_b411_d3a6d7b767eerow1_col2 {\n",
       "            background-color:  #d9d8ea;\n",
       "            color:  #000000;\n",
       "        }    #T_a9c73548_43f4_11ea_b411_d3a6d7b767eerow1_col3 {\n",
       "            background-color:  #fef6fa;\n",
       "            color:  #000000;\n",
       "        }    #T_a9c73548_43f4_11ea_b411_d3a6d7b767eerow1_col4 {\n",
       "            background-color:  #f7f0f7;\n",
       "            color:  #000000;\n",
       "        }    #T_a9c73548_43f4_11ea_b411_d3a6d7b767eerow1_col5 {\n",
       "            background-color:  #fef6fa;\n",
       "            color:  #000000;\n",
       "        }    #T_a9c73548_43f4_11ea_b411_d3a6d7b767eerow1_col6 {\n",
       "            background-color:  #fef6fa;\n",
       "            color:  #000000;\n",
       "        }    #T_a9c73548_43f4_11ea_b411_d3a6d7b767eerow1_col7 {\n",
       "            background-color:  #cccfe5;\n",
       "            color:  #000000;\n",
       "        }    #T_a9c73548_43f4_11ea_b411_d3a6d7b767eerow2_col0 {\n",
       "            background-color:  #fff7fb;\n",
       "            color:  #000000;\n",
       "        }    #T_a9c73548_43f4_11ea_b411_d3a6d7b767eerow2_col1 {\n",
       "            background-color:  #fef6fa;\n",
       "            color:  #000000;\n",
       "        }    #T_a9c73548_43f4_11ea_b411_d3a6d7b767eerow2_col2 {\n",
       "            background-color:  #023858;\n",
       "            color:  #f1f1f1;\n",
       "        }    #T_a9c73548_43f4_11ea_b411_d3a6d7b767eerow2_col3 {\n",
       "            background-color:  #fff7fb;\n",
       "            color:  #000000;\n",
       "        }    #T_a9c73548_43f4_11ea_b411_d3a6d7b767eerow2_col4 {\n",
       "            background-color:  #fff7fb;\n",
       "            color:  #000000;\n",
       "        }    #T_a9c73548_43f4_11ea_b411_d3a6d7b767eerow2_col5 {\n",
       "            background-color:  #fef6fa;\n",
       "            color:  #000000;\n",
       "        }    #T_a9c73548_43f4_11ea_b411_d3a6d7b767eerow2_col6 {\n",
       "            background-color:  #fff7fb;\n",
       "            color:  #000000;\n",
       "        }    #T_a9c73548_43f4_11ea_b411_d3a6d7b767eerow2_col7 {\n",
       "            background-color:  #fff7fb;\n",
       "            color:  #000000;\n",
       "        }    #T_a9c73548_43f4_11ea_b411_d3a6d7b767eerow3_col0 {\n",
       "            background-color:  #f4edf6;\n",
       "            color:  #000000;\n",
       "        }    #T_a9c73548_43f4_11ea_b411_d3a6d7b767eerow3_col1 {\n",
       "            background-color:  #f5eff6;\n",
       "            color:  #000000;\n",
       "        }    #T_a9c73548_43f4_11ea_b411_d3a6d7b767eerow3_col2 {\n",
       "            background-color:  #d1d2e6;\n",
       "            color:  #000000;\n",
       "        }    #T_a9c73548_43f4_11ea_b411_d3a6d7b767eerow3_col3 {\n",
       "            background-color:  #023858;\n",
       "            color:  #f1f1f1;\n",
       "        }    #T_a9c73548_43f4_11ea_b411_d3a6d7b767eerow3_col4 {\n",
       "            background-color:  #efe9f3;\n",
       "            color:  #000000;\n",
       "        }    #T_a9c73548_43f4_11ea_b411_d3a6d7b767eerow3_col5 {\n",
       "            background-color:  #dbdaeb;\n",
       "            color:  #000000;\n",
       "        }    #T_a9c73548_43f4_11ea_b411_d3a6d7b767eerow3_col6 {\n",
       "            background-color:  #73a9cf;\n",
       "            color:  #000000;\n",
       "        }    #T_a9c73548_43f4_11ea_b411_d3a6d7b767eerow3_col7 {\n",
       "            background-color:  #c0c9e2;\n",
       "            color:  #000000;\n",
       "        }    #T_a9c73548_43f4_11ea_b411_d3a6d7b767eerow4_col0 {\n",
       "            background-color:  #f0eaf4;\n",
       "            color:  #000000;\n",
       "        }    #T_a9c73548_43f4_11ea_b411_d3a6d7b767eerow4_col1 {\n",
       "            background-color:  #fff7fb;\n",
       "            color:  #000000;\n",
       "        }    #T_a9c73548_43f4_11ea_b411_d3a6d7b767eerow4_col2 {\n",
       "            background-color:  #e5e1ef;\n",
       "            color:  #000000;\n",
       "        }    #T_a9c73548_43f4_11ea_b411_d3a6d7b767eerow4_col3 {\n",
       "            background-color:  #fff7fb;\n",
       "            color:  #000000;\n",
       "        }    #T_a9c73548_43f4_11ea_b411_d3a6d7b767eerow4_col4 {\n",
       "            background-color:  #023858;\n",
       "            color:  #f1f1f1;\n",
       "        }    #T_a9c73548_43f4_11ea_b411_d3a6d7b767eerow4_col5 {\n",
       "            background-color:  #f3edf5;\n",
       "            color:  #000000;\n",
       "        }    #T_a9c73548_43f4_11ea_b411_d3a6d7b767eerow4_col6 {\n",
       "            background-color:  #fcf4fa;\n",
       "            color:  #000000;\n",
       "        }    #T_a9c73548_43f4_11ea_b411_d3a6d7b767eerow4_col7 {\n",
       "            background-color:  #bdc8e1;\n",
       "            color:  #000000;\n",
       "        }    #T_a9c73548_43f4_11ea_b411_d3a6d7b767eerow5_col0 {\n",
       "            background-color:  #f4edf6;\n",
       "            color:  #000000;\n",
       "        }    #T_a9c73548_43f4_11ea_b411_d3a6d7b767eerow5_col1 {\n",
       "            background-color:  #f4edf6;\n",
       "            color:  #000000;\n",
       "        }    #T_a9c73548_43f4_11ea_b411_d3a6d7b767eerow5_col2 {\n",
       "            background-color:  #cccfe5;\n",
       "            color:  #000000;\n",
       "        }    #T_a9c73548_43f4_11ea_b411_d3a6d7b767eerow5_col3 {\n",
       "            background-color:  #d9d8ea;\n",
       "            color:  #000000;\n",
       "        }    #T_a9c73548_43f4_11ea_b411_d3a6d7b767eerow5_col4 {\n",
       "            background-color:  #dfddec;\n",
       "            color:  #000000;\n",
       "        }    #T_a9c73548_43f4_11ea_b411_d3a6d7b767eerow5_col5 {\n",
       "            background-color:  #023858;\n",
       "            color:  #f1f1f1;\n",
       "        }    #T_a9c73548_43f4_11ea_b411_d3a6d7b767eerow5_col6 {\n",
       "            background-color:  #e2dfee;\n",
       "            color:  #000000;\n",
       "        }    #T_a9c73548_43f4_11ea_b411_d3a6d7b767eerow5_col7 {\n",
       "            background-color:  #b0c2de;\n",
       "            color:  #000000;\n",
       "        }    #T_a9c73548_43f4_11ea_b411_d3a6d7b767eerow6_col0 {\n",
       "            background-color:  #f2ecf5;\n",
       "            color:  #000000;\n",
       "        }    #T_a9c73548_43f4_11ea_b411_d3a6d7b767eerow6_col1 {\n",
       "            background-color:  #f5eff6;\n",
       "            color:  #000000;\n",
       "        }    #T_a9c73548_43f4_11ea_b411_d3a6d7b767eerow6_col2 {\n",
       "            background-color:  #d1d2e6;\n",
       "            color:  #000000;\n",
       "        }    #T_a9c73548_43f4_11ea_b411_d3a6d7b767eerow6_col3 {\n",
       "            background-color:  #73a9cf;\n",
       "            color:  #000000;\n",
       "        }    #T_a9c73548_43f4_11ea_b411_d3a6d7b767eerow6_col4 {\n",
       "            background-color:  #ede7f2;\n",
       "            color:  #000000;\n",
       "        }    #T_a9c73548_43f4_11ea_b411_d3a6d7b767eerow6_col5 {\n",
       "            background-color:  #e4e1ef;\n",
       "            color:  #000000;\n",
       "        }    #T_a9c73548_43f4_11ea_b411_d3a6d7b767eerow6_col6 {\n",
       "            background-color:  #023858;\n",
       "            color:  #f1f1f1;\n",
       "        }    #T_a9c73548_43f4_11ea_b411_d3a6d7b767eerow6_col7 {\n",
       "            background-color:  #c1cae2;\n",
       "            color:  #000000;\n",
       "        }    #T_a9c73548_43f4_11ea_b411_d3a6d7b767eerow7_col0 {\n",
       "            background-color:  #f0eaf4;\n",
       "            color:  #000000;\n",
       "        }    #T_a9c73548_43f4_11ea_b411_d3a6d7b767eerow7_col1 {\n",
       "            background-color:  #f4edf6;\n",
       "            color:  #000000;\n",
       "        }    #T_a9c73548_43f4_11ea_b411_d3a6d7b767eerow7_col2 {\n",
       "            background-color:  #fff7fb;\n",
       "            color:  #000000;\n",
       "        }    #T_a9c73548_43f4_11ea_b411_d3a6d7b767eerow7_col3 {\n",
       "            background-color:  #f5eef6;\n",
       "            color:  #000000;\n",
       "        }    #T_a9c73548_43f4_11ea_b411_d3a6d7b767eerow7_col4 {\n",
       "            background-color:  #e0deed;\n",
       "            color:  #000000;\n",
       "        }    #T_a9c73548_43f4_11ea_b411_d3a6d7b767eerow7_col5 {\n",
       "            background-color:  #ede7f2;\n",
       "            color:  #000000;\n",
       "        }    #T_a9c73548_43f4_11ea_b411_d3a6d7b767eerow7_col6 {\n",
       "            background-color:  #f6eff7;\n",
       "            color:  #000000;\n",
       "        }    #T_a9c73548_43f4_11ea_b411_d3a6d7b767eerow7_col7 {\n",
       "            background-color:  #023858;\n",
       "            color:  #f1f1f1;\n",
       "        }</style><table id=\"T_a9c73548_43f4_11ea_b411_d3a6d7b767ee\" ><thead>    <tr>        <th class=\"blank level0\" ></th>        <th class=\"col_heading level0 col0\" >weekday_key</th>        <th class=\"col_heading level0 col1\" >hour_key</th>        <th class=\"col_heading level0 col2\" >distance_km_2</th>        <th class=\"col_heading level0 col3\" >free_ride</th>        <th class=\"col_heading level0 col4\" >distance_km_ord</th>        <th class=\"col_heading level0 col5\" >class</th>        <th class=\"col_heading level0 col6\" >type</th>        <th class=\"col_heading level0 col7\" >driver_response</th>    </tr></thead><tbody>\n",
       "                <tr>\n",
       "                        <th id=\"T_a9c73548_43f4_11ea_b411_d3a6d7b767eelevel0_row0\" class=\"row_heading level0 row0\" >weekday_key</th>\n",
       "                        <td id=\"T_a9c73548_43f4_11ea_b411_d3a6d7b767eerow0_col0\" class=\"data row0 col0\" >1</td>\n",
       "                        <td id=\"T_a9c73548_43f4_11ea_b411_d3a6d7b767eerow0_col1\" class=\"data row0 col1\" >0.05</td>\n",
       "                        <td id=\"T_a9c73548_43f4_11ea_b411_d3a6d7b767eerow0_col2\" class=\"data row0 col2\" >-0.07</td>\n",
       "                        <td id=\"T_a9c73548_43f4_11ea_b411_d3a6d7b767eerow0_col3\" class=\"data row0 col3\" >0.01</td>\n",
       "                        <td id=\"T_a9c73548_43f4_11ea_b411_d3a6d7b767eerow0_col4\" class=\"data row0 col4\" >0.04</td>\n",
       "                        <td id=\"T_a9c73548_43f4_11ea_b411_d3a6d7b767eerow0_col5\" class=\"data row0 col5\" >0.01</td>\n",
       "                        <td id=\"T_a9c73548_43f4_11ea_b411_d3a6d7b767eerow0_col6\" class=\"data row0 col6\" >0.02</td>\n",
       "                        <td id=\"T_a9c73548_43f4_11ea_b411_d3a6d7b767eerow0_col7\" class=\"data row0 col7\" >0.04</td>\n",
       "            </tr>\n",
       "            <tr>\n",
       "                        <th id=\"T_a9c73548_43f4_11ea_b411_d3a6d7b767eelevel0_row1\" class=\"row_heading level0 row1\" >hour_key</th>\n",
       "                        <td id=\"T_a9c73548_43f4_11ea_b411_d3a6d7b767eerow1_col0\" class=\"data row1 col0\" >0.05</td>\n",
       "                        <td id=\"T_a9c73548_43f4_11ea_b411_d3a6d7b767eerow1_col1\" class=\"data row1 col1\" >1</td>\n",
       "                        <td id=\"T_a9c73548_43f4_11ea_b411_d3a6d7b767eerow1_col2\" class=\"data row1 col2\" >-0.05</td>\n",
       "                        <td id=\"T_a9c73548_43f4_11ea_b411_d3a6d7b767eerow1_col3\" class=\"data row1 col3\" >0.01</td>\n",
       "                        <td id=\"T_a9c73548_43f4_11ea_b411_d3a6d7b767eerow1_col4\" class=\"data row1 col4\" >-0.06</td>\n",
       "                        <td id=\"T_a9c73548_43f4_11ea_b411_d3a6d7b767eerow1_col5\" class=\"data row1 col5\" >0.02</td>\n",
       "                        <td id=\"T_a9c73548_43f4_11ea_b411_d3a6d7b767eerow1_col6\" class=\"data row1 col6\" >0.01</td>\n",
       "                        <td id=\"T_a9c73548_43f4_11ea_b411_d3a6d7b767eerow1_col7\" class=\"data row1 col7\" >0.02</td>\n",
       "            </tr>\n",
       "            <tr>\n",
       "                        <th id=\"T_a9c73548_43f4_11ea_b411_d3a6d7b767eelevel0_row2\" class=\"row_heading level0 row2\" >distance_km_2</th>\n",
       "                        <td id=\"T_a9c73548_43f4_11ea_b411_d3a6d7b767eerow2_col0\" class=\"data row2 col0\" >-0.07</td>\n",
       "                        <td id=\"T_a9c73548_43f4_11ea_b411_d3a6d7b767eerow2_col1\" class=\"data row2 col1\" >-0.05</td>\n",
       "                        <td id=\"T_a9c73548_43f4_11ea_b411_d3a6d7b767eerow2_col2\" class=\"data row2 col2\" >1</td>\n",
       "                        <td id=\"T_a9c73548_43f4_11ea_b411_d3a6d7b767eerow2_col3\" class=\"data row2 col3\" >0</td>\n",
       "                        <td id=\"T_a9c73548_43f4_11ea_b411_d3a6d7b767eerow2_col4\" class=\"data row2 col4\" >-0.12</td>\n",
       "                        <td id=\"T_a9c73548_43f4_11ea_b411_d3a6d7b767eerow2_col5\" class=\"data row2 col5\" >0.02</td>\n",
       "                        <td id=\"T_a9c73548_43f4_11ea_b411_d3a6d7b767eerow2_col6\" class=\"data row2 col6\" >-0</td>\n",
       "                        <td id=\"T_a9c73548_43f4_11ea_b411_d3a6d7b767eerow2_col7\" class=\"data row2 col7\" >-0.33</td>\n",
       "            </tr>\n",
       "            <tr>\n",
       "                        <th id=\"T_a9c73548_43f4_11ea_b411_d3a6d7b767eelevel0_row3\" class=\"row_heading level0 row3\" >free_ride</th>\n",
       "                        <td id=\"T_a9c73548_43f4_11ea_b411_d3a6d7b767eerow3_col0\" class=\"data row3 col0\" >0.01</td>\n",
       "                        <td id=\"T_a9c73548_43f4_11ea_b411_d3a6d7b767eerow3_col1\" class=\"data row3 col1\" >0.01</td>\n",
       "                        <td id=\"T_a9c73548_43f4_11ea_b411_d3a6d7b767eerow3_col2\" class=\"data row3 col2\" >0</td>\n",
       "                        <td id=\"T_a9c73548_43f4_11ea_b411_d3a6d7b767eerow3_col3\" class=\"data row3 col3\" >1</td>\n",
       "                        <td id=\"T_a9c73548_43f4_11ea_b411_d3a6d7b767eerow3_col4\" class=\"data row3 col4\" >0</td>\n",
       "                        <td id=\"T_a9c73548_43f4_11ea_b411_d3a6d7b767eerow3_col5\" class=\"data row3 col5\" >0.21</td>\n",
       "                        <td id=\"T_a9c73548_43f4_11ea_b411_d3a6d7b767eerow3_col6\" class=\"data row3 col6\" >0.5</td>\n",
       "                        <td id=\"T_a9c73548_43f4_11ea_b411_d3a6d7b767eerow3_col7\" class=\"data row3 col7\" >0.07</td>\n",
       "            </tr>\n",
       "            <tr>\n",
       "                        <th id=\"T_a9c73548_43f4_11ea_b411_d3a6d7b767eelevel0_row4\" class=\"row_heading level0 row4\" >distance_km_ord</th>\n",
       "                        <td id=\"T_a9c73548_43f4_11ea_b411_d3a6d7b767eerow4_col0\" class=\"data row4 col0\" >0.04</td>\n",
       "                        <td id=\"T_a9c73548_43f4_11ea_b411_d3a6d7b767eerow4_col1\" class=\"data row4 col1\" >-0.06</td>\n",
       "                        <td id=\"T_a9c73548_43f4_11ea_b411_d3a6d7b767eerow4_col2\" class=\"data row4 col2\" >-0.12</td>\n",
       "                        <td id=\"T_a9c73548_43f4_11ea_b411_d3a6d7b767eerow4_col3\" class=\"data row4 col3\" >0</td>\n",
       "                        <td id=\"T_a9c73548_43f4_11ea_b411_d3a6d7b767eerow4_col4\" class=\"data row4 col4\" >1</td>\n",
       "                        <td id=\"T_a9c73548_43f4_11ea_b411_d3a6d7b767eerow4_col5\" class=\"data row4 col5\" >0.09</td>\n",
       "                        <td id=\"T_a9c73548_43f4_11ea_b411_d3a6d7b767eerow4_col6\" class=\"data row4 col6\" >0.02</td>\n",
       "                        <td id=\"T_a9c73548_43f4_11ea_b411_d3a6d7b767eerow4_col7\" class=\"data row4 col7\" >0.08</td>\n",
       "            </tr>\n",
       "            <tr>\n",
       "                        <th id=\"T_a9c73548_43f4_11ea_b411_d3a6d7b767eelevel0_row5\" class=\"row_heading level0 row5\" >class</th>\n",
       "                        <td id=\"T_a9c73548_43f4_11ea_b411_d3a6d7b767eerow5_col0\" class=\"data row5 col0\" >0.01</td>\n",
       "                        <td id=\"T_a9c73548_43f4_11ea_b411_d3a6d7b767eerow5_col1\" class=\"data row5 col1\" >0.02</td>\n",
       "                        <td id=\"T_a9c73548_43f4_11ea_b411_d3a6d7b767eerow5_col2\" class=\"data row5 col2\" >0.02</td>\n",
       "                        <td id=\"T_a9c73548_43f4_11ea_b411_d3a6d7b767eerow5_col3\" class=\"data row5 col3\" >0.21</td>\n",
       "                        <td id=\"T_a9c73548_43f4_11ea_b411_d3a6d7b767eerow5_col4\" class=\"data row5 col4\" >0.09</td>\n",
       "                        <td id=\"T_a9c73548_43f4_11ea_b411_d3a6d7b767eerow5_col5\" class=\"data row5 col5\" >1</td>\n",
       "                        <td id=\"T_a9c73548_43f4_11ea_b411_d3a6d7b767eerow5_col6\" class=\"data row5 col6\" >0.17</td>\n",
       "                        <td id=\"T_a9c73548_43f4_11ea_b411_d3a6d7b767eerow5_col7\" class=\"data row5 col7\" >0.13</td>\n",
       "            </tr>\n",
       "            <tr>\n",
       "                        <th id=\"T_a9c73548_43f4_11ea_b411_d3a6d7b767eelevel0_row6\" class=\"row_heading level0 row6\" >type</th>\n",
       "                        <td id=\"T_a9c73548_43f4_11ea_b411_d3a6d7b767eerow6_col0\" class=\"data row6 col0\" >0.02</td>\n",
       "                        <td id=\"T_a9c73548_43f4_11ea_b411_d3a6d7b767eerow6_col1\" class=\"data row6 col1\" >0.01</td>\n",
       "                        <td id=\"T_a9c73548_43f4_11ea_b411_d3a6d7b767eerow6_col2\" class=\"data row6 col2\" >-0</td>\n",
       "                        <td id=\"T_a9c73548_43f4_11ea_b411_d3a6d7b767eerow6_col3\" class=\"data row6 col3\" >0.5</td>\n",
       "                        <td id=\"T_a9c73548_43f4_11ea_b411_d3a6d7b767eerow6_col4\" class=\"data row6 col4\" >0.02</td>\n",
       "                        <td id=\"T_a9c73548_43f4_11ea_b411_d3a6d7b767eerow6_col5\" class=\"data row6 col5\" >0.17</td>\n",
       "                        <td id=\"T_a9c73548_43f4_11ea_b411_d3a6d7b767eerow6_col6\" class=\"data row6 col6\" >1</td>\n",
       "                        <td id=\"T_a9c73548_43f4_11ea_b411_d3a6d7b767eerow6_col7\" class=\"data row6 col7\" >0.06</td>\n",
       "            </tr>\n",
       "            <tr>\n",
       "                        <th id=\"T_a9c73548_43f4_11ea_b411_d3a6d7b767eelevel0_row7\" class=\"row_heading level0 row7\" >driver_response</th>\n",
       "                        <td id=\"T_a9c73548_43f4_11ea_b411_d3a6d7b767eerow7_col0\" class=\"data row7 col0\" >0.04</td>\n",
       "                        <td id=\"T_a9c73548_43f4_11ea_b411_d3a6d7b767eerow7_col1\" class=\"data row7 col1\" >0.02</td>\n",
       "                        <td id=\"T_a9c73548_43f4_11ea_b411_d3a6d7b767eerow7_col2\" class=\"data row7 col2\" >-0.33</td>\n",
       "                        <td id=\"T_a9c73548_43f4_11ea_b411_d3a6d7b767eerow7_col3\" class=\"data row7 col3\" >0.07</td>\n",
       "                        <td id=\"T_a9c73548_43f4_11ea_b411_d3a6d7b767eerow7_col4\" class=\"data row7 col4\" >0.08</td>\n",
       "                        <td id=\"T_a9c73548_43f4_11ea_b411_d3a6d7b767eerow7_col5\" class=\"data row7 col5\" >0.13</td>\n",
       "                        <td id=\"T_a9c73548_43f4_11ea_b411_d3a6d7b767eerow7_col6\" class=\"data row7 col6\" >0.06</td>\n",
       "                        <td id=\"T_a9c73548_43f4_11ea_b411_d3a6d7b767eerow7_col7\" class=\"data row7 col7\" >1</td>\n",
       "            </tr>\n",
       "    </tbody></table>"
      ],
      "text/plain": [
       "<pandas.io.formats.style.Styler at 0x25911bc0320>"
      ]
     },
     "execution_count": 346,
     "metadata": {},
     "output_type": "execute_result"
    }
   ],
   "source": [
    "corr = data_to_model_norm_2.corr()\n",
    "corr = corr.round(2)\n",
    "corr.style.background_gradient()"
   ]
  },
  {
   "cell_type": "code",
   "execution_count": null,
   "metadata": {
    "collapsed": true
   },
   "outputs": [],
   "source": [
    "#интересная штука - тип имеет хорошую корреляцию в фри райдом - где нет дистанции"
   ]
  },
  {
   "cell_type": "code",
   "execution_count": 317,
   "metadata": {
    "collapsed": true
   },
   "outputs": [],
   "source": [
    "#строим деревья"
   ]
  },
  {
   "cell_type": "code",
   "execution_count": 347,
   "metadata": {
    "scrolled": true
   },
   "outputs": [
    {
     "name": "stdout",
     "output_type": "stream",
     "text": [
      "<class 'pandas.core.frame.DataFrame'>\n",
      "RangeIndex: 98310 entries, 0 to 98309\n",
      "Data columns (total 8 columns):\n",
      "weekday_key        98310 non-null float64\n",
      "hour_key           98310 non-null float64\n",
      "distance_km_2      98310 non-null float64\n",
      "free_ride          98310 non-null float64\n",
      "distance_km_ord    98310 non-null float64\n",
      "class              98310 non-null float64\n",
      "type               98310 non-null float64\n",
      "driver_response    98310 non-null float64\n",
      "dtypes: float64(8)\n",
      "memory usage: 6.0 MB\n"
     ]
    }
   ],
   "source": [
    "data_to_model_norm_2.info()"
   ]
  },
  {
   "cell_type": "code",
   "execution_count": 348,
   "metadata": {
    "collapsed": true
   },
   "outputs": [],
   "source": [
    "Y = data_to_model_norm_2.driver_response\n",
    "X = data_to_model_norm_2[['weekday_key', 'hour_key','distance_km_2','distance_km_ord','class','type','free_ride']]"
   ]
  },
  {
   "cell_type": "code",
   "execution_count": 349,
   "metadata": {
    "collapsed": true
   },
   "outputs": [],
   "source": [
    "from sklearn.model_selection import train_test_split\n",
    "X_train, X_test, Y_train, Y_test = train_test_split(X, Y, test_size=0.3)"
   ]
  },
  {
   "cell_type": "code",
   "execution_count": 350,
   "metadata": {},
   "outputs": [
    {
     "name": "stderr",
     "output_type": "stream",
     "text": [
      "No handles with labels found to put in legend.\n"
     ]
    },
    {
     "data": {
      "image/png": "[encoded data removed]",
      "text/plain": [
       "<Figure size 720x720 with 1 Axes>"
      ]
     },
     "metadata": {},
     "output_type": "display_data"
    }
   ],
   "source": [
    "from sklearn.ensemble import RandomForestClassifier\n",
    "\n",
    "# создаем модель деревья решений\n",
    "# выбираем 100 деревьев в качестве параметра\n",
    "model=RandomForestClassifier(n_estimators=100)\n",
    "\n",
    "# обучаем модель\n",
    "model.fit(X_train,Y_train)\n",
    "\n",
    "headers = list(X_train.columns.values)\n",
    "\n",
    "feature_imp = pd.Series(model.feature_importances_,index=headers).sort_values(ascending=False)#влияние на модель\n",
    "\n",
    "f, ax = plt.subplots(figsize=(10, 10))\n",
    "sns.barplot(x=feature_imp, y=feature_imp.index)\n",
    "\n",
    "plt.xlabel('Важность атрибутов')\n",
    "plt.ylabel('Атрибуты')\n",
    "plt.title(\"Наиболее важные атрибуты\")\n",
    "plt.legend()\n",
    "plt.show()"
   ]
  },
  {
   "cell_type": "code",
   "execution_count": 351,
   "metadata": {
    "scrolled": true
   },
   "outputs": [
    {
     "name": "stdout",
     "output_type": "stream",
     "text": [
      "              precision    recall  f1-score   support\n",
      "\n",
      "        -1.0       0.70      0.70      0.70     14901\n",
      "         1.0       0.69      0.70      0.70     14592\n",
      "\n",
      "    accuracy                           0.70     29493\n",
      "   macro avg       0.70      0.70      0.70     29493\n",
      "weighted avg       0.70      0.70      0.70     29493\n",
      "\n"
     ]
    },
    {
     "data": {
      "text/plain": [
       "0.6978266029227275"
      ]
     },
     "execution_count": 351,
     "metadata": {},
     "output_type": "execute_result"
    }
   ],
   "source": [
    "from sklearn.metrics import classification_report\n",
    "model_pred = model.predict(X_test)\n",
    "\n",
    "print(classification_report(Y_test, model_pred))\n",
    "\n",
    "model.score(X_test, Y_test)"
   ]
  },
  {
   "cell_type": "code",
   "execution_count": 352,
   "metadata": {
    "collapsed": true
   },
   "outputs": [],
   "source": [
    "#без изменений"
   ]
  },
  {
   "cell_type": "code",
   "execution_count": null,
   "metadata": {
    "collapsed": true
   },
   "outputs": [],
   "source": []
  },
  {
   "cell_type": "code",
   "execution_count": 355,
   "metadata": {
    "collapsed": true
   },
   "outputs": [],
   "source": [
    "#попробую сделать ван хот ин кодинг на класс. Не уверен что это поможет но хочу посмотреть"
   ]
  },
  {
   "cell_type": "code",
   "execution_count": 353,
   "metadata": {},
   "outputs": [
    {
     "data": {
      "text/plain": [
       "{'Delivery': 3,\n",
       " 'Economy': 1,\n",
       " 'Kids': 3,\n",
       " 'Premium': 3,\n",
       " 'Standard': 2,\n",
       " 'VIP': 3,\n",
       " 'VIP+': 3,\n",
       " 'XL': 3}"
      ]
     },
     "execution_count": 353,
     "metadata": {},
     "output_type": "execute_result"
    }
   ],
   "source": [
    "dict_class"
   ]
  },
  {
   "cell_type": "code",
   "execution_count": 354,
   "metadata": {
    "collapsed": true
   },
   "outputs": [],
   "source": [
    "data_to_model_3 = data_to_model_2"
   ]
  },
  {
   "cell_type": "code",
   "execution_count": 356,
   "metadata": {
    "collapsed": true
   },
   "outputs": [],
   "source": [
    "from sklearn import preprocessing"
   ]
  },
  {
   "cell_type": "code",
   "execution_count": 359,
   "metadata": {},
   "outputs": [],
   "source": [
    "a_class = data_to_model_3['class'].get_values().reshape(-1, 1)"
   ]
  },
  {
   "cell_type": "code",
   "execution_count": 360,
   "metadata": {
    "scrolled": true
   },
   "outputs": [
    {
     "data": {
      "text/plain": [
       "array([[1],\n",
       "       [2],\n",
       "       [1],\n",
       "       ...,\n",
       "       [2],\n",
       "       [1],\n",
       "       [2]], dtype=int64)"
      ]
     },
     "execution_count": 360,
     "metadata": {},
     "output_type": "execute_result"
    }
   ],
   "source": [
    "a_class"
   ]
  },
  {
   "cell_type": "code",
   "execution_count": 361,
   "metadata": {
    "collapsed": true
   },
   "outputs": [],
   "source": [
    "colums_a_class = ['Economy','Standard','Other']"
   ]
  },
  {
   "cell_type": "code",
   "execution_count": 362,
   "metadata": {
    "scrolled": true
   },
   "outputs": [
    {
     "data": {
      "text/plain": [
       "array([[1., 0., 0.],\n",
       "       [0., 1., 0.],\n",
       "       [1., 0., 0.],\n",
       "       ...,\n",
       "       [0., 1., 0.],\n",
       "       [1., 0., 0.],\n",
       "       [0., 1., 0.]])"
      ]
     },
     "execution_count": 362,
     "metadata": {},
     "output_type": "execute_result"
    }
   ],
   "source": [
    "# One-hot encoding\n",
    "oh_encoder = preprocessing.OneHotEncoder()\n",
    "oh_encoder.fit(a_class)\n",
    "oh_result = oh_encoder.transform(a_class).toarray()\n",
    "oh_result"
   ]
  },
  {
   "cell_type": "code",
   "execution_count": 363,
   "metadata": {
    "collapsed": true
   },
   "outputs": [],
   "source": [
    "a_class_df = pd.DataFrame(oh_result, columns=colums_a_class)\n",
    "a_class_df.index = data_to_model_3.index"
   ]
  },
  {
   "cell_type": "code",
   "execution_count": 364,
   "metadata": {
    "scrolled": true
   },
   "outputs": [
    {
     "data": {
      "text/html": [
       "<div>\n",
       "<style scoped>\n",
       "    .dataframe tbody tr th:only-of-type {\n",
       "        vertical-align: middle;\n",
       "    }\n",
       "\n",
       "    .dataframe tbody tr th {\n",
       "        vertical-align: top;\n",
       "    }\n",
       "\n",
       "    .dataframe thead th {\n",
       "        text-align: right;\n",
       "    }\n",
       "</style>\n",
       "<table border=\"1\" class=\"dataframe\">\n",
       "  <thead>\n",
       "    <tr style=\"text-align: right;\">\n",
       "      <th></th>\n",
       "      <th>weekday_key</th>\n",
       "      <th>hour_key</th>\n",
       "      <th>distance_km_2</th>\n",
       "      <th>free_ride</th>\n",
       "      <th>distance_km_ord</th>\n",
       "      <th>type</th>\n",
       "      <th>driver_response</th>\n",
       "      <th>Economy</th>\n",
       "      <th>Standard</th>\n",
       "      <th>Other</th>\n",
       "    </tr>\n",
       "  </thead>\n",
       "  <tbody>\n",
       "    <tr>\n",
       "      <th>0</th>\n",
       "      <td>5</td>\n",
       "      <td>20</td>\n",
       "      <td>23.959056</td>\n",
       "      <td>1</td>\n",
       "      <td>1.367355</td>\n",
       "      <td>1</td>\n",
       "      <td>0</td>\n",
       "      <td>1.0</td>\n",
       "      <td>0.0</td>\n",
       "      <td>0.0</td>\n",
       "    </tr>\n",
       "    <tr>\n",
       "      <th>1</th>\n",
       "      <td>5</td>\n",
       "      <td>14</td>\n",
       "      <td>18.802000</td>\n",
       "      <td>0</td>\n",
       "      <td>3.423260</td>\n",
       "      <td>1</td>\n",
       "      <td>1</td>\n",
       "      <td>0.0</td>\n",
       "      <td>1.0</td>\n",
       "      <td>0.0</td>\n",
       "    </tr>\n",
       "    <tr>\n",
       "      <th>2</th>\n",
       "      <td>6</td>\n",
       "      <td>14</td>\n",
       "      <td>6.747000</td>\n",
       "      <td>0</td>\n",
       "      <td>0.411356</td>\n",
       "      <td>1</td>\n",
       "      <td>0</td>\n",
       "      <td>1.0</td>\n",
       "      <td>0.0</td>\n",
       "      <td>0.0</td>\n",
       "    </tr>\n",
       "    <tr>\n",
       "      <th>3</th>\n",
       "      <td>2</td>\n",
       "      <td>6</td>\n",
       "      <td>23.959056</td>\n",
       "      <td>1</td>\n",
       "      <td>0.649440</td>\n",
       "      <td>1</td>\n",
       "      <td>1</td>\n",
       "      <td>1.0</td>\n",
       "      <td>0.0</td>\n",
       "      <td>0.0</td>\n",
       "    </tr>\n",
       "    <tr>\n",
       "      <th>4</th>\n",
       "      <td>4</td>\n",
       "      <td>16</td>\n",
       "      <td>12.383000</td>\n",
       "      <td>0</td>\n",
       "      <td>1.064116</td>\n",
       "      <td>1</td>\n",
       "      <td>1</td>\n",
       "      <td>1.0</td>\n",
       "      <td>0.0</td>\n",
       "      <td>0.0</td>\n",
       "    </tr>\n",
       "  </tbody>\n",
       "</table>\n",
       "</div>"
      ],
      "text/plain": [
       "   weekday_key  hour_key  distance_km_2  free_ride  distance_km_ord  type  \\\n",
       "0            5        20      23.959056          1         1.367355     1   \n",
       "1            5        14      18.802000          0         3.423260     1   \n",
       "2            6        14       6.747000          0         0.411356     1   \n",
       "3            2         6      23.959056          1         0.649440     1   \n",
       "4            4        16      12.383000          0         1.064116     1   \n",
       "\n",
       "   driver_response  Economy  Standard  Other  \n",
       "0                0      1.0       0.0    0.0  \n",
       "1                1      0.0       1.0    0.0  \n",
       "2                0      1.0       0.0    0.0  \n",
       "3                1      1.0       0.0    0.0  \n",
       "4                1      1.0       0.0    0.0  "
      ]
     },
     "execution_count": 364,
     "metadata": {},
     "output_type": "execute_result"
    }
   ],
   "source": [
    "data_a_class = pd.concat([data_to_model_3, a_class_df], axis=1)\n",
    "data_a_class = data_a_class.drop(['class'], axis=1)\n",
    "data_a_class.head(5)"
   ]
  },
  {
   "cell_type": "code",
   "execution_count": null,
   "metadata": {
    "collapsed": true
   },
   "outputs": [],
   "source": []
  },
  {
   "cell_type": "code",
   "execution_count": 365,
   "metadata": {
    "collapsed": true
   },
   "outputs": [],
   "source": [
    "headers = list(data_a_class.columns.values)"
   ]
  },
  {
   "cell_type": "code",
   "execution_count": 366,
   "metadata": {
    "scrolled": true
   },
   "outputs": [
    {
     "data": {
      "text/html": [
       "<div>\n",
       "<style scoped>\n",
       "    .dataframe tbody tr th:only-of-type {\n",
       "        vertical-align: middle;\n",
       "    }\n",
       "\n",
       "    .dataframe tbody tr th {\n",
       "        vertical-align: top;\n",
       "    }\n",
       "\n",
       "    .dataframe thead th {\n",
       "        text-align: right;\n",
       "    }\n",
       "</style>\n",
       "<table border=\"1\" class=\"dataframe\">\n",
       "  <thead>\n",
       "    <tr style=\"text-align: right;\">\n",
       "      <th></th>\n",
       "      <th>weekday_key</th>\n",
       "      <th>hour_key</th>\n",
       "      <th>distance_km_2</th>\n",
       "      <th>free_ride</th>\n",
       "      <th>distance_km_ord</th>\n",
       "      <th>type</th>\n",
       "      <th>driver_response</th>\n",
       "      <th>Economy</th>\n",
       "      <th>Standard</th>\n",
       "      <th>Other</th>\n",
       "    </tr>\n",
       "  </thead>\n",
       "  <tbody>\n",
       "    <tr>\n",
       "      <th>0</th>\n",
       "      <td>0.666667</td>\n",
       "      <td>0.739130</td>\n",
       "      <td>-0.418761</td>\n",
       "      <td>1.0</td>\n",
       "      <td>-0.543619</td>\n",
       "      <td>-1.0</td>\n",
       "      <td>-1.0</td>\n",
       "      <td>1.0</td>\n",
       "      <td>-1.0</td>\n",
       "      <td>-1.0</td>\n",
       "    </tr>\n",
       "    <tr>\n",
       "      <th>1</th>\n",
       "      <td>0.666667</td>\n",
       "      <td>0.217391</td>\n",
       "      <td>-0.549325</td>\n",
       "      <td>-1.0</td>\n",
       "      <td>0.142610</td>\n",
       "      <td>-1.0</td>\n",
       "      <td>1.0</td>\n",
       "      <td>-1.0</td>\n",
       "      <td>1.0</td>\n",
       "      <td>-1.0</td>\n",
       "    </tr>\n",
       "    <tr>\n",
       "      <th>2</th>\n",
       "      <td>1.000000</td>\n",
       "      <td>0.217391</td>\n",
       "      <td>-0.854526</td>\n",
       "      <td>-1.0</td>\n",
       "      <td>-0.862717</td>\n",
       "      <td>-1.0</td>\n",
       "      <td>-1.0</td>\n",
       "      <td>1.0</td>\n",
       "      <td>-1.0</td>\n",
       "      <td>-1.0</td>\n",
       "    </tr>\n",
       "    <tr>\n",
       "      <th>3</th>\n",
       "      <td>-0.333333</td>\n",
       "      <td>-0.478261</td>\n",
       "      <td>-0.418761</td>\n",
       "      <td>1.0</td>\n",
       "      <td>-0.783248</td>\n",
       "      <td>-1.0</td>\n",
       "      <td>1.0</td>\n",
       "      <td>1.0</td>\n",
       "      <td>-1.0</td>\n",
       "      <td>-1.0</td>\n",
       "    </tr>\n",
       "    <tr>\n",
       "      <th>4</th>\n",
       "      <td>0.333333</td>\n",
       "      <td>0.391304</td>\n",
       "      <td>-0.711837</td>\n",
       "      <td>-1.0</td>\n",
       "      <td>-0.644836</td>\n",
       "      <td>-1.0</td>\n",
       "      <td>1.0</td>\n",
       "      <td>1.0</td>\n",
       "      <td>-1.0</td>\n",
       "      <td>-1.0</td>\n",
       "    </tr>\n",
       "  </tbody>\n",
       "</table>\n",
       "</div>"
      ],
      "text/plain": [
       "   weekday_key  hour_key  distance_km_2  free_ride  distance_km_ord  type  \\\n",
       "0     0.666667  0.739130      -0.418761        1.0        -0.543619  -1.0   \n",
       "1     0.666667  0.217391      -0.549325       -1.0         0.142610  -1.0   \n",
       "2     1.000000  0.217391      -0.854526       -1.0        -0.862717  -1.0   \n",
       "3    -0.333333 -0.478261      -0.418761        1.0        -0.783248  -1.0   \n",
       "4     0.333333  0.391304      -0.711837       -1.0        -0.644836  -1.0   \n",
       "\n",
       "   driver_response  Economy  Standard  Other  \n",
       "0             -1.0      1.0      -1.0   -1.0  \n",
       "1              1.0     -1.0       1.0   -1.0  \n",
       "2             -1.0      1.0      -1.0   -1.0  \n",
       "3              1.0      1.0      -1.0   -1.0  \n",
       "4              1.0      1.0      -1.0   -1.0  "
      ]
     },
     "execution_count": 366,
     "metadata": {},
     "output_type": "execute_result"
    }
   ],
   "source": [
    "from sklearn import preprocessing\n",
    "min_max_scaler = preprocessing.MinMaxScaler(feature_range=(-1,1))\n",
    "\n",
    "np_scaled = min_max_scaler.fit_transform(data_a_class)\n",
    "data_a_class_norm = pd.DataFrame(np_scaled)\n",
    "data_a_class_norm.columns = headers\n",
    "data_a_class_norm.head()"
   ]
  },
  {
   "cell_type": "code",
   "execution_count": 367,
   "metadata": {
    "scrolled": true
   },
   "outputs": [
    {
     "data": {
      "text/html": [
       "<style  type=\"text/css\" >\n",
       "    #T_18a96334_43f9_11ea_b7d1_d3a6d7b767eerow0_col0 {\n",
       "            background-color:  #023858;\n",
       "            color:  #f1f1f1;\n",
       "        }    #T_18a96334_43f9_11ea_b7d1_d3a6d7b767eerow0_col1 {\n",
       "            background-color:  #f0eaf4;\n",
       "            color:  #000000;\n",
       "        }    #T_18a96334_43f9_11ea_b7d1_d3a6d7b767eerow0_col2 {\n",
       "            background-color:  #dcdaeb;\n",
       "            color:  #000000;\n",
       "        }    #T_18a96334_43f9_11ea_b7d1_d3a6d7b767eerow0_col3 {\n",
       "            background-color:  #dbdaeb;\n",
       "            color:  #000000;\n",
       "        }    #T_18a96334_43f9_11ea_b7d1_d3a6d7b767eerow0_col4 {\n",
       "            background-color:  #e8e4f0;\n",
       "            color:  #000000;\n",
       "        }    #T_18a96334_43f9_11ea_b7d1_d3a6d7b767eerow0_col5 {\n",
       "            background-color:  #e0deed;\n",
       "            color:  #000000;\n",
       "        }    #T_18a96334_43f9_11ea_b7d1_d3a6d7b767eerow0_col6 {\n",
       "            background-color:  #c6cce3;\n",
       "            color:  #000000;\n",
       "        }    #T_18a96334_43f9_11ea_b7d1_d3a6d7b767eerow0_col7 {\n",
       "            background-color:  #7dacd1;\n",
       "            color:  #000000;\n",
       "        }    #T_18a96334_43f9_11ea_b7d1_d3a6d7b767eerow0_col8 {\n",
       "            background-color:  #7dacd1;\n",
       "            color:  #000000;\n",
       "        }    #T_18a96334_43f9_11ea_b7d1_d3a6d7b767eerow0_col9 {\n",
       "            background-color:  #e0dded;\n",
       "            color:  #000000;\n",
       "        }    #T_18a96334_43f9_11ea_b7d1_d3a6d7b767eerow1_col0 {\n",
       "            background-color:  #eee9f3;\n",
       "            color:  #000000;\n",
       "        }    #T_18a96334_43f9_11ea_b7d1_d3a6d7b767eerow1_col1 {\n",
       "            background-color:  #023858;\n",
       "            color:  #f1f1f1;\n",
       "        }    #T_18a96334_43f9_11ea_b7d1_d3a6d7b767eerow1_col2 {\n",
       "            background-color:  #d9d8ea;\n",
       "            color:  #000000;\n",
       "        }    #T_18a96334_43f9_11ea_b7d1_d3a6d7b767eerow1_col3 {\n",
       "            background-color:  #dbdaeb;\n",
       "            color:  #000000;\n",
       "        }    #T_18a96334_43f9_11ea_b7d1_d3a6d7b767eerow1_col4 {\n",
       "            background-color:  #f7f0f7;\n",
       "            color:  #000000;\n",
       "        }    #T_18a96334_43f9_11ea_b7d1_d3a6d7b767eerow1_col5 {\n",
       "            background-color:  #e2dfee;\n",
       "            color:  #000000;\n",
       "        }    #T_18a96334_43f9_11ea_b7d1_d3a6d7b767eerow1_col6 {\n",
       "            background-color:  #cccfe5;\n",
       "            color:  #000000;\n",
       "        }    #T_18a96334_43f9_11ea_b7d1_d3a6d7b767eerow1_col7 {\n",
       "            background-color:  #80aed2;\n",
       "            color:  #000000;\n",
       "        }    #T_18a96334_43f9_11ea_b7d1_d3a6d7b767eerow1_col8 {\n",
       "            background-color:  #79abd0;\n",
       "            color:  #000000;\n",
       "        }    #T_18a96334_43f9_11ea_b7d1_d3a6d7b767eerow1_col9 {\n",
       "            background-color:  #e1dfed;\n",
       "            color:  #000000;\n",
       "        }    #T_18a96334_43f9_11ea_b7d1_d3a6d7b767eerow2_col0 {\n",
       "            background-color:  #fff7fb;\n",
       "            color:  #000000;\n",
       "        }    #T_18a96334_43f9_11ea_b7d1_d3a6d7b767eerow2_col1 {\n",
       "            background-color:  #fef6fa;\n",
       "            color:  #000000;\n",
       "        }    #T_18a96334_43f9_11ea_b7d1_d3a6d7b767eerow2_col2 {\n",
       "            background-color:  #023858;\n",
       "            color:  #f1f1f1;\n",
       "        }    #T_18a96334_43f9_11ea_b7d1_d3a6d7b767eerow2_col3 {\n",
       "            background-color:  #dddbec;\n",
       "            color:  #000000;\n",
       "        }    #T_18a96334_43f9_11ea_b7d1_d3a6d7b767eerow2_col4 {\n",
       "            background-color:  #fff7fb;\n",
       "            color:  #000000;\n",
       "        }    #T_18a96334_43f9_11ea_b7d1_d3a6d7b767eerow2_col5 {\n",
       "            background-color:  #e5e1ef;\n",
       "            color:  #000000;\n",
       "        }    #T_18a96334_43f9_11ea_b7d1_d3a6d7b767eerow2_col6 {\n",
       "            background-color:  #fff7fb;\n",
       "            color:  #000000;\n",
       "        }    #T_18a96334_43f9_11ea_b7d1_d3a6d7b767eerow2_col7 {\n",
       "            background-color:  #89b1d4;\n",
       "            color:  #000000;\n",
       "        }    #T_18a96334_43f9_11ea_b7d1_d3a6d7b767eerow2_col8 {\n",
       "            background-color:  #67a4cc;\n",
       "            color:  #000000;\n",
       "        }    #T_18a96334_43f9_11ea_b7d1_d3a6d7b767eerow2_col9 {\n",
       "            background-color:  #f0eaf4;\n",
       "            color:  #000000;\n",
       "        }    #T_18a96334_43f9_11ea_b7d1_d3a6d7b767eerow3_col0 {\n",
       "            background-color:  #f4edf6;\n",
       "            color:  #000000;\n",
       "        }    #T_18a96334_43f9_11ea_b7d1_d3a6d7b767eerow3_col1 {\n",
       "            background-color:  #f5eff6;\n",
       "            color:  #000000;\n",
       "        }    #T_18a96334_43f9_11ea_b7d1_d3a6d7b767eerow3_col2 {\n",
       "            background-color:  #d1d2e6;\n",
       "            color:  #000000;\n",
       "        }    #T_18a96334_43f9_11ea_b7d1_d3a6d7b767eerow3_col3 {\n",
       "            background-color:  #023858;\n",
       "            color:  #f1f1f1;\n",
       "        }    #T_18a96334_43f9_11ea_b7d1_d3a6d7b767eerow3_col4 {\n",
       "            background-color:  #efe9f3;\n",
       "            color:  #000000;\n",
       "        }    #T_18a96334_43f9_11ea_b7d1_d3a6d7b767eerow3_col5 {\n",
       "            background-color:  #4c99c5;\n",
       "            color:  #000000;\n",
       "        }    #T_18a96334_43f9_11ea_b7d1_d3a6d7b767eerow3_col6 {\n",
       "            background-color:  #c0c9e2;\n",
       "            color:  #000000;\n",
       "        }    #T_18a96334_43f9_11ea_b7d1_d3a6d7b767eerow3_col7 {\n",
       "            background-color:  #adc1dd;\n",
       "            color:  #000000;\n",
       "        }    #T_18a96334_43f9_11ea_b7d1_d3a6d7b767eerow3_col8 {\n",
       "            background-color:  #4295c3;\n",
       "            color:  #000000;\n",
       "        }    #T_18a96334_43f9_11ea_b7d1_d3a6d7b767eerow3_col9 {\n",
       "            background-color:  #e0dded;\n",
       "            color:  #000000;\n",
       "        }    #T_18a96334_43f9_11ea_b7d1_d3a6d7b767eerow4_col0 {\n",
       "            background-color:  #f0eaf4;\n",
       "            color:  #000000;\n",
       "        }    #T_18a96334_43f9_11ea_b7d1_d3a6d7b767eerow4_col1 {\n",
       "            background-color:  #fff7fb;\n",
       "            color:  #000000;\n",
       "        }    #T_18a96334_43f9_11ea_b7d1_d3a6d7b767eerow4_col2 {\n",
       "            background-color:  #e5e1ef;\n",
       "            color:  #000000;\n",
       "        }    #T_18a96334_43f9_11ea_b7d1_d3a6d7b767eerow4_col3 {\n",
       "            background-color:  #dddbec;\n",
       "            color:  #000000;\n",
       "        }    #T_18a96334_43f9_11ea_b7d1_d3a6d7b767eerow4_col4 {\n",
       "            background-color:  #023858;\n",
       "            color:  #f1f1f1;\n",
       "        }    #T_18a96334_43f9_11ea_b7d1_d3a6d7b767eerow4_col5 {\n",
       "            background-color:  #e0deed;\n",
       "            color:  #000000;\n",
       "        }    #T_18a96334_43f9_11ea_b7d1_d3a6d7b767eerow4_col6 {\n",
       "            background-color:  #bdc8e1;\n",
       "            color:  #000000;\n",
       "        }    #T_18a96334_43f9_11ea_b7d1_d3a6d7b767eerow4_col7 {\n",
       "            background-color:  #80aed2;\n",
       "            color:  #000000;\n",
       "        }    #T_18a96334_43f9_11ea_b7d1_d3a6d7b767eerow4_col8 {\n",
       "            background-color:  #86b0d3;\n",
       "            color:  #000000;\n",
       "        }    #T_18a96334_43f9_11ea_b7d1_d3a6d7b767eerow4_col9 {\n",
       "            background-color:  #b7c5df;\n",
       "            color:  #000000;\n",
       "        }    #T_18a96334_43f9_11ea_b7d1_d3a6d7b767eerow5_col0 {\n",
       "            background-color:  #f2ecf5;\n",
       "            color:  #000000;\n",
       "        }    #T_18a96334_43f9_11ea_b7d1_d3a6d7b767eerow5_col1 {\n",
       "            background-color:  #f5eff6;\n",
       "            color:  #000000;\n",
       "        }    #T_18a96334_43f9_11ea_b7d1_d3a6d7b767eerow5_col2 {\n",
       "            background-color:  #d1d2e6;\n",
       "            color:  #000000;\n",
       "        }    #T_18a96334_43f9_11ea_b7d1_d3a6d7b767eerow5_col3 {\n",
       "            background-color:  #4496c3;\n",
       "            color:  #000000;\n",
       "        }    #T_18a96334_43f9_11ea_b7d1_d3a6d7b767eerow5_col4 {\n",
       "            background-color:  #ede7f2;\n",
       "            color:  #000000;\n",
       "        }    #T_18a96334_43f9_11ea_b7d1_d3a6d7b767eerow5_col5 {\n",
       "            background-color:  #023858;\n",
       "            color:  #f1f1f1;\n",
       "        }    #T_18a96334_43f9_11ea_b7d1_d3a6d7b767eerow5_col6 {\n",
       "            background-color:  #c1cae2;\n",
       "            color:  #000000;\n",
       "        }    #T_18a96334_43f9_11ea_b7d1_d3a6d7b767eerow5_col7 {\n",
       "            background-color:  #a4bcda;\n",
       "            color:  #000000;\n",
       "        }    #T_18a96334_43f9_11ea_b7d1_d3a6d7b767eerow5_col8 {\n",
       "            background-color:  #509ac6;\n",
       "            color:  #000000;\n",
       "        }    #T_18a96334_43f9_11ea_b7d1_d3a6d7b767eerow5_col9 {\n",
       "            background-color:  #e0dded;\n",
       "            color:  #000000;\n",
       "        }    #T_18a96334_43f9_11ea_b7d1_d3a6d7b767eerow6_col0 {\n",
       "            background-color:  #f0eaf4;\n",
       "            color:  #000000;\n",
       "        }    #T_18a96334_43f9_11ea_b7d1_d3a6d7b767eerow6_col1 {\n",
       "            background-color:  #f4edf6;\n",
       "            color:  #000000;\n",
       "        }    #T_18a96334_43f9_11ea_b7d1_d3a6d7b767eerow6_col2 {\n",
       "            background-color:  #fff7fb;\n",
       "            color:  #000000;\n",
       "        }    #T_18a96334_43f9_11ea_b7d1_d3a6d7b767eerow6_col3 {\n",
       "            background-color:  #d0d1e6;\n",
       "            color:  #000000;\n",
       "        }    #T_18a96334_43f9_11ea_b7d1_d3a6d7b767eerow6_col4 {\n",
       "            background-color:  #e0deed;\n",
       "            color:  #000000;\n",
       "        }    #T_18a96334_43f9_11ea_b7d1_d3a6d7b767eerow6_col5 {\n",
       "            background-color:  #d9d8ea;\n",
       "            color:  #000000;\n",
       "        }    #T_18a96334_43f9_11ea_b7d1_d3a6d7b767eerow6_col6 {\n",
       "            background-color:  #023858;\n",
       "            color:  #f1f1f1;\n",
       "        }    #T_18a96334_43f9_11ea_b7d1_d3a6d7b767eerow6_col7 {\n",
       "            background-color:  #91b5d6;\n",
       "            color:  #000000;\n",
       "        }    #T_18a96334_43f9_11ea_b7d1_d3a6d7b767eerow6_col8 {\n",
       "            background-color:  #6fa7ce;\n",
       "            color:  #000000;\n",
       "        }    #T_18a96334_43f9_11ea_b7d1_d3a6d7b767eerow6_col9 {\n",
       "            background-color:  #cdd0e5;\n",
       "            color:  #000000;\n",
       "        }    #T_18a96334_43f9_11ea_b7d1_d3a6d7b767eerow7_col0 {\n",
       "            background-color:  #f5eff6;\n",
       "            color:  #000000;\n",
       "        }    #T_18a96334_43f9_11ea_b7d1_d3a6d7b767eerow7_col1 {\n",
       "            background-color:  #faf2f8;\n",
       "            color:  #000000;\n",
       "        }    #T_18a96334_43f9_11ea_b7d1_d3a6d7b767eerow7_col2 {\n",
       "            background-color:  #dbdaeb;\n",
       "            color:  #000000;\n",
       "        }    #T_18a96334_43f9_11ea_b7d1_d3a6d7b767eerow7_col3 {\n",
       "            background-color:  #fff7fb;\n",
       "            color:  #000000;\n",
       "        }    #T_18a96334_43f9_11ea_b7d1_d3a6d7b767eerow7_col4 {\n",
       "            background-color:  #f2ecf5;\n",
       "            color:  #000000;\n",
       "        }    #T_18a96334_43f9_11ea_b7d1_d3a6d7b767eerow7_col5 {\n",
       "            background-color:  #fff7fb;\n",
       "            color:  #000000;\n",
       "        }    #T_18a96334_43f9_11ea_b7d1_d3a6d7b767eerow7_col6 {\n",
       "            background-color:  #e1dfed;\n",
       "            color:  #000000;\n",
       "        }    #T_18a96334_43f9_11ea_b7d1_d3a6d7b767eerow7_col7 {\n",
       "            background-color:  #023858;\n",
       "            color:  #f1f1f1;\n",
       "        }    #T_18a96334_43f9_11ea_b7d1_d3a6d7b767eerow7_col8 {\n",
       "            background-color:  #fff7fb;\n",
       "            color:  #000000;\n",
       "        }    #T_18a96334_43f9_11ea_b7d1_d3a6d7b767eerow7_col9 {\n",
       "            background-color:  #fff7fb;\n",
       "            color:  #000000;\n",
       "        }    #T_18a96334_43f9_11ea_b7d1_d3a6d7b767eerow8_col0 {\n",
       "            background-color:  #f5eff6;\n",
       "            color:  #000000;\n",
       "        }    #T_18a96334_43f9_11ea_b7d1_d3a6d7b767eerow8_col1 {\n",
       "            background-color:  #f5eff6;\n",
       "            color:  #000000;\n",
       "        }    #T_18a96334_43f9_11ea_b7d1_d3a6d7b767eerow8_col2 {\n",
       "            background-color:  #bbc7e0;\n",
       "            color:  #000000;\n",
       "        }    #T_18a96334_43f9_11ea_b7d1_d3a6d7b767eerow8_col3 {\n",
       "            background-color:  #a4bcda;\n",
       "            color:  #000000;\n",
       "        }    #T_18a96334_43f9_11ea_b7d1_d3a6d7b767eerow8_col4 {\n",
       "            background-color:  #f6eff7;\n",
       "            color:  #000000;\n",
       "        }    #T_18a96334_43f9_11ea_b7d1_d3a6d7b767eerow8_col5 {\n",
       "            background-color:  #bcc7e1;\n",
       "            color:  #000000;\n",
       "        }    #T_18a96334_43f9_11ea_b7d1_d3a6d7b767eerow8_col6 {\n",
       "            background-color:  #c1cae2;\n",
       "            color:  #000000;\n",
       "        }    #T_18a96334_43f9_11ea_b7d1_d3a6d7b767eerow8_col7 {\n",
       "            background-color:  #fff7fb;\n",
       "            color:  #000000;\n",
       "        }    #T_18a96334_43f9_11ea_b7d1_d3a6d7b767eerow8_col8 {\n",
       "            background-color:  #023858;\n",
       "            color:  #f1f1f1;\n",
       "        }    #T_18a96334_43f9_11ea_b7d1_d3a6d7b767eerow8_col9 {\n",
       "            background-color:  #fff7fb;\n",
       "            color:  #000000;\n",
       "        }    #T_18a96334_43f9_11ea_b7d1_d3a6d7b767eerow9_col0 {\n",
       "            background-color:  #f2ecf5;\n",
       "            color:  #000000;\n",
       "        }    #T_18a96334_43f9_11ea_b7d1_d3a6d7b767eerow9_col1 {\n",
       "            background-color:  #f5eff6;\n",
       "            color:  #000000;\n",
       "        }    #T_18a96334_43f9_11ea_b7d1_d3a6d7b767eerow9_col2 {\n",
       "            background-color:  #dedcec;\n",
       "            color:  #000000;\n",
       "        }    #T_18a96334_43f9_11ea_b7d1_d3a6d7b767eerow9_col3 {\n",
       "            background-color:  #d9d8ea;\n",
       "            color:  #000000;\n",
       "        }    #T_18a96334_43f9_11ea_b7d1_d3a6d7b767eerow9_col4 {\n",
       "            background-color:  #c8cde4;\n",
       "            color:  #000000;\n",
       "        }    #T_18a96334_43f9_11ea_b7d1_d3a6d7b767eerow9_col5 {\n",
       "            background-color:  #e0deed;\n",
       "            color:  #000000;\n",
       "        }    #T_18a96334_43f9_11ea_b7d1_d3a6d7b767eerow9_col6 {\n",
       "            background-color:  #b5c4df;\n",
       "            color:  #000000;\n",
       "        }    #T_18a96334_43f9_11ea_b7d1_d3a6d7b767eerow9_col7 {\n",
       "            background-color:  #a5bddb;\n",
       "            color:  #000000;\n",
       "        }    #T_18a96334_43f9_11ea_b7d1_d3a6d7b767eerow9_col8 {\n",
       "            background-color:  #a5bddb;\n",
       "            color:  #000000;\n",
       "        }    #T_18a96334_43f9_11ea_b7d1_d3a6d7b767eerow9_col9 {\n",
       "            background-color:  #023858;\n",
       "            color:  #f1f1f1;\n",
       "        }</style><table id=\"T_18a96334_43f9_11ea_b7d1_d3a6d7b767ee\" ><thead>    <tr>        <th class=\"blank level0\" ></th>        <th class=\"col_heading level0 col0\" >weekday_key</th>        <th class=\"col_heading level0 col1\" >hour_key</th>        <th class=\"col_heading level0 col2\" >distance_km_2</th>        <th class=\"col_heading level0 col3\" >free_ride</th>        <th class=\"col_heading level0 col4\" >distance_km_ord</th>        <th class=\"col_heading level0 col5\" >type</th>        <th class=\"col_heading level0 col6\" >driver_response</th>        <th class=\"col_heading level0 col7\" >Economy</th>        <th class=\"col_heading level0 col8\" >Standard</th>        <th class=\"col_heading level0 col9\" >Other</th>    </tr></thead><tbody>\n",
       "                <tr>\n",
       "                        <th id=\"T_18a96334_43f9_11ea_b7d1_d3a6d7b767eelevel0_row0\" class=\"row_heading level0 row0\" >weekday_key</th>\n",
       "                        <td id=\"T_18a96334_43f9_11ea_b7d1_d3a6d7b767eerow0_col0\" class=\"data row0 col0\" >1</td>\n",
       "                        <td id=\"T_18a96334_43f9_11ea_b7d1_d3a6d7b767eerow0_col1\" class=\"data row0 col1\" >0.05</td>\n",
       "                        <td id=\"T_18a96334_43f9_11ea_b7d1_d3a6d7b767eerow0_col2\" class=\"data row0 col2\" >-0.07</td>\n",
       "                        <td id=\"T_18a96334_43f9_11ea_b7d1_d3a6d7b767eerow0_col3\" class=\"data row0 col3\" >0.01</td>\n",
       "                        <td id=\"T_18a96334_43f9_11ea_b7d1_d3a6d7b767eerow0_col4\" class=\"data row0 col4\" >0.04</td>\n",
       "                        <td id=\"T_18a96334_43f9_11ea_b7d1_d3a6d7b767eerow0_col5\" class=\"data row0 col5\" >0.02</td>\n",
       "                        <td id=\"T_18a96334_43f9_11ea_b7d1_d3a6d7b767eerow0_col6\" class=\"data row0 col6\" >0.04</td>\n",
       "                        <td id=\"T_18a96334_43f9_11ea_b7d1_d3a6d7b767eerow0_col7\" class=\"data row0 col7\" >-0</td>\n",
       "                        <td id=\"T_18a96334_43f9_11ea_b7d1_d3a6d7b767eerow0_col8\" class=\"data row0 col8\" >-0</td>\n",
       "                        <td id=\"T_18a96334_43f9_11ea_b7d1_d3a6d7b767eerow0_col9\" class=\"data row0 col9\" >0.02</td>\n",
       "            </tr>\n",
       "            <tr>\n",
       "                        <th id=\"T_18a96334_43f9_11ea_b7d1_d3a6d7b767eelevel0_row1\" class=\"row_heading level0 row1\" >hour_key</th>\n",
       "                        <td id=\"T_18a96334_43f9_11ea_b7d1_d3a6d7b767eerow1_col0\" class=\"data row1 col0\" >0.05</td>\n",
       "                        <td id=\"T_18a96334_43f9_11ea_b7d1_d3a6d7b767eerow1_col1\" class=\"data row1 col1\" >1</td>\n",
       "                        <td id=\"T_18a96334_43f9_11ea_b7d1_d3a6d7b767eerow1_col2\" class=\"data row1 col2\" >-0.05</td>\n",
       "                        <td id=\"T_18a96334_43f9_11ea_b7d1_d3a6d7b767eerow1_col3\" class=\"data row1 col3\" >0.01</td>\n",
       "                        <td id=\"T_18a96334_43f9_11ea_b7d1_d3a6d7b767eerow1_col4\" class=\"data row1 col4\" >-0.06</td>\n",
       "                        <td id=\"T_18a96334_43f9_11ea_b7d1_d3a6d7b767eerow1_col5\" class=\"data row1 col5\" >0.01</td>\n",
       "                        <td id=\"T_18a96334_43f9_11ea_b7d1_d3a6d7b767eerow1_col6\" class=\"data row1 col6\" >0.02</td>\n",
       "                        <td id=\"T_18a96334_43f9_11ea_b7d1_d3a6d7b767eerow1_col7\" class=\"data row1 col7\" >-0.02</td>\n",
       "                        <td id=\"T_18a96334_43f9_11ea_b7d1_d3a6d7b767eerow1_col8\" class=\"data row1 col8\" >0.01</td>\n",
       "                        <td id=\"T_18a96334_43f9_11ea_b7d1_d3a6d7b767eerow1_col9\" class=\"data row1 col9\" >0.01</td>\n",
       "            </tr>\n",
       "            <tr>\n",
       "                        <th id=\"T_18a96334_43f9_11ea_b7d1_d3a6d7b767eelevel0_row2\" class=\"row_heading level0 row2\" >distance_km_2</th>\n",
       "                        <td id=\"T_18a96334_43f9_11ea_b7d1_d3a6d7b767eerow2_col0\" class=\"data row2 col0\" >-0.07</td>\n",
       "                        <td id=\"T_18a96334_43f9_11ea_b7d1_d3a6d7b767eerow2_col1\" class=\"data row2 col1\" >-0.05</td>\n",
       "                        <td id=\"T_18a96334_43f9_11ea_b7d1_d3a6d7b767eerow2_col2\" class=\"data row2 col2\" >1</td>\n",
       "                        <td id=\"T_18a96334_43f9_11ea_b7d1_d3a6d7b767eerow2_col3\" class=\"data row2 col3\" >0</td>\n",
       "                        <td id=\"T_18a96334_43f9_11ea_b7d1_d3a6d7b767eerow2_col4\" class=\"data row2 col4\" >-0.12</td>\n",
       "                        <td id=\"T_18a96334_43f9_11ea_b7d1_d3a6d7b767eerow2_col5\" class=\"data row2 col5\" >-0</td>\n",
       "                        <td id=\"T_18a96334_43f9_11ea_b7d1_d3a6d7b767eerow2_col6\" class=\"data row2 col6\" >-0.33</td>\n",
       "                        <td id=\"T_18a96334_43f9_11ea_b7d1_d3a6d7b767eerow2_col7\" class=\"data row2 col7\" >-0.06</td>\n",
       "                        <td id=\"T_18a96334_43f9_11ea_b7d1_d3a6d7b767eerow2_col8\" class=\"data row2 col8\" >0.09</td>\n",
       "                        <td id=\"T_18a96334_43f9_11ea_b7d1_d3a6d7b767eerow2_col9\" class=\"data row2 col9\" >-0.08</td>\n",
       "            </tr>\n",
       "            <tr>\n",
       "                        <th id=\"T_18a96334_43f9_11ea_b7d1_d3a6d7b767eelevel0_row3\" class=\"row_heading level0 row3\" >free_ride</th>\n",
       "                        <td id=\"T_18a96334_43f9_11ea_b7d1_d3a6d7b767eerow3_col0\" class=\"data row3 col0\" >0.01</td>\n",
       "                        <td id=\"T_18a96334_43f9_11ea_b7d1_d3a6d7b767eerow3_col1\" class=\"data row3 col1\" >0.01</td>\n",
       "                        <td id=\"T_18a96334_43f9_11ea_b7d1_d3a6d7b767eerow3_col2\" class=\"data row3 col2\" >0</td>\n",
       "                        <td id=\"T_18a96334_43f9_11ea_b7d1_d3a6d7b767eerow3_col3\" class=\"data row3 col3\" >1</td>\n",
       "                        <td id=\"T_18a96334_43f9_11ea_b7d1_d3a6d7b767eerow3_col4\" class=\"data row3 col4\" >0</td>\n",
       "                        <td id=\"T_18a96334_43f9_11ea_b7d1_d3a6d7b767eerow3_col5\" class=\"data row3 col5\" >0.5</td>\n",
       "                        <td id=\"T_18a96334_43f9_11ea_b7d1_d3a6d7b767eerow3_col6\" class=\"data row3 col6\" >0.07</td>\n",
       "                        <td id=\"T_18a96334_43f9_11ea_b7d1_d3a6d7b767eerow3_col7\" class=\"data row3 col7\" >-0.24</td>\n",
       "                        <td id=\"T_18a96334_43f9_11ea_b7d1_d3a6d7b767eerow3_col8\" class=\"data row3 col8\" >0.23</td>\n",
       "                        <td id=\"T_18a96334_43f9_11ea_b7d1_d3a6d7b767eerow3_col9\" class=\"data row3 col9\" >0.02</td>\n",
       "            </tr>\n",
       "            <tr>\n",
       "                        <th id=\"T_18a96334_43f9_11ea_b7d1_d3a6d7b767eelevel0_row4\" class=\"row_heading level0 row4\" >distance_km_ord</th>\n",
       "                        <td id=\"T_18a96334_43f9_11ea_b7d1_d3a6d7b767eerow4_col0\" class=\"data row4 col0\" >0.04</td>\n",
       "                        <td id=\"T_18a96334_43f9_11ea_b7d1_d3a6d7b767eerow4_col1\" class=\"data row4 col1\" >-0.06</td>\n",
       "                        <td id=\"T_18a96334_43f9_11ea_b7d1_d3a6d7b767eerow4_col2\" class=\"data row4 col2\" >-0.12</td>\n",
       "                        <td id=\"T_18a96334_43f9_11ea_b7d1_d3a6d7b767eerow4_col3\" class=\"data row4 col3\" >0</td>\n",
       "                        <td id=\"T_18a96334_43f9_11ea_b7d1_d3a6d7b767eerow4_col4\" class=\"data row4 col4\" >1</td>\n",
       "                        <td id=\"T_18a96334_43f9_11ea_b7d1_d3a6d7b767eerow4_col5\" class=\"data row4 col5\" >0.02</td>\n",
       "                        <td id=\"T_18a96334_43f9_11ea_b7d1_d3a6d7b767eerow4_col6\" class=\"data row4 col6\" >0.08</td>\n",
       "                        <td id=\"T_18a96334_43f9_11ea_b7d1_d3a6d7b767eerow4_col7\" class=\"data row4 col7\" >-0.02</td>\n",
       "                        <td id=\"T_18a96334_43f9_11ea_b7d1_d3a6d7b767eerow4_col8\" class=\"data row4 col8\" >-0.05</td>\n",
       "                        <td id=\"T_18a96334_43f9_11ea_b7d1_d3a6d7b767eerow4_col9\" class=\"data row4 col9\" >0.19</td>\n",
       "            </tr>\n",
       "            <tr>\n",
       "                        <th id=\"T_18a96334_43f9_11ea_b7d1_d3a6d7b767eelevel0_row5\" class=\"row_heading level0 row5\" >type</th>\n",
       "                        <td id=\"T_18a96334_43f9_11ea_b7d1_d3a6d7b767eerow5_col0\" class=\"data row5 col0\" >0.02</td>\n",
       "                        <td id=\"T_18a96334_43f9_11ea_b7d1_d3a6d7b767eerow5_col1\" class=\"data row5 col1\" >0.01</td>\n",
       "                        <td id=\"T_18a96334_43f9_11ea_b7d1_d3a6d7b767eerow5_col2\" class=\"data row5 col2\" >-0</td>\n",
       "                        <td id=\"T_18a96334_43f9_11ea_b7d1_d3a6d7b767eerow5_col3\" class=\"data row5 col3\" >0.5</td>\n",
       "                        <td id=\"T_18a96334_43f9_11ea_b7d1_d3a6d7b767eerow5_col4\" class=\"data row5 col4\" >0.02</td>\n",
       "                        <td id=\"T_18a96334_43f9_11ea_b7d1_d3a6d7b767eerow5_col5\" class=\"data row5 col5\" >1</td>\n",
       "                        <td id=\"T_18a96334_43f9_11ea_b7d1_d3a6d7b767eerow5_col6\" class=\"data row5 col6\" >0.06</td>\n",
       "                        <td id=\"T_18a96334_43f9_11ea_b7d1_d3a6d7b767eerow5_col7\" class=\"data row5 col7\" >-0.19</td>\n",
       "                        <td id=\"T_18a96334_43f9_11ea_b7d1_d3a6d7b767eerow5_col8\" class=\"data row5 col8\" >0.18</td>\n",
       "                        <td id=\"T_18a96334_43f9_11ea_b7d1_d3a6d7b767eerow5_col9\" class=\"data row5 col9\" >0.02</td>\n",
       "            </tr>\n",
       "            <tr>\n",
       "                        <th id=\"T_18a96334_43f9_11ea_b7d1_d3a6d7b767eelevel0_row6\" class=\"row_heading level0 row6\" >driver_response</th>\n",
       "                        <td id=\"T_18a96334_43f9_11ea_b7d1_d3a6d7b767eerow6_col0\" class=\"data row6 col0\" >0.04</td>\n",
       "                        <td id=\"T_18a96334_43f9_11ea_b7d1_d3a6d7b767eerow6_col1\" class=\"data row6 col1\" >0.02</td>\n",
       "                        <td id=\"T_18a96334_43f9_11ea_b7d1_d3a6d7b767eerow6_col2\" class=\"data row6 col2\" >-0.33</td>\n",
       "                        <td id=\"T_18a96334_43f9_11ea_b7d1_d3a6d7b767eerow6_col3\" class=\"data row6 col3\" >0.07</td>\n",
       "                        <td id=\"T_18a96334_43f9_11ea_b7d1_d3a6d7b767eerow6_col4\" class=\"data row6 col4\" >0.08</td>\n",
       "                        <td id=\"T_18a96334_43f9_11ea_b7d1_d3a6d7b767eerow6_col5\" class=\"data row6 col5\" >0.06</td>\n",
       "                        <td id=\"T_18a96334_43f9_11ea_b7d1_d3a6d7b767eerow6_col6\" class=\"data row6 col6\" >1</td>\n",
       "                        <td id=\"T_18a96334_43f9_11ea_b7d1_d3a6d7b767eerow6_col7\" class=\"data row6 col7\" >-0.1</td>\n",
       "                        <td id=\"T_18a96334_43f9_11ea_b7d1_d3a6d7b767eerow6_col8\" class=\"data row6 col8\" >0.06</td>\n",
       "                        <td id=\"T_18a96334_43f9_11ea_b7d1_d3a6d7b767eerow6_col9\" class=\"data row6 col9\" >0.11</td>\n",
       "            </tr>\n",
       "            <tr>\n",
       "                        <th id=\"T_18a96334_43f9_11ea_b7d1_d3a6d7b767eelevel0_row7\" class=\"row_heading level0 row7\" >Economy</th>\n",
       "                        <td id=\"T_18a96334_43f9_11ea_b7d1_d3a6d7b767eerow7_col0\" class=\"data row7 col0\" >-0</td>\n",
       "                        <td id=\"T_18a96334_43f9_11ea_b7d1_d3a6d7b767eerow7_col1\" class=\"data row7 col1\" >-0.02</td>\n",
       "                        <td id=\"T_18a96334_43f9_11ea_b7d1_d3a6d7b767eerow7_col2\" class=\"data row7 col2\" >-0.06</td>\n",
       "                        <td id=\"T_18a96334_43f9_11ea_b7d1_d3a6d7b767eerow7_col3\" class=\"data row7 col3\" >-0.24</td>\n",
       "                        <td id=\"T_18a96334_43f9_11ea_b7d1_d3a6d7b767eerow7_col4\" class=\"data row7 col4\" >-0.02</td>\n",
       "                        <td id=\"T_18a96334_43f9_11ea_b7d1_d3a6d7b767eerow7_col5\" class=\"data row7 col5\" >-0.19</td>\n",
       "                        <td id=\"T_18a96334_43f9_11ea_b7d1_d3a6d7b767eerow7_col6\" class=\"data row7 col6\" >-0.1</td>\n",
       "                        <td id=\"T_18a96334_43f9_11ea_b7d1_d3a6d7b767eerow7_col7\" class=\"data row7 col7\" >1</td>\n",
       "                        <td id=\"T_18a96334_43f9_11ea_b7d1_d3a6d7b767eerow7_col8\" class=\"data row7 col8\" >-0.92</td>\n",
       "                        <td id=\"T_18a96334_43f9_11ea_b7d1_d3a6d7b767eerow7_col9\" class=\"data row7 col9\" >-0.2</td>\n",
       "            </tr>\n",
       "            <tr>\n",
       "                        <th id=\"T_18a96334_43f9_11ea_b7d1_d3a6d7b767eelevel0_row8\" class=\"row_heading level0 row8\" >Standard</th>\n",
       "                        <td id=\"T_18a96334_43f9_11ea_b7d1_d3a6d7b767eerow8_col0\" class=\"data row8 col0\" >-0</td>\n",
       "                        <td id=\"T_18a96334_43f9_11ea_b7d1_d3a6d7b767eerow8_col1\" class=\"data row8 col1\" >0.01</td>\n",
       "                        <td id=\"T_18a96334_43f9_11ea_b7d1_d3a6d7b767eerow8_col2\" class=\"data row8 col2\" >0.09</td>\n",
       "                        <td id=\"T_18a96334_43f9_11ea_b7d1_d3a6d7b767eerow8_col3\" class=\"data row8 col3\" >0.23</td>\n",
       "                        <td id=\"T_18a96334_43f9_11ea_b7d1_d3a6d7b767eerow8_col4\" class=\"data row8 col4\" >-0.05</td>\n",
       "                        <td id=\"T_18a96334_43f9_11ea_b7d1_d3a6d7b767eerow8_col5\" class=\"data row8 col5\" >0.18</td>\n",
       "                        <td id=\"T_18a96334_43f9_11ea_b7d1_d3a6d7b767eerow8_col6\" class=\"data row8 col6\" >0.06</td>\n",
       "                        <td id=\"T_18a96334_43f9_11ea_b7d1_d3a6d7b767eerow8_col7\" class=\"data row8 col7\" >-0.92</td>\n",
       "                        <td id=\"T_18a96334_43f9_11ea_b7d1_d3a6d7b767eerow8_col8\" class=\"data row8 col8\" >1</td>\n",
       "                        <td id=\"T_18a96334_43f9_11ea_b7d1_d3a6d7b767eerow8_col9\" class=\"data row8 col9\" >-0.2</td>\n",
       "            </tr>\n",
       "            <tr>\n",
       "                        <th id=\"T_18a96334_43f9_11ea_b7d1_d3a6d7b767eelevel0_row9\" class=\"row_heading level0 row9\" >Other</th>\n",
       "                        <td id=\"T_18a96334_43f9_11ea_b7d1_d3a6d7b767eerow9_col0\" class=\"data row9 col0\" >0.02</td>\n",
       "                        <td id=\"T_18a96334_43f9_11ea_b7d1_d3a6d7b767eerow9_col1\" class=\"data row9 col1\" >0.01</td>\n",
       "                        <td id=\"T_18a96334_43f9_11ea_b7d1_d3a6d7b767eerow9_col2\" class=\"data row9 col2\" >-0.08</td>\n",
       "                        <td id=\"T_18a96334_43f9_11ea_b7d1_d3a6d7b767eerow9_col3\" class=\"data row9 col3\" >0.02</td>\n",
       "                        <td id=\"T_18a96334_43f9_11ea_b7d1_d3a6d7b767eerow9_col4\" class=\"data row9 col4\" >0.19</td>\n",
       "                        <td id=\"T_18a96334_43f9_11ea_b7d1_d3a6d7b767eerow9_col5\" class=\"data row9 col5\" >0.02</td>\n",
       "                        <td id=\"T_18a96334_43f9_11ea_b7d1_d3a6d7b767eerow9_col6\" class=\"data row9 col6\" >0.11</td>\n",
       "                        <td id=\"T_18a96334_43f9_11ea_b7d1_d3a6d7b767eerow9_col7\" class=\"data row9 col7\" >-0.2</td>\n",
       "                        <td id=\"T_18a96334_43f9_11ea_b7d1_d3a6d7b767eerow9_col8\" class=\"data row9 col8\" >-0.2</td>\n",
       "                        <td id=\"T_18a96334_43f9_11ea_b7d1_d3a6d7b767eerow9_col9\" class=\"data row9 col9\" >1</td>\n",
       "            </tr>\n",
       "    </tbody></table>"
      ],
      "text/plain": [
       "<pandas.io.formats.style.Styler at 0x25911bbd2b0>"
      ]
     },
     "execution_count": 367,
     "metadata": {},
     "output_type": "execute_result"
    }
   ],
   "source": [
    "corr = data_a_class_norm.corr()\n",
    "corr = corr.round(2)\n",
    "corr.style.background_gradient()"
   ]
  },
  {
   "cell_type": "code",
   "execution_count": 368,
   "metadata": {
    "collapsed": true
   },
   "outputs": [],
   "source": [
    "#интересные корреляции класса с другими признаками"
   ]
  },
  {
   "cell_type": "code",
   "execution_count": 317,
   "metadata": {
    "collapsed": true
   },
   "outputs": [],
   "source": [
    "#строим деревья"
   ]
  },
  {
   "cell_type": "code",
   "execution_count": 369,
   "metadata": {
    "scrolled": true
   },
   "outputs": [
    {
     "name": "stdout",
     "output_type": "stream",
     "text": [
      "<class 'pandas.core.frame.DataFrame'>\n",
      "RangeIndex: 98310 entries, 0 to 98309\n",
      "Data columns (total 10 columns):\n",
      "weekday_key        98310 non-null float64\n",
      "hour_key           98310 non-null float64\n",
      "distance_km_2      98310 non-null float64\n",
      "free_ride          98310 non-null float64\n",
      "distance_km_ord    98310 non-null float64\n",
      "type               98310 non-null float64\n",
      "driver_response    98310 non-null float64\n",
      "Economy            98310 non-null float64\n",
      "Standard           98310 non-null float64\n",
      "Other              98310 non-null float64\n",
      "dtypes: float64(10)\n",
      "memory usage: 7.5 MB\n"
     ]
    }
   ],
   "source": [
    "data_a_class_norm.info()"
   ]
  },
  {
   "cell_type": "code",
   "execution_count": 371,
   "metadata": {},
   "outputs": [],
   "source": [
    "Y = data_a_class_norm.driver_response\n",
    "X = data_a_class_norm[['weekday_key', 'hour_key','distance_km_2','distance_km_ord','type','free_ride','Economy','Standard','Other']]"
   ]
  },
  {
   "cell_type": "code",
   "execution_count": 372,
   "metadata": {
    "collapsed": true
   },
   "outputs": [],
   "source": [
    "from sklearn.model_selection import train_test_split\n",
    "X_train, X_test, Y_train, Y_test = train_test_split(X, Y, test_size=0.3)"
   ]
  },
  {
   "cell_type": "code",
   "execution_count": 373,
   "metadata": {},
   "outputs": [
    {
     "name": "stderr",
     "output_type": "stream",
     "text": [
      "No handles with labels found to put in legend.\n"
     ]
    },
    {
     "data": {
      "image/png": "[encoded data removed]",
      "text/plain": [
       "<Figure size 720x720 with 1 Axes>"
      ]
     },
     "metadata": {},
     "output_type": "display_data"
    }
   ],
   "source": [
    "from sklearn.ensemble import RandomForestClassifier\n",
    "\n",
    "# создаем модель деревья решений\n",
    "# выбираем 100 деревьев в качестве параметра\n",
    "model=RandomForestClassifier(n_estimators=100)\n",
    "\n",
    "# обучаем модель\n",
    "model.fit(X_train,Y_train)\n",
    "\n",
    "headers = list(X_train.columns.values)\n",
    "\n",
    "feature_imp = pd.Series(model.feature_importances_,index=headers).sort_values(ascending=False)#влияние на модель\n",
    "\n",
    "f, ax = plt.subplots(figsize=(10, 10))\n",
    "sns.barplot(x=feature_imp, y=feature_imp.index)\n",
    "\n",
    "plt.xlabel('Важность атрибутов')\n",
    "plt.ylabel('Атрибуты')\n",
    "plt.title(\"Наиболее важные атрибуты\")\n",
    "plt.legend()\n",
    "plt.show()"
   ]
  },
  {
   "cell_type": "code",
   "execution_count": 374,
   "metadata": {
    "scrolled": false
   },
   "outputs": [
    {
     "name": "stdout",
     "output_type": "stream",
     "text": [
      "              precision    recall  f1-score   support\n",
      "\n",
      "        -1.0       0.71      0.69      0.70     14926\n",
      "         1.0       0.69      0.71      0.70     14567\n",
      "\n",
      "    accuracy                           0.70     29493\n",
      "   macro avg       0.70      0.70      0.70     29493\n",
      "weighted avg       0.70      0.70      0.70     29493\n",
      "\n"
     ]
    },
    {
     "data": {
      "text/plain": [
       "0.696233004441732"
      ]
     },
     "execution_count": 374,
     "metadata": {},
     "output_type": "execute_result"
    }
   ],
   "source": [
    "from sklearn.metrics import classification_report\n",
    "model_pred = model.predict(X_test)\n",
    "\n",
    "print(classification_report(Y_test, model_pred))\n",
    "\n",
    "model.score(X_test, Y_test)"
   ]
  },
  {
   "cell_type": "code",
   "execution_count": null,
   "metadata": {
    "collapsed": true
   },
   "outputs": [],
   "source": [
    "#Итого улучшений нету. Даже идет ухудшение с каждым моим преобразованием\n",
    "#Оставляем первый вариант. \n",
    "#Можно сократить кол-во признаков конечно по РСА, но для меня признаки хорошие и сокращать их не нужно - их по факту не так и много\n",
    "#МОжно еще подумать по генерацию каких нить доп признаков - к примеру скорость км на время, или попробовать через координаты как то разделить по районам\n",
    "#Вариаций на самом деле много. Можно бесконечно подбирать вариации\n",
    "#Но я закончу"
   ]
  },
  {
   "cell_type": "code",
   "execution_count": null,
   "metadata": {
    "collapsed": true
   },
   "outputs": [],
   "source": []
  },
  {
   "cell_type": "code",
   "execution_count": null,
   "metadata": {
    "collapsed": true
   },
   "outputs": [],
   "source": []
  },
  {
   "cell_type": "code",
   "execution_count": null,
   "metadata": {
    "collapsed": true
   },
   "outputs": [],
   "source": [
    "#проверить гипотезу обогащения данных через idшки"
   ]
  },
  {
   "cell_type": "code",
   "execution_count": 294,
   "metadata": {},
   "outputs": [],
   "source": [
    "list_dist_null = data[data['distance_km']==-1].order_gk.unique()"
   ]
  },
  {
   "cell_type": "code",
   "execution_count": 304,
   "metadata": {
    "scrolled": true
   },
   "outputs": [
    {
     "data": {
      "text/plain": [
       "26207"
      ]
     },
     "execution_count": 304,
     "metadata": {},
     "output_type": "execute_result"
    }
   ],
   "source": [
    "test = data[data['order_gk'].isin(list_dist_null)]\n",
    "test.offer_gk.count()"
   ]
  },
  {
   "cell_type": "code",
   "execution_count": 306,
   "metadata": {
    "scrolled": false
   },
   "outputs": [
    {
     "data": {
      "text/plain": [
       "offer_gk                  0\n",
       "weekday_key               0\n",
       "hour_key                  0\n",
       "driver_gk                 0\n",
       "order_gk                  0\n",
       "driver_latitude           0\n",
       "driver_longitude          0\n",
       "origin_order_latitude     0\n",
       "origin_order_longitude    0\n",
       "distance_km               0\n",
       "duration_min              0\n",
       "offer_class_group         0\n",
       "ride_type_desc            0\n",
       "driver_response           0\n",
       "dtype: int64"
      ]
     },
     "execution_count": 306,
     "metadata": {},
     "output_type": "execute_result"
    }
   ],
   "source": [
    "test[test['distance_km']!=-1].count()"
   ]
  },
  {
   "cell_type": "code",
   "execution_count": null,
   "metadata": {
    "collapsed": true
   },
   "outputs": [],
   "source": [
    "#обогатить данные через связь заказа и предложения не получится..."
   ]
  },
  {
   "cell_type": "markdown",
   "metadata": {},
   "source": [
    "#Как понимаю это кусок этого датасета https://www.crowdanalytix.com/contests/mckinsey-big-data-hackathon\n",
    "#После прочтения этого понял что учиться и еще раз учиться =) https://github.com/RutvijBhutaiya/McKinsey-Big-Data-Hackathon\n"
   ]
  },
  {
   "cell_type": "code",
   "execution_count": null,
   "metadata": {
    "collapsed": true
   },
   "outputs": [],
   "source": []
  }
 ],
 "metadata": {
  "kernelspec": {
   "display_name": "Python 3",
   "language": "python",
   "name": "python3"
  },
  "language_info": {
   "codemirror_mode": {
    "name": "ipython",
    "version": 3
   },
   "file_extension": ".py",
   "mimetype": "text/x-python",
   "name": "python",
   "nbconvert_exporter": "python",
   "pygments_lexer": "ipython3",
   "version": "3.6.2"
  }
 },
 "nbformat": 4,
 "nbformat_minor": 2
}
